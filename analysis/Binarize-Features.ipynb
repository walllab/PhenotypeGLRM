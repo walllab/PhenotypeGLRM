{
 "cells": [
  {
   "cell_type": "markdown",
   "metadata": {},
   "source": [
    "# Load Data"
   ]
  },
  {
   "cell_type": "code",
   "execution_count": 5,
   "metadata": {
    "collapsed": true
   },
   "outputs": [],
   "source": [
    "import csv\n",
    "\n",
    "with open(\"../data/all_samples_both_instruments_filtered.csv\") as f:\n",
    "    reader = csv.reader(f)\n",
    "    header = next(reader)[1:]\n",
    "    sample_names, data = zip(*[(x[0], x[1:]) for x in reader])\n",
    "    \n",
    "data = np.asarray(data)"
   ]
  },
  {
   "cell_type": "markdown",
   "metadata": {},
   "source": [
    "# Distribution of Item Level Data"
   ]
  },
  {
   "cell_type": "code",
   "execution_count": 8,
   "metadata": {},
   "outputs": [
    {
     "data": {
      "text/html": [
       "<iframe id=\"igraph\" scrolling=\"no\" style=\"border:none;\" seamless=\"seamless\" src=\"https://plot.ly/~snibbertort/10.embed\" height=\"525px\" width=\"100%\"></iframe>"
      ],
      "text/plain": [
       "<plotly.tools.PlotlyDisplay object>"
      ]
     },
     "execution_count": 8,
     "metadata": {},
     "output_type": "execute_result"
    }
   ],
   "source": [
    "import plotly.plotly as py\n",
    "from plotly.graph_objs import *\n",
    "import plotly\n",
    "from IPython.display import HTML\n",
    "import colorlover as cl\n",
    "import numpy as np\n",
    "\n",
    "unique, counts = np.unique(data, return_counts=True)\n",
    "dict(zip(unique, counts/sum(counts)))\n",
    "\n",
    "py.iplot([Pie(values=counts/sum(counts),\n",
    "            labels=unique)])\n"
   ]
  },
  {
   "cell_type": "markdown",
   "metadata": {},
   "source": [
    "# Concordance of diagnosis with binarized features"
   ]
  },
  {
   "cell_type": "code",
   "execution_count": 155,
   "metadata": {
    "scrolled": false
   },
   "outputs": [
    {
     "name": "stdout",
     "output_type": "stream",
     "text": [
      "ADIR Accuracy 0.666923076923077\n",
      "ADOS Accuracy 0.8131868131868132\n",
      "ADIR/ADOS Overlap 0.807032967032967\n",
      "('ADIR', 'diagnosis', <function <lambda> at 0x10d163c80>)\n",
      "\t ('Control', 'Control') 1903\n",
      "\t ('Autism', 'Control') 3031\n",
      "\t ('Autism', 'Autism') 4166\n",
      "('ADOS', 'diagnosis', <function <lambda> at 0x12546cae8>)\n",
      "\t ('Control', 'Control') 885\n",
      "\t ('Autism Spectrum', 'Control') 180\n",
      "\t ('Autism Spectrum', 'Autism Spectrum') 768\n",
      "\t ('Autism', 'Control') 17\n",
      "\t ('Autism', 'Autism Spectrum') 1503\n",
      "\t ('Autism', 'Autism') 5747\n",
      "('ADIR', 'social_interaction', <function <lambda> at 0x12546cbf8>)\n",
      "\t (True, True) 6765\n",
      "\t (True, False) 1014\n",
      "\t (False, False) 1321\n",
      "('ADIR', 'communication', <function <lambda> at 0x12546ca60>)\n",
      "\t (True, True) 6420\n",
      "\t (True, False) 1890\n",
      "\t (False, False) 790\n",
      "('ADIR', 'restricted_repetitive_behavior', <function <lambda> at 0x12546cea0>)\n",
      "\t (True, True) 6679\n",
      "\t (True, False) 1470\n",
      "\t (False, False) 951\n",
      "('ADIR', 'abnormality_evident_before_3_years', <function <lambda> at 0x12546c730>)\n",
      "\t (True, True) 8530\n",
      "\t (False, False) 570\n"
     ]
    }
   ],
   "source": [
    "import sys\n",
    "import jsonschema\n",
    "sys.path.insert(0, '/Users/kelley/Projects/Augur/bin/phenotype/preprocessing')\n",
    "\n",
    "from assign_diagnosis import assign_all_diagnoses\n",
    "from collections import defaultdict\n",
    "import json\n",
    "\n",
    "# Load schema\n",
    "with open(\"../preprocessing/AutismPhenotype.json\") as schema_file:    \n",
    "    pheno_schema = json.load(schema_file)\n",
    "\n",
    "with open('../data/all_samples_both_instruments.json', 'r') as infile:\n",
    "    # Read in samples\n",
    "    samples = json.load(infile)\n",
    "    \n",
    "#select entries to binarize\n",
    "entries = []\n",
    "for instrument in ['ADIR', 'ADOS', 'ADOS_Module1', 'ADOS_Module2', 'ADOS_Module3', 'ADOS_Module4']:\n",
    "    for key, value in pheno_schema['definitions'][instrument]['properties'].items():\n",
    "        if 'data-type' in value and value['data-type'] == 'ordinal':\n",
    "            if key != 'QB01' and key != 'QA01':\n",
    "                entries.append((instrument, key))\n",
    "                  \n",
    "keys_of_interest = [('ADIR', 'diagnosis', lambda x: x), ('ADOS', 'diagnosis', lambda x: x), \n",
    "                    ('ADIR', 'social_interaction', lambda x: x >= 10), ('ADIR', 'communication', lambda x: x >= 7),\n",
    "                   ('ADIR', 'restricted_repetitive_behavior',  lambda x: x >= 3), ('ADIR', 'abnormality_evident_before_3_years',  lambda x: x >= 1)]\n",
    "\n",
    "counters = [defaultdict(int) for key in keys_of_interest]\n",
    "adir_ados_overlap = defaultdict(int)\n",
    "for sample in samples:\n",
    "    \n",
    "    # store original values\n",
    "    original_values = [key[2](sample[key[0]][key[1]]) for key in keys_of_interest]  \n",
    "    adir_ados_overlap[(sample['ADIR']['diagnosis'], ('Autism' if sample['ADOS']['diagnosis'] in set(['Autism', 'Autism Spectrum']) else 'Control'))] += 1\n",
    "    \n",
    "    # binarize\n",
    "    for entry in entries:\n",
    "        if entry[0] in sample and sample[entry[0]][entry[1]] is not None and sample[entry[0]][entry[1]] > 0:\n",
    "            sample[entry[0]][entry[1]] = 1\n",
    "                        \n",
    "    # rediagnose\n",
    "    assign_all_diagnoses(sample)\n",
    "    \n",
    "    # count\n",
    "    for i, key in enumerate(keys_of_interest):\n",
    "        counters[i][(original_values[i], key[2](sample[key[0]][key[1]]))] += 1\n",
    "    \n",
    "print('ADIR Accuracy', sum([v for k, v in counters[0].items() if k[0] == k[1]])/sum([v for k, v in counters[0].items()]))\n",
    "print('ADOS Accuracy', sum([v for k, v in counters[1].items() if k[0] == k[1]])/sum([v for k, v in counters[1].items()]))\n",
    "print('ADIR/ADOS Overlap', sum([v for k, v in adir_ados_overlap.items() if k[0] == k[1]])/sum([v for k, v in adir_ados_overlap.items()]))\n",
    "\n",
    "for i, key in enumerate(keys_of_interest):\n",
    "    print(key)\n",
    "    for key, value in sorted(counters[i].items(), reverse=True):\n",
    "        print('\\t', key, value)\n",
    "        \n"
   ]
  },
  {
   "cell_type": "markdown",
   "metadata": {},
   "source": [
    "So binarizing the features causes our diagnostic algorithm to stop working - not too surpring since it's essentially an additive algorithm."
   ]
  },
  {
   "cell_type": "markdown",
   "metadata": {},
   "source": [
    "# New diagnostic algorithm"
   ]
  },
  {
   "cell_type": "markdown",
   "metadata": {},
   "source": [
    "Can we learn a diagnostic algorithm that is equally effective?"
   ]
  },
  {
   "cell_type": "markdown",
   "metadata": {},
   "source": [
    "## Logistic regression on original features"
   ]
  },
  {
   "cell_type": "code",
   "execution_count": 166,
   "metadata": {},
   "outputs": [
    {
     "name": "stdout",
     "output_type": "stream",
     "text": [
      "All\n",
      "(9100, 185)\n",
      "(9100,)\n",
      "(9100,)\n",
      "Counter({'Autism': 7197, 'Control': 1903})\n",
      "Counter({'Autism': 7267, 'Autism Spectrum': 948, 'Control': 885})\n",
      "Train\n",
      "(7280, 185)\n",
      "(7280,)\n",
      "(7280,)\n",
      "Counter({'Autism': 5743, 'Control': 1537})\n",
      "Counter({'Autism': 5834, 'Autism Spectrum': 741, 'Control': 705})\n",
      "Test\n",
      "(1820, 185)\n",
      "(1820,)\n",
      "(1820,)\n",
      "Counter({'Autism': 1454, 'Control': 366})\n",
      "Counter({'Autism': 1433, 'Autism Spectrum': 207, 'Control': 180})\n"
     ]
    }
   ],
   "source": [
    "import csv\n",
    "import numpy as np\n",
    "import random\n",
    "from collections import Counter\n",
    "\n",
    "with open(\"../data/all_samples_both_instruments_filtered.csv\") as f:\n",
    "    reader = csv.reader(f)\n",
    "    header = next(reader)[1:]\n",
    "    sample_names, data = zip(*[(x[0], x[1:]) for x in reader])\n",
    "    \n",
    "with open(\"../data/all_samples_both_instruments_filtered_labels.csv\") as f:\n",
    "    reader = csv.reader(f)\n",
    "    label_header = next(reader)[1:]\n",
    "    adir_labels, ados_labels, labels = zip(*[(x[2], x[7], x[1:]) for x in reader])\n",
    "    \n",
    "num_samples = len(data)\n",
    "num_features = len(header)\n",
    "data = np.asarray([[0 if x == 'None' else int(x) for x in row] for row in data])\n",
    "adir_labels = np.asarray(adir_labels)\n",
    "ados_labels = np.asarray(ados_labels)\n",
    "print('All', data.shape, adir_labels.shape, ados_labels.shape, Counter(adir_labels), Counter(ados_labels), sep='\\n')\n",
    "\n",
    "# Split into training and testing\n",
    "split_percent = .8\n",
    "train_indices = random.sample(range(num_samples), round(num_samples*split_percent))\n",
    "test_indices = sorted(set(range(num_samples))-set(train_indices))\n",
    "\n",
    "train_data = data[train_indices, :]\n",
    "train_adir_labels = adir_labels[train_indices]\n",
    "train_ados_labels = ados_labels[train_indices]\n",
    "print('Train', train_data.shape, train_adir_labels.shape, train_ados_labels.shape, Counter(train_adir_labels), Counter(train_ados_labels), sep='\\n')\n",
    "\n",
    "test_data = data[test_indices, :]\n",
    "test_adir_labels = adir_labels[test_indices]\n",
    "test_ados_labels = ados_labels[test_indices]\n",
    "print('Test', test_data.shape, test_adir_labels.shape, test_ados_labels.shape, Counter(test_adir_labels), Counter(test_ados_labels), sep='\\n')\n"
   ]
  },
  {
   "cell_type": "code",
   "execution_count": 167,
   "metadata": {},
   "outputs": [
    {
     "data": {
      "image/png": "[encoded data removed]",
      "text/plain": [
       "<matplotlib.figure.Figure at 0x12593f2e8>"
      ]
     },
     "metadata": {},
     "output_type": "display_data"
    }
   ],
   "source": [
    "import matplotlib.pyplot as plt\n",
    "plt.spy(test_data[:100,:])\n",
    "plt.show()"
   ]
  },
  {
   "cell_type": "code",
   "execution_count": 168,
   "metadata": {},
   "outputs": [
    {
     "name": "stdout",
     "output_type": "stream",
     "text": [
      "37\n"
     ]
    }
   ],
   "source": [
    "diagnostic_header = ['ADIR:Q50.2', 'ADIR:Q51.2', 'ADIR:Q57.2', \n",
    "    'ADIR:Q49.2', 'ADIR:Q62.2', 'ADIR:Q63.2',\n",
    "    'ADIR:Q64.2', 'ADIR:Q65.2', 'ADIR:Q52.2', 'ADIR:Q53.2', 'ADIR:Q54.2', \n",
    "    'ADIR:Q31.2', 'ADIR:Q55.2', 'ADIR:Q56.2', 'ADIR:Q58.2', 'ADIR:Q59.2',\n",
    "    'ADIR:Q42.2', 'ADIR:Q43.2', 'ADIR:Q44.2', 'ADIR:Q45.2', 'ADIR:Q30', \n",
    "    'ADIR:Q47.2', 'ADIR:Q68.2', 'ADIR:Q61.2', 'ADIR:Q34.2', 'ADIR:Q35.2',\n",
    "    'ADIR:Q33.2', 'ADIR:Q36.2', 'ADIR:Q37.2', 'ADIR:Q37.2', 'ADIR:Q38.2',\n",
    "    'ADIR:Q67.2', 'ADIR:Q68.2', 'ADIR:Q70.2', 'ADIR:Q39.2', 'ADIR:Q77.2', 'ADIR:Q78.2', 'ADIR:Q69.2', 'ADIR:Q71.2', \n",
    "    'ADIR:Q02', 'ADIR:Q09', 'ADIR:Q10', 'ADIR:Q86', 'ADIR:Q87']\n",
    "diagnostic_indices = [i for i, x in enumerate(header) if x in set(diagnostic_header)]\n",
    "adir_indices = [i for i, x in enumerate(header) if x.startswith('ADIR')]\n",
    "ados_indices = [i for i, x in enumerate(header) if x.startswith('ADOS')]\n",
    "\n",
    "print(len(diagnostic_indices))"
   ]
  },
  {
   "cell_type": "markdown",
   "metadata": {},
   "source": [
    "## ADIR"
   ]
  },
  {
   "cell_type": "code",
   "execution_count": 172,
   "metadata": {},
   "outputs": [
    {
     "name": "stdout",
     "output_type": "stream",
     "text": [
      "LogisticRegression(C=0.048, class_weight=None, dual=False, fit_intercept=True,\n",
      "          intercept_scaling=1, max_iter=1000, multi_class='ovr', n_jobs=1,\n",
      "          penalty='l1', random_state=None, solver='liblinear', tol=0.0001,\n",
      "          verbose=0, warm_start=False)\n",
      "Train\n",
      "Accuracy 0.9190934065934065 Confusion Counter({('Autism', 'Autism'): 5591, ('Control', 'Control'): 1100, ('Control', 'Autism'): 437, ('Autism', 'Control'): 152})\n",
      "Test\n",
      "Accuracy 0.9159340659340659 Confusion Counter({('Autism', 'Autism'): 1420, ('Control', 'Control'): 247, ('Control', 'Autism'): 119, ('Autism', 'Control'): 34})\n",
      "50\n",
      "['ADIR:Q30', 'ADIR:Q31.2', 'ADIR:Q33.1', 'ADIR:Q33.2', 'ADIR:Q35.1', 'ADIR:Q35.2', 'ADIR:Q36.2', 'ADIR:Q37.2', 'ADIR:Q38.2', 'ADIR:Q39.2', 'ADIR:Q42.2', 'ADIR:Q43.2', 'ADIR:Q44.2', 'ADIR:Q45.2', 'ADIR:Q46.1', 'ADIR:Q47.2', 'ADIR:Q48.2', 'ADIR:Q49.1', 'ADIR:Q49.2', 'ADIR:Q50.1', 'ADIR:Q50.2', 'ADIR:Q51.2', 'ADIR:Q52.2', 'ADIR:Q53.2', 'ADIR:Q54.2', 'ADIR:Q55.1', 'ADIR:Q55.2', 'ADIR:Q56.2', 'ADIR:Q57.2', 'ADIR:Q58.2', 'ADIR:Q59.1', 'ADIR:Q60.2', 'ADIR:Q61.2', 'ADIR:Q62.2', 'ADIR:Q63.2', 'ADIR:Q64.2', 'ADIR:Q66.1', 'ADIR:Q67.1', 'ADIR:Q68.1', 'ADIR:Q68.2', 'ADIR:Q69.1', 'ADIR:Q69.2', 'ADIR:Q70.1', 'ADIR:Q70.2', 'ADIR:Q71.2', 'ADIR:Q77.2', 'ADIR:Q78.1', 'ADIR:Q78.2', 'ADIR:Q81.2', 'ADIR:Q88.1']\n",
      "33\n"
     ]
    }
   ],
   "source": [
    "from sklearn import linear_model\n",
    "logreg = linear_model.LogisticRegression(fit_intercept=True, max_iter=1000, penalty='l1', C=.048)\n",
    "print(logreg)\n",
    "logreg.fit(train_data[:, adir_indices], train_adir_labels)\n",
    "\n",
    "train_confusion = Counter(zip(train_adir_labels, logreg.predict(train_data[:, adir_indices])))\n",
    "print('Train')\n",
    "print('Accuracy', sum([v for k, v in train_confusion.items() if k[0] == k[1]])/sum([v for k, v in train_confusion.items()]), 'Confusion', train_confusion)\n",
    "\n",
    "test_confusion = Counter(zip(test_adir_labels, logreg.predict(test_data[:, adir_indices])))\n",
    "print('Test')\n",
    "print('Accuracy', sum([v for k, v in test_confusion.items() if k[0] == k[1]])/sum([v for k, v in test_confusion.items()]), 'Confusion', test_confusion)\n",
    "\n",
    "nonzero = [x for i, x in enumerate(np.asarray(header)[adir_indices]) if logreg.coef_[0][i] != 0]\n",
    "print(len(nonzero))\n",
    "print(nonzero)\n",
    "print(len(set(diagnostic_header) & set(nonzero)))\n",
    "\n"
   ]
  },
  {
   "cell_type": "code",
   "execution_count": 10,
   "metadata": {},
   "outputs": [
    {
     "ename": "NameError",
     "evalue": "name 'train_data' is not defined",
     "output_type": "error",
     "traceback": [
      "\u001b[0;31m---------------------------------------------------------------------------\u001b[0m",
      "\u001b[0;31mNameError\u001b[0m                                 Traceback (most recent call last)",
      "\u001b[0;32m<ipython-input-10-2e1ba1e07795>\u001b[0m in \u001b[0;36m<module>\u001b[0;34m()\u001b[0m\n\u001b[1;32m      1\u001b[0m \u001b[0;32mfrom\u001b[0m \u001b[0msklearn\u001b[0m \u001b[0;32mimport\u001b[0m \u001b[0mlinear_model\u001b[0m\u001b[0;34m\u001b[0m\u001b[0m\n\u001b[1;32m      2\u001b[0m \u001b[0mlogreg\u001b[0m \u001b[0;34m=\u001b[0m \u001b[0mlinear_model\u001b[0m\u001b[0;34m.\u001b[0m\u001b[0mLogisticRegression\u001b[0m\u001b[0;34m(\u001b[0m\u001b[0mfit_intercept\u001b[0m\u001b[0;34m=\u001b[0m\u001b[0;32mTrue\u001b[0m\u001b[0;34m,\u001b[0m \u001b[0mmax_iter\u001b[0m\u001b[0;34m=\u001b[0m\u001b[0;36m1000\u001b[0m\u001b[0;34m,\u001b[0m \u001b[0mpenalty\u001b[0m\u001b[0;34m=\u001b[0m\u001b[0;34m'l1'\u001b[0m\u001b[0;34m,\u001b[0m \u001b[0mC\u001b[0m\u001b[0;34m=\u001b[0m\u001b[0;36m.07\u001b[0m\u001b[0;34m)\u001b[0m\u001b[0;34m\u001b[0m\u001b[0m\n\u001b[0;32m----> 3\u001b[0;31m \u001b[0mlogreg\u001b[0m\u001b[0;34m.\u001b[0m\u001b[0mfit\u001b[0m\u001b[0;34m(\u001b[0m\u001b[0mtrain_data\u001b[0m\u001b[0;34m[\u001b[0m\u001b[0;34m:\u001b[0m\u001b[0;34m,\u001b[0m \u001b[0madir_indices\u001b[0m\u001b[0;34m]\u001b[0m\u001b[0;34m>\u001b[0m\u001b[0;36m0\u001b[0m\u001b[0;34m,\u001b[0m \u001b[0mtrain_adir_labels\u001b[0m\u001b[0;34m)\u001b[0m\u001b[0;34m\u001b[0m\u001b[0m\n\u001b[0m\u001b[1;32m      4\u001b[0m \u001b[0;34m\u001b[0m\u001b[0m\n\u001b[1;32m      5\u001b[0m \u001b[0mtrain_confusion\u001b[0m \u001b[0;34m=\u001b[0m \u001b[0mCounter\u001b[0m\u001b[0;34m(\u001b[0m\u001b[0mzip\u001b[0m\u001b[0;34m(\u001b[0m\u001b[0mtrain_adir_labels\u001b[0m\u001b[0;34m,\u001b[0m \u001b[0mlogreg\u001b[0m\u001b[0;34m.\u001b[0m\u001b[0mpredict\u001b[0m\u001b[0;34m(\u001b[0m\u001b[0mtrain_data\u001b[0m\u001b[0;34m[\u001b[0m\u001b[0;34m:\u001b[0m\u001b[0;34m,\u001b[0m \u001b[0madir_indices\u001b[0m\u001b[0;34m]\u001b[0m\u001b[0;34m>\u001b[0m\u001b[0;36m0\u001b[0m\u001b[0;34m)\u001b[0m\u001b[0;34m)\u001b[0m\u001b[0;34m)\u001b[0m\u001b[0;34m\u001b[0m\u001b[0m\n",
      "\u001b[0;31mNameError\u001b[0m: name 'train_data' is not defined"
     ]
    }
   ],
   "source": [
    "from sklearn import linear_model\n",
    "logreg = linear_model.LogisticRegression(fit_intercept=True, max_iter=1000, penalty='l1', C=.07)\n",
    "logreg.fit(train_data[:, adir_indices]>0, train_adir_labels)\n",
    "\n",
    "train_confusion = Counter(zip(train_adir_labels, logreg.predict(train_data[:, adir_indices]>0)))\n",
    "print('Train')\n",
    "print('Accuracy', sum([v for k, v in train_confusion.items() if k[0] == k[1]])/sum([v for k, v in train_confusion.items()]), 'Confusion', train_confusion)\n",
    "\n",
    "test_confusion = Counter(zip(test_adir_labels, logreg.predict(test_data[:, adir_indices]>0)))\n",
    "print('Test')\n",
    "print('Accuracy', sum([v for k, v in test_confusion.items() if k[0] == k[1]])/sum([v for k, v in test_confusion.items()]), 'Confusion', test_confusion)\n",
    "\n",
    "nonzero = [x for i, x in enumerate(np.asarray(header)[adir_indices]) if logreg.coef_[0][i] != 0]\n",
    "print(len(nonzero))\n",
    "print(nonzero)\n",
    "print(len(set(diagnostic_header) & set(nonzero)))"
   ]
  },
  {
   "cell_type": "code",
   "execution_count": 9,
   "metadata": {},
   "outputs": [
    {
     "ename": "NameError",
     "evalue": "name 'logreg' is not defined",
     "output_type": "error",
     "traceback": [
      "\u001b[0;31m---------------------------------------------------------------------------\u001b[0m",
      "\u001b[0;31mNameError\u001b[0m                                 Traceback (most recent call last)",
      "\u001b[0;32m<ipython-input-9-9d41831ac32c>\u001b[0m in \u001b[0;36m<module>\u001b[0;34m()\u001b[0m\n\u001b[0;32m----> 1\u001b[0;31m \u001b[0mtrain_probs\u001b[0m \u001b[0;34m=\u001b[0m \u001b[0mlogreg\u001b[0m\u001b[0;34m.\u001b[0m\u001b[0mpredict_proba\u001b[0m\u001b[0;34m(\u001b[0m\u001b[0mtrain_data\u001b[0m\u001b[0;34m[\u001b[0m\u001b[0;34m:\u001b[0m\u001b[0;34m,\u001b[0m \u001b[0madir_indices\u001b[0m\u001b[0;34m]\u001b[0m\u001b[0;34m>\u001b[0m\u001b[0;36m0\u001b[0m\u001b[0;34m)\u001b[0m\u001b[0;34m\u001b[0m\u001b[0m\n\u001b[0m",
      "\u001b[0;31mNameError\u001b[0m: name 'logreg' is not defined"
     ]
    }
   ],
   "source": [
    "train_probs = logreg.predict_proba(train_data[:, adir_indices]>0)"
   ]
  },
  {
   "cell_type": "markdown",
   "metadata": {},
   "source": [
    "## ADOS"
   ]
  },
  {
   "cell_type": "code",
   "execution_count": 194,
   "metadata": {},
   "outputs": [
    {
     "name": "stdout",
     "output_type": "stream",
     "text": [
      "LogisticRegression(C=0.057, class_weight=None, dual=False, fit_intercept=True,\n",
      "          intercept_scaling=1, max_iter=1000, multi_class='ovr', n_jobs=1,\n",
      "          penalty='l1', random_state=None, solver='liblinear', tol=0.0001,\n",
      "          verbose=0, warm_start=False)\n",
      "Train\n",
      "Accuracy 0.9760989010989011 Confusion Counter({('Autism', 'Autism'): 6563, ('Control', 'Control'): 543, ('Control', 'Autism'): 162, ('Autism', 'Control'): 12})\n",
      "Test\n",
      "Accuracy 0.9730769230769231 Confusion Counter({('Autism', 'Autism'): 1639, ('Control', 'Control'): 132, ('Control', 'Autism'): 48, ('Autism', 'Control'): 1})\n",
      "25\n",
      "['ADOS:QA02', 'ADOS:QA03', 'ADOS:QA04', 'ADOS:QA06', 'ADOS:QA07', 'ADOS:QA08', 'ADOS:QA09', 'ADOS:QA10', 'ADOS:QA13', 'ADOS:QB01', 'ADOS:QB02', 'ADOS:QB04', 'ADOS:QB05', 'ADOS:QB06', 'ADOS:QB08', 'ADOS:QB10', 'ADOS:QB12', 'ADOS:QB13', 'ADOS:QB14', 'ADOS:QB15', 'ADOS:QB16', 'ADOS:QD01', 'ADOS:QD02', 'ADOS:QD04', 'ADOS:QD05']\n"
     ]
    }
   ],
   "source": [
    "from sklearn import linear_model\n",
    "logreg = linear_model.LogisticRegression(fit_intercept=True, max_iter=1000, penalty='l1', C=.057)\n",
    "print(logreg)\n",
    "logreg.fit(train_data[:, ados_indices], ['Autism' if x.startswith('Autism') else 'Control' for x in train_ados_labels])\n",
    "\n",
    "train_confusion = Counter(zip(['Autism' if x.startswith('Autism') else 'Control' for x in train_ados_labels], logreg.predict(train_data[:, ados_indices])))\n",
    "print('Train')\n",
    "print('Accuracy', sum([v for k, v in train_confusion.items() if k[0] == k[1]])/sum([v for k, v in train_confusion.items()]), 'Confusion', train_confusion)\n",
    "\n",
    "test_confusion = Counter(zip(['Autism' if x.startswith('Autism') else 'Control' for x in test_ados_labels], logreg.predict(test_data[:, ados_indices])))\n",
    "print('Test')\n",
    "print('Accuracy', sum([v for k, v in test_confusion.items() if k[0] == k[1]])/sum([v for k, v in test_confusion.items()]), 'Confusion', test_confusion)\n",
    "\n",
    "nonzero = [x for i, x in enumerate(np.asarray(header)[ados_indices]) if logreg.coef_[0][i] != 0]\n",
    "print(len(nonzero))\n",
    "print(nonzero)\n",
    "\n"
   ]
  },
  {
   "cell_type": "code",
   "execution_count": 196,
   "metadata": {},
   "outputs": [
    {
     "name": "stdout",
     "output_type": "stream",
     "text": [
      "LogisticRegression(C=0.08, class_weight=None, dual=False, fit_intercept=True,\n",
      "          intercept_scaling=1, max_iter=1000, multi_class='ovr', n_jobs=1,\n",
      "          penalty='l1', random_state=None, solver='liblinear', tol=0.0001,\n",
      "          verbose=0, warm_start=False)\n",
      "Train\n",
      "Accuracy 0.9743131868131868 Confusion Counter({('Autism', 'Autism'): 6554, ('Control', 'Control'): 539, ('Control', 'Autism'): 166, ('Autism', 'Control'): 21})\n",
      "Test\n",
      "Accuracy 0.967032967032967 Confusion Counter({('Autism', 'Autism'): 1630, ('Control', 'Control'): 130, ('Control', 'Autism'): 50, ('Autism', 'Control'): 10})\n",
      "25\n",
      "['ADOS:QA02', 'ADOS:QA03', 'ADOS:QA04', 'ADOS:QA06', 'ADOS:QA07', 'ADOS:QA08', 'ADOS:QA09', 'ADOS:QA10', 'ADOS:QA11', 'ADOS:QA13', 'ADOS:QB01', 'ADOS:QB02', 'ADOS:QB04', 'ADOS:QB05', 'ADOS:QB08', 'ADOS:QB10', 'ADOS:QB12', 'ADOS:QB13', 'ADOS:QB14', 'ADOS:QB15', 'ADOS:QB16', 'ADOS:QD01', 'ADOS:QD02', 'ADOS:QD04', 'ADOS:QD05']\n"
     ]
    }
   ],
   "source": [
    "from sklearn import linear_model\n",
    "logreg = linear_model.LogisticRegression(fit_intercept=True, max_iter=1000, penalty='l1', C=.08)\n",
    "print(logreg)\n",
    "logreg.fit(train_data[:, ados_indices]>0, ['Autism' if x.startswith('Autism') else 'Control' for x in train_ados_labels])\n",
    "\n",
    "train_confusion = Counter(zip(['Autism' if x.startswith('Autism') else 'Control' for x in train_ados_labels], logreg.predict(train_data[:, ados_indices]>0)))\n",
    "print('Train')\n",
    "print('Accuracy', sum([v for k, v in train_confusion.items() if k[0] == k[1]])/sum([v for k, v in train_confusion.items()]), 'Confusion', train_confusion)\n",
    "\n",
    "test_confusion = Counter(zip(['Autism' if x.startswith('Autism') else 'Control' for x in test_ados_labels], logreg.predict(test_data[:, ados_indices]>0)))\n",
    "print('Test')\n",
    "print('Accuracy', sum([v for k, v in test_confusion.items() if k[0] == k[1]])/sum([v for k, v in test_confusion.items()]), 'Confusion', test_confusion)\n",
    "\n",
    "nonzero = [x for i, x in enumerate(np.asarray(header)[ados_indices]) if logreg.coef_[0][i] != 0]\n",
    "print(len(nonzero))\n",
    "print(nonzero)\n",
    "\n"
   ]
  },
  {
   "cell_type": "code",
   "execution_count": null,
   "metadata": {
    "collapsed": true
   },
   "outputs": [],
   "source": []
  }
 ],
 "metadata": {
  "kernelspec": {
   "display_name": "Python 3",
   "language": "python",
   "name": "python3"
  },
  "language_info": {
   "codemirror_mode": {
    "name": "ipython",
    "version": 3
   },
   "file_extension": ".py",
   "mimetype": "text/x-python",
   "name": "python",
   "nbconvert_exporter": "python",
   "pygments_lexer": "ipython3",
   "version": "3.6.1"
  }
 },
 "nbformat": 4,
 "nbformat_minor": 1
}
