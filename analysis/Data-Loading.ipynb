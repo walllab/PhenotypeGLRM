{
 "cells": [
  {
   "cell_type": "code",
   "execution_count": 21,
   "metadata": {},
   "outputs": [
    {
     "data": {
      "text/plain": [
       "try_readdlm (generic function with 1 method)"
      ]
     },
     "execution_count": 21,
     "metadata": {},
     "output_type": "execute_result"
    }
   ],
   "source": [
    "function try_readcsv(filename)\n",
    "    all_data = readcsv(filename, Int, header=false)\n",
    "    all_data = sparse(Array(all_data))\n",
    "end\n",
    "\n",
    "function try_readdlm(filename)\n",
    "    all_data = readdlm(filename, ',', Int, header=false)\n",
    "    all_data = sparse(all_data)\n",
    "end"
   ]
  },
  {
   "cell_type": "code",
   "execution_count": 24,
   "metadata": {},
   "outputs": [
    {
     "name": "stdout",
     "output_type": "stream",
     "text": [
      "  6.677310 seconds (81.39 M allocations: 2.522 GiB, 16.61% gc time)\n",
      "  6.546190 seconds (81.39 M allocations: 2.522 GiB, 16.27% gc time)\n"
     ]
    }
   ],
   "source": [
    "filename = \"../data/all_samples_ordinal_cv0_train.csv\"\n",
    "@time all_data = try_readcsv(filename);\n",
    "@time try_readdlm(filename);"
   ]
  },
  {
   "cell_type": "code",
   "execution_count": 10,
   "metadata": {},
   "outputs": [
    {
     "ename": "LoadError",
     "evalue": "\u001b[91mMethodError: no method matching sparse(::DataFrames.DataFrame)\u001b[0m\nClosest candidates are:\n  sparse(::Any, \u001b[91m::Any\u001b[39m, \u001b[91m::Number\u001b[39m) at sparse/sparsematrix.jl:697\n  sparse(::Any, \u001b[91m::Any\u001b[39m, \u001b[91m::AbstractArray{Bool,1}\u001b[39m, \u001b[91m::Any\u001b[39m, \u001b[91m::Any\u001b[39m) at sparse/sparsematrix.jl:705\n  sparse(::Any, \u001b[91m::Any\u001b[39m, \u001b[91m::AbstractArray{T,1} where T\u001b[39m) at sparse/sparsematrix.jl:699\n  ...\u001b[39m",
     "output_type": "error",
     "traceback": [
      "\u001b[91mMethodError: no method matching sparse(::DataFrames.DataFrame)\u001b[0m\nClosest candidates are:\n  sparse(::Any, \u001b[91m::Any\u001b[39m, \u001b[91m::Number\u001b[39m) at sparse/sparsematrix.jl:697\n  sparse(::Any, \u001b[91m::Any\u001b[39m, \u001b[91m::AbstractArray{Bool,1}\u001b[39m, \u001b[91m::Any\u001b[39m, \u001b[91m::Any\u001b[39m) at sparse/sparsematrix.jl:705\n  sparse(::Any, \u001b[91m::Any\u001b[39m, \u001b[91m::AbstractArray{T,1} where T\u001b[39m) at sparse/sparsematrix.jl:699\n  ...\u001b[39m",
      "",
      "Stacktrace:",
      " [1] \u001b[1mtry_csv\u001b[22m\u001b[22m\u001b[1m(\u001b[22m\u001b[22m::String\u001b[1m)\u001b[22m\u001b[22m at \u001b[1m./In[10]:4\u001b[22m\u001b[22m"
     ]
    }
   ],
   "source": [
    "using CSV\n",
    "function try_csv(filename)\n",
    "    all_data = CSV.read(filename, header=false)\n",
    "    all_data = sparse(all_data)\n",
    "end\n",
    "@time try_csv(filename);"
   ]
  },
  {
   "cell_type": "code",
   "execution_count": 27,
   "metadata": {},
   "outputs": [
    {
     "data": {
      "text/plain": [
       "101×595 SparseMatrixCSC{Int64,Int64} with 10070 stored entries:\n",
       "  [1  , 180]  =  -1\n",
       "  [5  , 180]  =  -1\n",
       "  [9  , 180]  =  -1\n",
       "  [14 , 180]  =  -1\n",
       "  [19 , 180]  =  -1\n",
       "  [24 , 180]  =  -1\n",
       "  [28 , 180]  =  -1\n",
       "  [33 , 180]  =  -1\n",
       "  [37 , 180]  =  -1\n",
       "  [38 , 180]  =  -1\n",
       "  ⋮\n",
       "  [83 , 595]  =  3\n",
       "  [84 , 595]  =  1\n",
       "  [87 , 595]  =  2\n",
       "  [88 , 595]  =  1\n",
       "  [91 , 595]  =  1\n",
       "  [92 , 595]  =  1\n",
       "  [95 , 595]  =  2\n",
       "  [96 , 595]  =  1\n",
       "  [97 , 595]  =  1\n",
       "  [100, 595]  =  4\n",
       "  [101, 595]  =  2"
      ]
     },
     "execution_count": 27,
     "metadata": {},
     "output_type": "execute_result"
    }
   ],
   "source": [
    "all_data[end-100:end, :]"
   ]
  },
  {
   "cell_type": "code",
   "execution_count": 29,
   "metadata": {},
   "outputs": [
    {
     "name": "stdout",
     "output_type": "stream",
     "text": [
      "[1, 2]\n"
     ]
    }
   ],
   "source": [
    "d = [1; 2; 0; 0]\n",
    "println(d[1:findlast(d)])"
   ]
  },
  {
   "cell_type": "code",
   "execution_count": null,
   "metadata": {
    "collapsed": true
   },
   "outputs": [],
   "source": []
  }
 ],
 "metadata": {
  "kernelspec": {
   "display_name": "Julia 0.6.1",
   "language": "julia",
   "name": "julia-0.6"
  },
  "language_info": {
   "file_extension": ".jl",
   "mimetype": "application/julia",
   "name": "julia",
   "version": "0.6.1"
  }
 },
 "nbformat": 4,
 "nbformat_minor": 2
}
