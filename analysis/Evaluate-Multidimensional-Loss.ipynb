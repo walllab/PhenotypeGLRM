{
 "cells": [
  {
   "cell_type": "code",
   "execution_count": 1,
   "metadata": {},
   "outputs": [
    {
     "ename": "NameError",
     "evalue": "name 'n' is not defined",
     "output_type": "error",
     "traceback": [
      "\u001b[0;31m---------------------------------------------------------------------------\u001b[0m",
      "\u001b[0;31mNameError\u001b[0m                                 Traceback (most recent call last)",
      "\u001b[0;32m<ipython-input-1-21c07532f4c3>\u001b[0m in \u001b[0;36m<module>\u001b[0;34m()\u001b[0m\n\u001b[1;32m     35\u001b[0m \u001b[0mZ_mice_round\u001b[0m \u001b[0;34m=\u001b[0m \u001b[0mnp\u001b[0m\u001b[0;34m.\u001b[0m\u001b[0mround\u001b[0m\u001b[0;34m(\u001b[0m\u001b[0mZ_mice\u001b[0m\u001b[0;34m)\u001b[0m\u001b[0;34m\u001b[0m\u001b[0m\n\u001b[1;32m     36\u001b[0m \u001b[0mZ_mice_round\u001b[0m\u001b[0;34m[\u001b[0m\u001b[0mZ_mice_round\u001b[0m\u001b[0;34m<\u001b[0m\u001b[0;36m1\u001b[0m\u001b[0;34m]\u001b[0m \u001b[0;34m=\u001b[0m \u001b[0;36m1\u001b[0m\u001b[0;34m\u001b[0m\u001b[0m\n\u001b[0;32m---> 37\u001b[0;31m \u001b[0;32mfor\u001b[0m \u001b[0mi\u001b[0m \u001b[0;32min\u001b[0m \u001b[0mrange\u001b[0m\u001b[0;34m(\u001b[0m\u001b[0mn\u001b[0m\u001b[0;34m)\u001b[0m\u001b[0;34m:\u001b[0m\u001b[0;34m\u001b[0m\u001b[0m\n\u001b[0m\u001b[1;32m     38\u001b[0m     \u001b[0mcol_max\u001b[0m \u001b[0;34m=\u001b[0m \u001b[0mnp\u001b[0m\u001b[0;34m.\u001b[0m\u001b[0mnanmax\u001b[0m\u001b[0;34m(\u001b[0m\u001b[0mtrain_data\u001b[0m\u001b[0;34m[\u001b[0m\u001b[0;34m:\u001b[0m\u001b[0;34m,\u001b[0m \u001b[0mi\u001b[0m\u001b[0;34m]\u001b[0m\u001b[0;34m)\u001b[0m\u001b[0;34m\u001b[0m\u001b[0m\n\u001b[1;32m     39\u001b[0m     \u001b[0mZ_mice_round\u001b[0m\u001b[0;34m[\u001b[0m\u001b[0mZ_mice_round\u001b[0m\u001b[0;34m[\u001b[0m\u001b[0;34m:\u001b[0m\u001b[0;34m,\u001b[0m \u001b[0mi\u001b[0m\u001b[0;34m]\u001b[0m\u001b[0;34m>\u001b[0m\u001b[0mcol_max\u001b[0m\u001b[0;34m]\u001b[0m \u001b[0;34m=\u001b[0m \u001b[0mcol_max\u001b[0m\u001b[0;34m\u001b[0m\u001b[0m\n",
      "\u001b[0;31mNameError\u001b[0m: name 'n' is not defined"
     ]
    }
   ],
   "source": [
    "import numpy as np\n",
    "\n",
    "X = np.genfromtxt('../data/impute_bvs_simplex_offset_X5.csv', delimiter=',').T\n",
    "Y = np.genfromtxt('../data/impute_bvs_simplex_offset_Y5.csv', delimiter=',')\n",
    "Z = np.genfromtxt('../data/impute_bvs_simplex_offset_Z5.csv', delimiter=',')\n",
    "\n",
    "train_data = np.genfromtxt('../data/all_samples_filtered_train.csv', delimiter=',')\n",
    "train_data[train_data>0] = train_data[train_data>0]+1\n",
    "train_data[train_data==-1] = 1\n",
    "train_data[train_data==0] = np.nan\n",
    "\n",
    "all_missing = np.where(np.all(np.isnan(train_data), axis=1))[0]\n",
    "keep = list(set(range(train_data.shape[0]))-set(all_missing))\n",
    "\n",
    "X = X[keep, :]\n",
    "Z = Z[keep, :]\n",
    "\n",
    "\n",
    "train_data = train_data[keep, :]\n",
    "\n",
    "entry_test_data = np.genfromtxt('../data/all_samples_filtered_entry_test.csv', delimiter=',')\n",
    "entry_test_data[entry_test_data>0] = entry_test_data[entry_test_data>0]+1\n",
    "entry_test_data[entry_test_data==-1] = 1\n",
    "entry_test_data[entry_test_data==0] = np.nan\n",
    "entry_test_data = entry_test_data[keep, :]\n",
    "\n",
    "instrument_test_data = np.genfromtxt('../data/all_samples_filtered_instrument_test.csv', delimiter=',')\n",
    "instrument_test_data[instrument_test_data>0] = instrument_test_data[instrument_test_data>0]+1\n",
    "instrument_test_data[instrument_test_data==-1] = 1\n",
    "instrument_test_data[instrument_test_data==0] = np.nan\n",
    "instrument_test_data = instrument_test_data[keep, :]\n",
    "\n",
    "Z_mice = np.genfromtxt('../data/mice_fill.csv', delimiter=',')+1\n",
    "\n",
    "Z_mice_round = np.round(Z_mice)\n",
    "Z_mice_round[Z_mice_round<1] = 1\n",
    "for i in range(n):\n",
    "    col_max = np.nanmax(train_data[:, i])\n",
    "    Z_mice_round[Z_mice_round[:, i]>col_max] = col_max\n",
    "\n",
    "print(X.shape, Y.shape, Z.shape)\n",
    "print(Z_mice.shape, Z_mice_round.shape)\n"
   ]
  },
  {
   "cell_type": "code",
   "execution_count": null,
   "metadata": {
    "collapsed": true
   },
   "outputs": [],
   "source": [
    "print('Entry test', cohen_kappa_score(entry_test_data[~np.isnan(entry_test_data)], Z[~np.isnan(entry_test_data)], weights='linear'), \n",
    "      '\\n', confusion_matrix(entry_test_data[~np.isnan(entry_test_data)], Z[~np.isnan(entry_test_data)]))\n",
    "print('Instrument test', cohen_kappa_score(instrument_test_data[~np.isnan(instrument_test_data)], Z[~np.isnan(instrument_test_data)], weights='linear'),\n",
    "      '\\n', confusion_matrix(instrument_test_data[~np.isnan(instrument_test_data)], Z[~np.isnan(instrument_test_data)]))\n"
   ]
  },
  {
   "cell_type": "code",
   "execution_count": 1,
   "metadata": {},
   "outputs": [
    {
     "name": "stdout",
     "output_type": "stream",
     "text": [
      "Sim\n"
     ]
    },
    {
     "ename": "NameError",
     "evalue": "name 'entry_test_data' is not defined",
     "output_type": "error",
     "traceback": [
      "\u001b[0;31m---------------------------------------------------------------------------\u001b[0m",
      "\u001b[0;31mNameError\u001b[0m                                 Traceback (most recent call last)",
      "\u001b[0;32m<ipython-input-1-78ebd66634e8>\u001b[0m in \u001b[0;36m<module>\u001b[0;34m()\u001b[0m\n\u001b[1;32m      3\u001b[0m \u001b[0;34m\u001b[0m\u001b[0m\n\u001b[1;32m      4\u001b[0m \u001b[0mprint\u001b[0m\u001b[0;34m(\u001b[0m\u001b[0;34m'Sim'\u001b[0m\u001b[0;34m)\u001b[0m\u001b[0;34m\u001b[0m\u001b[0m\n\u001b[0;32m----> 5\u001b[0;31m print('Entry test', cohen_kappa_score(entry_test_data[~np.isnan(entry_test_data)], Zsim[~np.isnan(entry_test_data)], weights='linear'), \n\u001b[0m\u001b[1;32m      6\u001b[0m       '\\n', confusion_matrix(entry_test_data[~np.isnan(entry_test_data)], Zsim[~np.isnan(entry_test_data)]))\n\u001b[1;32m      7\u001b[0m print('Instrument test', cohen_kappa_score(instrument_test_data[~np.isnan(instrument_test_data)], Zsim[~np.isnan(instrument_test_data)], weights='linear'),\n",
      "\u001b[0;31mNameError\u001b[0m: name 'entry_test_data' is not defined"
     ]
    }
   ],
   "source": [
    "from sklearn.metrics import confusion_matrix, cohen_kappa_score, roc_curve, auc\n",
    "import matplotlib.pyplot as plt\n",
    "\n",
    "print('Sim')\n",
    "print('Entry test', cohen_kappa_score(entry_test_data[~np.isnan(entry_test_data)], Zsim[~np.isnan(entry_test_data)], weights='linear'), \n",
    "      '\\n', confusion_matrix(entry_test_data[~np.isnan(entry_test_data)], Zsim[~np.isnan(entry_test_data)]))\n",
    "print('Instrument test', cohen_kappa_score(instrument_test_data[~np.isnan(instrument_test_data)], Zsim[~np.isnan(instrument_test_data)], weights='linear'),\n",
    "      '\\n', confusion_matrix(instrument_test_data[~np.isnan(instrument_test_data)], Zsim[~np.isnan(instrument_test_data)]))\n",
    "\n",
    "print('L1')\n",
    "print('Entry test', cohen_kappa_score(entry_test_data[~np.isnan(entry_test_data)], Zl1[~np.isnan(entry_test_data)], weights='linear'), \n",
    "      '\\n', confusion_matrix(entry_test_data[~np.isnan(entry_test_data)], Zl1[~np.isnan(entry_test_data)]))\n",
    "print('Instrument test', cohen_kappa_score(instrument_test_data[~np.isnan(instrument_test_data)], Zl1[~np.isnan(instrument_test_data)], weights='linear'),\n",
    "      '\\n', confusion_matrix(instrument_test_data[~np.isnan(instrument_test_data)], Zl1[~np.isnan(instrument_test_data)]))\n",
    "\n",
    "print('L10')\n",
    "print('Entry test', cohen_kappa_score(entry_test_data[~np.isnan(entry_test_data)], Zl10[~np.isnan(entry_test_data)], weights='linear'), \n",
    "      '\\n', confusion_matrix(entry_test_data[~np.isnan(entry_test_data)], Zl10[~np.isnan(entry_test_data)]))\n",
    "print('Instrument test', cohen_kappa_score(instrument_test_data[~np.isnan(instrument_test_data)], Zl10[~np.isnan(instrument_test_data)], weights='linear'),\n",
    "      '\\n', confusion_matrix(instrument_test_data[~np.isnan(instrument_test_data)], Zl10[~np.isnan(instrument_test_data)]))\n",
    "\n",
    "print('\\nMICE')\n",
    "print('Entry test', cohen_kappa_score(entry_test_data[~np.isnan(entry_test_data)], Z_mice_round[~np.isnan(entry_test_data)], weights='linear'), \n",
    "      '\\n', confusion_matrix(entry_test_data[~np.isnan(entry_test_data)], Z_mice_round[~np.isnan(entry_test_data)]))\n",
    "print('Instrument test', cohen_kappa_score(instrument_test_data[~np.isnan(instrument_test_data)], Z_mice_round[~np.isnan(instrument_test_data)], weights='linear'),\n",
    "      '\\n', confusion_matrix(instrument_test_data[~np.isnan(instrument_test_data)], Z_mice_round[~np.isnan(instrument_test_data)]))"
   ]
  },
  {
   "cell_type": "code",
   "execution_count": null,
   "metadata": {
    "collapsed": true
   },
   "outputs": [],
   "source": [
    "cols = [[], [], [], []]\n",
    "has_col = [[], [], [], []]\n",
    "\n",
    "m, n = train_data.shape\n",
    "index = 0\n",
    "for i in range(n):\n",
    "    options = np.unique(train_data[:, i])\n",
    "    options = options[~np.isnan(options)]\n",
    "    num_options = int(max(max(options), 3))\n",
    "    for j in range(num_options-1):\n",
    "        cols[j].append(index)\n",
    "        has_col[j].append(i)\n",
    "        index += 1\n",
    "        \n",
    "print(index)\n"
   ]
  },
  {
   "cell_type": "code",
   "execution_count": null,
   "metadata": {
    "collapsed": true
   },
   "outputs": [],
   "source": [
    "plt.figure(figsize=(12, 6))\n",
    "\n",
    "plt.subplot(2, 3, 1)\n",
    "for i in range(4):\n",
    "    Z_sub = X.dot(Y[:, cols[i]])\n",
    "    entry_sub = entry_test_data[:, has_col[i]]\n",
    "    entries = ~np.isnan(entry_sub)\n",
    "    \n",
    "    fpr, tpr, _ = roc_curve(entry_sub[entries]>(i+1), Z_sub[entries])\n",
    "    roc_auc = auc(fpr, tpr)\n",
    "    plt.plot(fpr, tpr, label='Entry Test %d (auc = %0.2f)' % ((i+1), roc_auc))\n",
    "plt.legend()\n",
    "    \n",
    "plt.subplot(2, 3, 2)\n",
    "for i in range(4):\n",
    "    Z_sub = X.dot(Y[:, cols[i]])\n",
    "    entry_sub = instrument_test_data[:, has_col[i]]\n",
    "    entries = ~np.isnan(entry_sub)\n",
    "    \n",
    "    fpr, tpr, _ = roc_curve(entry_sub[entries]>(i+1), Z_sub[entries])\n",
    "    roc_auc = auc(fpr, tpr)\n",
    "    plt.plot(fpr, tpr, label='Insrument Test %d (auc = %0.2f)' % ((i+1), roc_auc))\n",
    "plt.legend()\n",
    "\n",
    "plt.subplot(2, 3, 3)\n",
    "for i in range(4):\n",
    "    entry_sub = entry_test_data[:, has_col[i]]\n",
    "    entries = ~np.isnan(entry_sub)\n",
    "    \n",
    "    fpr, tpr, _ = roc_curve(entry_sub[entries]>(i+1), Z[:, has_col[i]][entries])\n",
    "    roc_auc = auc(fpr, tpr)\n",
    "    plt.plot(fpr, tpr, label='Entry Test %d (auc = %0.2f)' % ((i+1), roc_auc))\n",
    "plt.legend()\n",
    "    \n",
    "plt.subplot(2, 3, 4)\n",
    "for i in range(4):\n",
    "    Z_sub = Z_mice[:, has_col[i]]\n",
    "    entry_sub = entry_test_data[:, has_col[i]]\n",
    "    entries = ~np.isnan(entry_sub)\n",
    "    \n",
    "    fpr, tpr, _ = roc_curve(entry_sub[entries]>(i+1), Z_sub[entries])\n",
    "    roc_auc = auc(fpr, tpr)\n",
    "    plt.plot(fpr, tpr, label='Entry Test %d (auc = %0.2f)' % ((i+1), roc_auc))\n",
    "plt.legend()\n",
    "    \n",
    "plt.subplot(2, 3, 5)\n",
    "for i in range(4):\n",
    "    Z_sub = Z_mice[:, has_col[i]]\n",
    "    entry_sub = instrument_test_data[:, has_col[i]]\n",
    "    entries = ~np.isnan(entry_sub)\n",
    "    \n",
    "    fpr, tpr, _ = roc_curve(entry_sub[entries]>(i+1), Z_sub[entries])\n",
    "    roc_auc = auc(fpr, tpr)\n",
    "    plt.plot(fpr, tpr, label='Instrument Test %d (auc = %0.2f)' % ((i+1), roc_auc))\n",
    "plt.legend()\n",
    "\n",
    "plt.subplot(2, 3, 6)\n",
    "for i in range(4):\n",
    "    entry_sub = entry_test_data[:, has_col[i]]\n",
    "    entries = ~np.isnan(entry_sub)\n",
    "    \n",
    "    fpr, tpr, _ = roc_curve(entry_sub[entries]>(i+1), Z_mice_round[:, has_col[i]][entries])\n",
    "    roc_auc = auc(fpr, tpr)\n",
    "    plt.plot(fpr, tpr, label='Entry Test Rounded%d (auc = %0.2f)' % ((i+1), roc_auc))\n",
    "plt.legend()\n",
    "\n",
    "plt.show()"
   ]
  },
  {
   "cell_type": "code",
   "execution_count": null,
   "metadata": {
    "collapsed": true
   },
   "outputs": [],
   "source": [
    "import csv\n",
    "import random\n",
    "from collections import Counter, defaultdict\n",
    "from scipy import spatial\n",
    "\n",
    "# Are family members more similar?\n",
    "with open('../data/all_samples.csv', 'r') as f:\n",
    "    reader = csv.reader(f)\n",
    "    header = next(reader)\n",
    "    family = [(x[5], x[8]) for i, x in enumerate(reader) if i in keep and x[1] not in {'Control', 'None'}]\n",
    "    \n",
    "family_to_indices = defaultdict(list)\n",
    "for i, f in enumerate(family):\n",
    "    if f[1] != 'None':\n",
    "        family_to_indices[f].append(i)\n",
    "    \n",
    "print(len([f for f, v in family_to_indices.items() if len(v) > 1]))\n",
    "num_pairs = 1200\n",
    "\n",
    "# Randomly select sibling pairs\n",
    "selected_families = random.sample([f for f, v in family_to_indices.items() if len(v) > 1], num_pairs)\n",
    "sibling_pairs = [tuple(random.sample(family_to_indices[f], 2)) for f in selected_families]\n",
    "print(len(sibling_pairs))\n",
    "\n",
    "# Randomly select unrelated pairs\n",
    "family_pairs = [random.sample(selected_families, 2) for _ in range(num_pairs)]\n",
    "unrelated_pairs = [(random.choice(family_to_indices[i]), random.choice(family_to_indices[j])) for i, j in family_pairs]\n",
    "print(len(unrelated_pairs))\n",
    "\n",
    "sibling_cosine_d = [spatial.distance.cityblock(X[i, :], X[j, :])/12 for i, j in sibling_pairs]\n",
    "unrelated_cosine_d = [spatial.distance.cityblock(X[i, :], X[j, :])/12 for i, j in unrelated_pairs]\n",
    "\n",
    "\n",
    "sibling_cosine_orig = []\n",
    "unrelated_cosine_orig = []\n",
    "\n",
    "for i, j in sibling_pairs:\n",
    "    indices = ~np.isnan(train_data[i, :]) & ~np.isnan(train_data[j, :])\n",
    "    if sum(indices) > 0:\n",
    "        sibling_cosine_orig.append(spatial.distance.cityblock(train_data[i, indices], train_data[j, indices])/sum(indices))\n",
    "    \n",
    "for i, j in unrelated_pairs:\n",
    "    indices = ~np.isnan(train_data[i, :]) & ~np.isnan(train_data[j, :])\n",
    "    if sum(indices) > 0:\n",
    "        unrelated_cosine_orig.append(spatial.distance.cityblock(train_data[i, indices], train_data[j, indices])/sum(indices))\n",
    "\n",
    "#sibling_cosine_d_Z_mice = [spatial.distance.euclidean(Z_mice[i, :], Z_mice[j, :]) for i, j in sibling_pairs]\n",
    "#unrelated_cosine_d_Z_mice = [spatial.distance.euclidean(Z_mice[i, :], Z_mice[j, :]) for i, j in unrelated_pairs]\n",
    "\n",
    "# multiple box plots on one figure\n",
    "plt.figure(figsize=(8, 8))\n",
    "plt.subplot(2, 2, 1)\n",
    "plt.boxplot([sibling_cosine_d, unrelated_cosine_d])\n",
    "plt.subplot(2, 2, 2)\n",
    "plt.boxplot([sibling_cosine_orig, unrelated_cosine_orig])\n",
    "plt.subplot(2, 2, 3)\n",
    "plt.hist(sibling_cosine_d, bins=20, alpha=0.5)\n",
    "plt.hist(unrelated_cosine_d, bins=20, alpha=0.5)\n",
    "plt.subplot(2, 2, 4)\n",
    "plt.hist(sibling_cosine_orig, bins=20, alpha=0.5)\n",
    "plt.hist(unrelated_cosine_orig, bins=20, alpha=0.5)\n",
    "plt.show()"
   ]
  },
  {
   "cell_type": "code",
   "execution_count": null,
   "metadata": {
    "collapsed": true
   },
   "outputs": [],
   "source": [
    "import scipy.stats as st\n",
    "\n",
    "t, p = st.ttest_ind(sibling_cosine_d, unrelated_cosine_d)\n",
    "print(t, p)\n",
    "\n",
    "t, p = st.ttest_ind(sibling_cosine_orig, unrelated_cosine_orig)\n",
    "print(t, p)"
   ]
  },
  {
   "cell_type": "code",
   "execution_count": null,
   "metadata": {
    "collapsed": true
   },
   "outputs": [],
   "source": [
    "X = np.genfromtxt('../data/impute_bvs_l1_ordreg_X3.csv', delimiter=',').T[keep, :]\n",
    "Y = np.genfromtxt('../data/impute_bvs_l1_ordreg_Y3.csv', delimiter=',')\n",
    "Z = np.genfromtxt('../data/impute_bvs_l1_ordreg_Z3.csv', delimiter=',')[keep, :]"
   ]
  },
  {
   "cell_type": "code",
   "execution_count": null,
   "metadata": {
    "collapsed": true
   },
   "outputs": [],
   "source": [
    "feature_to_cols = defaultdict(list)\n",
    "\n",
    "m, n = train_data.shape\n",
    "index = 0\n",
    "for i in range(n):\n",
    "    options = np.unique(train_data[:, i])\n",
    "    options = options[~np.isnan(options)]\n",
    "    num_options = int(max(max(options), 3))\n",
    "    for j in range(num_options-1):\n",
    "        feature_to_cols[i].append(index)\n",
    "        index += 1\n",
    "        \n",
    "print(index)\n"
   ]
  },
  {
   "cell_type": "code",
   "execution_count": null,
   "metadata": {
    "collapsed": true
   },
   "outputs": [],
   "source": [
    "feature_index = 30\n",
    "\n",
    "plt.figure(figsize=(15, 5))\n",
    "ax1 = plt.subplot(1, 3, 1)\n",
    "for i in range(1, 5):\n",
    "    indices = train_data[:, feature_index]==i\n",
    "    if sum(indices) > 0:\n",
    "        plt.scatter(X[indices, 0], X[indices, 1], label=str(i), marker='.')\n",
    "plt.legend()\n",
    "\n",
    "# We're looking for the line y = mx + b such that\n",
    "# ax + by + c = 0\n",
    "# y = (-ax - c)/b\n",
    "    \n",
    "# We're looking for the line y = mx + b such that\n",
    "# ax + by + (1-a-b)z + d = 0\n",
    "# y = (-ax - c)/b\n",
    "    \n",
    "#xs = [ax1.get_xlim()[0], 0, ax1.get_xlim()[1]]\n",
    "xs = [0, 0.5]\n",
    "#f = lambda x: -Y[0, i]*x/Y[1, i]\n",
    "f = lambda x: (-Y[0, i]*x - Y[-1, i])/Y[1, i]\n",
    "for i in feature_to_cols[feature_index]:\n",
    "    plt.plot(xs, [f(x) for x in xs])\n",
    "    \n",
    "plt.subplot(1, 3, 2, sharex=ax1, sharey=ax1)\n",
    "for i in range(1, 5):\n",
    "    indices = entry_test_data[:, feature_index]==i\n",
    "    if sum(indices) > 0:\n",
    "        plt.scatter(X[indices, 0], X[indices, 1], label=str(i), marker='.')\n",
    "plt.legend()\n",
    "    \n",
    "for i in feature_to_cols[feature_index]:\n",
    "    plt.plot(xs, [f(x) for x in xs])\n",
    "    \n",
    "plt.subplot(1, 3, 3, sharex=ax1, sharey=ax1)\n",
    "for i in range(1, 5):\n",
    "    indices = instrument_test_data[:, feature_index]==i\n",
    "    if sum(indices) > 0:\n",
    "        plt.scatter(X[indices, 0], X[indices, 1], label=str(i), marker='.')\n",
    "plt.legend()\n",
    "    \n",
    "for i in feature_to_cols[feature_index]:\n",
    "    plt.plot(xs, [f(x) for x in xs])\n",
    "    \n",
    "plt.show()"
   ]
  },
  {
   "cell_type": "code",
   "execution_count": null,
   "metadata": {
    "collapsed": true
   },
   "outputs": [],
   "source": []
  }
 ],
 "metadata": {
  "kernelspec": {
   "display_name": "Python 3",
   "language": "python",
   "name": "python3"
  },
  "language_info": {
   "codemirror_mode": {
    "name": "ipython",
    "version": 3
   },
   "file_extension": ".py",
   "mimetype": "text/x-python",
   "name": "python",
   "nbconvert_exporter": "python",
   "pygments_lexer": "ipython3",
   "version": "3.6.1"
  }
 },
 "nbformat": 4,
 "nbformat_minor": 2
}
