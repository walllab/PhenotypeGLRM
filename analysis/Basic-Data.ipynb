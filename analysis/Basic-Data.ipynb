{
 "cells": [
  {
   "cell_type": "markdown",
   "metadata": {},
   "source": [
    "## Load Data"
   ]
  },
  {
   "cell_type": "code",
   "execution_count": 6,
   "metadata": {},
   "outputs": [],
   "source": [
    "import json\n",
    "\n",
    "with open(\"../preprocessing/AutismPhenotype.json\") as schema_file:    \n",
    "    pheno_schema = json.load(schema_file)"
   ]
  },
  {
   "cell_type": "code",
   "execution_count": 20,
   "metadata": {},
   "outputs": [
    {
     "name": "stdout",
     "output_type": "stream",
     "text": [
      "(9100, 123)\n"
     ]
    }
   ],
   "source": [
    "import csv\n",
    "import numpy as np\n",
    "\n",
    "with open(\"../data/all_samples_both_instruments_filtered.csv\") as f:\n",
    "    reader = csv.reader(f)\n",
    "    header = next(reader)[1:]\n",
    "    sample_names, data = zip(*[(x[0], x[1:]) for x in reader])\n",
    "    \n",
    "data = np.asarray(data)\n",
    "print(data.shape)"
   ]
  },
  {
   "cell_type": "markdown",
   "metadata": {},
   "source": [
    "## Types of ADIR questions"
   ]
  },
  {
   "cell_type": "code",
   "execution_count": 13,
   "metadata": {},
   "outputs": [
    {
     "name": "stdout",
     "output_type": "stream",
     "text": [
      "score\t16\t{'communication', 'B1', 'A2', 'abnormality_evident_before_3_years', 'A3', 'C2', 'restricted_repetitive_behavior', 'social_interaction', 'A4', 'B3', 'C1', 'B4', 'C3', 'B2', 'A1', 'C4'}\n",
      "interval\t14\t{'Q08', 'Q05', 'Q28', 'Q19', 'Q10', 'Q09', 'Q06', 'Q86', 'Q87', 'Q07', 'Q26', 'Q17', 'Q02', 'Q04'}\n",
      "categorical a\t145\t{'Q84.2', 'Q82.2', 'Q64.1', 'Q65.2', 'Q78.2', 'Q48.1', 'Q36.2', 'Q36.1', 'Q34.1', 'Q34.2', 'Q61.1', 'Q71.1', 'Q32.2', 'Q57.2', 'Q69.2', 'Q04', 'Q08', 'Q92.1', 'Q28', 'Q29.1', 'Q10', 'Q70.2', 'Q27', 'Q52.2', 'Q92.2', 'Q56.1', 'Q46.2', 'Q33.1', 'Q80.1', 'Q18', 'Q60.1', 'Q55.2', 'Q72.1', 'Q83.2', 'Q31.1', 'Q42.2', 'Q51.2', 'Q59.2', 'Q90.1', 'Q66.1', 'Q72.2', 'Q50.1', 'Q38.2', 'Q16', 'Q35.2', 'Q15', 'Q20', 'Q47.1', 'Q85.1', 'Q17', 'Q43.2', 'Q49.2', 'Q48.2', 'Q05', 'Q51.1', 'Q43.1', 'Q68.1', 'Q39.1', 'Q14', 'Q69.1', 'Q26', 'Q41.1', 'Q12', 'Q42.1', 'Q44.2', 'Q93.1', 'Q50.2', 'Q68.2', 'Q07', 'Q90.2', 'Q52.1', 'Q31.2', 'Q53.2', 'Q35.1', 'Q54.1', 'Q39.2', 'Q41.2', 'Q66.2', 'Q02', 'Q63.2', 'Q91.2', 'Q75.2', 'Q93.2', 'Q06', 'Q89.2', 'Q61.2', 'Q44.1', 'Q89.1', 'Q76.1', 'Q46.1', 'Q88.2', 'Q60.2', 'Q58.1', 'Q54.2', 'Q62.1', 'Q81.1', 'Q70.1', 'Q77.2', 'Q49.1', 'Q38.1', 'Q33.2', 'Q78.1', 'Q40.2', 'Q84.1', 'Q67.1', 'Q83.1', 'Q77.1', 'Q86', 'Q58.2', 'Q45.2', 'Q82.1', 'Q88.1', 'Q80.2', 'Q29.2', 'Q79.1', 'Q32.1', 'Q79.2', 'Q81.2', 'Q71.2', 'Q13', 'Q91.1', 'Q55.1', 'Q47.2', 'Q56.2', 'Q19', 'Q75.1', 'Q64.2', 'Q73.2', 'Q59.1', 'Q37.2', 'Q45.1', 'Q74.2', 'Q37.1', 'Q62.2', 'Q40.1', 'Q67.2', 'Q57.1', 'Q85.2', 'Q63.1', 'Q73.1', 'Q09', 'Q53.1', 'Q65.1', 'Q76.2', 'Q74.1'}\n",
      "ordinal\t15\t{'Q16', 'Q21', 'Q25', 'Q15', 'Q27', 'Q24', 'Q20', 'Q14', 'Q11', 'Q18', 'Q30', 'Q13', 'Q22', 'Q12', 'Q23'}\n",
      "ordinal double\t62\t{'Q55', 'Q50', 'Q33', 'Q62', 'Q71', 'Q85', 'Q40', 'Q43', 'Q67', 'Q74', 'Q78', 'Q45', 'Q54', 'Q60', 'Q75', 'Q61', 'Q53', 'Q64', 'Q37', 'Q47', 'Q58', 'Q70', 'Q80', 'Q84', 'Q68', 'Q69', 'Q93', 'Q76', 'Q34', 'Q66', 'Q44', 'Q32', 'Q29', 'Q41', 'Q57', 'Q83', 'Q65', 'Q63', 'Q36', 'Q42', 'Q81', 'Q35', 'Q31', 'Q48', 'Q46', 'Q72', 'Q52', 'Q79', 'Q90', 'Q92', 'Q51', 'Q59', 'Q82', 'Q88', 'Q91', 'Q56', 'Q89', 'Q49', 'Q38', 'Q73', 'Q77', 'Q39'}\n"
     ]
    }
   ],
   "source": [
    "from collections import defaultdict\n",
    "\n",
    "datatype_to_q = defaultdict(set)\n",
    "\n",
    "for key, value in pheno_schema['definitions']['ADIR']['properties'].items():\n",
    "    if 'data-type' in value:\n",
    "        if key.endswith('a'):\n",
    "            datatype_to_q['categorical a'].add(key[:-1])\n",
    "        elif '.' in key:\n",
    "            datatype_to_q['ordinal double'].add(key.split('.')[0])\n",
    "        else:\n",
    "            datatype_to_q[value['data-type']].add(key)\n",
    "        \n",
    "for key, value in datatype_to_q.items():\n",
    "    print(key, len(value), value, sep='\\t')\n"
   ]
  },
  {
   "cell_type": "markdown",
   "metadata": {},
   "source": [
    "## Types of ADOS questions"
   ]
  },
  {
   "cell_type": "code",
   "execution_count": 22,
   "metadata": {},
   "outputs": [
    {
     "name": "stdout",
     "output_type": "stream",
     "text": [
      "score\t3\t{'communication', 'restricted_repetitive_behavior', 'social_interaction'}\n",
      "ordinal\t46\t{'QB06', 'QB14', 'QA07', 'QB23', 'QC02', 'QB21', 'QA12', 'QB10', 'QB18', 'QB01', 'QA02', 'QD03', 'QB02', 'QA05', 'QA06', 'QB17', 'QB11', 'QA08', 'QB15', 'QB08', 'QB16', 'QB09', 'QA01', 'QB19', 'QD04', 'QE03', 'QB22', 'QD01', 'QB07', 'QB05', 'QB20', 'QA10', 'QA03', 'QA13', 'QC01', 'QB03', 'QD02', 'QD05', 'QA11', 'QA09', 'QA04', 'QB12', 'QE02', 'QE01', 'QB04', 'QB13'}\n"
     ]
    }
   ],
   "source": [
    "from collections import defaultdict\n",
    "\n",
    "datatype_to_q = defaultdict(set)\n",
    "\n",
    "for key, value in pheno_schema['definitions']['ADOS']['properties'].items():\n",
    "    if 'data-type' in value:\n",
    "        if key.endswith('a'):\n",
    "            datatype_to_q['categorical a'].add(key[:-1])\n",
    "        elif '.' in key:\n",
    "            datatype_to_q['ordinal double'].add(key.split('.')[0])\n",
    "        else:\n",
    "            datatype_to_q[value['data-type']].add(key)\n",
    "        \n",
    "for key, value in datatype_to_q.items():\n",
    "    print(key, len(value), value, sep='\\t')\n"
   ]
  },
  {
   "cell_type": "code",
   "execution_count": 50,
   "metadata": {},
   "outputs": [
    {
     "name": "stdout",
     "output_type": "stream",
     "text": [
      "QA01 & QA01 & QA01 & QA01 & QA01\\\\\n",
      "QA02 & QA03 & QA02 & QA02 & QA02\\\\\n",
      "QA03 & QA04 & QA03 & QA03 & QA03\\\\\n",
      "QA04 & QA05 & QA04 & QA04 & QA04\\\\\n",
      "QA05 &  &  & QA05 & QA05\\\\\n",
      "QA06 &  &  & QA06 & QA06\\\\\n",
      "QA07 & QA07 & QA06 &  & \\\\\n",
      "QA08 &  &  & QA07 & QA07\\\\\n",
      "QA09 &  & QA05 & QA08 & QA08\\\\\n",
      "QA10 & QA08 & QA07 & QA09 & QA09\\\\\n",
      "QA11 & QA02 &  &  & \\\\\n",
      "QA12 & QA06 &  &  & \\\\\n",
      "QA13 &  &  &  & QA10\\\\\n",
      "QB01 & QB01 & QB01 & QB01 & QB01\\\\\n",
      "QB02 & QB03 & QB02 & QB02 & QB02\\\\\n",
      "QB03 &  &  & QB03 & QB03\\\\\n",
      "QB04 & QB05 & QB03 & QB04 & QB04\\\\\n",
      "QB05 &  &  & QB05 & QB06\\\\\n",
      "QB06 &  &  & QB06 & QB07\\\\\n",
      "QB07 & QB06 & QB04 &  & \\\\\n",
      "QB08 & QB09 & QB05 &  & \\\\\n",
      "QB09 & QB11 & QB07 &  & \\\\\n",
      "QB10 & QB10 & QB06 &  & \\\\\n",
      "QB11 & QB13.1 & QB09.1 & QB08 & QB10\\\\\n",
      "QB12 &  & QB11 & QB10 & QB12\\\\\n",
      "QB13 & QB12 & QB08 & QB07 & QB09\\\\\n",
      "QB14 & QB14 & QB10 & QB09 & QB11\\\\\n",
      "QB15 & QB16 & QB12 & QB11 & QB13\\\\\n",
      "QB16 & QB04 &  &  & \\\\\n",
      "QB17 & QB02 &  &  & \\\\\n",
      "QB18 &  &  &  & QB05\\\\\n",
      "QB19 & QB07 &  &  & \\\\\n",
      "QB20 &  &  &  & QB08\\\\\n",
      "QB21 & QB08 &  &  & \\\\\n",
      "QB22 & QB15 &  &  & \\\\\n",
      "QB23 & QB13.2 & QB09.2 &  & \\\\\n",
      "QC01 & QC01 & QC01 &  & \\\\\n",
      "QC02 & QC02 & QC02 & QC01 & QC01\\\\\n",
      "QD01 & QD01 & QD01 & QD01 & QD01\\\\\n",
      "QD02 & QD02 & QD02 & QD02 & QD02\\\\\n",
      "QD03 & QD03 & QD03 & QD03 & QD03\\\\\n",
      "QD04 & QD04 & QD04 & QD04 & QD04\\\\\n",
      "QD05 &  &  & QD05 & QD05\\\\\n",
      "QE01 & QE01 & QE01 & QE01 & QE01\\\\\n",
      "QE02 & QE02 & QE02 & QE02 & QE02\\\\\n",
      "QE03 & QE03 & QE03 & QE03 & QE03\\\\\n"
     ]
    }
   ],
   "source": [
    "feature_mapping = {\n",
    "\t'ADOS_Module1': {\n",
    "\t\t\"QA01\": \"QA01\", \"QA02\": \"QA11\", \"QA03\": \"QA02\", \"QA04\": \"QA03\", \"QA05\": \"QA04\", \n",
    "\t\t\"QA06\": \"QA12\", \"QA07\": \"QA07\", \"QA08\": \"QA10\",\n",
    "\t\t\"QB01\": \"QB01\", \"QB02\": \"QB17\", \"QB03\": \"QB02\", \"QB04\": \"QB16\", \"QB05\": \"QB04\",\n",
    "\t\t\"QB06\": \"QB07\", \"QB07\": \"QB19\", \"QB08\": \"QB21\", \"QB09\": \"QB08\", \"QB10\": \"QB10\", \n",
    "\t\t\"QB11\": \"QB09\", \"QB12\": \"QB13\", \"QB13.1\": \"QB11\", \"QB13.2\": \"QB23\", \"QB14\": \"QB14\", \"QB15\": \"QB22\",\n",
    "\t\t\"QB16\": \"QB15\",\n",
    "\t\t\"QC01\": \"QC01\", \"QC02\": \"QC02\",\n",
    "\t\t\"QD01\": \"QD01\", \"QD02\": \"QD02\", \"QD03\": \"QD03\", \"QD04\": \"QD04\",\n",
    "\t\t\"QE01\": \"QE01\", \"QE02\": \"QE02\", \"QE03\": \"QE03\"\n",
    "\t},\n",
    "\t'ADOS_Module2': {\n",
    "\t\t\"QA01\": \"QA01\", \"QA02\": \"QA02\", \"QA03\": \"QA03\", \"QA04\": \"QA04\", \"QA05\": \"QA09\",\n",
    "\t\t\"QA06\": \"QA07\", \"QA07\": \"QA10\",\n",
    "\t\t\"QB01\": \"QB01\", \"QB02\": \"QB02\", \"QB03\": \"QB04\", \"QB04\": \"QB07\", \"QB05\": \"QB08\",\n",
    "\t\t\"QB06\": \"QB10\", \"QB07\": \"QB09\", \"QB08\": \"QB13\", \"QB09.1\": \"QB11\", \"QB09.2\": \"QB23\", \"QB10\": \"QB14\",\n",
    "\t\t\"QB11\": \"QB12\", \"QB12\": \"QB15\", \n",
    "\t\t\"QC01\": \"QC01\", \"QC02\": \"QC02\",\n",
    "\t\t\"QD01\": \"QD01\", \"QD02\": \"QD02\", \"QD03\": \"QD03\", \"QD04\": \"QD04\",\n",
    "\t\t\"QE01\": \"QE01\", \"QE02\": \"QE02\", \"QE03\": \"QE03\"\n",
    "\t},\n",
    "\t'ADOS_Module3': {\n",
    "\t\t\"QA01\": \"QA01\", \"QA02\": \"QA02\", \"QA03\": \"QA03\", \"QA04\": \"QA04\", \"QA05\": \"QA05\", \n",
    "\t\t\"QA06\": \"QA06\", \"QA07\": \"QA08\", \"QA08\": \"QA09\", \"QA09\": \"QA10\",\n",
    "\t\t\"QB01\": \"QB01\", \"QB02\": \"QB02\", \"QB03\": \"QB03\", \"QB04\": \"QB04\", \"QB05\": \"QB05\",\n",
    "\t\t\"QB06\": \"QB06\", \"QB07\": \"QB13\", \"QB08\": \"QB11\", \"QB09\": \"QB14\", \"QB10\": \"QB12\",\n",
    "\t\t\"QB11\": \"QB15\",\n",
    "\t\t\"QC01\": \"QC02\",\n",
    "\t\t\"QD01\": \"QD01\", \"QD02\": \"QD02\", \"QD03\": \"QD03\", \"QD04\": \"QD04\", \"QD05\": \"QD05\",\n",
    "\t\t\"QE01\": \"QE01\", \"QE02\": \"QE02\", \"QE03\": \"QE03\"\n",
    "\n",
    "\t},\n",
    "\t'ADOS_Module4': {\n",
    "\t\t\"QA01\": \"QA01\", \"QA02\": \"QA02\", \"QA03\": \"QA03\", \"QA04\": \"QA04\", \"QA05\": \"QA05\", \n",
    "\t\t\"QA06\": \"QA06\", \"QA07\": \"QA08\", \"QA08\": \"QA09\", \"QA09\": \"QA10\", \"QA10\": \"QA13\",\n",
    "\t\t\"QB01\": \"QB01\", \"QB02\": \"QB02\", \"QB03\": \"QB03\", \"QB04\": \"QB04\", \"QB05\": \"QB18\",\n",
    "\t\t\"QB06\": \"QB05\", \"QB07\": \"QB06\", \"QB08\": \"QB20\", \"QB09\": \"QB13\", \"QB10\": \"QB11\",\n",
    "\t\t\"QB11\": \"QB14\", \"QB12\": \"QB12\", \"QB13\": \"QB15\",\n",
    "\t\t\"QC01\": \"QC02\",\n",
    "\t\t\"QD01\": \"QD01\", \"QD02\": \"QD02\", \"QD03\": \"QD03\", \"QD04\": \"QD04\", \"QD05\": \"QD05\",\n",
    "\t\t\"QE01\": \"QE01\", \"QE02\": \"QE02\", \"QE03\": \"QE03\"\n",
    "\t}\n",
    "}\n",
    "\n",
    "agg_mod_to_mods = defaultdict(dict)\n",
    "\n",
    "for module in feature_mapping.keys():\n",
    "    for key, value in feature_mapping[module].items():\n",
    "        agg_mod_to_mods[value][module] = key\n",
    "\n",
    "for key in sorted(agg_mod_to_mods.keys()):\n",
    "    values = agg_mod_to_mods[key]\n",
    "    print(key, '' if 'ADOS_Module1' not in values else values['ADOS_Module1'],\n",
    "         '' if 'ADOS_Module2' not in values else values['ADOS_Module2'],\n",
    "         '' if 'ADOS_Module3' not in values else values['ADOS_Module3'],\n",
    "         ('' if 'ADOS_Module4' not in values else values['ADOS_Module4']) + '\\\\\\\\', sep=' & ')\n"
   ]
  },
  {
   "cell_type": "markdown",
   "metadata": {},
   "source": [
    "## Response distribution"
   ]
  },
  {
   "cell_type": "code",
   "execution_count": 21,
   "metadata": {},
   "outputs": [
    {
     "data": {
      "text/html": [
       "<iframe id=\"igraph\" scrolling=\"no\" style=\"border:none;\" seamless=\"seamless\" src=\"https://plot.ly/~snibbertort/14.embed\" height=\"525px\" width=\"100%\"></iframe>"
      ],
      "text/plain": [
       "<plotly.tools.PlotlyDisplay object>"
      ]
     },
     "execution_count": 21,
     "metadata": {},
     "output_type": "execute_result"
    }
   ],
   "source": [
    "import plotly.plotly as py\n",
    "from plotly.graph_objs import *\n",
    "import plotly\n",
    "from IPython.display import HTML\n",
    "import colorlover as cl\n",
    "import numpy as np\n",
    "\n",
    "unique, counts = np.unique(data, return_counts=True)\n",
    "dict(zip(unique, counts/sum(counts)))\n",
    "\n",
    "py.iplot([Pie(values=counts/sum(counts),\n",
    "            labels=unique)])\n"
   ]
  },
  {
   "cell_type": "code",
   "execution_count": null,
   "metadata": {
    "collapsed": true
   },
   "outputs": [],
   "source": []
  }
 ],
 "metadata": {
  "kernelspec": {
   "display_name": "Python 3",
   "language": "python",
   "name": "python3"
  },
  "language_info": {
   "codemirror_mode": {
    "name": "ipython",
    "version": 3
   },
   "file_extension": ".py",
   "mimetype": "text/x-python",
   "name": "python",
   "nbconvert_exporter": "python",
   "pygments_lexer": "ipython3",
   "version": "3.6.1"
  }
 },
 "nbformat": 4,
 "nbformat_minor": 2
}
