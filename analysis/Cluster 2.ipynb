{
 "cells": [
  {
   "cell_type": "code",
   "execution_count": 14,
   "metadata": {},
   "outputs": [
    {
     "data": {
      "text/plain": [
       "(16291, 250)"
      ]
     },
     "execution_count": 14,
     "metadata": {},
     "output_type": "execute_result"
    }
   ],
   "source": [
    "using DataFrames\n",
    "\n",
    "# To run this notebook, you need to have a data file available.\n",
    "# You can either run the phenotype preprocessing scripts in ../preprocessing directory\n",
    "# Or scp -r username@sherlock.stanford.edu:/scratch/PI/dpwall/DATA/phenotypes/jsonschema ../data\n",
    "\n",
    "# Data\n",
    "df = readtable(\"../data/all_samples_filtered_train.csv\", header=false)\n",
    "m, n = size(df)"
   ]
  },
  {
   "cell_type": "code",
   "execution_count": 15,
   "metadata": {},
   "outputs": [
    {
     "data": {
      "text/plain": [
       "1873895"
      ]
     },
     "execution_count": 15,
     "metadata": {},
     "output_type": "execute_result"
    }
   ],
   "source": [
    "# Form sparse array\n",
    "all_data = sparse(Array(df))\n",
    "#all_data[all_data.>1] = 1\n",
    "dropzeros!(all_data)\n",
    "p = size(nonzeros(all_data), 1)"
   ]
  },
  {
   "cell_type": "code",
   "execution_count": 19,
   "metadata": {},
   "outputs": [],
   "source": [
    "using LowRankModels\n",
    "losses = Array{Loss}(n)\n",
    "for i=1:n\n",
    "    options = unique(all_data[:, i])\n",
    "    if length(options) == 3\n",
    "        losses[i] = HingeLoss()\n",
    "    else\n",
    "        losses[i] = OrdinalHingeLoss(-1, maximum(options))\n",
    "    end\n",
    "end"
   ]
  },
  {
   "cell_type": "code",
   "execution_count": 21,
   "metadata": {
    "scrolled": true
   },
   "outputs": [
    {
     "name": "stdout",
     "output_type": "stream",
     "text": [
      "LowRankModels.SparseProxGradParams(1.0, 500, 1, 1.0e-5, 0.01)\n",
      "Fitting GLRM\n",
      "obj went up to 2.328053326069455e6; reducing step size to 0.8933970937500003\n",
      "obj went up to 2.256557994053799e6; reducing step size to 0.5955980625000002\n",
      "Iteration 10: objective value = 2.1977730767660253e6\n",
      "obj went up to 2.1979275169563936e6; reducing step size to 0.4377645759375002\n",
      "obj went up to 2.1548872879914553e6; reducing step size to 0.3378448114797658\n",
      "obj went up to 2.123959399867158e6; reducing step size to 0.27376831992248474\n",
      "Iteration 20: objective value = 2.1228065734568913e6\n",
      "obj went up to 2.0958108855044567e6; reducing step size to 0.24458382137956813\n",
      "Iteration 30: objective value = 2.0745734272827941e6\n",
      "obj went up to 2.0734374609662439e6; reducing step size to 0.21851047519877534\n",
      "Iteration 40: objective value = 2.052077297193754e6\n",
      "obj went up to 2.0527386161238889e6; reducing step size to 0.19521662349651736\n",
      "obj went up to 2.0339343273630661e6; reducing step size to 0.1744059640834766\n",
      "Iteration 50: objective value = 2.0228559629996e6\n",
      "obj went up to 2.0182537610455365e6; reducing step size to 0.1717846940429415\n",
      "Iteration 60: objective value = 2.0053911019149767e6\n",
      "obj went up to 2.003756416224099e6; reducing step size to 0.1534719464086969\n",
      "Iteration 70: objective value = 1.9903883214801757e6\n",
      "obj went up to 1.991570839291039e6; reducing step size to 0.1511653084602884\n",
      "obj went up to 1.9796401387461838e6; reducing step size to 0.13505064725424398\n",
      "Iteration 80: objective value = 1.9791399596375248e6\n",
      "obj went up to 1.96878619160502e6; reducing step size to 0.13302087598201284\n",
      "Iteration 90: objective value = 1.9644264736441893e6\n",
      "obj went up to 1.9596690893663985e6; reducing step size to 0.11884046401040949\n",
      "Iteration 100: objective value = 1.9537078007064627e6\n",
      "obj went up to 1.9513485557467453e6; reducing step size to 0.11705432699639846\n",
      "Iteration 110: objective value = 1.9456701674498837e6\n",
      "obj went up to 1.9446442331304825e6; reducing step size to 0.11529503509326265\n",
      "Iteration 120: objective value = 1.938311782767e6\n",
      "obj went up to 1.938127799125588e6; reducing step size to 0.11356218482692797\n",
      "Iteration 130: objective value = 1.9320336587216652e6\n",
      "obj went up to 1.932492516025595e6; reducing step size to 0.11185537878741626\n",
      "obj went up to 1.926473971242128e6; reducing step size to 0.0999312703289831\n",
      "Iteration 140: objective value = 1.9246054916253863e6\n",
      "obj went up to 1.9216965414402855e6; reducing step size to 0.0984293329015417\n",
      "Iteration 150: objective value = 1.9190930637940145e6\n",
      "obj went up to 1.917414474543869e6; reducing step size to 0.09694996914927247\n",
      "Iteration 160: objective value = 1.9143882451532918e6\n",
      "obj went up to 1.9133522178123815e6; reducing step size to 0.0954928397965162\n",
      "Iteration 170: objective value = 1.9100637411716238e6\n",
      "obj went up to 1.9095890253505048e6; reducing step size to 0.0940576106668265\n",
      "Iteration 180: objective value = 1.9060691762845183e6\n",
      "obj went up to 1.905974572955248e6; reducing step size to 0.09264395260633003\n",
      "Iteration 190: objective value = 1.902373630134519e6\n"
     ]
    },
    {
     "name": "stderr",
     "output_type": "stream",
     "text": [
      "\u001b[1m\u001b[33mWARNING: \u001b[39m\u001b[22m\u001b[33mArray(::Type{T}, m::Int) where T is deprecated, use Array{T}(m) instead.\u001b[39m\n",
      "Stacktrace:\n",
      " [1] \u001b[1mdepwarn\u001b[22m\u001b[22m\u001b[1m(\u001b[22m\u001b[22m::String, ::Symbol\u001b[1m)\u001b[22m\u001b[22m at \u001b[1m./deprecated.jl:70\u001b[22m\u001b[22m\n",
      " [2] \u001b[1mArray\u001b[22m\u001b[22m\u001b[1m(\u001b[22m\u001b[22m::Type{Union{Int64, Range{Int64}}}, ::Int64\u001b[1m)\u001b[22m\u001b[22m at \u001b[1m./deprecated.jl:57\u001b[22m\u001b[22m\n",
      " [3] \u001b[1mget_yidxs\u001b[22m\u001b[22m\u001b[1m(\u001b[22m\u001b[22m::Array{LowRankModels.Loss,1}\u001b[1m)\u001b[22m\u001b[22m at \u001b[1m/Users/kelley/.julia/v0.6/LowRankModels/src/losses.jl:77\u001b[22m\u001b[22m\n",
      " [4] \u001b[1m(::LowRankModels.#kw##objective)\u001b[22m\u001b[22m\u001b[1m(\u001b[22m\u001b[22m::Array{Any,1}, ::LowRankModels.#objective, ::LowRankModels.GLRM, ::Array{Float64,2}, ::Array{Float64,2}\u001b[1m)\u001b[22m\u001b[22m at \u001b[1m./<missing>:0\u001b[22m\u001b[22m\n",
      " [5] \u001b[1m#objective#61\u001b[22m\u001b[22m at \u001b[1m/Users/kelley/.julia/v0.6/LowRankModels/src/evaluate_fit.jl:82\u001b[22m\u001b[22m [inlined]\n",
      " [6] \u001b[1m(::LowRankModels.#kw##objective)\u001b[22m\u001b[22m\u001b[1m(\u001b[22m\u001b[22m::Array{Any,1}, ::LowRankModels.#objective, ::LowRankModels.GLRM\u001b[1m)\u001b[22m\u001b[22m at \u001b[1m./<missing>:0\u001b[22m\u001b[22m\n",
      " [7] \u001b[1m#fit!#85\u001b[22m\u001b[22m\u001b[1m(\u001b[22m\u001b[22m::LowRankModels.ConvergenceHistory, ::Bool, ::Array{Any,1}, ::Function, ::LowRankModels.GLRM, ::LowRankModels.SparseProxGradParams\u001b[1m)\u001b[22m\u001b[22m at \u001b[1m/Users/kelley/.julia/v0.6/LowRankModels/src/algorithms/sparse_proxgrad.jl:50\u001b[22m\u001b[22m\n",
      " [8] \u001b[1m(::StatsBase.#kw##fit!)\u001b[22m\u001b[22m\u001b[1m(\u001b[22m\u001b[22m::Array{Any,1}, ::StatsBase.#fit!, ::LowRankModels.GLRM, ::LowRankModels.SparseProxGradParams\u001b[1m)\u001b[22m\u001b[22m at \u001b[1m./<missing>:0\u001b[22m\u001b[22m\n",
      " [9] \u001b[1minclude_string\u001b[22m\u001b[22m\u001b[1m(\u001b[22m\u001b[22m::String, ::String\u001b[1m)\u001b[22m\u001b[22m at \u001b[1m./loading.jl:522\u001b[22m\u001b[22m\n",
      " [10] \u001b[1minclude_string\u001b[22m\u001b[22m\u001b[1m(\u001b[22m\u001b[22m::Module, ::String, ::String\u001b[1m)\u001b[22m\u001b[22m at \u001b[1m/Users/kelley/.julia/v0.6/Compat/src/Compat.jl:174\u001b[22m\u001b[22m\n",
      " [11] \u001b[1mexecute_request\u001b[22m\u001b[22m\u001b[1m(\u001b[22m\u001b[22m::ZMQ.Socket, ::IJulia.Msg\u001b[1m)\u001b[22m\u001b[22m at \u001b[1m/Users/kelley/.julia/v0.6/IJulia/src/execute_request.jl:154\u001b[22m\u001b[22m\n",
      " [12] \u001b[1m(::Compat.#inner#16{Array{Any,1},IJulia.#execute_request,Tuple{ZMQ.Socket,IJulia.Msg}})\u001b[22m\u001b[22m\u001b[1m(\u001b[22m\u001b[22m\u001b[1m)\u001b[22m\u001b[22m at \u001b[1m/Users/kelley/.julia/v0.6/Compat/src/Compat.jl:496\u001b[22m\u001b[22m\n",
      " [13] \u001b[1meventloop\u001b[22m\u001b[22m\u001b[1m(\u001b[22m\u001b[22m::ZMQ.Socket\u001b[1m)\u001b[22m\u001b[22m at \u001b[1m/Users/kelley/.julia/v0.6/IJulia/src/eventloop.jl:8\u001b[22m\u001b[22m\n",
      " [14] \u001b[1m(::IJulia.##14#17)\u001b[22m\u001b[22m\u001b[1m(\u001b[22m\u001b[22m\u001b[1m)\u001b[22m\u001b[22m at \u001b[1m./task.jl:335\u001b[22m\u001b[22m\n",
      "while loading In[21], in expression starting on line 17\n",
      "\u001b[1m\u001b[33mWARNING: \u001b[39m\u001b[22m\u001b[33mArray(::Type{T}, d::NTuple{N, Int}) where {T, N} is deprecated, use Array{T}(d) instead.\u001b[39m\n",
      "Stacktrace:\n",
      " [1] \u001b[1mdepwarn\u001b[22m\u001b[22m\u001b[1m(\u001b[22m\u001b[22m::String, ::Symbol\u001b[1m)\u001b[22m\u001b[22m at \u001b[1m./deprecated.jl:70\u001b[22m\u001b[22m\n",
      " [2] \u001b[1mArray\u001b[22m\u001b[22m\u001b[1m(\u001b[22m\u001b[22m::Type{Float64}, ::Tuple{Int64,Int64}\u001b[1m)\u001b[22m\u001b[22m at \u001b[1m./deprecated.jl:57\u001b[22m\u001b[22m\n",
      " [3] \u001b[1m#objective#60\u001b[22m\u001b[22m\u001b[1m(\u001b[22m\u001b[22m::Bool, ::Bool, ::Array{Union{Int64, Range{Int64}},1}, ::Array{Any,1}, ::Function, ::LowRankModels.GLRM, ::Array{Float64,2}, ::Array{Float64,2}\u001b[1m)\u001b[22m\u001b[22m at \u001b[1m/Users/kelley/.julia/v0.6/LowRankModels/src/evaluate_fit.jl:61\u001b[22m\u001b[22m\n",
      " [4] \u001b[1m(::LowRankModels.#kw##objective)\u001b[22m\u001b[22m\u001b[1m(\u001b[22m\u001b[22m::Array{Any,1}, ::LowRankModels.#objective, ::LowRankModels.GLRM, ::Array{Float64,2}, ::Array{Float64,2}\u001b[1m)\u001b[22m\u001b[22m at \u001b[1m./<missing>:0\u001b[22m\u001b[22m\n",
      " [5] \u001b[1m#objective#61\u001b[22m\u001b[22m at \u001b[1m/Users/kelley/.julia/v0.6/LowRankModels/src/evaluate_fit.jl:82\u001b[22m\u001b[22m [inlined]\n",
      " [6] \u001b[1m(::LowRankModels.#kw##objective)\u001b[22m\u001b[22m\u001b[1m(\u001b[22m\u001b[22m::Array{Any,1}, ::LowRankModels.#objective, ::LowRankModels.GLRM\u001b[1m)\u001b[22m\u001b[22m at \u001b[1m./<missing>:0\u001b[22m\u001b[22m\n",
      " [7] \u001b[1m#fit!#85\u001b[22m\u001b[22m\u001b[1m(\u001b[22m\u001b[22m::LowRankModels.ConvergenceHistory, ::Bool, ::Array{Any,1}, ::Function, ::LowRankModels.GLRM, ::LowRankModels.SparseProxGradParams\u001b[1m)\u001b[22m\u001b[22m at \u001b[1m/Users/kelley/.julia/v0.6/LowRankModels/src/algorithms/sparse_proxgrad.jl:50\u001b[22m\u001b[22m\n",
      " [8] \u001b[1m(::StatsBase.#kw##fit!)\u001b[22m\u001b[22m\u001b[1m(\u001b[22m\u001b[22m::Array{Any,1}, ::StatsBase.#fit!, ::LowRankModels.GLRM, ::LowRankModels.SparseProxGradParams\u001b[1m)\u001b[22m\u001b[22m at \u001b[1m./<missing>:0\u001b[22m\u001b[22m\n",
      " [9] \u001b[1minclude_string\u001b[22m\u001b[22m\u001b[1m(\u001b[22m\u001b[22m::String, ::String\u001b[1m)\u001b[22m\u001b[22m at \u001b[1m./loading.jl:522\u001b[22m\u001b[22m\n",
      " [10] \u001b[1minclude_string\u001b[22m\u001b[22m\u001b[1m(\u001b[22m\u001b[22m::Module, ::String, ::String\u001b[1m)\u001b[22m\u001b[22m at \u001b[1m/Users/kelley/.julia/v0.6/Compat/src/Compat.jl:174\u001b[22m\u001b[22m\n",
      " [11] \u001b[1mexecute_request\u001b[22m\u001b[22m\u001b[1m(\u001b[22m\u001b[22m::ZMQ.Socket, ::IJulia.Msg\u001b[1m)\u001b[22m\u001b[22m at \u001b[1m/Users/kelley/.julia/v0.6/IJulia/src/execute_request.jl:154\u001b[22m\u001b[22m\n",
      " [12] \u001b[1m(::Compat.#inner#16{Array{Any,1},IJulia.#execute_request,Tuple{ZMQ.Socket,IJulia.Msg}})\u001b[22m\u001b[22m\u001b[1m(\u001b[22m\u001b[22m\u001b[1m)\u001b[22m\u001b[22m at \u001b[1m/Users/kelley/.julia/v0.6/Compat/src/Compat.jl:496\u001b[22m\u001b[22m\n",
      " [13] \u001b[1meventloop\u001b[22m\u001b[22m\u001b[1m(\u001b[22m\u001b[22m::ZMQ.Socket\u001b[1m)\u001b[22m\u001b[22m at \u001b[1m/Users/kelley/.julia/v0.6/IJulia/src/eventloop.jl:8\u001b[22m\u001b[22m\n",
      " [14] \u001b[1m(::IJulia.##14#17)\u001b[22m\u001b[22m\u001b[1m(\u001b[22m\u001b[22m\u001b[1m)\u001b[22m\u001b[22m at \u001b[1m./task.jl:335\u001b[22m\u001b[22m\n",
      "while loading In[21], in expression starting on line 17\n",
      "\u001b[1m\u001b[33mWARNING: \u001b[39m\u001b[22m\u001b[33mArray(::Type{T}, d::NTuple{N, Int}) where {T, N} is deprecated, use Array{T}(d) instead.\u001b[39m\n",
      "Stacktrace:\n",
      " [1] \u001b[1mdepwarn\u001b[22m\u001b[22m\u001b[1m(\u001b[22m\u001b[22m::String, ::Symbol\u001b[1m)\u001b[22m\u001b[22m at \u001b[1m./deprecated.jl:70\u001b[22m\u001b[22m\n",
      " [2] \u001b[1mArray\u001b[22m\u001b[22m\u001b[1m(\u001b[22m\u001b[22m::Type{Float64}, ::Tuple{Int64}\u001b[1m)\u001b[22m\u001b[22m at \u001b[1m./deprecated.jl:57\u001b[22m\u001b[22m\n",
      " [3] \u001b[1m#sort#8\u001b[22m\u001b[22m\u001b[1m(\u001b[22m\u001b[22m::Array{Any,1}, ::Function, ::ArrayViews.ContiguousView{Float64,1,Array{Float64,2}}\u001b[1m)\u001b[22m\u001b[22m at \u001b[1m./sort.jl:546\u001b[22m\u001b[22m\n",
      " [4] \u001b[1m(::Base.#kw##sort)\u001b[22m\u001b[22m\u001b[1m(\u001b[22m\u001b[22m::Array{Any,1}, ::Base.#sort, ::ArrayViews.ContiguousView{Float64,1,Array{Float64,2}}\u001b[1m)\u001b[22m\u001b[22m at \u001b[1m./<missing>:0\u001b[22m\u001b[22m\n",
      " [5] \u001b[1mprox\u001b[22m\u001b[22m\u001b[1m(\u001b[22m\u001b[22m::LowRankModels.SimplexConstraint, ::ArrayViews.ContiguousView{Float64,1,Array{Float64,2}}, ::Float64\u001b[1m)\u001b[22m\u001b[22m at \u001b[1m/Users/kelley/.julia/v0.6/LowRankModels/src/regularizers.jl:326\u001b[22m\u001b[22m\n",
      " [6] \u001b[1mprox!\u001b[22m\u001b[22m\u001b[1m(\u001b[22m\u001b[22m::LowRankModels.SimplexConstraint, ::ArrayViews.ContiguousView{Float64,1,Array{Float64,2}}, ::Float64\u001b[1m)\u001b[22m\u001b[22m at \u001b[1m/Users/kelley/.julia/v0.6/LowRankModels/src/regularizers.jl:33\u001b[22m\u001b[22m\n",
      " [7] \u001b[1m#fit!#85\u001b[22m\u001b[22m\u001b[1m(\u001b[22m\u001b[22m::LowRankModels.ConvergenceHistory, ::Bool, ::Array{Any,1}, ::Function, ::LowRankModels.GLRM, ::LowRankModels.SparseProxGradParams\u001b[1m)\u001b[22m\u001b[22m at \u001b[1m/Users/kelley/.julia/v0.6/LowRankModels/src/algorithms/sparse_proxgrad.jl:78\u001b[22m\u001b[22m\n",
      " [8] \u001b[1m(::StatsBase.#kw##fit!)\u001b[22m\u001b[22m\u001b[1m(\u001b[22m\u001b[22m::Array{Any,1}, ::StatsBase.#fit!, ::LowRankModels.GLRM, ::LowRankModels.SparseProxGradParams\u001b[1m)\u001b[22m\u001b[22m at \u001b[1m./<missing>:0\u001b[22m\u001b[22m\n",
      " [9] \u001b[1minclude_string\u001b[22m\u001b[22m\u001b[1m(\u001b[22m\u001b[22m::String, ::String\u001b[1m)\u001b[22m\u001b[22m at \u001b[1m./loading.jl:522\u001b[22m\u001b[22m\n",
      " [10] \u001b[1minclude_string\u001b[22m\u001b[22m\u001b[1m(\u001b[22m\u001b[22m::Module, ::String, ::String\u001b[1m)\u001b[22m\u001b[22m at \u001b[1m/Users/kelley/.julia/v0.6/Compat/src/Compat.jl:174\u001b[22m\u001b[22m\n",
      " [11] \u001b[1mexecute_request\u001b[22m\u001b[22m\u001b[1m(\u001b[22m\u001b[22m::ZMQ.Socket, ::IJulia.Msg\u001b[1m)\u001b[22m\u001b[22m at \u001b[1m/Users/kelley/.julia/v0.6/IJulia/src/execute_request.jl:154\u001b[22m\u001b[22m\n",
      " [12] \u001b[1m(::Compat.#inner#16{Array{Any,1},IJulia.#execute_request,Tuple{ZMQ.Socket,IJulia.Msg}})\u001b[22m\u001b[22m\u001b[1m(\u001b[22m\u001b[22m\u001b[1m)\u001b[22m\u001b[22m at \u001b[1m/Users/kelley/.julia/v0.6/Compat/src/Compat.jl:496\u001b[22m\u001b[22m\n",
      " [13] \u001b[1meventloop\u001b[22m\u001b[22m\u001b[1m(\u001b[22m\u001b[22m::ZMQ.Socket\u001b[1m)\u001b[22m\u001b[22m at \u001b[1m/Users/kelley/.julia/v0.6/IJulia/src/eventloop.jl:8\u001b[22m\u001b[22m\n",
      " [14] \u001b[1m(::IJulia.##14#17)\u001b[22m\u001b[22m\u001b[1m(\u001b[22m\u001b[22m\u001b[1m)\u001b[22m\u001b[22m at \u001b[1m./task.jl:335\u001b[22m\u001b[22m\n",
      "while loading In[21], in expression starting on line 17\n",
      "\u001b[1m\u001b[33mWARNING: \u001b[39m\u001b[22m\u001b[33mmax(x::AbstractArray{T1}, y::Real) where T1 <: Real is deprecated, use max.(x, y) instead.\u001b[39m\n",
      "Stacktrace:\n",
      " [1] \u001b[1mdepwarn\u001b[22m\u001b[22m\u001b[1m(\u001b[22m\u001b[22m::String, ::Symbol\u001b[1m)\u001b[22m\u001b[22m at \u001b[1m./deprecated.jl:70\u001b[22m\u001b[22m\n",
      " [2] \u001b[1mmax\u001b[22m\u001b[22m\u001b[1m(\u001b[22m\u001b[22m::Array{Float64,1}, ::Int64\u001b[1m)\u001b[22m\u001b[22m at \u001b[1m./deprecated.jl:57\u001b[22m\u001b[22m\n",
      " [3] \u001b[1mprox\u001b[22m\u001b[22m\u001b[1m(\u001b[22m\u001b[22m::LowRankModels.SimplexConstraint, ::ArrayViews.ContiguousView{Float64,1,Array{Float64,2}}, ::Float64\u001b[1m)\u001b[22m\u001b[22m at \u001b[1m/Users/kelley/.julia/v0.6/LowRankModels/src/regularizers.jl:335\u001b[22m\u001b[22m\n",
      " [4] \u001b[1mprox!\u001b[22m\u001b[22m\u001b[1m(\u001b[22m\u001b[22m::LowRankModels.SimplexConstraint, ::ArrayViews.ContiguousView{Float64,1,Array{Float64,2}}, ::Float64\u001b[1m)\u001b[22m\u001b[22m at \u001b[1m/Users/kelley/.julia/v0.6/LowRankModels/src/regularizers.jl:33\u001b[22m\u001b[22m\n",
      " [5] \u001b[1m#fit!#85\u001b[22m\u001b[22m\u001b[1m(\u001b[22m\u001b[22m::LowRankModels.ConvergenceHistory, ::Bool, ::Array{Any,1}, ::Function, ::LowRankModels.GLRM, ::LowRankModels.SparseProxGradParams\u001b[1m)\u001b[22m\u001b[22m at \u001b[1m/Users/kelley/.julia/v0.6/LowRankModels/src/algorithms/sparse_proxgrad.jl:78\u001b[22m\u001b[22m\n",
      " [6] \u001b[1m(::StatsBase.#kw##fit!)\u001b[22m\u001b[22m\u001b[1m(\u001b[22m\u001b[22m::Array{Any,1}, ::StatsBase.#fit!, ::LowRankModels.GLRM, ::LowRankModels.SparseProxGradParams\u001b[1m)\u001b[22m\u001b[22m at \u001b[1m./<missing>:0\u001b[22m\u001b[22m\n",
      " [7] \u001b[1minclude_string\u001b[22m\u001b[22m\u001b[1m(\u001b[22m\u001b[22m::String, ::String\u001b[1m)\u001b[22m\u001b[22m at \u001b[1m./loading.jl:522\u001b[22m\u001b[22m\n",
      " [8] \u001b[1minclude_string\u001b[22m\u001b[22m\u001b[1m(\u001b[22m\u001b[22m::Module, ::String, ::String\u001b[1m)\u001b[22m\u001b[22m at \u001b[1m/Users/kelley/.julia/v0.6/Compat/src/Compat.jl:174\u001b[22m\u001b[22m\n",
      " [9] \u001b[1mexecute_request\u001b[22m\u001b[22m\u001b[1m(\u001b[22m\u001b[22m::ZMQ.Socket, ::IJulia.Msg\u001b[1m)\u001b[22m\u001b[22m at \u001b[1m/Users/kelley/.julia/v0.6/IJulia/src/execute_request.jl:154\u001b[22m\u001b[22m\n",
      " [10] \u001b[1m(::Compat.#inner#16{Array{Any,1},IJulia.#execute_request,Tuple{ZMQ.Socket,IJulia.Msg}})\u001b[22m\u001b[22m\u001b[1m(\u001b[22m\u001b[22m\u001b[1m)\u001b[22m\u001b[22m at \u001b[1m/Users/kelley/.julia/v0.6/Compat/src/Compat.jl:496\u001b[22m\u001b[22m\n",
      " [11] \u001b[1meventloop\u001b[22m\u001b[22m\u001b[1m(\u001b[22m\u001b[22m::ZMQ.Socket\u001b[1m)\u001b[22m\u001b[22m at \u001b[1m/Users/kelley/.julia/v0.6/IJulia/src/eventloop.jl:8\u001b[22m\u001b[22m\n",
      " [12] \u001b[1m(::IJulia.##14#17)\u001b[22m\u001b[22m\u001b[1m(\u001b[22m\u001b[22m\u001b[1m)\u001b[22m\u001b[22m at \u001b[1m./task.jl:335\u001b[22m\u001b[22m\n",
      "while loading In[21], in expression starting on line 17\n"
     ]
    }
   ],
   "source": [
    "using LowRankModels\n",
    "\n",
    "k=4\n",
    "\n",
    "# k-means\n",
    "#rx = UnitOneSparseConstraint() # k-means\n",
    "#ry = ZeroReg()\n",
    "\n",
    "# soft k-means\n",
    "#losses = HingeLoss()\n",
    "rx = SimplexConstraint() \n",
    "ry = ZeroReg()\n",
    "\n",
    "glrm = GLRM(all_data, losses, rx, ry, k);\n",
    "#glrm.X = X\n",
    "#glrm.Y = Y\n",
    "X,Y,ch = fit!(glrm, SparseProxGradParams(max_iter=500), verbose=true); # fit GLRM"
   ]
  },
  {
   "cell_type": "code",
   "execution_count": 22,
   "metadata": {
    "scrolled": true
   },
   "outputs": [
    {
     "name": "stdout",
     "output_type": "stream",
     "text": [
      "(250,)(6, 250)"
     ]
    }
   ],
   "source": [
    "# Output to file\n",
    "X_df = convert(DataFrame, X.')\n",
    "writetable(\"../data/softkmeans_ordhinge_X$(k)_12.30.17.csv\", X_df, separator = ',', header=false)\n",
    "Y_df = convert(DataFrame, Y)\n",
    "print(size(names(df)), size(Y_df))\n",
    "writetable(\"../data/softkmeans_ordhinge_Y$(k)_12.30.17.csv\", Y_df, separator = ',', header=false)"
   ]
  },
  {
   "cell_type": "code",
   "execution_count": null,
   "metadata": {
    "collapsed": true
   },
   "outputs": [],
   "source": []
  }
 ],
 "metadata": {
  "kernelspec": {
   "display_name": "Julia 0.6.1",
   "language": "julia",
   "name": "julia-0.6"
  },
  "language_info": {
   "file_extension": ".jl",
   "mimetype": "application/julia",
   "name": "julia",
   "version": "0.6.1"
  }
 },
 "nbformat": 4,
 "nbformat_minor": 2
}
