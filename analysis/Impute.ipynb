{
 "cells": [
  {
   "cell_type": "markdown",
   "metadata": {},
   "source": [
    "# Load Data"
   ]
  },
  {
   "cell_type": "code",
   "execution_count": 2,
   "metadata": {},
   "outputs": [
    {
     "data": {
      "text/plain": [
       "(14360,185)"
      ]
     },
     "execution_count": 2,
     "metadata": {},
     "output_type": "execute_result"
    }
   ],
   "source": [
    "using DataFrames\n",
    "\n",
    "# To run this notebook, you need to have a data file available.\n",
    "# You can either run the phenotype preprocessing scripts in ../preprocessing directory\n",
    "# Or scp -r username@sherlock.stanford.edu:/scratch/PI/dpwall/DATA/phenotypes/jsonschema ../data\n",
    "\n",
    "# Data\n",
    "df = readtable(\"../data/all_samples_all_features_filtered.csv\", nastrings=[\"None\", \"\"])\n",
    "samples = df[:, 1:1]\n",
    "df = df[:, 2:end] # Remove identifier\n",
    "\n",
    "# Binarize Data\n",
    "[df[df[nm].> 0, nm] = 1 for nm in names(df)]\n",
    "[df[df[nm].== 0, nm] = -1 for nm in names(df)]\n",
    "[df[isna(df[nm]), nm] = 0 for nm in names(df)]\n",
    "\n",
    "m, n = size(df)\n"
   ]
  },
  {
   "cell_type": "code",
   "execution_count": 3,
   "metadata": {},
   "outputs": [
    {
     "data": {
      "text/plain": [
       "1526826"
      ]
     },
     "execution_count": 3,
     "metadata": {},
     "output_type": "execute_result"
    }
   ],
   "source": [
    "# Form sparse array\n",
    "all_data = sparse(Array(df))\n",
    "dropzeros!(all_data)\n",
    "p = size(nonzeros(all_data), 1)"
   ]
  },
  {
   "cell_type": "code",
   "execution_count": 4,
   "metadata": {},
   "outputs": [
    {
     "data": {
      "text/plain": [
       "140:185"
      ]
     },
     "execution_count": 4,
     "metadata": {},
     "output_type": "execute_result"
    }
   ],
   "source": [
    "adir_indices = 1:139\n",
    "ados_indices = 140:n"
   ]
  },
  {
   "cell_type": "code",
   "execution_count": 5,
   "metadata": {},
   "outputs": [
    {
     "name": "stdout",
     "output_type": "stream",
     "text": [
      "(152683,) (152683,)\n",
      "(76341,) (76341,)\n",
      "(1297802,) (1297802,)\n"
     ]
    }
   ],
   "source": [
    "# First split out whole instrument test data\n",
    "\n",
    "dropzeros!(all_data)\n",
    "p = size(nonzeros(all_data), 1)\n",
    "\n",
    "# Split out testing data\n",
    "all_indices = collect(1:p)\n",
    "shuffle!(all_indices)\n",
    "break1, break2 = ceil(Integer, 0.85 * p), ceil(Integer, 0.9 * p)\n",
    "train_indices = view(all_indices, 1:(break1-1))\n",
    "test_indices = view(all_indices, break1:(break2-1))\n",
    "held_out_test_indices = view(all_indices, break2:p)\n",
    "\n",
    "train_data = copy(all_data)\n",
    "nonzeros(train_data)[union(test_indices, held_out_test_indices)] = 0\n",
    "dropzeros!(train_data)\n",
    "\n",
    "test_data = copy(all_data)\n",
    "nonzeros(test_data)[union(train_indices, held_out_test_indices)] = 0\n",
    "dropzeros!(test_data)\n",
    "\n",
    "heldout_data = copy(all_data)\n",
    "nonzeros(heldout_data)[union(train_indices, test_indices)] = 0\n",
    "dropzeros!(heldout_data)\n",
    "\n",
    "println(size(held_out_test_indices), \" \", size(nonzeros(heldout_data)))\n",
    "println(size(test_indices), \" \", size(nonzeros(test_data)))\n",
    "println(size(train_indices), \" \", size(nonzeros(train_data)))"
   ]
  },
  {
   "cell_type": "code",
   "execution_count": 6,
   "metadata": {},
   "outputs": [
    {
     "name": "stdout",
     "output_type": "stream",
     "text": [
      "(121830,)\n",
      "(30853,)\n"
     ]
    }
   ],
   "source": [
    "println(size(nonzeros(heldout_data[:, adir_indices])))\n",
    "println(size(nonzeros(heldout_data[:, ados_indices])))"
   ]
  },
  {
   "cell_type": "markdown",
   "metadata": {},
   "source": [
    "# Train Models"
   ]
  },
  {
   "cell_type": "markdown",
   "metadata": {},
   "source": [
    "## Both instruments"
   ]
  },
  {
   "cell_type": "code",
   "execution_count": 10,
   "metadata": {
    "scrolled": true
   },
   "outputs": [
    {
     "name": "stderr",
     "output_type": "stream",
     "text": [
      "\u001b[1m\u001b[34mINFO: Updating METADATA...\n",
      "\u001b[0m\u001b[1m\u001b[34mINFO: Cloning cache of Plotly from https://github.com/plotly/Plotly.jl.git\n",
      "\u001b[0m\u001b[1m\u001b[34mINFO: Cloning cache of BufferedStreams from https://github.com/BioJulia/BufferedStreams.jl.git\n",
      "\u001b[0m\u001b[1m\u001b[34mINFO: Cloning cache of Hexagons from https://github.com/GiovineItalia/Hexagons.jl.git\n",
      "\u001b[0m\u001b[1m\u001b[34mINFO: Cloning cache of Libz from https://github.com/BioJulia/Libz.jl.git\n",
      "\u001b[0m\u001b[1m\u001b[34mINFO: Cloning cache of Media from https://github.com/JunoLab/Media.jl.git\n",
      "\u001b[0m\u001b[1m\u001b[34mINFO: Cloning cache of Lazy from https://github.com/MikeInnes/Lazy.jl.git\n",
      "\u001b[0m\u001b[1m\u001b[34mINFO: Cloning cache of RData from https://github.com/JuliaData/RData.jl.git\n",
      "\u001b[0m\u001b[1m\u001b[34mINFO: Cloning cache of Gadfly from https://github.com/GiovineItalia/Gadfly.jl.git\n",
      "\u001b[0m\u001b[1m\u001b[34mINFO: Cloning cache of IterTools from https://github.com/JuliaCollections/IterTools.jl.git\n",
      "\u001b[0m\u001b[1m\u001b[34mINFO: Cloning cache of Blink from https://github.com/JunoLab/Blink.jl.git\n",
      "\u001b[0m\u001b[1m\u001b[34mINFO: Cloning cache of AxisAlgorithms from https://github.com/timholy/AxisAlgorithms.jl.git\n",
      "\u001b[0m\u001b[1m\u001b[34mINFO: Cloning cache of FixedSizeArrays from https://github.com/SimonDanisch/FixedSizeArrays.jl.git\n",
      "\u001b[0m\u001b[1m\u001b[34mINFO: Cloning cache of MacroTools from https://github.com/MikeInnes/MacroTools.jl.git\n",
      "\u001b[0m\u001b[1m\u001b[34mINFO: Cloning cache of WebSockets from https://github.com/JuliaWeb/WebSockets.jl.git\n",
      "\u001b[0m\u001b[1m\u001b[34mINFO: Cloning cache of HttpParser from https://github.com/JuliaWeb/HttpParser.jl.git\n",
      "\u001b[0m\u001b[1m\u001b[34mINFO: Cloning cache of Distributions from https://github.com/JuliaStats/Distributions.jl.git\n",
      "\u001b[0m\u001b[1m\u001b[34mINFO: Cloning cache of FactCheck from https://github.com/JuliaArchive/FactCheck.jl.git\n",
      "\u001b[0m\u001b[1m\u001b[34mINFO: Cloning cache of Rmath from https://github.com/JuliaStats/Rmath.jl.git\n",
      "\u001b[0m\u001b[1m\u001b[34mINFO: Cloning cache of PlotlyJS from https://github.com/sglyon/PlotlyJS.jl.git\n",
      "\u001b[0m\u001b[1m\u001b[34mINFO: Cloning cache of Loess from https://github.com/JuliaStats/Loess.jl.git\n",
      "\u001b[0m\u001b[1m\u001b[34mINFO: Cloning cache of DiffBase from https://github.com/JuliaDiff/DiffBase.jl.git\n",
      "\u001b[0m\u001b[1m\u001b[34mINFO: Cloning cache of Compose from https://github.com/GiovineItalia/Compose.jl.git\n",
      "\u001b[0m\u001b[1m\u001b[34mINFO: Cloning cache of HttpCommon from https://github.com/JuliaWeb/HttpCommon.jl.git\n",
      "\u001b[0m\u001b[1m\u001b[34mINFO: Cloning cache of Ratios from https://github.com/timholy/Ratios.jl.git\n",
      "\u001b[0m\u001b[1m\u001b[34mINFO: Cloning cache of EmpiricalRisks from https://github.com/lindahua/EmpiricalRisks.jl.git\n",
      "\u001b[0m\u001b[1m\u001b[34mINFO: Cloning cache of NullableArrays from https://github.com/JuliaStats/NullableArrays.jl.git\n",
      "\u001b[0m\u001b[1m\u001b[34mINFO: Cloning cache of Regression from https://github.com/lindahua/Regression.jl.git\n",
      "\u001b[0m\u001b[1m\u001b[34mINFO: Cloning cache of Juno from https://github.com/JunoLab/Juno.jl.git\n",
      "\u001b[0m\u001b[1m\u001b[34mINFO: Cloning cache of Mux from https://github.com/JuliaWeb/Mux.jl.git\n",
      "\u001b[0m\u001b[1m\u001b[34mINFO: Cloning cache of WoodburyMatrices from https://github.com/timholy/WoodburyMatrices.jl.git\n",
      "\u001b[0m\u001b[1m\u001b[34mINFO: Cloning cache of PyPlot from https://github.com/JuliaPy/PyPlot.jl.git\n",
      "\u001b[0m\u001b[1m\u001b[34mINFO: Cloning cache of ShowItLikeYouBuildIt from https://github.com/JuliaArrays/ShowItLikeYouBuildIt.jl.git\n",
      "\u001b[0m\u001b[1m\u001b[34mINFO: Cloning cache of CoupledFields from https://github.com/Mattriks/CoupledFields.jl.git\n",
      "\u001b[0m\u001b[1m\u001b[34mINFO: Cloning cache of RegERMs from https://github.com/JuliaStats/RegERMs.jl.git\n",
      "\u001b[0m\u001b[1m\u001b[34mINFO: Cloning cache of Interpolations from https://github.com/JuliaMath/Interpolations.jl.git\n",
      "\u001b[0m\u001b[1m\u001b[34mINFO: Cloning cache of Codecs from https://github.com/dcjones/Codecs.jl.git\n",
      "\u001b[0m\u001b[1m\u001b[34mINFO: Cloning cache of StatsFuns from https://github.com/JuliaStats/StatsFuns.jl.git\n",
      "\u001b[0m\u001b[1m\u001b[34mINFO: Cloning cache of GR from https://github.com/jheinen/GR.jl.git\n",
      "\u001b[0m\u001b[1m\u001b[34mINFO: Cloning cache of KernelDensity from https://github.com/JuliaStats/KernelDensity.jl.git\n",
      "\u001b[0m\u001b[1m\u001b[34mINFO: Cloning cache of Distances from https://github.com/JuliaStats/Distances.jl.git\n",
      "\u001b[0m\u001b[1m\u001b[34mINFO: Cloning cache of QuadGK from https://github.com/JuliaMath/QuadGK.jl.git\n",
      "\u001b[0m\u001b[1m\u001b[34mINFO: Cloning cache of Mustache from https://github.com/jverzani/Mustache.jl.git\n",
      "\u001b[0m\u001b[1m\u001b[34mINFO: Cloning cache of HttpServer from https://github.com/JuliaWeb/HttpServer.jl.git\n",
      "\u001b[0m\u001b[1m\u001b[34mINFO: Cloning cache of PyCall from https://github.com/JuliaPy/PyCall.jl.git\n",
      "\u001b[0m\u001b[1m\u001b[34mINFO: Cloning cache of Requests from https://github.com/JuliaWeb/Requests.jl.git\n",
      "\u001b[0m\u001b[1m\u001b[34mINFO: Cloning cache of PDMats from https://github.com/JuliaStats/PDMats.jl.git\n",
      "\u001b[0m\u001b[1m\u001b[34mINFO: Cloning cache of DocStringExtensions from https://github.com/JuliaDocs/DocStringExtensions.jl.git\n",
      "\u001b[0m\u001b[1m\u001b[34mINFO: Cloning cache of LaTeXStrings from https://github.com/stevengj/LaTeXStrings.jl.git\n",
      "\u001b[0m\u001b[1m\u001b[34mINFO: Cloning cache of DualNumbers from https://github.com/JuliaDiff/DualNumbers.jl.git\n",
      "\u001b[0m\u001b[1m\u001b[34mINFO: Cloning cache of Hiccup from https://github.com/JunoLab/Hiccup.jl.git\n",
      "\u001b[0m\u001b[1m\u001b[34mINFO: Cloning cache of RDatasets from https://github.com/johnmyleswhite/RDatasets.jl.git\n",
      "\u001b[0m\u001b[1m\u001b[34mINFO: Computing changes...\n",
      "\u001b[0m\u001b[1m\u001b[31mWARNING: julia is fixed at 0.5.0 conflicting with requirement for LowRankModels: [0.6.0,∞)\u001b[0m\n",
      "\u001b[1m\u001b[31mWARNING: Optim is fixed at 0.4.7 conflicting with requirement for LowRankModels: [0.6.0,∞)\u001b[0m\n",
      "\u001b[1m\u001b[34mINFO: No packages to install, update or remove\n",
      "\u001b[0m\u001b[1m\u001b[34mINFO: Precompiling module LowRankModels.\n",
      "\u001b[0mWARNING: Method definition describe(AbstractArray) in module StatsBase at /Users/kelley/.julia/v0.5/StatsBase/src/scalarstats.jl:560 overwritten in module DataFrames at /Users/kelley/.julia/v0.5/DataFrames/src/abstractdataframe/abstractdataframe.jl:407.\n",
      "\u001b[1m\u001b[31mERROR: LoadError: LoadError: syntax: invalid operator \".!\"\n",
      " in include_from_node1(::String) at ./loading.jl:488\n",
      " in include_from_node1(::String) at /Applications/Julia-0.5.app/Contents/Resources/julia/lib/julia/sys.dylib:?\n",
      " in include_from_node1(::String) at ./loading.jl:488\n",
      " in include_from_node1(::String) at /Applications/Julia-0.5.app/Contents/Resources/julia/lib/julia/sys.dylib:?\n",
      " in macro expansion; at ./none:2 [inlined]\n",
      " in anonymous at ./<missing>:?\n",
      " in eval(::Module, ::Any) at ./boot.jl:234\n",
      " in eval(::Module, ::Any) at /Applications/Julia-0.5.app/Contents/Resources/julia/lib/julia/sys.dylib:?\n",
      " in process_options(::Base.JLOptions) at ./client.jl:239\n",
      " in _start() at ./client.jl:318\n",
      " in _start() at /Applications/Julia-0.5.app/Contents/Resources/julia/lib/julia/sys.dylib:?\n",
      "while loading /Users/kelley/.julia/v0.5/LowRankModels/src/scikitlearn.jl, in expression starting on line 56\n",
      "while loading /Users/kelley/.julia/v0.5/LowRankModels/src/LowRankModels.jl, in expression starting on line 51\n",
      "\u001b[0m"
     ]
    },
    {
     "ename": "LoadError",
     "evalue": "Failed to precompile LowRankModels to /Users/kelley/.julia/lib/v0.5/LowRankModels.ji.",
     "output_type": "error",
     "traceback": [
      "Failed to precompile LowRankModels to /Users/kelley/.julia/lib/v0.5/LowRankModels.ji.",
      "",
      " in compilecache(::String) at ./loading.jl:593",
      " in require(::Symbol) at ./loading.jl:422",
      " in require(::Symbol) at /Applications/Julia-0.5.app/Contents/Resources/julia/lib/julia/sys.dylib:?",
      " in include_string(::String, ::String) at ./loading.jl:441",
      " in include_string(::String, ::String) at /Applications/Julia-0.5.app/Contents/Resources/julia/lib/julia/sys.dylib:?"
     ]
    }
   ],
   "source": [
    "Pkg.update(\"LowRankModels\")\n",
    "using LowRankModels\n",
    "\n",
    "Xs = []\n",
    "Ys = []\n",
    "for k=2:10\n",
    "    losses = LogisticLoss()\n",
    "    \n",
    "    rx = ZeroReg()\n",
    "    ry = ZeroReg()\n",
    "    glrm = GLRM(train_data, losses, rx, ry, k, offset=false, scale=false);\n",
    "    #init_svd!(glrm);\n",
    "\n",
    "    X,Y,ch = fit!(glrm, SparseProxGradParams(max_iter=5000), verbose=true); # fit GLRM\n",
    "    push!(Xs, X)\n",
    "    push!(Ys, Y)\n",
    "end\n"
   ]
  },
  {
   "cell_type": "markdown",
   "metadata": {},
   "source": [
    "# Evaluate"
   ]
  },
  {
   "cell_type": "markdown",
   "metadata": {},
   "source": [
    "## Both Instruments"
   ]
  },
  {
   "cell_type": "code",
   "execution_count": 41,
   "metadata": {
    "scrolled": true
   },
   "outputs": [
    {
     "name": "stdout",
     "output_type": "stream",
     "text": [
      "1\n",
      "Error 0.2437578129755088 0.24387137854186564\n",
      "ADIR 0.23418268741735326 0.23194191327489946\n",
      "ADOS 0.2651122168113487 0.2701600050997641\n",
      "2\n",
      "Error 0.59474876279923404 0.2116961158866603\n",
      "ADIR 0.19843183128199912 0.2042292227139923\n",
      "ADOS 0.21237636490124315 0.2281506980302161\n",
      "3\n",
      "Error 0.18746108143285875 0.20431391276663483\n",
      "ADIR 0.18367409215746108 0.19705516503225434\n",
      "ADOS 0.19590680862647833 0.22030981067125646\n",
      "4\n",
      "Error 0.78140510424323577 0.20015520534861508\n",
      "ADIR 0.17189502593835826 0.19161676646706588\n",
      "ADOS 0.1832332657814343 0.2189711225855804\n",
      "5\n",
      "Error 0.164626124249135 0.2009909264565425\n",
      "ADIR 0.1624385447394297 0.19106714108015851\n",
      "ADOS 0.16950485466259338 0.2228596927392108\n",
      "6\n",
      "Error 0.87417599853923694 0.19949856733524354\n",
      "ADIR 0.15790187502119146 0.19025716682576876\n",
      "ADOS 0.15555715193127856 0.21986358130936445\n",
      "7\n",
      "Error 0.15213355681759658 0.20582617000955108\n",
      "ADIR 0.15361780761536636 0.1947120252249125\n",
      "ADOS 0.14882338707238135 0.2303180977879773\n",
      "8\n",
      "Error 0.91292653579103598 0.20445319961795608\n",
      "ADIR 0.14307123724273557 0.19314993202001793\n",
      "ADOS 0.14260382323583679 0.22936189201249443\n",
      "9\n",
      "Error 0.1318607874074733 0.20433381088825214\n",
      "ADIR 0.13596446614450886 0.19124070699181347\n",
      "ADOS 0.12270878073863464 0.23318671511442596\n",
      "10\n",
      "Error 0.254936208664385 0.20700015918497294\n",
      "ADIR 0.1291747194249483 0.19453845931325756\n",
      "ADOS 0.11548350019660628 0.23446165614840314\n",
      "11\n",
      "Error 0.12228857561555713 0.21245224450811842\n",
      "ADIR 0.1317041331841454 0.19902224536434376\n",
      "ADOS 0.10129003962372583 0.24204755530056735\n",
      "12\n",
      "Error 0.39402104528833684 0.2145813435211716\n",
      "ADIR 0.12091343708676636 0.2006711215250658\n",
      "ADOS 0.10187985844348325 0.2452349078855103\n",
      "13\n",
      "Error 0.1069529044370678 0.21659105380452084\n",
      "ADIR 0.11780592004882515 0.2046052821892447\n",
      "ADOS 0.08274855570006957 0.24300376107605023\n",
      "14\n",
      "Error 0.05310227026925796 0.2153971665074817\n",
      "ADIR 0.10673888719357136 0.20344817611154503\n",
      "ADOS 0.07625676779286773 0.24172882004207305\n",
      "15\n",
      "Error 0.07315707931662507 0.22074976122254059\n",
      "ADIR 0.1075356864340691 0.20772946859903382\n",
      "ADOS 0.07627189135234869 0.249442213297635\n",
      "16\n",
      "Error 0.14031050578921 0.2116961158866603\n",
      "ADIR 0.14365612179161158 0.20399780149845237\n",
      "ADOS 0.13284912737061794 0.22866067444380697\n",
      "17\n",
      "Error 0.63924658335947411 0.2200533269659344\n",
      "ADIR 0.15873936188248058 0.21149006335155776\n",
      "ADOS 0.16037778651583437 0.23892394976732326\n",
      "18\n",
      "Error 0.13922780880858854 0.21137774594078318\n",
      "ADIR 0.1400196656833825 0.19881975180074635\n",
      "ADOS 0.13746181301231059 0.23905144387072097\n",
      "19\n",
      "Error 0.38398175450753088 0.20638331741483604\n",
      "ADIR 0.13654087410572 0.19474095287685497\n",
      "ADOS 0.11858382989020295 0.2320392681838465\n",
      "20\n",
      "Error 0.15160098695145305 0.20703995542820758\n",
      "ADIR 0.1506967755060523 0.19913795597211376\n",
      "ADOS 0.1536175554278455 0.22445336903168228\n"
     ]
    }
   ],
   "source": [
    "error = []\n",
    "adir_error = []\n",
    "ados_error = []\n",
    "train_error = []\n",
    "train_adir_error = []\n",
    "train_ados_error = []\n",
    "\n",
    "for l=1:size(Xs, 1)\n",
    "    println(l)\n",
    "    approx = Xs[l].'*Ys[l]\n",
    "    approx[approx.>=0] = 1\n",
    "    approx[approx.<0] = -1\n",
    "    approx = trunc(Int, approx)\n",
    "\n",
    "    adir_train_confusion = zeros(Int, 3, 3)\n",
    "    adir_test_confusion = zeros(Int, 3, 3)\n",
    "    ados_train_confusion = zeros(Int, 3, 3)\n",
    "    ados_test_confusion = zeros(Int, 3, 3)\n",
    "\n",
    "    for i=1:m\n",
    "        for j=adir_indices\n",
    "            if train_data[i, j] != 0\n",
    "                adir_train_confusion[train_data[i, j]+2, approx[i, j]+2] += 1\n",
    "            end\n",
    "            if test_data[i, j] != 0\n",
    "                adir_test_confusion[test_data[i, j]+2, approx[i, j]+2] += 1\n",
    "            end\n",
    "        end\n",
    "        for j=ados_indices\n",
    "            if train_data[i, j] != 0\n",
    "                ados_train_confusion[train_data[i, j]+2, approx[i, j]+2] += 1\n",
    "            end\n",
    "            if test_data[i, j] != 0\n",
    "                ados_test_confusion[test_data[i, j]+2, approx[i, j]+2] += 1\n",
    "            end\n",
    "        end\n",
    "    end\n",
    "    push!(error, (adir_test_confusion[1, 3]+adir_test_confusion[3, 1]+ados_test_confusion[1, 3]+ados_test_confusion[3, 1])/(sum(adir_test_confusion)+sum(ados_test_confusion)))\n",
    "    push!(train_error, (adir_train_confusion[1, 3]+adir_train_confusion[3, 1]+ados_train_confusion[1, 3]+ados_train_confusion[3, 1])/(sum(adir_train_confusion)+sum(ados_train_confusion)))\n",
    "    println(\"Error \", (adir_train_confusion[1, 3]+adir_train_confusion[3, 1]+ados_train_confusion[1, 3]+ados_train_confusion[3, 1])/(sum(adir_train_confusion)+sum(ados_train_confusion)), \" \", \n",
    "                    (adir_test_confusion[1, 3]+adir_test_confusion[3, 1]+ados_test_confusion[1, 3]+ados_test_confusion[3, 1])/(sum(adir_test_confusion)+sum(ados_test_confusion)))\n",
    "\n",
    "    push!(adir_error, (adir_test_confusion[1, 3]+adir_test_confusion[3, 1])/sum(adir_test_confusion))\n",
    "    push!(train_adir_error, (adir_train_confusion[1, 3]+adir_train_confusion[3, 1])/sum(adir_train_confusion))\n",
    "\n",
    "    println(\"ADIR \", (adir_train_confusion[1, 3]+adir_train_confusion[3, 1])/sum(adir_train_confusion), \" \", \n",
    "                    (adir_test_confusion[1, 3]+adir_test_confusion[3, 1])/sum(adir_test_confusion))\n",
    "\n",
    "    push!(ados_error, (ados_test_confusion[1, 3]+ados_test_confusion[3, 1])/sum(ados_test_confusion))\n",
    "    push!(train_ados_error, (ados_train_confusion[1, 3]+ados_train_confusion[3, 1])/sum(ados_train_confusion))\n",
    "\n",
    "    println(\"ADOS \", (ados_train_confusion[1, 3]+ados_train_confusion[3, 1])/sum(ados_train_confusion), \" \", \n",
    "                    (ados_test_confusion[1, 3]+ados_test_confusion[3, 1])/sum(ados_test_confusion))\n",
    "end"
   ]
  },
  {
   "cell_type": "markdown",
   "metadata": {},
   "source": [
    "## Tune Parameters"
   ]
  },
  {
   "cell_type": "code",
   "execution_count": 42,
   "metadata": {},
   "outputs": [
    {
     "data": {
      "text/html": [
       "<script src=\"/Users/kelley/.julia/v0.5/Plots/src/backends/../../deps/plotly-latest.min.js\"></script>    <div id=\"75cfcdaa-ed00-4ea5-9064-080cf68961f9\" style=\"width:600px;height:400px;\"></div>\n",
       "    <script>\n",
       "    PLOT = document.getElementById('75cfcdaa-ed00-4ea5-9064-080cf68961f9');\n",
       "    Plotly.plot(PLOT, [{\"yaxis\":\"y\",\"y\":[0.24387137854186564,0.2116961158866603,0.20431391276663483,0.20015520534861508,0.2009909264565425,0.19949856733524354,0.20582617000955108,0.20445319961795608,0.20433381088825214,0.20700015918497294,0.21245224450811842,0.2145813435211716,0.21659105380452084,0.2153971665074817,0.22074976122254059,0.2116961158866603,0.2200533269659344,0.21137774594078318,0.20638331741483604,0.20703995542820758],\"showlegend\":true,\"name\":\"All Items\",\"type\":\"scatter\",\"xaxis\":\"x\",\"line\":{\"width\":2,\"dash\":\"solid\",\"color\":\"rgba(206, 147, 216, 1.000)\",\"shape\":\"linear\"},\"colorbar\":{\"title\":\"\"},\"x\":[1,2,3,4,5,6,7,8,9,10,11,12,13,14,15,16,17,18,19,20],\"mode\":\"lines\"},{\"yaxis\":\"y\",\"y\":[0.23194191327489946,0.2042292227139923,0.19705516503225434,0.19161676646706588,0.19106714108015851,0.19025716682576876,0.1947120252249125,0.19314993202001793,0.19124070699181347,0.19453845931325756,0.19902224536434376,0.2006711215250658,0.2046052821892447,0.20344817611154503,0.20772946859903382,0.20399780149845237,0.21149006335155776,0.19881975180074635,0.19474095287685497,0.19913795597211376],\"showlegend\":true,\"name\":\"ADI-R Items\",\"type\":\"scatter\",\"xaxis\":\"x\",\"line\":{\"width\":2,\"dash\":\"solid\",\"color\":\"rgba(77, 182, 172, 1.000)\",\"shape\":\"linear\"},\"colorbar\":{\"title\":\"\"},\"x\":[1,2,3,4,5,6,7,8,9,10,11,12,13,14,15,16,17,18,19,20],\"mode\":\"lines\"},{\"yaxis\":\"y\",\"y\":[0.2701600050997641,0.2281506980302161,0.22030981067125646,0.2189711225855804,0.2228596927392108,0.21986358130936445,0.2303180977879773,0.22936189201249443,0.23318671511442596,0.23446165614840314,0.24204755530056735,0.2452349078855103,0.24300376107605023,0.24172882004207305,0.249442213297635,0.22866067444380697,0.23892394976732326,0.23905144387072097,0.2320392681838465,0.22445336903168228],\"showlegend\":true,\"name\":\"ADOS Items\",\"type\":\"scatter\",\"xaxis\":\"x\",\"line\":{\"width\":2,\"dash\":\"solid\",\"color\":\"rgba(239, 108, 0, 1.000)\",\"shape\":\"linear\"},\"colorbar\":{\"title\":\"\"},\"x\":[1,2,3,4,5,6,7,8,9,10,11,12,13,14,15,16,17,18,19,20],\"mode\":\"lines\"},{\"yaxis\":\"y\",\"y\":[0.2437578129755088,0.20274876279923404,0.18746108143285875,0.17540510424323577,0.164626124249135,0.15717599853923694,0.15213355681759658,0.14292653579103598,0.1318607874074733,0.124936208664385,0.12228857561555713,0.11502104528833684,0.1069529044370678,0.09730227026925796,0.09785707931662507,0.14031050578921,0.15924658335947411,0.13922780880858854,0.13098175450753088,0.15160098695145305],\"showlegend\":true,\"name\":\"All Items\",\"type\":\"scatter\",\"xaxis\":\"x\",\"line\":{\"width\":2,\"dash\":\"solid\",\"color\":\"rgba(222, 128, 108, 1.000)\",\"shape\":\"linear\"},\"colorbar\":{\"title\":\"\"},\"x\":[1,2,3,4,5,6,7,8,9,10,11,12,13,14,15,16,17,18,19,20],\"mode\":\"lines\"},{\"yaxis\":\"y\",\"y\":[0.23418268741735326,0.19843183128199912,0.18367409215746108,0.17189502593835826,0.1624385447394297,0.15790187502119146,0.15361780761536636,0.14307123724273557,0.13596446614450886,0.1291747194249483,0.1317041331841454,0.12091343708676636,0.11780592004882515,0.10673888719357136,0.1075356864340691,0.14365612179161158,0.15873936188248058,0.1400196656833825,0.13654087410572,0.1506967755060523],\"showlegend\":true,\"name\":\"ADI-R Items\",\"type\":\"scatter\",\"xaxis\":\"x\",\"line\":{\"width\":2,\"dash\":\"solid\",\"color\":\"rgba(158, 145, 86, 1.000)\",\"shape\":\"linear\"},\"colorbar\":{\"title\":\"\"},\"x\":[1,2,3,4,5,6,7,8,9,10,11,12,13,14,15,16,17,18,19,20],\"mode\":\"lines\"},{\"yaxis\":\"y\",\"y\":[0.2651122168113487,0.21237636490124315,0.19590680862647833,0.1832332657814343,0.16950485466259338,0.15555715193127856,0.14882338707238135,0.14260382323583679,0.12270878073863464,0.11548350019660628,0.10129003962372583,0.10187985844348325,0.08274855570006957,0.07625676779286773,0.07627189135234869,0.13284912737061794,0.16037778651583437,0.13746181301231059,0.11858382989020295,0.1536175554278455],\"showlegend\":true,\"name\":\"ADOS Items\",\"type\":\"scatter\",\"xaxis\":\"x\",\"line\":{\"width\":2,\"dash\":\"solid\",\"color\":\"rgba(214, 137, 162, 1.000)\",\"shape\":\"linear\"},\"colorbar\":{\"title\":\"\"},\"x\":[1,2,3,4,5,6,7,8,9,10,11,12,13,14,15,16,17,18,19,20],\"mode\":\"lines\"}], {\"yaxis\":{\"type\":\"-\",\"titlefont\":{\"size\":15,\"color\":\"rgba(0, 0, 0, 1.000)\",\"family\":\"sans-serif\"},\"title\":\"Validation Error\",\"tickfont\":{\"size\":11,\"color\":\"rgba(0, 0, 0, 1.000)\",\"family\":\"sans-serif\"},\"ticks\":\"inside\",\"tickmode\":\"array\",\"showgrid\":true,\"tickvals\":[0.1,0.125,0.15000000000000002,0.17500000000000002,0.2,0.225,0.25],\"domain\":[0.07581474190726165,0.9415463692038496],\"ticktext\":[\"0.100\",\"0.125\",\"0.150\",\"0.175\",\"0.200\",\"0.225\",\"0.250\"],\"tickangle\":0,\"zeroline\":false,\"linecolor\":\"rgba(0, 0, 0, 1.000)\",\"tickcolor\":\"rgba(0, 0, 0, 1.000)\",\"anchor\":\"x\"},\"annotations\":[{\"text\":\"Imputation Error as a function of k\",\"y\":1.0,\"xref\":\"paper\",\"font\":{\"size\":20,\"color\":\"rgba(0, 0, 0, 1.000)\",\"family\":\"sans-serif\"},\"xanchor\":\"center\",\"x\":0.5497685185185185,\"yref\":\"paper\",\"showarrow\":false,\"yanchor\":\"top\",\"rotation\":-0.0}],\"width\":600,\"plot_bgcolor\":\"rgba(255, 255, 255, 1.000)\",\"showlegend\":true,\"legend\":{\"bgcolor\":\"rgba(255, 255, 255, 1.000)\",\"y\":1.0,\"font\":{\"size\":11,\"color\":\"rgba(0, 0, 0, 1.000)\",\"family\":\"sans-serif\"},\"bordercolor\":\"rgba(0, 0, 0, 1.000)\",\"x\":1.0},\"xaxis\":{\"type\":\"-\",\"titlefont\":{\"size\":15,\"color\":\"rgba(0, 0, 0, 1.000)\",\"family\":\"sans-serif\"},\"title\":\"k\",\"tickfont\":{\"size\":11,\"color\":\"rgba(0, 0, 0, 1.000)\",\"family\":\"sans-serif\"},\"ticks\":\"inside\",\"tickmode\":\"array\",\"showgrid\":true,\"tickvals\":[1.0,2.0,3.0,4.0,5.0,6.0,7.0,8.0,9.0,10.0,11.0,12.0,13.0,14.0,15.0,16.0,17.0,18.0,19.0,20.0],\"domain\":[0.10609871682706327,0.9934383202099737],\"ticktext\":[\"1\",\"2\",\"3\",\"4\",\"5\",\"6\",\"7\",\"8\",\"9\",\"10\",\"11\",\"12\",\"13\",\"14\",\"15\",\"16\",\"17\",\"18\",\"19\",\"20\"],\"tickangle\":0,\"zeroline\":false,\"linecolor\":\"rgba(0, 0, 0, 1.000)\",\"tickcolor\":\"rgba(0, 0, 0, 1.000)\",\"anchor\":\"y\"},\"paper_bgcolor\":\"rgba(255, 255, 255, 1.000)\",\"height\":400,\"margin\":{\"r\":0,\"l\":0,\"b\":20,\"t\":20}});\n",
       "    </script>\n"
      ]
     },
     "execution_count": 42,
     "metadata": {},
     "output_type": "execute_result"
    }
   ],
   "source": [
    "using Plots\n",
    "plotly() # Choose the Plotly.jl backend for web interactivity\n",
    "labels = Array{String}(1, 3)\n",
    "labels[1] = \"All Items\"\n",
    "labels[2] = \"ADI-R Items\"\n",
    "labels[3] = \"ADOS Items\"\n",
    "plot([error, adir_error, ados_error, train_error, train_adir_error, train_ados_error], xticks = 0:1:20, linewidth=2, \n",
    "    title=\"Imputation Error as a function of k\", ylabel=\"Validation Error\", xlabel=\"k\", label=labels,\n",
    "    palette=[\"#ce93d8\", \"#ef6c00\", \"#4db6ac\"])\n",
    "\n",
    "#labels[1] = \"\"\n",
    "#labels[2] = \"ADI-R\"\n",
    "#labels[3] = \"ADOS\"\n",
    "\n",
    "#plot!([[], only_adir_error, only_ados_error], linewidth=2, \n",
    "#    title=\"Single Instrument Imputation Error <br>as a function of k\", ylabel=\"Validation Error\", legend=:right, \n",
    "#    xlabel=\"k\", xticks = 0:1:10, label=labels, palette = [\"#ce93d8\", \"#4db6ac\", \"#ef6c00\"])\n"
   ]
  },
  {
   "cell_type": "markdown",
   "metadata": {},
   "source": [
    "## ROC"
   ]
  },
  {
   "cell_type": "code",
   "execution_count": 14,
   "metadata": {},
   "outputs": [
    {
     "data": {
      "text/plain": [
       "roc (generic function with 1 method)"
      ]
     },
     "execution_count": 14,
     "metadata": {},
     "output_type": "execute_result"
    }
   ],
   "source": [
    "approx = Xs[5].'*Ys[5]\n",
    "\n",
    "function roc(column_indices)\n",
    "    i_values = approx[:, column_indices][heldout_data[:, column_indices] .!= 0]\n",
    "    a_values = heldout_data[:, column_indices][heldout_data[:, column_indices] .!= 0]\n",
    "    \n",
    "    roc_values = sort(collect(filter(x -> (x[2] != 0 && x[1] != 0), zip(i_values, a_values))))\n",
    "    tp = sum(map(x -> x[2] > 0, roc_values))\n",
    "    fp = sum(map(x -> x[2] < 0, roc_values))\n",
    "    tn = 0\n",
    "    fn = 0\n",
    "    sensitivity = Array(Float64, 0)\n",
    "    specificity = Array(Float64, 0)\n",
    "    cutoffs = Array(Float64, 0)\n",
    "    push!(sensitivity, 1)\n",
    "    push!(specificity, 0)\n",
    "    push!(cutoffs, 0)\n",
    "    for v=roc_values\n",
    "        if v[2] > 0 \n",
    "            tp -=1\n",
    "            fn += 1\n",
    "        elseif v[2] < 0\n",
    "            fp -= 1\n",
    "            tn += 1\n",
    "        end\n",
    "        if (abs(tp/(tp+fn) - sensitivity[end]) > .01) || (abs(tn/(tn+fp) - specificity[end]) > .01)\n",
    "            push!(sensitivity, tp/(tp+fn))\n",
    "            push!(specificity, tn/(tn+fp))\n",
    "            push!(cutoffs, v[1])\n",
    "        end\n",
    "    end\n",
    "    push!(sensitivity, 0)\n",
    "    push!(specificity, 1)\n",
    "    return sensitivity, specificity, cutoffs\n",
    "end"
   ]
  },
  {
   "cell_type": "code",
   "execution_count": 15,
   "metadata": {},
   "outputs": [
    {
     "data": {
      "text/plain": [
       "baseline (generic function with 1 method)"
      ]
     },
     "execution_count": 15,
     "metadata": {},
     "output_type": "execute_result"
    }
   ],
   "source": [
    "# Baseline\n",
    "baseline_impute = ones(m, 1)*sum(train_data, 1)\n",
    "\n",
    "function baseline(column_indices)\n",
    "    i_values = baseline_impute[:, column_indices][heldout_data[:, column_indices] .!= 0]\n",
    "    a_values = heldout_data[:, column_indices][heldout_data[:, column_indices] .!= 0]\n",
    "  \n",
    "    roc_values = sort(collect(filter(x -> (x[2] != 0 && x[1] != 0), zip(i_values, a_values))))\n",
    "    tp = sum(map(x -> (x[1] > 0 && x[2] > 0), roc_values))\n",
    "    fp = sum(map(x -> (x[1] > 0 && x[2] < 0), roc_values))\n",
    "    tn = sum(map(x -> (x[1] < 0 && x[2] < 0), roc_values))\n",
    "    fn = sum(map(x -> (x[1] < 0 && x[2] > 0), roc_values))\n",
    "\n",
    "    baseline_sensitivity = tp/(tp+fn)\n",
    "    baseline_specificity = tn/(tn+fp)\n",
    "    return baseline_sensitivity, baseline_specificity\n",
    "end"
   ]
  },
  {
   "cell_type": "code",
   "execution_count": 16,
   "metadata": {},
   "outputs": [
    {
     "data": {
      "text/plain": [
       "(0.8585087063347933,0.5231433367975058)"
      ]
     },
     "execution_count": 16,
     "metadata": {},
     "output_type": "execute_result"
    }
   ],
   "source": [
    "sensitivity, specificity, cutoffs = roc(1:n)\n",
    "adir_sensitivity, adir_specificity, adir_cutoffs = roc(adir_indices)\n",
    "ados_sensitivity, ados_specificity, ados_cutoffs = roc(ados_indices)\n",
    "\n",
    "threshold = Int(round((findfirst(x -> x >= 0, cutoffs[2:end]) +\n",
    "            findfirst(x -> x > 0, cutoffs[2:end]))/2))\n",
    "adir_threshold= Int(round((findfirst(x -> x >= 0, adir_cutoffs[2:end]) +\n",
    "            findfirst(x -> x > 0, adir_cutoffs[2:end]))/2))\n",
    "ados_threshold = Int(round((findfirst(x -> x >= 0, ados_cutoffs[2:end]) +\n",
    "            findfirst(x -> x >= 0, ados_cutoffs[2:end]))/2))\n",
    "\n",
    "baseline_sensitivity, baseline_specificity = baseline(1:n)\n",
    "adir_baseline_sensitivity, adir_baseline_specificity = baseline(adir_indices)\n",
    "ados_baseline_sensitivity, ados_baseline_specificity = baseline(ados_indices)"
   ]
  },
  {
   "cell_type": "code",
   "execution_count": 17,
   "metadata": {},
   "outputs": [
    {
     "data": {
      "text/html": [
       "<script src=\"/Users/kelley/.julia/v0.5/Plots/src/backends/../../deps/plotly-latest.min.js\"></script>    <div id=\"44ea906a-208a-4956-b3fb-5b9480c010c4\" style=\"width:500px;height:400px;\"></div>\n",
       "    <script>\n",
       "    PLOT = document.getElementById('44ea906a-208a-4956-b3fb-5b9480c010c4');\n",
       "    Plotly.plot(PLOT, [{\"yaxis\":\"y\",\"y\":[1.0,0.999875816065853,0.999787113255748,0.9996274481975589,0.9995387453874539,0.9993613397672438,0.9991484530229918,0.9989000851546977,0.9988113823445927,0.9985807550383197,0.9983678682940675,0.9981549815498155,0.9978533919954584,0.9976405052512064,0.9973921373829123,0.9971437695146183,0.9968066988362191,0.996416406471757,0.9958664490491059,0.9950326426341186,0.9945004257734885,0.9940569117229634,0.9935779165483962,0.9929747374396821,0.9922828555208629,0.9915732330400228,0.9905975021288674,0.9897282145898382,0.989036332671019,0.9881670451319898,0.9871203519727505,0.9863042861197843,0.985222111836503,0.9840689753051377,0.9827206925915413,0.9813369287539029,0.9798999432302016,0.9786048822026682,0.9770791938688618,0.9754648027249503,0.974311666193585,0.9723602043712745,0.970621629293216,0.9687766108430315,0.966842889582742,0.9649269088844734,0.9628512631280159,0.9605982117513483,0.9585580471189328,0.956074368435992,0.9535729491910304,0.9505393130854386,0.948215299460687,0.9454477717854102,0.9428931308543854,0.9397885325007096,0.9367903775191598,0.9337390008515469,0.9306698836219132,0.9272636957138802,0.9236091399375532,0.9197062162929321,0.9156436275901221,0.9114036332671019,0.9067201248935566,0.9023204655123475,0.8972644053363611,0.8924389724666477,0.8866732898098212,0.8815994890718138,0.8762950610275334,0.8701923076923077,0.8627944933295487,0.8569933295486801,0.849435850127732,0.8408848992336078,0.8328306840760715,0.8232330400227079,0.8146820891285836,0.805102185637241,0.7950965086573942,0.7850908316775476,0.7750851546977008,0.7650794777178541,0.7550738007380073,0.7450681237581607,0.7350624467783139,0.7250567697984672,0.7150510928186204,0.7050454158387738,0.695039738858927,0.6850340618790803,0.6750283848992336,0.6650227079193869,0.6550170309395401,0.6450113539596934,0.6350056769798467,0.625,0.6149943230201533,0.6049886460403066,0.5949829690604599,0.5849772920806131,0.5749716151007664,0.5649659381209197,0.554960261141073,0.5449545841612262,0.5349489071813796,0.5249432302015328,0.5149375532216861,0.5049318762418393,0.4949261992619926,0.4849205222821459,0.47491484530229916,0.46490916832245244,0.4549034913426057,0.444897814362759,0.43489213738291227,0.42488646040306555,0.4148807834232188,0.4048751064433721,0.3948694294635254,0.38486375248367866,0.374858075503832,0.36485239852398527,0.35484672154413854,0.3448410445642918,0.3348353675844451,0.3248296906045984,0.31482401362475165,0.30481833664490493,0.2948126596650582,0.2848069826852115,0.27480130570536476,0.26479562872551804,0.2547899517456713,0.2447842747658246,0.23477859778597787,0.22477292080613115,0.21476724382628443,0.2047615668464377,0.19475588986659098,0.18475021288674426,0.17474453590689754,0.1647388589270508,0.1547331819472041,0.14472750496735737,0.13472182798751065,0.12471615100766392,0.1147104740278172,0.10470479704797048,0.09469912006812375,0.08469344308827703,0.07468776610843031,0.0646820891285836,0.05467641214873687,0.04467073516889015,0.03466505818904343,0.024659381209196706,0.014653704229349985,0.004648027249503264,0.0],\"showlegend\":true,\"name\":\"GLRM Impute<br>k=5\",\"type\":\"scatter\",\"xaxis\":\"x\",\"line\":{\"width\":2,\"dash\":\"solid\",\"color\":\"rgba(239, 108, 0, 1.000)\",\"shape\":\"linear\"},\"colorbar\":{\"title\":\"\"},\"x\":[1.0,0.9899873142442914,0.9799746284885829,0.9699619427328743,0.9599492569771656,0.949936571221457,0.9399238854657485,0.9299111997100399,0.9198985139543313,0.9098858281986227,0.899873142442914,0.8898604566872055,0.8798477709314969,0.8698350851757883,0.8598223994200798,0.8498097136643712,0.8397970279086626,0.8297843421529539,0.8197716563972454,0.8097589706415368,0.7997462848858282,0.7897335991301196,0.779720913374411,0.7697082276187024,0.7596955418629938,0.7496828561072852,0.7396701703515767,0.7296574845958681,0.7196447988401595,0.709632113084451,0.6996194273287423,0.6896067415730337,0.6795940558173251,0.6695813700616166,0.6595686843059079,0.6495559985501993,0.6395433127944907,0.6295306270387822,0.6195179412830736,0.609505255527365,0.5994925697716564,0.5894798840159479,0.5794671982602393,0.5694545125045306,0.559441826748822,0.5494291409931135,0.5394164552374048,0.5294037694816962,0.5193910837259876,0.5093783979702791,0.4993657122145705,0.4893530264588619,0.47934034070315334,0.4693276549474448,0.4593149691917361,0.4493022834360275,0.43928959768031894,0.42927691192461037,0.4192642261689018,0.4092515404131932,0.39923885465748454,0.38922616890177597,0.3792134831460674,0.3692007973903588,0.35918811163465025,0.3491754258789417,0.3391627401232331,0.3291500543675244,0.31913736861181585,0.3091246828561073,0.2991119971003987,0.28909931134469014,0.27908662558898156,0.2690739398332729,0.2590612540775643,0.24904856832185573,0.23903588256614716,0.2290231968104386,0.21901051105473002,0.20899782529902133,0.20072943095324391,0.1917361362812613,0.18362631388184125,0.17615077926785072,0.16819952881478795,0.16024827836172528,0.15327111272200078,0.14706415367886916,0.13995106922798117,0.13392533526640082,0.12837531714389272,0.12395795578108015,0.11833997825299025,0.11263138818412466,0.10737586081913741,0.10298115259151863,0.09917542587894168,0.09498459586806818,0.09043131569409202,0.08651232330554548,0.08318231243204055,0.07964842334179045,0.07606922798115257,0.07282982964842333,0.06934124682856102,0.06592062341428051,0.06297571583907213,0.060325299021384504,0.057833454150054364,0.05556814063066329,0.05309894889452704,0.05062975715839069,0.04791138093512137,0.04571402682131209,0.04338075389633922,0.04127401232330552,0.03928053642624141,0.03740032620514677,0.0357919536063791,0.03388909025009057,0.03164642986589339,0.030106016672707514,0.028225806451612878,0.026232330554548766,0.024623957955781095,0.023196810438564697,0.021701703515766613,0.0203425154041319,0.018802102210946026,0.017760057992026068,0.01667270750271843,0.015290866255889823,0.014271475172163872,0.013274737223631705,0.012436571221457027,0.011621058354476244,0.01071493294671988,0.00987676694454509,0.009174519753533894,0.008494925697716593,0.007611453425154013,0.0070224719101124045,0.006274918448713307,0.005685936933671587,0.005051649148242077,0.004666545849945636,0.004145523740485713,0.0036471547662196846,0.003103479521565755,0.0027636824936571047,0.0022200072490032863,0.0019255164914824263,0.0016310257339615664,0.0014271475172163983,0.0011553098948894336,0.0008381660021746784,0.0006795940558173008,0.0004077564334904471,0.0001585719463573776,2.2653135193895224e-5,0.0],\"mode\":\"lines\"},{\"yaxis\":\"y\",\"showlegend\":false,\"type\":\"scatter\",\"xaxis\":\"x\",\"name\":\"y2\",\"marker\":{\"symbol\":\"hexagon\",\"line\":{\"width\":1,\"color\":\"rgba(0, 0, 0, 1.000)\"},\"size\":10,\"color\":\"rgba(239, 108, 0, 1.000)\"},\"y\":[0.8408848992336078],\"line\":{\"width\":1,\"dash\":\"solid\",\"color\":\"rgba(239, 108, 0, 1.000)\",\"shape\":\"linear\"},\"mode\":\"lines+markers\",\"colorbar\":{\"title\":\"\"},\"x\":[0.24904856832185573]},{\"yaxis\":\"y\",\"showlegend\":true,\"type\":\"scatter\",\"xaxis\":\"x\",\"name\":\"Median Impute\",\"marker\":{\"symbol\":\"hexagon\",\"line\":{\"width\":1,\"color\":\"rgba(0, 0, 0, 1.000)\"},\"size\":10,\"color\":\"rgba(105, 93, 70, 1.000)\"},\"y\":[0.8440604598353676],\"line\":{\"width\":1,\"dash\":\"solid\",\"color\":\"rgba(105, 93, 70, 1.000)\",\"shape\":\"linear\"},\"mode\":\"lines+markers\",\"colorbar\":{\"title\":\"\"},\"x\":[0.3614760782892352]}], {\"yaxis\":{\"type\":\"-\",\"titlefont\":{\"size\":15,\"color\":\"rgba(0, 0, 0, 1.000)\",\"family\":\"sans-serif\"},\"title\":\"Sensitivity\",\"tickfont\":{\"size\":11,\"color\":\"rgba(0, 0, 0, 1.000)\",\"family\":\"sans-serif\"},\"ticks\":\"inside\",\"tickmode\":\"array\",\"showgrid\":true,\"tickvals\":[0.0,0.2,0.4,0.6,0.8,1.0],\"domain\":[0.11518482064741913,0.9021762904636921],\"ticktext\":[\"0.0\",\"0.2\",\"0.4\",\"0.6\",\"0.8\",\"1.0\"],\"tickangle\":0,\"zeroline\":false,\"linecolor\":\"rgba(0, 0, 0, 1.000)\",\"tickcolor\":\"rgba(0, 0, 0, 1.000)\",\"anchor\":\"x\"},\"annotations\":[{\"text\":\"Within Instrument Imputation ROC\",\"y\":1.0,\"xref\":\"paper\",\"font\":{\"size\":20,\"color\":\"rgba(0, 0, 0, 1.000)\",\"family\":\"sans-serif\"},\"xanchor\":\"center\",\"x\":0.5419444444444445,\"yref\":\"paper\",\"showarrow\":false,\"yanchor\":\"top\",\"rotation\":-0.0}],\"width\":500,\"plot_bgcolor\":\"rgba(255, 255, 255, 1.000)\",\"showlegend\":true,\"legend\":{\"bgcolor\":\"rgba(255, 255, 255, 1.000)\",\"y\":0.5,\"font\":{\"size\":11,\"color\":\"rgba(0, 0, 0, 1.000)\",\"family\":\"sans-serif\"},\"bordercolor\":\"rgba(0, 0, 0, 1.000)\",\"x\":1.0},\"xaxis\":{\"type\":\"-\",\"titlefont\":{\"size\":15,\"color\":\"rgba(0, 0, 0, 1.000)\",\"family\":\"sans-serif\"},\"title\":\"1-Specificity\",\"tickfont\":{\"size\":11,\"color\":\"rgba(0, 0, 0, 1.000)\",\"family\":\"sans-serif\"},\"ticks\":\"inside\",\"tickmode\":\"array\",\"showgrid\":true,\"tickvals\":[0.0,0.2,0.4,0.6,0.8,1.0],\"domain\":[0.12325896762904637,0.9606299212598426],\"ticktext\":[\"0.0\",\"0.2\",\"0.4\",\"0.6\",\"0.8\",\"1.0\"],\"tickangle\":0,\"zeroline\":false,\"linecolor\":\"rgba(0, 0, 0, 1.000)\",\"tickcolor\":\"rgba(0, 0, 0, 1.000)\",\"anchor\":\"y\"},\"paper_bgcolor\":\"rgba(255, 255, 255, 1.000)\",\"height\":400,\"margin\":{\"r\":0,\"l\":0,\"b\":20,\"t\":20}});\n",
       "    </script>\n"
      ]
     },
     "execution_count": 17,
     "metadata": {},
     "output_type": "execute_result"
    }
   ],
   "source": [
    "using Plots\n",
    "plotly() # Choose the Plotly.jl backend for web interactivity\n",
    "plot(1-specificity, sensitivity, linewidth=2, \n",
    "    title=\"Within Instrument Imputation ROC\", ylabel=\"Sensitivity\", xlabel=\"1-Specificity\", linewidth=2, label=\"GLRM Impute<br>k=5\", primary=true,\n",
    "    palette=[ \"#ef6c00\", \"#695d46\"], xticks = 0:.2:1, yticks = 0:.2:1, size=(500, 400), legend=:right, margin=5mm)\n",
    "plot!([1-specificity[threshold]], [sensitivity[threshold]], markersize=5, markershape = :hexagon, primary=false)\n",
    "plot!([1-baseline_specificity], [baseline_sensitivity], \n",
    "    markersize=5, markershape = :hexagon, primary=true, label=\"Median Impute\")\n",
    "\n",
    "#plot!(1-adir_specificity, adir_sensitivity, linewidth=2, \n",
    "#    linewidth=2, label=\"ADI-R\", primary=true)\n",
    "#plot!([1-adir_specificity[adir_threshold]], [adir_sensitivity[adir_threshold]], \n",
    "#    markersize=5, markershape = :hexagon, primary=false)\n",
    "#plot!([1-adir_baseline_specificity], [adir_baseline_sensitivity], \n",
    "#    markersize=5, markershape = :hexagon, primary=true, label=\"Median ADI-R Impute\")\n",
    "\n",
    "#plot!(1-ados_specificity, ados_sensitivity, linewidth=2, \n",
    "#    linewidth=2, label=\"ADOS\", primary=true)\n",
    "#plot!([1-ados_specificity[ados_threshold]], [ados_sensitivity[ados_threshold]], \n",
    "#    markersize=5, markershape = :hexagon, primary=false)\n",
    "#plot!([1-ados_baseline_specificity], [ados_baseline_sensitivity], \n",
    "#    markersize=5, markershape = :hexagon, primary=true, label=\"Median ADOS Impute\")"
   ]
  },
  {
   "cell_type": "code",
   "execution_count": 18,
   "metadata": {},
   "outputs": [
    {
     "name": "stdout",
     "output_type": "stream",
     "text": [
      "0.8012874084686405\n",
      "0.8116366680619506\n",
      "0.7783292241682943\n"
     ]
    }
   ],
   "source": [
    "# Accuracy\n",
    "\n",
    "i_values = approx[heldout_data .!= 0]\n",
    "a_values = heldout_data[heldout_data .!= 0]\n",
    "roc_values = sort(collect(filter(x -> (x[2] != 0 && x[1] != 0), zip(i_values, a_values))))\n",
    "tp = sum(map(x -> (x[2] > 0 && x[1] > 0), roc_values))\n",
    "tn = sum(map(x -> (x[2] < 0 && x[1] < 0), roc_values))\n",
    "println((tp+tn)/size(roc_values, 1))    \n",
    "\n",
    "i_values = approx[:, adir_indices][heldout_data[:, adir_indices] .!= 0]\n",
    "a_values = heldout_data[:, adir_indices][heldout_data[:, adir_indices] .!= 0]\n",
    "roc_values = sort(collect(filter(x -> (x[2] != 0 && x[1] != 0), zip(i_values, a_values))))\n",
    "tp = sum(map(x -> (x[2] > 0 && x[1] > 0), roc_values))\n",
    "tn = sum(map(x -> (x[2] < 0 && x[1] < 0), roc_values))\n",
    "println((tp+tn)/size(roc_values, 1)) \n",
    "\n",
    "i_values = approx[:, ados_indices][heldout_data[:, ados_indices] .!= 0]\n",
    "a_values = heldout_data[:, ados_indices][heldout_data[:, ados_indices] .!= 0]\n",
    "roc_values = sort(collect(filter(x -> (x[2] != 0 && x[1] != 0), zip(i_values, a_values))))\n",
    "tp = sum(map(x -> (x[2] > 0 && x[1] > 0), roc_values))\n",
    "tn = sum(map(x -> (x[2] < 0 && x[1] < 0), roc_values))\n",
    "println((tp+tn)/size(roc_values, 1)) \n"
   ]
  },
  {
   "cell_type": "markdown",
   "metadata": {
    "collapsed": true
   },
   "source": [
    "# Output"
   ]
  },
  {
   "cell_type": "code",
   "execution_count": 17,
   "metadata": {},
   "outputs": [
    {
     "name": "stdout",
     "output_type": "stream",
     "text": [
      "(123,)(6,123)"
     ]
    }
   ],
   "source": [
    "k = 6\n",
    "approx = Xs[k].'*Ys[k]\n",
    "approx[approx.>=0] = 1\n",
    "approx[approx.<0] = 0\n",
    "approx = trunc(Int, approx)\n",
    "\n",
    "new_df = convert(DataFrame, approx)\n",
    "names!(new_df, names(df))\n",
    "new_df = hcat(samples, new_df)\n",
    "writetable(\"../data/impute_logloss_Z$(k).csv\", new_df, separator = ',', header = true)\n",
    "\n",
    "# Replace imputed values with real values if we have them\n",
    "approx[all_data.>0] = 1\n",
    "approx[all_data.<0] = 0\n",
    "\n",
    "new_df = convert(DataFrame, approx)\n",
    "names!(new_df, names(df))\n",
    "new_df = hcat(samples, new_df)\n",
    "writetable(\"../data/impute_logloss_realfill_Z$(k).csv\", new_df, separator = ',', header = true)\n",
    "\n",
    "X_df = convert(DataFrame, Xs[k].')\n",
    "X_df = hcat(samples, X_df)\n",
    "writetable(\"../data/impute_logloss_X$(k).csv\", X_df, separator = ',', header=false)\n",
    "\n",
    "Y_df = convert(DataFrame, Ys[k])\n",
    "print(size(names(df)), size(Y_df))\n",
    "names!(Y_df, names(df))\n",
    "writetable(\"../data/impute_logloss_Y$(k).csv\", Y_df, separator = ',', header=true)"
   ]
  },
  {
   "cell_type": "code",
   "execution_count": 65,
   "metadata": {
    "collapsed": true
   },
   "outputs": [],
   "source": [
    "\n",
    "k = 6\n",
    "approx = adir_Xs[k].'*adir_Ys[k]\n",
    "approx[approx.>=0] = 1\n",
    "approx[approx.<0] = 0\n",
    "approx = trunc(Int, approx)\n",
    "\n",
    "# Replace imputed values with real values if we have them\n",
    "approx[all_data[:, adir_indices].>0] = 1\n",
    "approx[all_data[:, adir_indices].<0] = 0\n",
    "\n",
    "new_df = convert(DataFrame, approx)\n",
    "names!(new_df, names(df)[1:size(approx, 2)])\n",
    "new_df = hcat(samples, new_df)\n",
    "\n",
    "writecsv(\"../data/impute_logloss_adir_realfill_X$(k).csv\", adir_Xs[k])\n",
    "writecsv(\"../data/impute_logloss_adir_realfill_Y$(k).csv\", adir_Ys[k])\n",
    "writetable(\"../data/impute_logloss_adir_realfill_Z$(k).csv\", new_df, separator = ',', header = true)"
   ]
  },
  {
   "cell_type": "code",
   "execution_count": 1,
   "metadata": {},
   "outputs": [
    {
     "ename": "LoadError",
     "evalue": "UndefVarError: ados_Xs not defined",
     "output_type": "error",
     "traceback": [
      "UndefVarError: ados_Xs not defined",
      "",
      " in include_string(::String, ::String) at ./loading.jl:441",
      " in include_string(::String, ::String) at /Applications/Julia-0.5.app/Contents/Resources/julia/lib/julia/sys.dylib:?"
     ]
    }
   ],
   "source": [
    "k = 6\n",
    "approx = ados_Xs[k].'*ados_Ys[k]\n",
    "approx[approx.>=0] = 1\n",
    "approx[approx.<0] = 0\n",
    "approx = trunc(Int, approx)\n",
    "\n",
    "# Replace imputed values with real values if we have them\n",
    "approx[all_data[:, ados_indices].>0] = 1\n",
    "approx[all_data[:, ados_indices].<0] = 0\n",
    "\n",
    "new_df = convert(DataFrame, approx)\n",
    "names!(new_df, names(df)[(end-size(approx, 2)+1):end])\n",
    "new_df = hcat(samples, new_df)\n",
    "\n",
    "writecsv(\"../data/impute_logloss_ados_realfill_X$(k).csv\", adir_Xs[k])\n",
    "writecsv(\"../data/impute_logloss_ados_realfill_Y$(k).csv\", adir_Ys[k])\n",
    "writetable(\"../data/impute_logloss_ados_realfill_Z$(k).csv\", new_df, separator = ',', header = true)"
   ]
  },
  {
   "cell_type": "code",
   "execution_count": null,
   "metadata": {
    "collapsed": true
   },
   "outputs": [],
   "source": []
  }
 ],
 "metadata": {
  "kernelspec": {
   "display_name": "Julia 0.5.0",
   "language": "julia",
   "name": "julia-0.5"
  },
  "language_info": {
   "file_extension": ".jl",
   "mimetype": "application/julia",
   "name": "julia",
   "version": "0.5.0"
  }
 },
 "nbformat": 4,
 "nbformat_minor": 1
}
