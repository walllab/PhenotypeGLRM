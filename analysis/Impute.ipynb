{
 "cells": [
  {
   "cell_type": "markdown",
   "metadata": {},
   "source": [
    "# Load Data"
   ]
  },
  {
   "cell_type": "code",
   "execution_count": 2,
   "metadata": {},
   "outputs": [
    {
     "name": "stderr",
     "output_type": "stream",
     "text": [
      "WARNING: Method definition describe(AbstractArray) in module StatsBase at /Users/kelley/.julia/v0.5/StatsBase/src/scalarstats.jl:560 overwritten in module DataFrames at /Users/kelley/.julia/v0.5/DataFrames/src/abstractdataframe/abstractdataframe.jl:407.\n"
     ]
    },
    {
     "data": {
      "text/plain": [
       "(13434,123)"
      ]
     },
     "execution_count": 2,
     "metadata": {},
     "output_type": "execute_result"
    }
   ],
   "source": [
    "using DataFrames\n",
    "\n",
    "# To run this notebook, you need to have a data file available.\n",
    "# You can either run the phenotype preprocessing scripts in ../preprocessing directory\n",
    "# Or scp -r username@sherlock.stanford.edu:/scratch/PI/dpwall/DATA/phenotypes/jsonschema ../data\n",
    "\n",
    "# Data\n",
    "df = readtable(\"../data/all_samples_filtered.csv\", nastrings=[\"None\", \"\"])\n",
    "samples = df[:, 1:1]\n",
    "df = df[:, 2:end] # Remove identifier\n",
    "\n",
    "# Binarize Data\n",
    "[df[df[nm].> 0, nm] = 1 for nm in names(df)]\n",
    "[df[df[nm].== 0, nm] = -1 for nm in names(df)]\n",
    "[df[isna(df[nm]), nm] = 0 for nm in names(df)]\n",
    "\n",
    "m, n = size(df)\n"
   ]
  },
  {
   "cell_type": "code",
   "execution_count": 3,
   "metadata": {},
   "outputs": [
    {
     "data": {
      "text/plain": [
       "1001073"
      ]
     },
     "execution_count": 3,
     "metadata": {},
     "output_type": "execute_result"
    }
   ],
   "source": [
    "# Form sparse array\n",
    "all_data = sparse(Array(df))\n",
    "dropzeros!(all_data)\n",
    "p = size(nonzeros(all_data), 1)"
   ]
  },
  {
   "cell_type": "code",
   "execution_count": 4,
   "metadata": {},
   "outputs": [
    {
     "data": {
      "text/plain": [
       "78:123"
      ]
     },
     "execution_count": 4,
     "metadata": {},
     "output_type": "execute_result"
    }
   ],
   "source": [
    "adir_indices = 1:77\n",
    "ados_indices = 78:n"
   ]
  },
  {
   "cell_type": "code",
   "execution_count": 5,
   "metadata": {},
   "outputs": [
    {
     "name": "stdout",
     "output_type": "stream",
     "text": [
      "(100108,) (100108,)\n",
      "(50053,) (50053,)\n",
      "(850912,) (850912,)\n"
     ]
    }
   ],
   "source": [
    "# First split out whole instrument test data\n",
    "\n",
    "dropzeros!(all_data)\n",
    "p = size(nonzeros(all_data), 1)\n",
    "\n",
    "# Split out testing data\n",
    "all_indices = collect(1:p)\n",
    "shuffle!(all_indices)\n",
    "break1, break2 = ceil(Integer, 0.85 * p), ceil(Integer, 0.9 * p)\n",
    "train_indices = view(all_indices, 1:(break1-1))\n",
    "test_indices = view(all_indices, break1:(break2-1))\n",
    "held_out_test_indices = view(all_indices, break2:p)\n",
    "\n",
    "train_data = copy(all_data)\n",
    "nonzeros(train_data)[union(test_indices, held_out_test_indices)] = 0\n",
    "dropzeros!(train_data)\n",
    "\n",
    "test_data = copy(all_data)\n",
    "nonzeros(test_data)[union(train_indices, held_out_test_indices)] = 0\n",
    "dropzeros!(test_data)\n",
    "\n",
    "heldout_data = copy(all_data)\n",
    "nonzeros(heldout_data)[union(train_indices, test_indices)] = 0\n",
    "dropzeros!(heldout_data)\n",
    "\n",
    "println(size(held_out_test_indices), \" \", size(nonzeros(heldout_data)))\n",
    "println(size(test_indices), \" \", size(nonzeros(test_data)))\n",
    "println(size(train_indices), \" \", size(nonzeros(train_data)))"
   ]
  },
  {
   "cell_type": "code",
   "execution_count": 6,
   "metadata": {},
   "outputs": [
    {
     "name": "stdout",
     "output_type": "stream",
     "text": [
      "(69062,)\n",
      "(31046,)\n"
     ]
    }
   ],
   "source": [
    "println(size(nonzeros(heldout_data[:, adir_indices])))\n",
    "println(size(nonzeros(heldout_data[:, ados_indices])))"
   ]
  },
  {
   "cell_type": "markdown",
   "metadata": {},
   "source": [
    "# Train Models"
   ]
  },
  {
   "cell_type": "markdown",
   "metadata": {},
   "source": [
    "## Both instruments"
   ]
  },
  {
   "cell_type": "code",
   "execution_count": 11,
   "metadata": {},
   "outputs": [
    {
     "name": "stdout",
     "output_type": "stream",
     "text": [
      "LowRankModels.SparseProxGradParams(1.0,100,1,1.0e-5,0.01)\n",
      "Fitting GLRM\n",
      "Iteration 10: objective value = 498850.4422640237\n",
      "Iteration 20: objective value = 405237.1670185198\n",
      "Iteration 30: objective value = 404014.02541176596\n",
      "Iteration 40: objective value = 403756.15829549683\n",
      "obj went up to 403757.12108088395; reducing step size to 4.693325808083107\n",
      "obj went up to 403786.8095543603; reducing step size to 3.285328065658175\n",
      "obj went up to 403757.31623747176; reducing step size to 2.1902187104387836\n",
      "LowRankModels.SparseProxGradParams(1.0,100,1,1.0e-5,0.01)\n",
      "Fitting GLRM\n",
      "Iteration 10: objective value = 540946.105836054\n",
      "Iteration 20: objective value = 384239.94367045566\n",
      "Iteration 30: objective value = 359772.30522771756\n",
      "Iteration 40: objective value = 355261.08245209785\n",
      "obj went up to 355913.98830866505; reducing step size to 4.693325808083107\n",
      "obj went up to 355419.4667983449; reducing step size to 3.1288838720554044\n",
      "obj went up to 355258.06689252576; reducing step size to 2.190218710438783\n",
      "Iteration 50: objective value = 354926.2108995666\n",
      "obj went up to 354909.960527284; reducing step size to 2.0545717821120264\n",
      "Iteration 60: objective value = 354700.54044464056\n",
      "LowRankModels.SparseProxGradParams(1.0,100,1,1.0e-5,0.01)\n",
      "Fitting GLRM\n",
      "Iteration 10: objective value = 436612.7006924829\n",
      "Iteration 20: objective value = 359060.54781807464\n",
      "Iteration 30: objective value = 346752.97444256674\n",
      "Iteration 40: objective value = 337616.0389789385\n",
      "obj went up to 341860.9981435305; reducing step size to 4.693325808083107\n",
      "obj went up to 338755.66066270403; reducing step size to 3.1288838720554044\n",
      "obj went up to 336094.7458347051; reducing step size to 2.5354519346716966\n",
      "Iteration 50: objective value = 334081.5525587614\n",
      "obj went up to 333862.614720568; reducing step size to 2.378423659267435\n",
      "Iteration 60: objective value = 332401.6205619317\n",
      "obj went up to 332345.8843249749; reducing step size to 2.1248767848957675\n",
      "Iteration 70: objective value = 331681.1344936789\n",
      "obj went up to 331711.8100558112; reducing step size to 2.092940515483502\n",
      "obj went up to 331307.6997004183; reducing step size to 1.869826973924588\n",
      "Iteration 80: objective value = 331053.45469932276\n",
      "obj went up to 330954.7435486329; reducing step size to 1.6704979843195842\n",
      "Iteration 90: objective value = 330712.93199488654\n",
      "LowRankModels.SparseProxGradParams(1.0,100,1,1.0e-5,0.01)\n",
      "Fitting GLRM\n",
      "Iteration 10: objective value = 435460.5001065459\n",
      "Iteration 20: objective value = 351279.1253206415\n",
      "Iteration 30: objective value = 327428.6539969246\n",
      "Iteration 40: objective value = 317203.8819038779\n",
      "obj went up to 318030.3762108086; reducing step size to 5.433111288582207\n",
      "obj went up to 316426.57553757343; reducing step size to 3.6220741923881383\n",
      "obj went up to 315810.66644462646; reducing step size to 2.535451934671697\n",
      "Iteration 50: objective value = 315006.89638018166\n",
      "obj went up to 315024.61688845494; reducing step size to 2.054571782112027\n",
      "obj went up to 314090.1363829539; reducing step size to 1.8355484590396438\n",
      "Iteration 60: objective value = 313893.9366412511\n",
      "obj went up to 313445.18694207334; reducing step size to 1.8079607087644984\n",
      "Iteration 70: objective value = 313162.0518842982\n",
      "obj went up to 312939.843723881; reducing step size to 1.6959881849656133\n",
      "Iteration 80: objective value = 312600.65923385514\n",
      "LowRankModels.SparseProxGradParams(1.0,100,1,1.0e-5,0.01)\n",
      "Fitting GLRM\n",
      "Iteration 10: objective value = 412858.09007187525\n",
      "Iteration 20: objective value = 342931.8778414332\n",
      "Iteration 30: objective value = 316660.1788433705\n",
      "Iteration 40: objective value = 305424.1126324856\n",
      "obj went up to 304905.4221006517; reducing step size to 5.433111288582207\n",
      "obj went up to 303995.89592433587; reducing step size to 3.6220741923881383\n",
      "obj went up to 303525.64268904726; reducing step size to 2.535451934671697\n",
      "Iteration 50: objective value = 302952.8584782445\n",
      "obj went up to 302984.01816047955; reducing step size to 2.054571782112027\n",
      "obj went up to 302007.558551364; reducing step size to 1.8355484590396438\n",
      "Iteration 60: objective value = 301700.04553005466\n",
      "obj went up to 301220.40860066813; reducing step size to 1.8079607087644984\n",
      "Iteration 70: objective value = 300781.5410254557\n",
      "obj went up to 300525.6393919672; reducing step size to 1.6152268428243934\n",
      "Iteration 80: objective value = 300082.9417945821\n",
      "LowRankModels.SparseProxGradParams(1.0,100,1,1.0e-5,0.01)\n",
      "Fitting GLRM\n",
      "Iteration 10: objective value = 406044.10442681477\n",
      "Iteration 20: objective value = 337383.6725719414\n",
      "Iteration 30: objective value = 306816.75868083077\n",
      "Iteration 40: objective value = 292535.4295852526\n",
      "obj went up to 293143.80622716155; reducing step size to 5.433111288582207\n",
      "obj went up to 291025.3858426716; reducing step size to 3.6220741923881383\n",
      "obj went up to 290460.24437890085; reducing step size to 2.535451934671697\n",
      "Iteration 50: objective value = 289167.077299057\n",
      "obj went up to 289232.18637954997; reducing step size to 2.054571782112027\n"
     ]
    }
   ],
   "source": [
    "using LowRankModels\n",
    "\n",
    "Xs = []\n",
    "Ys = []\n",
    "for k=1:6\n",
    "    #losses = [MultinomialLoss(3) for i=1:n]\n",
    "    losses = LogisticLoss()\n",
    "    \n",
    "    rx = ZeroReg()\n",
    "    ry = ZeroReg()\n",
    "    glrm = GLRM(train_data, losses, rx, ry, k, offset=false, scale=false);\n",
    "    #init_svd!(glrm);\n",
    "\n",
    "    X,Y,ch = fit!(glrm, verbose=true, max_iter=5000); # fit GLRM\n",
    "    push!(Xs, X)\n",
    "    push!(Ys, Y)\n",
    "end\n"
   ]
  },
  {
   "cell_type": "markdown",
   "metadata": {},
   "source": [
    "# Evaluate"
   ]
  },
  {
   "cell_type": "markdown",
   "metadata": {},
   "source": [
    "## Both Instruments"
   ]
  },
  {
   "cell_type": "code",
   "execution_count": 10,
   "metadata": {
    "scrolled": true
   },
   "outputs": [
    {
     "name": "stdout",
     "output_type": "stream",
     "text": [
      "1\n"
     ]
    },
    {
     "ename": "LoadError",
     "evalue": "BoundsError: attempt to access 0-element Array{Any,1} at index [1]",
     "output_type": "error",
     "traceback": [
      "BoundsError: attempt to access 0-element Array{Any,1} at index [1]",
      "",
      " in getindex(::Array{Any,1}, ::Int64) at ./array.jl:386",
      " in getindex(::Array{Any,1}, ::Int64) at /Applications/Julia-0.5.app/Contents/Resources/julia/lib/julia/sys.dylib:?",
      " in macro expansion; at ./In[10]:8 [inlined]",
      " in anonymous at ./<missing>:?",
      " in include_string(::String, ::String) at ./loading.jl:441",
      " in include_string(::String, ::String) at /Applications/Julia-0.5.app/Contents/Resources/julia/lib/julia/sys.dylib:?"
     ]
    }
   ],
   "source": [
    "Xs = []\n",
    "Ys = []\n",
    "error = []\n",
    "adir_error = []\n",
    "ados_error = []\n",
    "for l=1:6\n",
    "    println(l)\n",
    "    approx = Xs[l].'*Ys[l]\n",
    "    approx[approx.>=0] = 1\n",
    "    approx[approx.<0] = -1\n",
    "    approx = trunc(Int, approx)\n",
    "\n",
    "    adir_train_confusion = zeros(Int, 3, 3)\n",
    "    adir_test_confusion = zeros(Int, 3, 3)\n",
    "    ados_train_confusion = zeros(Int, 3, 3)\n",
    "    ados_test_confusion = zeros(Int, 3, 3)\n",
    "\n",
    "    for i=1:m\n",
    "        for j=adir_indices\n",
    "            if train_data[i, j] != 0\n",
    "                adir_train_confusion[train_data[i, j]+2, approx[i, j]+2] += 1\n",
    "            end\n",
    "            if test_data[i, j] != 0\n",
    "                adir_test_confusion[test_data[i, j]+2, approx[i, j]+2] += 1\n",
    "            end\n",
    "        end\n",
    "        for j=ados_indices\n",
    "            if train_data[i, j] != 0\n",
    "                ados_train_confusion[train_data[i, j]+2, approx[i, j]+2] += 1\n",
    "            end\n",
    "            if test_data[i, j] != 0\n",
    "                ados_test_confusion[test_data[i, j]+2, approx[i, j]+2] += 1\n",
    "            end\n",
    "        end\n",
    "    end\n",
    "    push!(error, (adir_test_confusion[1, 3]+adir_test_confusion[3, 1]+ados_test_confusion[1, 3]+ados_test_confusion[3, 1])/(sum(adir_test_confusion)+sum(ados_test_confusion)))\n",
    "    println(\"Error \", (adir_train_confusion[1, 3]+adir_train_confusion[3, 1]+ados_train_confusion[1, 3]+ados_train_confusion[3, 1])/(sum(adir_train_confusion)+sum(ados_train_confusion)), \" \", \n",
    "                    (adir_test_confusion[1, 3]+adir_test_confusion[3, 1]+ados_test_confusion[1, 3]+ados_test_confusion[3, 1])/(sum(adir_test_confusion)+sum(ados_test_confusion)))\n",
    "\n",
    "    push!(adir_error, (adir_test_confusion[1, 3]+adir_test_confusion[3, 1])/sum(adir_test_confusion))\n",
    "    println(\"ADIR \", (adir_train_confusion[1, 3]+adir_train_confusion[3, 1])/sum(adir_train_confusion), \" \", \n",
    "                    (adir_test_confusion[1, 3]+adir_test_confusion[3, 1])/sum(adir_test_confusion))\n",
    "\n",
    "    push!(ados_error, (ados_test_confusion[1, 3]+ados_test_confusion[3, 1])/sum(ados_test_confusion))\n",
    "    println(\"ADOS \", (ados_train_confusion[1, 3]+ados_train_confusion[3, 1])/sum(ados_train_confusion), \" \", \n",
    "                    (ados_test_confusion[1, 3]+ados_test_confusion[3, 1])/sum(ados_test_confusion))\n",
    "end"
   ]
  },
  {
   "cell_type": "markdown",
   "metadata": {},
   "source": [
    "## Tune Parameters"
   ]
  },
  {
   "cell_type": "code",
   "execution_count": 98,
   "metadata": {},
   "outputs": [
    {
     "data": {
      "text/html": [
       "<script src=\"/Users/kelley/.julia/v0.5/Plots/src/backends/../../deps/plotly-latest.min.js\"></script>    <div id=\"51d94934-545f-4f6d-a437-923f3e990e8e\" style=\"width:600px;height:400px;\"></div>\n",
       "    <script>\n",
       "    PLOT = document.getElementById('51d94934-545f-4f6d-a437-923f3e990e8e');\n",
       "    Plotly.plot(PLOT, [{\"yaxis\":\"y\",\"y\":[0.24133675116301148,0.21748314820089243,0.20860628500901926,0.2031472514953005,0.20153327636950535,0.20257761321560808,0.20162821608278744,0.20243520364568499,0.2047849615494161,0.20290990221209532,0.2043339979113263,0.20825026108421152,0.21048134434634008,0.21408905345105858,0.217554352985854,0.2201651951011108],\"showlegend\":true,\"name\":\"All Items\",\"type\":\"scatter\",\"xaxis\":\"x\",\"line\":{\"width\":2,\"dash\":\"solid\",\"color\":\"rgba(206, 147, 216, 1.000)\",\"shape\":\"linear\"},\"colorbar\":{\"title\":\"\"},\"x\":[1,2,3,4,5,6,7,8,9,10,11,12,13,14,15,16],\"mode\":\"lines\"},{\"yaxis\":\"y\",\"y\":[0.23669927633342266,0.2124765478424015,0.20483784508174752,0.19863977485928705,0.1957920128651836,0.19592602519431787,0.1946529080675422,0.1957920128651836,0.19763468239077994,0.19358080943446798,0.19552398820691502,0.1988072902707049,0.1999128919860627,0.20634548378450818,0.20892522112034306,0.21153846153846154],\"showlegend\":true,\"name\":\"ADI-R Items\",\"type\":\"scatter\",\"xaxis\":\"x\",\"line\":{\"width\":2,\"dash\":\"solid\",\"color\":\"rgba(77, 182, 172, 1.000)\",\"shape\":\"linear\"},\"colorbar\":{\"title\":\"\"},\"x\":[1,2,3,4,5,6,7,8,9,10,11,12,13,14,15,16],\"mode\":\"lines\"},{\"yaxis\":\"y\",\"y\":[0.25260501465320745,0.229648323021817,0.21776294366655813,0.2140996418104852,0.21548355584500162,0.21873982416151092,0.21857701074568545,0.21857701074568545,0.22215890589384565,0.2255779876261804,0.22574080104200586,0.2311950504721589,0.23616085965483555,0.23290459133832628,0.2385216541843048,0.24112666883751221],\"showlegend\":true,\"name\":\"ADOS Items\",\"type\":\"scatter\",\"xaxis\":\"x\",\"line\":{\"width\":2,\"dash\":\"solid\",\"color\":\"rgba(239, 108, 0, 1.000)\",\"shape\":\"linear\"},\"colorbar\":{\"title\":\"\"},\"x\":[1,2,3,4,5,6,7,8,9,10,11,12,13,14,15,16],\"mode\":\"lines\"}], {\"yaxis\":{\"type\":\"-\",\"titlefont\":{\"size\":15,\"color\":\"rgba(0, 0, 0, 1.000)\",\"family\":\"sans-serif\"},\"title\":\"Validation Error\",\"tickfont\":{\"size\":11,\"color\":\"rgba(0, 0, 0, 1.000)\",\"family\":\"sans-serif\"},\"ticks\":\"inside\",\"tickmode\":\"array\",\"showgrid\":true,\"tickvals\":[0.2,0.21,0.22,0.23,0.24,0.25],\"domain\":[0.07581474190726165,0.9415463692038496],\"ticktext\":[\"0.20\",\"0.21\",\"0.22\",\"0.23\",\"0.24\",\"0.25\"],\"tickangle\":0,\"zeroline\":false,\"linecolor\":\"rgba(0, 0, 0, 1.000)\",\"tickcolor\":\"rgba(0, 0, 0, 1.000)\",\"anchor\":\"x\"},\"annotations\":[{\"text\":\"Imputation Error as a function of k\",\"y\":1.0,\"xref\":\"paper\",\"font\":{\"size\":20,\"color\":\"rgba(0, 0, 0, 1.000)\",\"family\":\"sans-serif\"},\"xanchor\":\"center\",\"x\":0.5423611111111111,\"yref\":\"paper\",\"showarrow\":false,\"yanchor\":\"top\",\"rotation\":-0.0}],\"width\":600,\"plot_bgcolor\":\"rgba(255, 255, 255, 1.000)\",\"showlegend\":true,\"legend\":{\"bgcolor\":\"rgba(255, 255, 255, 1.000)\",\"y\":1.0,\"font\":{\"size\":11,\"color\":\"rgba(0, 0, 0, 1.000)\",\"family\":\"sans-serif\"},\"bordercolor\":\"rgba(0, 0, 0, 1.000)\",\"x\":1.0},\"xaxis\":{\"type\":\"-\",\"titlefont\":{\"size\":15,\"color\":\"rgba(0, 0, 0, 1.000)\",\"family\":\"sans-serif\"},\"title\":\"k\",\"tickfont\":{\"size\":11,\"color\":\"rgba(0, 0, 0, 1.000)\",\"family\":\"sans-serif\"},\"ticks\":\"inside\",\"tickmode\":\"array\",\"showgrid\":true,\"tickvals\":[1.0,2.0,3.0,4.0,5.0,6.0,7.0,8.0,9.0,10.0,11.0,12.0,13.0,14.0,15.0,16.0],\"domain\":[0.09128390201224845,0.9934383202099738],\"ticktext\":[\"1\",\"2\",\"3\",\"4\",\"5\",\"6\",\"7\",\"8\",\"9\",\"10\",\"11\",\"12\",\"13\",\"14\",\"15\",\"16\"],\"tickangle\":0,\"zeroline\":false,\"linecolor\":\"rgba(0, 0, 0, 1.000)\",\"tickcolor\":\"rgba(0, 0, 0, 1.000)\",\"anchor\":\"y\"},\"paper_bgcolor\":\"rgba(255, 255, 255, 1.000)\",\"height\":400,\"margin\":{\"r\":0,\"l\":0,\"b\":20,\"t\":20}});\n",
       "    </script>\n"
      ]
     },
     "execution_count": 98,
     "metadata": {},
     "output_type": "execute_result"
    }
   ],
   "source": [
    "using Plots\n",
    "plotly() # Choose the Plotly.jl backend for web interactivity\n",
    "labels = Array{String}(1, 3)\n",
    "labels[1] = \"All Items\"\n",
    "labels[2] = \"ADI-R Items\"\n",
    "labels[3] = \"ADOS Items\"\n",
    "plot([error, adir_error, ados_error], xticks = 0:1:20, linewidth=2, \n",
    "    title=\"Imputation Error as a function of k\", ylabel=\"Validation Error\", xlabel=\"k\", label=labels,\n",
    "    palette=[\"#ce93d8\", \"#ef6c00\", \"#4db6ac\"])\n",
    "\n",
    "#labels[1] = \"\"\n",
    "#labels[2] = \"ADI-R\"\n",
    "#labels[3] = \"ADOS\"\n",
    "\n",
    "#plot!([[], only_adir_error, only_ados_error], linewidth=2, \n",
    "#    title=\"Single Instrument Imputation Error <br>as a function of k\", ylabel=\"Validation Error\", legend=:right, \n",
    "#    xlabel=\"k\", xticks = 0:1:10, label=labels, palette = [\"#ce93d8\", \"#4db6ac\", \"#ef6c00\"])\n"
   ]
  },
  {
   "cell_type": "markdown",
   "metadata": {},
   "source": [
    "## ROC"
   ]
  },
  {
   "cell_type": "code",
   "execution_count": 83,
   "metadata": {},
   "outputs": [
    {
     "name": "stderr",
     "output_type": "stream",
     "text": [
      "WARNING: Method definition roc(Any) in module Main at In[61]:4 overwritten at In[83]:4.\n"
     ]
    },
    {
     "data": {
      "text/plain": [
       "roc (generic function with 1 method)"
      ]
     },
     "execution_count": 83,
     "metadata": {},
     "output_type": "execute_result"
    }
   ],
   "source": [
    "approx = Xs[5].'*Ys[5]\n",
    "\n",
    "function roc(column_indices)\n",
    "    i_values = approx[:, column_indices][heldout_data[:, column_indices] .!= 0]\n",
    "    a_values = heldout_data[:, column_indices][heldout_data[:, column_indices] .!= 0]\n",
    "    \n",
    "    roc_values = sort(collect(filter(x -> (x[2] != 0 && x[1] != 0), zip(i_values, a_values))))\n",
    "    tp = sum(map(x -> x[2] > 0, roc_values))\n",
    "    fp = sum(map(x -> x[2] < 0, roc_values))\n",
    "    tn = 0\n",
    "    fn = 0\n",
    "    sensitivity = Array(Float64, 0)\n",
    "    specificity = Array(Float64, 0)\n",
    "    cutoffs = Array(Float64, 0)\n",
    "    push!(sensitivity, 1)\n",
    "    push!(specificity, 0)\n",
    "    push!(cutoffs, 0)\n",
    "    for v=roc_values\n",
    "        if v[2] > 0 \n",
    "            tp -=1\n",
    "            fn += 1\n",
    "        elseif v[2] < 0\n",
    "            fp -= 1\n",
    "            tn += 1\n",
    "        end\n",
    "        if (abs(tp/(tp+fn) - sensitivity[end]) > .01) || (abs(tn/(tn+fp) - specificity[end]) > .01)\n",
    "            push!(sensitivity, tp/(tp+fn))\n",
    "            push!(specificity, tn/(tn+fp))\n",
    "            push!(cutoffs, v[1])\n",
    "        end\n",
    "    end\n",
    "    push!(sensitivity, 0)\n",
    "    push!(specificity, 1)\n",
    "    return sensitivity, specificity, cutoffs\n",
    "end"
   ]
  },
  {
   "cell_type": "code",
   "execution_count": 84,
   "metadata": {},
   "outputs": [
    {
     "name": "stderr",
     "output_type": "stream",
     "text": [
      "WARNING: Method definition baseline(Any) in module Main at In[68]:5 overwritten at In[84]:5.\n"
     ]
    },
    {
     "data": {
      "text/plain": [
       "baseline (generic function with 1 method)"
      ]
     },
     "execution_count": 84,
     "metadata": {},
     "output_type": "execute_result"
    }
   ],
   "source": [
    "# Baseline\n",
    "baseline_impute = ones(m, 1)*sum(train_data, 1)\n",
    "\n",
    "function baseline(column_indices)\n",
    "    i_values = baseline_impute[:, column_indices][heldout_data[:, column_indices] .!= 0]\n",
    "    a_values = heldout_data[:, column_indices][heldout_data[:, column_indices] .!= 0]\n",
    "  \n",
    "    roc_values = sort(collect(filter(x -> (x[2] != 0 && x[1] != 0), zip(i_values, a_values))))\n",
    "    tp = sum(map(x -> (x[1] > 0 && x[2] > 0), roc_values))\n",
    "    fp = sum(map(x -> (x[1] > 0 && x[2] < 0), roc_values))\n",
    "    tn = sum(map(x -> (x[1] < 0 && x[2] < 0), roc_values))\n",
    "    fn = sum(map(x -> (x[1] < 0 && x[2] > 0), roc_values))\n",
    "\n",
    "    baseline_sensitivity = tp/(tp+fn)\n",
    "    baseline_specificity = tn/(tn+fp)\n",
    "    return baseline_sensitivity, baseline_specificity\n",
    "end"
   ]
  },
  {
   "cell_type": "code",
   "execution_count": 85,
   "metadata": {},
   "outputs": [
    {
     "data": {
      "text/plain": [
       "(0.8574456809750928,0.5535309973045822)"
      ]
     },
     "execution_count": 85,
     "metadata": {},
     "output_type": "execute_result"
    }
   ],
   "source": [
    "sensitivity, specificity, cutoffs = roc(1:n)\n",
    "adir_sensitivity, adir_specificity, adir_cutoffs = roc(adir_indices)\n",
    "ados_sensitivity, ados_specificity, ados_cutoffs = roc(ados_indices)\n",
    "\n",
    "threshold = Int(round((findfirst(x -> x >= 0, cutoffs[2:end]) +\n",
    "            findfirst(x -> x > 0, cutoffs[2:end]))/2))\n",
    "adir_threshold= Int(round((findfirst(x -> x >= 0, adir_cutoffs[2:end]) +\n",
    "            findfirst(x -> x > 0, adir_cutoffs[2:end]))/2))\n",
    "ados_threshold = Int(round((findfirst(x -> x >= 0, ados_cutoffs[2:end]) +\n",
    "            findfirst(x -> x >= 0, ados_cutoffs[2:end]))/2))\n",
    "\n",
    "baseline_sensitivity, baseline_specificity = baseline(1:n)\n",
    "adir_baseline_sensitivity, adir_baseline_specificity = baseline(adir_indices)\n",
    "ados_baseline_sensitivity, ados_baseline_specificity = baseline(ados_indices)"
   ]
  },
  {
   "cell_type": "code",
   "execution_count": 86,
   "metadata": {},
   "outputs": [
    {
     "data": {
      "text/html": [
       "<script src=\"/Users/kelley/.julia/v0.5/Plots/src/backends/../../deps/plotly-latest.min.js\"></script>    <div id=\"54c41bca-b321-4f15-bb92-a469f317543e\" style=\"width:500px;height:400px;\"></div>\n",
       "    <script>\n",
       "    PLOT = document.getElementById('54c41bca-b321-4f15-bb92-a469f317543e');\n",
       "    Plotly.plot(PLOT, [{\"yaxis\":\"y\",\"y\":[1.0,0.9998945548104096,0.9998101986587372,0.9997047534691468,0.9995782192416381,0.9995149521278839,0.9993462398245392,0.9991564384832764,0.9989033700282594,0.9986503015732422,0.9984183221561432,0.9981019865873719,0.9979754523598633,0.9975747606394196,0.9972584250706483,0.9968999114260407,0.9965203087435152,0.996014171833481,0.9956556581888735,0.9948964528238222,0.9942216036104433,0.9936311105487368,0.9932515078662112,0.9927031928803408,0.9921126998186343,0.9910793369606479,0.9901935973680881,0.9892867687376102,0.9885697414483952,0.9875363785904087,0.9864819266945042,0.9853009405710912,0.98409886540976,0.9826858998692479,0.9812307562528998,0.9798599687882239,0.9780884896031043,0.976844236365937,0.9750727571808174,0.9736808806782234,0.9720570247585305,0.9704753469146737,0.9685773335020457,0.9667847652790079,0.9646969505251171,0.9625669576953899,0.9602049854485638,0.9577797460879834,0.9553966848032392,0.9530347125564131,0.9502298705133072,0.9475515626977097,0.9446201864270952,0.9416255430427264,0.9389894133029651,0.935910413766924,0.933126660761736,0.929161921633135,0.9258509426799949,0.9224556075751824,0.9189337382428614,0.9149900881521785,0.9110253490235776,0.9059007128094816,0.9020414188704712,0.8964317347842592,0.891264920494327,0.8862879075456578,0.8808891138386267,0.8749630941836434,0.8698806360453836,0.8635539246699565,0.8572904804082838,0.850563077312413,0.8431819140410814,0.8350626344426167,0.8267535535028891,0.8179172466152094,0.8079421316799528,0.7979248386688599,0.7879075456577671,0.7778902526466742,0.7678729596355814,0.7578556666244886,0.7478383736133958,0.7378210806023029,0.7278037875912101,0.7177864945801172,0.7077692015690245,0.6977519085579316,0.6877346155468388,0.6777173225357459,0.6677000295246531,0.6576827365135602,0.6476654435024675,0.6376481504913746,0.6276308574802818,0.6176135644691889,0.607596271458096,0.5975789784470033,0.5875616854359104,0.5775443924248176,0.5675270994137247,0.5575098064026319,0.547492513391539,0.5374752203804463,0.5274579273693534,0.5174406343582606,0.5074233413471677,0.49740604833607494,0.48738875532498205,0.4773714623138892,0.4673541693027964,0.45733687629170355,0.4473195832806107,0.4373022902695179,0.42728499725842506,0.4172677042473322,0.4072504112362394,0.39723311822514656,0.38721582521405373,0.3771985322029609,0.36718123919186807,0.35716394618077524,0.3471466531696824,0.3371293601585896,0.32711206714749674,0.3170947741364039,0.3070774811253111,0.29706018811421825,0.2870428951031254,0.2770256020920326,0.26700830908093975,0.25699101606984687,0.24697372305875406,0.23695643004766123,0.2269391370365684,0.21692184402547557,0.20690455101438274,0.19688725800328988,0.18686996499219705,0.17685267198110421,0.16683537897001138,0.15681808595891855,0.14680079294782572,0.1367834999367329,0.12676620692564006,0.11674891391454721,0.10673162090345438,0.09671432789236155,0.08669703488126872,0.07667974187017589,0.06666244885908305,0.056645155847990215,0.046627862836897384,0.036610569825804545,0.026593276814711714,0.01657598380361888,0.006558690792526045,0.0],\"showlegend\":true,\"name\":\"GLRM Impute<br>k=5\",\"type\":\"scatter\",\"xaxis\":\"x\",\"line\":{\"width\":2,\"dash\":\"solid\",\"color\":\"rgba(239, 108, 0, 1.000)\",\"shape\":\"linear\"},\"colorbar\":{\"title\":\"\"},\"x\":[1.0,0.9899842570978774,0.9799685141957548,0.9699527712936322,0.9599370283915097,0.9499212854893871,0.9399055425872646,0.929889799685142,0.9198740567830194,0.9098583138808968,0.8998425709787742,0.8898268280766517,0.8798110851745291,0.8697953422724065,0.8597795993702839,0.8497638564681613,0.8397481135660387,0.8297323706639161,0.8197166277617935,0.8097008848596711,0.7996851419575485,0.7896693990554259,0.7796536561533033,0.7696379132511807,0.7596221703490581,0.7496064274469356,0.739590684544813,0.7295749416426904,0.7195591987405678,0.7095434558384452,0.6995277129363227,0.6895119700342001,0.6794962271320775,0.6694804842299549,0.6594647413278323,0.6494489984257098,0.6394332555235872,0.6294175126214646,0.6194017697193421,0.6093860268172195,0.599370283915097,0.5893545410129744,0.5793387981108518,0.5693230552087292,0.5593073123066066,0.549291569404484,0.5392758265023614,0.5292600836002388,0.5192443406981162,0.5092285977959937,0.4992128548938711,0.48919711199174853,0.47918136908962594,0.46916562618750335,0.45914988328538087,0.4491341403832583,0.4391183974811357,0.4291026545790131,0.4190869116768905,0.4090711687747679,0.3990554258726453,0.3890396829705228,0.37902394006840023,0.36900819716627764,0.35899245426415505,0.34897671136203245,0.33896096845990986,0.32894522555778727,0.3189294826556647,0.3089137397535422,0.2988979968514196,0.288882253949297,0.2788665110471744,0.2688507681450518,0.25883502524292923,0.24881928234080664,0.23880353943868415,0.22878779653656156,0.21877205363443897,0.2092991694261983,0.19996199989142827,0.1909776885076815,0.18291623690353398,0.17485478529938658,0.16679333369523908,0.15867759622170352,0.15191900548287285,0.14488898539710116,0.1379403941154118,0.13158894739699256,0.12578035937245535,0.12051463004180007,0.11476032788665114,0.10976602790293688,0.10452744150697568,0.10083600238857826,0.0966017045762988,0.0927202649150426,0.08843168123337497,0.08452309863742469,0.08058737310678032,0.07662450464144188,0.07298735139243251,0.0698659139026111,0.06636447532707235,0.06348732424949788,0.06085445958417024,0.05795016557190158,0.05510015742902119,0.0522501492861408,0.049834428098366024,0.04777156506161451,0.04581727376363931,0.04315726616361759,0.041257260735030665,0.0391129688941968,0.03699581998805712,0.034987242820693765,0.03306009445741276,0.03151294717984909,0.02988437109820319,0.028337223820639523,0.02706150589001688,0.025487215677759134,0.02434721242060689,0.023234352098148836,0.02157863308180885,0.020221486347103856,0.01889148254709294,0.017561478747082138,0.016557190163400515,0.01541718690624827,0.014440041257260727,0.013272895065414514,0.01218717767765054,0.011237174963357077,0.010612887465392795,0.009717170620487492,0.008821453775582189,0.008088594538841587,0.0072471635633244436,0.006541447261277922,0.00605287443678415,0.005510015742902108,0.004967157049020177,0.004560013028608645,0.004017154334726714,0.0033928668367624315,0.0030671516204332505,0.0026600076000217188,0.002280006514304378,0.001927148363281006,0.0015471472775636652,0.001275717930622644,0.0010314315183758138,0.0008685739102112233,0.0004885728244937715,0.0001900005428586704,8.142880408235076e-5,0.0],\"mode\":\"lines\"},{\"yaxis\":\"y\",\"showlegend\":false,\"type\":\"scatter\",\"xaxis\":\"x\",\"name\":\"y2\",\"marker\":{\"symbol\":\"hexagon\",\"line\":{\"width\":1,\"color\":\"rgba(0, 0, 0, 1.000)\"},\"size\":10,\"color\":\"rgba(239, 108, 0, 1.000)\"},\"y\":[0.8431819140410814],\"line\":{\"width\":1,\"dash\":\"solid\",\"color\":\"rgba(239, 108, 0, 1.000)\",\"shape\":\"linear\"},\"mode\":\"lines+markers\",\"colorbar\":{\"title\":\"\"},\"x\":[0.25883502524292923]},{\"yaxis\":\"y\",\"showlegend\":true,\"type\":\"scatter\",\"xaxis\":\"x\",\"name\":\"Median Impute\",\"marker\":{\"symbol\":\"hexagon\",\"line\":{\"width\":1,\"color\":\"rgba(0, 0, 0, 1.000)\"},\"size\":10,\"color\":\"rgba(105, 93, 70, 1.000)\"},\"y\":[0.840039647391286],\"line\":{\"width\":1,\"dash\":\"solid\",\"color\":\"rgba(105, 93, 70, 1.000)\",\"shape\":\"linear\"},\"mode\":\"lines+markers\",\"colorbar\":{\"title\":\"\"},\"x\":[0.3486768896729543]}], {\"yaxis\":{\"type\":\"-\",\"titlefont\":{\"size\":15,\"color\":\"rgba(0, 0, 0, 1.000)\",\"family\":\"sans-serif\"},\"title\":\"Sensitivity\",\"tickfont\":{\"size\":11,\"color\":\"rgba(0, 0, 0, 1.000)\",\"family\":\"sans-serif\"},\"ticks\":\"inside\",\"tickmode\":\"array\",\"showgrid\":true,\"tickvals\":[0.0,0.2,0.4,0.6,0.8,1.0],\"domain\":[0.11518482064741913,0.9021762904636921],\"ticktext\":[\"0.0\",\"0.2\",\"0.4\",\"0.6\",\"0.8\",\"1.0\"],\"tickangle\":0,\"zeroline\":false,\"linecolor\":\"rgba(0, 0, 0, 1.000)\",\"tickcolor\":\"rgba(0, 0, 0, 1.000)\",\"anchor\":\"x\"},\"annotations\":[{\"text\":\"Within Instrument Imputation ROC\",\"y\":1.0,\"xref\":\"paper\",\"font\":{\"size\":20,\"color\":\"rgba(0, 0, 0, 1.000)\",\"family\":\"sans-serif\"},\"xanchor\":\"center\",\"x\":0.5419444444444445,\"yref\":\"paper\",\"showarrow\":false,\"yanchor\":\"top\",\"rotation\":-0.0}],\"width\":500,\"plot_bgcolor\":\"rgba(255, 255, 255, 1.000)\",\"showlegend\":true,\"legend\":{\"bgcolor\":\"rgba(255, 255, 255, 1.000)\",\"y\":0.5,\"font\":{\"size\":11,\"color\":\"rgba(0, 0, 0, 1.000)\",\"family\":\"sans-serif\"},\"bordercolor\":\"rgba(0, 0, 0, 1.000)\",\"x\":1.0},\"xaxis\":{\"type\":\"-\",\"titlefont\":{\"size\":15,\"color\":\"rgba(0, 0, 0, 1.000)\",\"family\":\"sans-serif\"},\"title\":\"1-Specificity\",\"tickfont\":{\"size\":11,\"color\":\"rgba(0, 0, 0, 1.000)\",\"family\":\"sans-serif\"},\"ticks\":\"inside\",\"tickmode\":\"array\",\"showgrid\":true,\"tickvals\":[0.0,0.2,0.4,0.6,0.8,1.0],\"domain\":[0.12325896762904637,0.9606299212598426],\"ticktext\":[\"0.0\",\"0.2\",\"0.4\",\"0.6\",\"0.8\",\"1.0\"],\"tickangle\":0,\"zeroline\":false,\"linecolor\":\"rgba(0, 0, 0, 1.000)\",\"tickcolor\":\"rgba(0, 0, 0, 1.000)\",\"anchor\":\"y\"},\"paper_bgcolor\":\"rgba(255, 255, 255, 1.000)\",\"height\":400,\"margin\":{\"r\":0,\"l\":0,\"b\":20,\"t\":20}});\n",
       "    </script>\n"
      ]
     },
     "execution_count": 86,
     "metadata": {},
     "output_type": "execute_result"
    }
   ],
   "source": [
    "using Plots\n",
    "plotly() # Choose the Plotly.jl backend for web interactivity\n",
    "plot(1-specificity, sensitivity, linewidth=2, \n",
    "    title=\"Within Instrument Imputation ROC\", ylabel=\"Sensitivity\", xlabel=\"1-Specificity\", linewidth=2, label=\"GLRM Impute<br>k=5\", primary=true,\n",
    "    palette=[ \"#ef6c00\", \"#695d46\"], xticks = 0:.2:1, yticks = 0:.2:1, size=(500, 400), legend=:right, margin=5mm)\n",
    "plot!([1-specificity[threshold]], [sensitivity[threshold]], markersize=5, markershape = :hexagon, primary=false)\n",
    "plot!([1-baseline_specificity], [baseline_sensitivity], \n",
    "    markersize=5, markershape = :hexagon, primary=true, label=\"Median Impute\")\n",
    "\n",
    "#plot!(1-adir_specificity, adir_sensitivity, linewidth=2, \n",
    "#    linewidth=2, label=\"ADI-R\", primary=true)\n",
    "#plot!([1-adir_specificity[adir_threshold]], [adir_sensitivity[adir_threshold]], \n",
    "#    markersize=5, markershape = :hexagon, primary=false)\n",
    "#plot!([1-adir_baseline_specificity], [adir_baseline_sensitivity], \n",
    "#    markersize=5, markershape = :hexagon, primary=true, label=\"Median ADI-R Impute\")\n",
    "\n",
    "#plot!(1-ados_specificity, ados_sensitivity, linewidth=2, \n",
    "#    linewidth=2, label=\"ADOS\", primary=true)\n",
    "#plot!([1-ados_specificity[ados_threshold]], [ados_sensitivity[ados_threshold]], \n",
    "#    markersize=5, markershape = :hexagon, primary=false)\n",
    "#plot!([1-ados_baseline_specificity], [ados_baseline_sensitivity], \n",
    "#    markersize=5, markershape = :hexagon, primary=true, label=\"Median ADOS Impute\")"
   ]
  },
  {
   "cell_type": "code",
   "execution_count": 75,
   "metadata": {},
   "outputs": [
    {
     "name": "stdout",
     "output_type": "stream",
     "text": [
      "0.7993804956035172\n",
      "0.8080629244790155\n",
      "0.7801873476196587\n"
     ]
    }
   ],
   "source": [
    "# Accuracy\n",
    "\n",
    "i_values = approx[heldout_data .!= 0]\n",
    "a_values = heldout_data[heldout_data .!= 0]\n",
    "roc_values = sort(collect(filter(x -> (x[2] != 0 && x[1] != 0), zip(i_values, a_values))))\n",
    "tp = sum(map(x -> (x[2] > 0 && x[1] > 0), roc_values))\n",
    "tn = sum(map(x -> (x[2] < 0 && x[1] < 0), roc_values))\n",
    "println((tp+tn)/size(roc_values, 1))    \n",
    "\n",
    "i_values = approx[:, adir_indices][heldout_data[:, adir_indices] .!= 0]\n",
    "a_values = heldout_data[:, adir_indices][heldout_data[:, adir_indices] .!= 0]\n",
    "roc_values = sort(collect(filter(x -> (x[2] != 0 && x[1] != 0), zip(i_values, a_values))))\n",
    "tp = sum(map(x -> (x[2] > 0 && x[1] > 0), roc_values))\n",
    "tn = sum(map(x -> (x[2] < 0 && x[1] < 0), roc_values))\n",
    "println((tp+tn)/size(roc_values, 1)) \n",
    "\n",
    "i_values = approx[:, ados_indices][heldout_data[:, ados_indices] .!= 0]\n",
    "a_values = heldout_data[:, ados_indices][heldout_data[:, ados_indices] .!= 0]\n",
    "roc_values = sort(collect(filter(x -> (x[2] != 0 && x[1] != 0), zip(i_values, a_values))))\n",
    "tp = sum(map(x -> (x[2] > 0 && x[1] > 0), roc_values))\n",
    "tn = sum(map(x -> (x[2] < 0 && x[1] < 0), roc_values))\n",
    "println((tp+tn)/size(roc_values, 1)) \n"
   ]
  },
  {
   "cell_type": "markdown",
   "metadata": {
    "collapsed": true
   },
   "source": [
    "# Output"
   ]
  },
  {
   "cell_type": "code",
   "execution_count": 17,
   "metadata": {},
   "outputs": [
    {
     "name": "stdout",
     "output_type": "stream",
     "text": [
      "(123,)(6,123)"
     ]
    }
   ],
   "source": [
    "k = 6\n",
    "approx = Xs[k].'*Ys[k]\n",
    "approx[approx.>=0] = 1\n",
    "approx[approx.<0] = 0\n",
    "approx = trunc(Int, approx)\n",
    "\n",
    "new_df = convert(DataFrame, approx)\n",
    "names!(new_df, names(df))\n",
    "new_df = hcat(samples, new_df)\n",
    "writetable(\"../data/impute_logloss_Z$(k).csv\", new_df, separator = ',', header = true)\n",
    "\n",
    "# Replace imputed values with real values if we have them\n",
    "approx[all_data.>0] = 1\n",
    "approx[all_data.<0] = 0\n",
    "\n",
    "new_df = convert(DataFrame, approx)\n",
    "names!(new_df, names(df))\n",
    "new_df = hcat(samples, new_df)\n",
    "writetable(\"../data/impute_logloss_realfill_Z$(k).csv\", new_df, separator = ',', header = true)\n",
    "\n",
    "X_df = convert(DataFrame, Xs[k].')\n",
    "X_df = hcat(samples, X_df)\n",
    "writetable(\"../data/impute_logloss_X$(k).csv\", X_df, separator = ',', header=false)\n",
    "\n",
    "Y_df = convert(DataFrame, Ys[k])\n",
    "print(size(names(df)), size(Y_df))\n",
    "names!(Y_df, names(df))\n",
    "writetable(\"../data/impute_logloss_Y$(k).csv\", Y_df, separator = ',', header=true)"
   ]
  },
  {
   "cell_type": "code",
   "execution_count": 65,
   "metadata": {
    "collapsed": true
   },
   "outputs": [],
   "source": [
    "\n",
    "k = 6\n",
    "approx = adir_Xs[k].'*adir_Ys[k]\n",
    "approx[approx.>=0] = 1\n",
    "approx[approx.<0] = 0\n",
    "approx = trunc(Int, approx)\n",
    "\n",
    "# Replace imputed values with real values if we have them\n",
    "approx[all_data[:, adir_indices].>0] = 1\n",
    "approx[all_data[:, adir_indices].<0] = 0\n",
    "\n",
    "new_df = convert(DataFrame, approx)\n",
    "names!(new_df, names(df)[1:size(approx, 2)])\n",
    "new_df = hcat(samples, new_df)\n",
    "\n",
    "writecsv(\"../data/impute_logloss_adir_realfill_X$(k).csv\", adir_Xs[k])\n",
    "writecsv(\"../data/impute_logloss_adir_realfill_Y$(k).csv\", adir_Ys[k])\n",
    "writetable(\"../data/impute_logloss_adir_realfill_Z$(k).csv\", new_df, separator = ',', header = true)"
   ]
  },
  {
   "cell_type": "code",
   "execution_count": 1,
   "metadata": {},
   "outputs": [
    {
     "ename": "LoadError",
     "evalue": "UndefVarError: ados_Xs not defined",
     "output_type": "error",
     "traceback": [
      "UndefVarError: ados_Xs not defined",
      "",
      " in include_string(::String, ::String) at ./loading.jl:441",
      " in include_string(::String, ::String) at /Applications/Julia-0.5.app/Contents/Resources/julia/lib/julia/sys.dylib:?"
     ]
    }
   ],
   "source": [
    "k = 6\n",
    "approx = ados_Xs[k].'*ados_Ys[k]\n",
    "approx[approx.>=0] = 1\n",
    "approx[approx.<0] = 0\n",
    "approx = trunc(Int, approx)\n",
    "\n",
    "# Replace imputed values with real values if we have them\n",
    "approx[all_data[:, ados_indices].>0] = 1\n",
    "approx[all_data[:, ados_indices].<0] = 0\n",
    "\n",
    "new_df = convert(DataFrame, approx)\n",
    "names!(new_df, names(df)[(end-size(approx, 2)+1):end])\n",
    "new_df = hcat(samples, new_df)\n",
    "\n",
    "writecsv(\"../data/impute_logloss_ados_realfill_X$(k).csv\", adir_Xs[k])\n",
    "writecsv(\"../data/impute_logloss_ados_realfill_Y$(k).csv\", adir_Ys[k])\n",
    "writetable(\"../data/impute_logloss_ados_realfill_Z$(k).csv\", new_df, separator = ',', header = true)"
   ]
  },
  {
   "cell_type": "code",
   "execution_count": null,
   "metadata": {
    "collapsed": true
   },
   "outputs": [],
   "source": []
  }
 ],
 "metadata": {
  "kernelspec": {
   "display_name": "Julia 0.5.0",
   "language": "julia",
   "name": "julia-0.5"
  },
  "language_info": {
   "file_extension": ".jl",
   "mimetype": "application/julia",
   "name": "julia",
   "version": "0.5.0"
  }
 },
 "nbformat": 4,
 "nbformat_minor": 1
}
