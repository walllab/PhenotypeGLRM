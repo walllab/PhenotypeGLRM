{
 "cells": [
  {
   "cell_type": "code",
   "execution_count": 6,
   "metadata": {},
   "outputs": [
    {
     "name": "stdout",
     "output_type": "stream",
     "text": [
      "(16291, 250)\n",
      "(16291, 250)\n",
      "(16291, 250)\n",
      "16291 ['AU000103', 'AU000104', 'AU000105', 'AU000106', 'AU000503', 'AU000504', 'AU000703', 'AU000704', 'AU000803', 'AU000804']\n",
      "250 ['ADIR:Q11', 'ADIR:Q12', 'ADIR:Q13', 'ADIR:Q14', 'ADIR:Q15', 'ADIR:Q16', 'ADIR:Q18', 'ADIR:Q20', 'ADIR:Q21', 'ADIR:Q22']\n"
     ]
    }
   ],
   "source": [
    "import numpy as np\n",
    "import json\n",
    "import csv\n",
    "\n",
    "# instrument-level impute\n",
    "Z4 = np.genfromtxt('../data/impute_bvs_simplex_offset_Z4.csv', delimiter=',')\n",
    "print(Z.shape)\n",
    "\n",
    "# entry-level impute\n",
    "Z12 = np.genfromtxt('../data/impute_bvs_simplex_offset_Z12.csv', delimiter=',')\n",
    "print(Z.shape)\n",
    "\n",
    "# true values\n",
    "all_data = np.genfromtxt('../data/all_samples_filtered.csv', delimiter=',', skip_header=True, missing_values=['None', ''])[:, 1:]\n",
    "print(all_data.shape)\n",
    "\n",
    "# Grab header and identifiers\n",
    "sample_identifiers = []\n",
    "with open('../data/all_samples_filtered.csv', 'r') as f:\n",
    "    reader = csv.reader(f)\n",
    "    header = next(reader)[1:]\n",
    "    for pieces in reader:\n",
    "        sample_identifiers.append(pieces[0])\n",
    "    \n",
    "    \n",
    "print(len(sample_identifiers), sample_identifiers[:10])\n",
    "print(len(header), header[:10])\n"
   ]
  },
  {
   "cell_type": "code",
   "execution_count": 9,
   "metadata": {},
   "outputs": [],
   "source": [
    "adir_features = [i for i, x in enumerate(header) if x.startswith('ADIR')]\n",
    "ados_features = [i for i, x in enumerate(header) if x.startswith('ADOS')]\n",
    "srs_features = [i for i, x in enumerate(header) if x.startswith('SRS')]"
   ]
  },
  {
   "cell_type": "code",
   "execution_count": 12,
   "metadata": {},
   "outputs": [
    {
     "data": {
      "image/png": "[encoded data removed]",
      "text/plain": [
       "<matplotlib.figure.Figure at 0x11dd48a58>"
      ]
     },
     "metadata": {},
     "output_type": "display_data"
    }
   ],
   "source": [
    "import matplotlib.pyplot as plt\n",
    "\n",
    "plt.figure(figsize=(15, 5))\n",
    "plt.subplot(1, 3, 1)\n",
    "plt.hist(np.sum(np.isnan(all_data[:, adir_features]), axis=1))\n",
    "plt.subplot(1, 3, 2)\n",
    "plt.hist(np.sum(np.isnan(all_data[:, ados_features]), axis=1))\n",
    "plt.subplot(1, 3, 3)\n",
    "plt.hist(np.sum(np.isnan(all_data[:, srs_features]), axis=1))\n",
    "plt.show()"
   ]
  },
  {
   "cell_type": "code",
   "execution_count": 13,
   "metadata": {},
   "outputs": [
    {
     "name": "stdout",
     "output_type": "stream",
     "text": [
      "(5661,) (4301,) (7001,)\n"
     ]
    }
   ],
   "source": [
    "missing_adir = np.where(np.sum(np.isnan(all_data[:, adir_features]), axis=1) == len(adir_features))[0]\n",
    "missing_ados = np.where(np.sum(np.isnan(all_data[:, ados_features]), axis=1) == len(ados_features))[0]\n",
    "missing_srs = np.where(np.sum(np.isnan(all_data[:, srs_features]), axis=1) == len(srs_features))[0]\n",
    "print(missing_adir.shape, missing_ados.shape, missing_srs.shape)"
   ]
  },
  {
   "cell_type": "code",
   "execution_count": 14,
   "metadata": {
    "collapsed": true
   },
   "outputs": [],
   "source": [
    "all_data[np.ix_(missing_adir, adir_features)] = Z4[np.ix_(missing_adir, adir_features)]\n",
    "all_data[np.ix_(missing_ados, ados_features)] = Z4[np.ix_(missing_ados, ados_features)]\n",
    "all_data[np.ix_(missing_srs, srs_features)] = Z4[np.ix_(missing_srs, srs_features)]"
   ]
  },
  {
   "cell_type": "code",
   "execution_count": 15,
   "metadata": {
    "collapsed": true
   },
   "outputs": [],
   "source": [
    "all_data[np.isnan(all_data)] = Z12[np.isnan(all_data)]"
   ]
  },
  {
   "cell_type": "code",
   "execution_count": 17,
   "metadata": {},
   "outputs": [
    {
     "name": "stdout",
     "output_type": "stream",
     "text": [
      "0\n"
     ]
    }
   ],
   "source": [
    "print(np.sum(np.isnan(all_data)))"
   ]
  },
  {
   "cell_type": "code",
   "execution_count": 25,
   "metadata": {},
   "outputs": [],
   "source": [
    "with open('../data/full_imputed_bvs_simplex_offset.txt', 'w+') as f:\n",
    "    f.write('Sample ID\\t%s\\n' % '\\t'.join(header))\n",
    "    for sample_id, values in zip(sample_identifiers, all_data):\n",
    "        f.write('%s\\t%s\\n' % (sample_id, '\\t'.join(['%d' % d for d in values])))"
   ]
  },
  {
   "cell_type": "code",
   "execution_count": null,
   "metadata": {
    "collapsed": true
   },
   "outputs": [],
   "source": []
  }
 ],
 "metadata": {
  "kernelspec": {
   "display_name": "Python 3",
   "language": "python",
   "name": "python3"
  },
  "language_info": {
   "codemirror_mode": {
    "name": "ipython",
    "version": 3
   },
   "file_extension": ".py",
   "mimetype": "text/x-python",
   "name": "python",
   "nbconvert_exporter": "python",
   "pygments_lexer": "ipython3",
   "version": "3.6.1"
  }
 },
 "nbformat": 4,
 "nbformat_minor": 2
}
