{
 "cells": [
  {
   "cell_type": "code",
   "execution_count": 100,
   "metadata": {},
   "outputs": [
    {
     "data": {
      "text/plain": [
       "(16291, 250)"
      ]
     },
     "execution_count": 100,
     "metadata": {},
     "output_type": "execute_result"
    }
   ],
   "source": [
    "using DataFrames\n",
    "\n",
    "# To run this notebook, you need to have a data file available.\n",
    "# You can either run the phenotype preprocessing scripts in ../preprocessing directory\n",
    "# Or scp -r username@sherlock.stanford.edu:/scratch/PI/dpwall/DATA/phenotypes/jsonschema ../data\n",
    "\n",
    "# Data\n",
    "df = readtable(\"../data/all_samples_filtered_train.csv\", header=false)\n",
    "\n",
    "m, n = size(df)"
   ]
  },
  {
   "cell_type": "code",
   "execution_count": 101,
   "metadata": {},
   "outputs": [
    {
     "data": {
      "text/plain": [
       "1873895"
      ]
     },
     "execution_count": 101,
     "metadata": {},
     "output_type": "execute_result"
    }
   ],
   "source": [
    "# Form sparse array\n",
    "all_data = sparse(Array(df))\n",
    "dropzeros!(all_data)\n",
    "p = size(nonzeros(all_data), 1)"
   ]
  },
  {
   "cell_type": "code",
   "execution_count": 102,
   "metadata": {},
   "outputs": [
    {
     "data": {
      "text/plain": [
       "186:250"
      ]
     },
     "execution_count": 102,
     "metadata": {},
     "output_type": "execute_result"
    }
   ],
   "source": [
    "adir_indices = 1:139\n",
    "ados_indices = 140:185\n",
    "srs_indices = 186:250"
   ]
  },
  {
   "cell_type": "code",
   "execution_count": 103,
   "metadata": {},
   "outputs": [],
   "source": [
    "using LowRankModels\n",
    "losses = Array{Loss}(n)\n",
    "for i=1:n\n",
    "    options = unique(all_data[:, i])\n",
    "    if length(options) == 3\n",
    "        losses[i] = HingeLoss()\n",
    "    else\n",
    "        losses[i] = OrdinalHingeLoss(-1, maximum(options))\n",
    "    end\n",
    "end"
   ]
  },
  {
   "cell_type": "code",
   "execution_count": 95,
   "metadata": {},
   "outputs": [
    {
     "data": {
      "text/plain": [
       "(4, -1)"
      ]
     },
     "execution_count": 95,
     "metadata": {},
     "output_type": "execute_result"
    }
   ],
   "source": [
    "maximum(all_data), minimum(all_data)"
   ]
  },
  {
   "cell_type": "code",
   "execution_count": 86,
   "metadata": {
    "collapsed": true
   },
   "outputs": [],
   "source": [
    "#Pkg.update(\"LowRankModels\")"
   ]
  },
  {
   "cell_type": "code",
   "execution_count": null,
   "metadata": {
    "scrolled": false
   },
   "outputs": [
    {
     "name": "stdout",
     "output_type": "stream",
     "text": [
      "LowRankModels.SparseProxGradParams(1.0, 500, 1, 1.0e-5, 0.01)\n",
      "Fitting GLRM\n"
     ]
    },
    {
     "name": "stderr",
     "output_type": "stream",
     "text": [
      "\u001b[1m\u001b[33mWARNING: \u001b[39m\u001b[22m\u001b[33mArray(::Type{T}, m::Int) where T is deprecated, use Array{T}(m) instead.\u001b[39m\n",
      "Stacktrace:\n",
      " [1] \u001b[1mdepwarn\u001b[22m\u001b[22m\u001b[1m(\u001b[22m\u001b[22m::String, ::Symbol\u001b[1m)\u001b[22m\u001b[22m at \u001b[1m./deprecated.jl:70\u001b[22m\u001b[22m\n",
      " [2] \u001b[1mArray\u001b[22m\u001b[22m\u001b[1m(\u001b[22m\u001b[22m::Type{Union{Int64, Range{Int64}}}, ::Int64\u001b[1m)\u001b[22m\u001b[22m at \u001b[1m./deprecated.jl:57\u001b[22m\u001b[22m\n",
      " [3] \u001b[1mget_yidxs\u001b[22m\u001b[22m\u001b[1m(\u001b[22m\u001b[22m::Array{LowRankModels.Loss,1}\u001b[1m)\u001b[22m\u001b[22m at \u001b[1m/Users/kelley/.julia/v0.6/LowRankModels/src/losses.jl:77\u001b[22m\u001b[22m\n",
      " [4] \u001b[1m(::LowRankModels.#kw##objective)\u001b[22m\u001b[22m\u001b[1m(\u001b[22m\u001b[22m::Array{Any,1}, ::LowRankModels.#objective, ::LowRankModels.GLRM, ::Array{Float64,2}, ::Array{Float64,2}\u001b[1m)\u001b[22m\u001b[22m at \u001b[1m./<missing>:0\u001b[22m\u001b[22m\n",
      " [5] \u001b[1m#objective#61\u001b[22m\u001b[22m at \u001b[1m/Users/kelley/.julia/v0.6/LowRankModels/src/evaluate_fit.jl:82\u001b[22m\u001b[22m [inlined]\n",
      " [6] \u001b[1m(::LowRankModels.#kw##objective)\u001b[22m\u001b[22m\u001b[1m(\u001b[22m\u001b[22m::Array{Any,1}, ::LowRankModels.#objective, ::LowRankModels.GLRM\u001b[1m)\u001b[22m\u001b[22m at \u001b[1m./<missing>:0\u001b[22m\u001b[22m\n",
      " [7] \u001b[1m#fit!#85\u001b[22m\u001b[22m\u001b[1m(\u001b[22m\u001b[22m::LowRankModels.ConvergenceHistory, ::Bool, ::Array{Any,1}, ::Function, ::LowRankModels.GLRM, ::LowRankModels.SparseProxGradParams\u001b[1m)\u001b[22m\u001b[22m at \u001b[1m/Users/kelley/.julia/v0.6/LowRankModels/src/algorithms/sparse_proxgrad.jl:50\u001b[22m\u001b[22m\n",
      " [8] \u001b[1m(::StatsBase.#kw##fit!)\u001b[22m\u001b[22m\u001b[1m(\u001b[22m\u001b[22m::Array{Any,1}, ::StatsBase.#fit!, ::LowRankModels.GLRM, ::LowRankModels.SparseProxGradParams\u001b[1m)\u001b[22m\u001b[22m at \u001b[1m./<missing>:0\u001b[22m\u001b[22m\n",
      " [9] \u001b[1minclude_string\u001b[22m\u001b[22m\u001b[1m(\u001b[22m\u001b[22m::String, ::String\u001b[1m)\u001b[22m\u001b[22m at \u001b[1m./loading.jl:522\u001b[22m\u001b[22m\n",
      " [10] \u001b[1minclude_string\u001b[22m\u001b[22m\u001b[1m(\u001b[22m\u001b[22m::Module, ::String, ::String\u001b[1m)\u001b[22m\u001b[22m at \u001b[1m/Users/kelley/.julia/v0.6/Compat/src/Compat.jl:174\u001b[22m\u001b[22m\n",
      " [11] \u001b[1mexecute_request\u001b[22m\u001b[22m\u001b[1m(\u001b[22m\u001b[22m::ZMQ.Socket, ::IJulia.Msg\u001b[1m)\u001b[22m\u001b[22m at \u001b[1m/Users/kelley/.julia/v0.6/IJulia/src/execute_request.jl:154\u001b[22m\u001b[22m\n",
      " [12] \u001b[1m(::Compat.#inner#16{Array{Any,1},IJulia.#execute_request,Tuple{ZMQ.Socket,IJulia.Msg}})\u001b[22m\u001b[22m\u001b[1m(\u001b[22m\u001b[22m\u001b[1m)\u001b[22m\u001b[22m at \u001b[1m/Users/kelley/.julia/v0.6/Compat/src/Compat.jl:496\u001b[22m\u001b[22m\n",
      " [13] \u001b[1meventloop\u001b[22m\u001b[22m\u001b[1m(\u001b[22m\u001b[22m::ZMQ.Socket\u001b[1m)\u001b[22m\u001b[22m at \u001b[1m/Users/kelley/.julia/v0.6/IJulia/src/eventloop.jl:8\u001b[22m\u001b[22m\n",
      " [14] \u001b[1m(::IJulia.##14#17)\u001b[22m\u001b[22m\u001b[1m(\u001b[22m\u001b[22m\u001b[1m)\u001b[22m\u001b[22m at \u001b[1m./task.jl:335\u001b[22m\u001b[22m\n",
      "while loading In[106], in expression starting on line 13\n",
      "\u001b[1m\u001b[33mWARNING: \u001b[39m\u001b[22m\u001b[33mArray(::Type{T}, d::NTuple{N, Int}) where {T, N} is deprecated, use Array{T}(d) instead.\u001b[39m\n",
      "Stacktrace:\n",
      " [1] \u001b[1mdepwarn\u001b[22m\u001b[22m\u001b[1m(\u001b[22m\u001b[22m::String, ::Symbol\u001b[1m)\u001b[22m\u001b[22m at \u001b[1m./deprecated.jl:70\u001b[22m\u001b[22m\n",
      " [2] \u001b[1mArray\u001b[22m\u001b[22m\u001b[1m(\u001b[22m\u001b[22m::Type{Float64}, ::Tuple{Int64,Int64}\u001b[1m)\u001b[22m\u001b[22m at \u001b[1m./deprecated.jl:57\u001b[22m\u001b[22m\n",
      " [3] \u001b[1m#objective#60\u001b[22m\u001b[22m\u001b[1m(\u001b[22m\u001b[22m::Bool, ::Bool, ::Array{Union{Int64, Range{Int64}},1}, ::Array{Any,1}, ::Function, ::LowRankModels.GLRM, ::Array{Float64,2}, ::Array{Float64,2}\u001b[1m)\u001b[22m\u001b[22m at \u001b[1m/Users/kelley/.julia/v0.6/LowRankModels/src/evaluate_fit.jl:61\u001b[22m\u001b[22m\n",
      " [4] \u001b[1m(::LowRankModels.#kw##objective)\u001b[22m\u001b[22m\u001b[1m(\u001b[22m\u001b[22m::Array{Any,1}, ::LowRankModels.#objective, ::LowRankModels.GLRM, ::Array{Float64,2}, ::Array{Float64,2}\u001b[1m)\u001b[22m\u001b[22m at \u001b[1m./<missing>:0\u001b[22m\u001b[22m\n",
      " [5] \u001b[1m#objective#61\u001b[22m\u001b[22m at \u001b[1m/Users/kelley/.julia/v0.6/LowRankModels/src/evaluate_fit.jl:82\u001b[22m\u001b[22m [inlined]\n",
      " [6] \u001b[1m(::LowRankModels.#kw##objective)\u001b[22m\u001b[22m\u001b[1m(\u001b[22m\u001b[22m::Array{Any,1}, ::LowRankModels.#objective, ::LowRankModels.GLRM\u001b[1m)\u001b[22m\u001b[22m at \u001b[1m./<missing>:0\u001b[22m\u001b[22m\n",
      " [7] \u001b[1m#fit!#85\u001b[22m\u001b[22m\u001b[1m(\u001b[22m\u001b[22m::LowRankModels.ConvergenceHistory, ::Bool, ::Array{Any,1}, ::Function, ::LowRankModels.GLRM, ::LowRankModels.SparseProxGradParams\u001b[1m)\u001b[22m\u001b[22m at \u001b[1m/Users/kelley/.julia/v0.6/LowRankModels/src/algorithms/sparse_proxgrad.jl:50\u001b[22m\u001b[22m\n",
      " [8] \u001b[1m(::StatsBase.#kw##fit!)\u001b[22m\u001b[22m\u001b[1m(\u001b[22m\u001b[22m::Array{Any,1}, ::StatsBase.#fit!, ::LowRankModels.GLRM, ::LowRankModels.SparseProxGradParams\u001b[1m)\u001b[22m\u001b[22m at \u001b[1m./<missing>:0\u001b[22m\u001b[22m\n",
      " [9] \u001b[1minclude_string\u001b[22m\u001b[22m\u001b[1m(\u001b[22m\u001b[22m::String, ::String\u001b[1m)\u001b[22m\u001b[22m at \u001b[1m./loading.jl:522\u001b[22m\u001b[22m\n",
      " [10] \u001b[1minclude_string\u001b[22m\u001b[22m\u001b[1m(\u001b[22m\u001b[22m::Module, ::String, ::String\u001b[1m)\u001b[22m\u001b[22m at \u001b[1m/Users/kelley/.julia/v0.6/Compat/src/Compat.jl:174\u001b[22m\u001b[22m\n",
      " [11] \u001b[1mexecute_request\u001b[22m\u001b[22m\u001b[1m(\u001b[22m\u001b[22m::ZMQ.Socket, ::IJulia.Msg\u001b[1m)\u001b[22m\u001b[22m at \u001b[1m/Users/kelley/.julia/v0.6/IJulia/src/execute_request.jl:154\u001b[22m\u001b[22m\n",
      " [12] \u001b[1m(::Compat.#inner#16{Array{Any,1},IJulia.#execute_request,Tuple{ZMQ.Socket,IJulia.Msg}})\u001b[22m\u001b[22m\u001b[1m(\u001b[22m\u001b[22m\u001b[1m)\u001b[22m\u001b[22m at \u001b[1m/Users/kelley/.julia/v0.6/Compat/src/Compat.jl:496\u001b[22m\u001b[22m\n",
      " [13] \u001b[1meventloop\u001b[22m\u001b[22m\u001b[1m(\u001b[22m\u001b[22m::ZMQ.Socket\u001b[1m)\u001b[22m\u001b[22m at \u001b[1m/Users/kelley/.julia/v0.6/IJulia/src/eventloop.jl:8\u001b[22m\u001b[22m\n",
      " [14] \u001b[1m(::IJulia.##14#17)\u001b[22m\u001b[22m\u001b[1m(\u001b[22m\u001b[22m\u001b[1m)\u001b[22m\u001b[22m at \u001b[1m./task.jl:335\u001b[22m\u001b[22m\n",
      "while loading In[106], in expression starting on line 13\n",
      "\u001b[1m\u001b[33mWARNING: \u001b[39m\u001b[22m\u001b[33msumabs(x) is deprecated, use sum(abs, x) instead.\u001b[39m\n",
      "Stacktrace:\n",
      " [1] \u001b[1mdepwarn\u001b[22m\u001b[22m\u001b[1m(\u001b[22m\u001b[22m::String, ::Symbol\u001b[1m)\u001b[22m\u001b[22m at \u001b[1m./deprecated.jl:70\u001b[22m\u001b[22m\n",
      " [2] \u001b[1msumabs\u001b[22m\u001b[22m\u001b[1m(\u001b[22m\u001b[22m::ArrayViews.ContiguousView{Float64,1,Array{Float64,2}}\u001b[1m)\u001b[22m\u001b[22m at \u001b[1m./deprecated.jl:57\u001b[22m\u001b[22m\n",
      " [3] \u001b[1mevaluate\u001b[22m\u001b[22m\u001b[1m(\u001b[22m\u001b[22m::LowRankModels.OneReg, ::ArrayViews.ContiguousView{Float64,1,Array{Float64,2}}\u001b[1m)\u001b[22m\u001b[22m at \u001b[1m/Users/kelley/.julia/v0.6/LowRankModels/src/regularizers.jl:87\u001b[22m\u001b[22m\n",
      " [4] \u001b[1m#calc_penalty#62\u001b[22m\u001b[22m\u001b[1m(\u001b[22m\u001b[22m::Array{Union{Int64, Range{Int64}},1}, ::Function, ::LowRankModels.GLRM, ::Array{Float64,2}, ::Array{Float64,2}\u001b[1m)\u001b[22m\u001b[22m at \u001b[1m/Users/kelley/.julia/v0.6/LowRankModels/src/evaluate_fit.jl:97\u001b[22m\u001b[22m\n",
      " [5] \u001b[1m(::LowRankModels.#kw##calc_penalty)\u001b[22m\u001b[22m\u001b[1m(\u001b[22m\u001b[22m::Array{Any,1}, ::LowRankModels.#calc_penalty, ::LowRankModels.GLRM, ::Array{Float64,2}, ::Array{Float64,2}\u001b[1m)\u001b[22m\u001b[22m at \u001b[1m./<missing>:0\u001b[22m\u001b[22m\n",
      " [6] \u001b[1m#objective#60\u001b[22m\u001b[22m\u001b[1m(\u001b[22m\u001b[22m::Bool, ::Bool, ::Array{Union{Int64, Range{Int64}},1}, ::Array{Any,1}, ::Function, ::LowRankModels.GLRM, ::Array{Float64,2}, ::Array{Float64,2}\u001b[1m)\u001b[22m\u001b[22m at \u001b[1m/Users/kelley/.julia/v0.6/LowRankModels/src/evaluate_fit.jl:72\u001b[22m\u001b[22m\n",
      " [7] \u001b[1m(::LowRankModels.#kw##objective)\u001b[22m\u001b[22m\u001b[1m(\u001b[22m\u001b[22m::Array{Any,1}, ::LowRankModels.#objective, ::LowRankModels.GLRM, ::Array{Float64,2}, ::Array{Float64,2}\u001b[1m)\u001b[22m\u001b[22m at \u001b[1m./<missing>:0\u001b[22m\u001b[22m\n",
      " [8] \u001b[1m#objective#61\u001b[22m\u001b[22m at \u001b[1m/Users/kelley/.julia/v0.6/LowRankModels/src/evaluate_fit.jl:82\u001b[22m\u001b[22m [inlined]\n",
      " [9] \u001b[1m(::LowRankModels.#kw##objective)\u001b[22m\u001b[22m\u001b[1m(\u001b[22m\u001b[22m::Array{Any,1}, ::LowRankModels.#objective, ::LowRankModels.GLRM\u001b[1m)\u001b[22m\u001b[22m at \u001b[1m./<missing>:0\u001b[22m\u001b[22m\n",
      " [10] \u001b[1m#fit!#85\u001b[22m\u001b[22m\u001b[1m(\u001b[22m\u001b[22m::LowRankModels.ConvergenceHistory, ::Bool, ::Array{Any,1}, ::Function, ::LowRankModels.GLRM, ::LowRankModels.SparseProxGradParams\u001b[1m)\u001b[22m\u001b[22m at \u001b[1m/Users/kelley/.julia/v0.6/LowRankModels/src/algorithms/sparse_proxgrad.jl:50\u001b[22m\u001b[22m\n",
      " [11] \u001b[1m(::StatsBase.#kw##fit!)\u001b[22m\u001b[22m\u001b[1m(\u001b[22m\u001b[22m::Array{Any,1}, ::StatsBase.#fit!, ::LowRankModels.GLRM, ::LowRankModels.SparseProxGradParams\u001b[1m)\u001b[22m\u001b[22m at \u001b[1m./<missing>:0\u001b[22m\u001b[22m\n",
      " [12] \u001b[1minclude_string\u001b[22m\u001b[22m\u001b[1m(\u001b[22m\u001b[22m::String, ::String\u001b[1m)\u001b[22m\u001b[22m at \u001b[1m./loading.jl:522\u001b[22m\u001b[22m\n",
      " [13] \u001b[1minclude_string\u001b[22m\u001b[22m\u001b[1m(\u001b[22m\u001b[22m::Module, ::String, ::String\u001b[1m)\u001b[22m\u001b[22m at \u001b[1m/Users/kelley/.julia/v0.6/Compat/src/Compat.jl:174\u001b[22m\u001b[22m\n",
      " [14] \u001b[1mexecute_request\u001b[22m\u001b[22m\u001b[1m(\u001b[22m\u001b[22m::ZMQ.Socket, ::IJulia.Msg\u001b[1m)\u001b[22m\u001b[22m at \u001b[1m/Users/kelley/.julia/v0.6/IJulia/src/execute_request.jl:154\u001b[22m\u001b[22m\n",
      " [15] \u001b[1m(::Compat.#inner#16{Array{Any,1},IJulia.#execute_request,Tuple{ZMQ.Socket,IJulia.Msg}})\u001b[22m\u001b[22m\u001b[1m(\u001b[22m\u001b[22m\u001b[1m)\u001b[22m\u001b[22m at \u001b[1m/Users/kelley/.julia/v0.6/Compat/src/Compat.jl:496\u001b[22m\u001b[22m\n",
      " [16] \u001b[1meventloop\u001b[22m\u001b[22m\u001b[1m(\u001b[22m\u001b[22m::ZMQ.Socket\u001b[1m)\u001b[22m\u001b[22m at \u001b[1m/Users/kelley/.julia/v0.6/IJulia/src/eventloop.jl:8\u001b[22m\u001b[22m\n",
      " [17] \u001b[1m(::IJulia.##14#17)\u001b[22m\u001b[22m\u001b[1m(\u001b[22m\u001b[22m\u001b[1m)\u001b[22m\u001b[22m at \u001b[1m./task.jl:335\u001b[22m\u001b[22m\n",
      "while loading In[106], in expression starting on line 13\n"
     ]
    },
    {
     "name": "stderr",
     "output_type": "stream",
     "text": [
      "\u001b[1m\u001b[33mWARNING: \u001b[39m\u001b[22m\u001b[33msumabs2(x) is deprecated, use sum(abs2, x) instead.\u001b[39m\n",
      "Stacktrace:\n",
      " [1] \u001b[1mdepwarn\u001b[22m\u001b[22m\u001b[1m(\u001b[22m\u001b[22m::String, ::Symbol\u001b[1m)\u001b[22m\u001b[22m at \u001b[1m./deprecated.jl:70\u001b[22m\u001b[22m\n",
      " [2] \u001b[1msumabs2\u001b[22m\u001b[22m\u001b[1m(\u001b[22m\u001b[22m::ArrayViews.ContiguousView{Float64,1,Array{Float64,2}}\u001b[1m)\u001b[22m\u001b[22m at \u001b[1m./deprecated.jl:57\u001b[22m\u001b[22m\n",
      " [3] \u001b[1mevaluate\u001b[22m\u001b[22m\u001b[1m(\u001b[22m\u001b[22m::LowRankModels.QuadReg, ::ArrayViews.ContiguousView{Float64,1,Array{Float64,2}}\u001b[1m)\u001b[22m\u001b[22m at \u001b[1m/Users/kelley/.julia/v0.6/LowRankModels/src/regularizers.jl:57\u001b[22m\u001b[22m\n",
      " [4] \u001b[1m#calc_penalty#62\u001b[22m\u001b[22m\u001b[1m(\u001b[22m\u001b[22m::Array{Union{Int64, Range{Int64}},1}, ::Function, ::LowRankModels.GLRM, ::Array{Float64,2}, ::Array{Float64,2}\u001b[1m)\u001b[22m\u001b[22m at \u001b[1m/Users/kelley/.julia/v0.6/LowRankModels/src/evaluate_fit.jl:100\u001b[22m\u001b[22m\n",
      " [5] \u001b[1m(::LowRankModels.#kw##calc_penalty)\u001b[22m\u001b[22m\u001b[1m(\u001b[22m\u001b[22m::Array{Any,1}, ::LowRankModels.#calc_penalty, ::LowRankModels.GLRM, ::Array{Float64,2}, ::Array{Float64,2}\u001b[1m)\u001b[22m\u001b[22m at \u001b[1m./<missing>:0\u001b[22m\u001b[22m\n",
      " [6] \u001b[1m#objective#60\u001b[22m\u001b[22m\u001b[1m(\u001b[22m\u001b[22m::Bool, ::Bool, ::Array{Union{Int64, Range{Int64}},1}, ::Array{Any,1}, ::Function, ::LowRankModels.GLRM, ::Array{Float64,2}, ::Array{Float64,2}\u001b[1m)\u001b[22m\u001b[22m at \u001b[1m/Users/kelley/.julia/v0.6/LowRankModels/src/evaluate_fit.jl:72\u001b[22m\u001b[22m\n",
      " [7] \u001b[1m(::LowRankModels.#kw##objective)\u001b[22m\u001b[22m\u001b[1m(\u001b[22m\u001b[22m::Array{Any,1}, ::LowRankModels.#objective, ::LowRankModels.GLRM, ::Array{Float64,2}, ::Array{Float64,2}\u001b[1m)\u001b[22m\u001b[22m at \u001b[1m./<missing>:0\u001b[22m\u001b[22m\n",
      " [8] \u001b[1m#objective#61\u001b[22m\u001b[22m at \u001b[1m/Users/kelley/.julia/v0.6/LowRankModels/src/evaluate_fit.jl:82\u001b[22m\u001b[22m [inlined]\n",
      " [9] \u001b[1m(::LowRankModels.#kw##objective)\u001b[22m\u001b[22m\u001b[1m(\u001b[22m\u001b[22m::Array{Any,1}, ::LowRankModels.#objective, ::LowRankModels.GLRM\u001b[1m)\u001b[22m\u001b[22m at \u001b[1m./<missing>:0\u001b[22m\u001b[22m\n",
      " [10] \u001b[1m#fit!#85\u001b[22m\u001b[22m\u001b[1m(\u001b[22m\u001b[22m::LowRankModels.ConvergenceHistory, ::Bool, ::Array{Any,1}, ::Function, ::LowRankModels.GLRM, ::LowRankModels.SparseProxGradParams\u001b[1m)\u001b[22m\u001b[22m at \u001b[1m/Users/kelley/.julia/v0.6/LowRankModels/src/algorithms/sparse_proxgrad.jl:50\u001b[22m\u001b[22m\n",
      " [11] \u001b[1m(::StatsBase.#kw##fit!)\u001b[22m\u001b[22m\u001b[1m(\u001b[22m\u001b[22m::Array{Any,1}, ::StatsBase.#fit!, ::LowRankModels.GLRM, ::LowRankModels.SparseProxGradParams\u001b[1m)\u001b[22m\u001b[22m at \u001b[1m./<missing>:0\u001b[22m\u001b[22m\n",
      " [12] \u001b[1minclude_string\u001b[22m\u001b[22m\u001b[1m(\u001b[22m\u001b[22m::String, ::String\u001b[1m)\u001b[22m\u001b[22m at \u001b[1m./loading.jl:522\u001b[22m\u001b[22m\n",
      " [13] \u001b[1minclude_string\u001b[22m\u001b[22m\u001b[1m(\u001b[22m\u001b[22m::Module, ::String, ::String\u001b[1m)\u001b[22m\u001b[22m at \u001b[1m/Users/kelley/.julia/v0.6/Compat/src/Compat.jl:174\u001b[22m\u001b[22m\n",
      " [14] \u001b[1mexecute_request\u001b[22m\u001b[22m\u001b[1m(\u001b[22m\u001b[22m::ZMQ.Socket, ::IJulia.Msg\u001b[1m)\u001b[22m\u001b[22m at \u001b[1m/Users/kelley/.julia/v0.6/IJulia/src/execute_request.jl:154\u001b[22m\u001b[22m\n",
      " [15] \u001b[1m(::Compat.#inner#16{Array{Any,1},IJulia.#execute_request,Tuple{ZMQ.Socket,IJulia.Msg}})\u001b[22m\u001b[22m\u001b[1m(\u001b[22m\u001b[22m\u001b[1m)\u001b[22m\u001b[22m at \u001b[1m/Users/kelley/.julia/v0.6/Compat/src/Compat.jl:496\u001b[22m\u001b[22m\n",
      " [16] \u001b[1meventloop\u001b[22m\u001b[22m\u001b[1m(\u001b[22m\u001b[22m::ZMQ.Socket\u001b[1m)\u001b[22m\u001b[22m at \u001b[1m/Users/kelley/.julia/v0.6/IJulia/src/eventloop.jl:8\u001b[22m\u001b[22m\n",
      " [17] \u001b[1m(::IJulia.##14#17)\u001b[22m\u001b[22m\u001b[1m(\u001b[22m\u001b[22m\u001b[1m)\u001b[22m\u001b[22m at \u001b[1m./task.jl:335\u001b[22m\u001b[22m\n",
      "while loading In[106], in expression starting on line 13\n",
      "\u001b[1m\u001b[33mWARNING: \u001b[39m\u001b[22m\u001b[33mmap!(f::F, A::AbstractArray) where F is deprecated, use map!(f, A, A) instead.\u001b[39m\n",
      "Stacktrace:\n",
      " [1] \u001b[1mdepwarn\u001b[22m\u001b[22m\u001b[1m(\u001b[22m\u001b[22m::String, ::Symbol\u001b[1m)\u001b[22m\u001b[22m at \u001b[1m./deprecated.jl:70\u001b[22m\u001b[22m\n",
      " [2] \u001b[1mmap!\u001b[22m\u001b[22m\u001b[1m(\u001b[22m\u001b[22m::LowRankModels.##41#42{Float64}, ::ArrayViews.ContiguousView{Float64,1,Array{Float64,2}}\u001b[1m)\u001b[22m\u001b[22m at \u001b[1m./deprecated.jl:57\u001b[22m\u001b[22m\n",
      " [3] \u001b[1mprox!\u001b[22m\u001b[22m\u001b[1m(\u001b[22m\u001b[22m::LowRankModels.OneReg, ::ArrayViews.ContiguousView{Float64,1,Array{Float64,2}}, ::Float64\u001b[1m)\u001b[22m\u001b[22m at \u001b[1m/Users/kelley/.julia/v0.6/LowRankModels/src/regularizers.jl:85\u001b[22m\u001b[22m\n",
      " [4] \u001b[1m#fit!#85\u001b[22m\u001b[22m\u001b[1m(\u001b[22m\u001b[22m::LowRankModels.ConvergenceHistory, ::Bool, ::Array{Any,1}, ::Function, ::LowRankModels.GLRM, ::LowRankModels.SparseProxGradParams\u001b[1m)\u001b[22m\u001b[22m at \u001b[1m/Users/kelley/.julia/v0.6/LowRankModels/src/algorithms/sparse_proxgrad.jl:78\u001b[22m\u001b[22m\n",
      " [5] \u001b[1m(::StatsBase.#kw##fit!)\u001b[22m\u001b[22m\u001b[1m(\u001b[22m\u001b[22m::Array{Any,1}, ::StatsBase.#fit!, ::LowRankModels.GLRM, ::LowRankModels.SparseProxGradParams\u001b[1m)\u001b[22m\u001b[22m at \u001b[1m./<missing>:0\u001b[22m\u001b[22m\n",
      " [6] \u001b[1minclude_string\u001b[22m\u001b[22m\u001b[1m(\u001b[22m\u001b[22m::String, ::String\u001b[1m)\u001b[22m\u001b[22m at \u001b[1m./loading.jl:522\u001b[22m\u001b[22m\n",
      " [7] \u001b[1minclude_string\u001b[22m\u001b[22m\u001b[1m(\u001b[22m\u001b[22m::Module, ::String, ::String\u001b[1m)\u001b[22m\u001b[22m at \u001b[1m/Users/kelley/.julia/v0.6/Compat/src/Compat.jl:174\u001b[22m\u001b[22m\n",
      " [8] \u001b[1mexecute_request\u001b[22m\u001b[22m\u001b[1m(\u001b[22m\u001b[22m::ZMQ.Socket, ::IJulia.Msg\u001b[1m)\u001b[22m\u001b[22m at \u001b[1m/Users/kelley/.julia/v0.6/IJulia/src/execute_request.jl:154\u001b[22m\u001b[22m\n",
      " [9] \u001b[1m(::Compat.#inner#16{Array{Any,1},IJulia.#execute_request,Tuple{ZMQ.Socket,IJulia.Msg}})\u001b[22m\u001b[22m\u001b[1m(\u001b[22m\u001b[22m\u001b[1m)\u001b[22m\u001b[22m at \u001b[1m/Users/kelley/.julia/v0.6/Compat/src/Compat.jl:496\u001b[22m\u001b[22m\n",
      " [10] \u001b[1meventloop\u001b[22m\u001b[22m\u001b[1m(\u001b[22m\u001b[22m::ZMQ.Socket\u001b[1m)\u001b[22m\u001b[22m at \u001b[1m/Users/kelley/.julia/v0.6/IJulia/src/eventloop.jl:8\u001b[22m\u001b[22m\n",
      " [11] \u001b[1m(::IJulia.##14#17)\u001b[22m\u001b[22m\u001b[1m(\u001b[22m\u001b[22m\u001b[1m)\u001b[22m\u001b[22m at \u001b[1m./task.jl:335\u001b[22m\u001b[22m\n",
      "while loading In[106], in expression starting on line 13\n"
     ]
    },
    {
     "name": "stdout",
     "output_type": "stream",
     "text": [
      "obj went up to 2.1217373190101967e6; reducing step size to 0.8508543750000003\n",
      "Iteration 10: objective value = 1.8985780319383182e6\n",
      "obj went up to 1.8419791491014797e6; reducing step size to 0.8380662854769941\n",
      "obj went up to 1.7521798382461036e6; reducing step size to 0.6791165386077139\n",
      "Iteration 20: objective value = 1.7474334150222358e6\n",
      "obj went up to 1.7108947598840625e6; reducing step size to 0.5503135981040285\n",
      "Iteration 30: objective value = 1.6878036199240435e6\n",
      "obj went up to 1.6879922686605186e6; reducing step size to 0.4916485691972446\n",
      "obj went up to 1.671422794252496e6; reducing step size to 0.43923740286716423\n",
      "Iteration 40: objective value = 1.6628814182514285e6\n",
      "obj went up to 1.6580480064635242e6; reducing step size to 0.35593053894587073\n",
      "Iteration 50: objective value = 1.6496687012828153e6\n",
      "obj went up to 1.6495939764063163e6; reducing step size to 0.35058100825090116\n",
      "obj went up to 1.6410964863384028e6; reducing step size to 0.2840889377735147\n",
      "Iteration 60: objective value = 1.6375726384943523e6\n",
      "obj went up to 1.6358009557216004e6; reducing step size to 0.25380423137338265\n",
      "Iteration 70: objective value = 1.6315201080452413e6\n",
      "obj went up to 1.6306080529431188e6; reducing step size to 0.24998962886620205\n",
      "Iteration 80: objective value = 1.6259969412606182e6\n",
      "obj went up to 1.6260474689695833e6; reducing step size to 0.22334000789670608\n",
      "obj went up to 1.622491384745088e6; reducing step size to 0.1995313139730193\n",
      "Iteration 90: objective value = 1.620410795644897e6\n",
      "obj went up to 1.6190047016621116e6; reducing step size to 0.21667699013632924\n"
     ]
    }
   ],
   "source": [
    "using LowRankModels\n",
    "\n",
    "k=10\n",
    "\n",
    "#losses = LogisticLoss()\n",
    "#losses = QuadLoss()\n",
    "#losses = OrdinalHingeLoss(4)\n",
    "rx = OneReg()\n",
    "ry = QuadReg()\n",
    "\n",
    "glrm = GLRM(all_data, losses, rx, ry, k);\n",
    "\n",
    "X,Y,ch = fit!(glrm, SparseProxGradParams(max_iter=500), verbose=true); # fit GLRM"
   ]
  },
  {
   "cell_type": "code",
   "execution_count": 9,
   "metadata": {},
   "outputs": [
    {
     "name": "stdout",
     "output_type": "stream",
     "text": [
      "0.5017569337292377, 0.9156282820948355\n",
      "0.5484085794332431, 0.9583199375373168\n",
      "0.4446864007274642, 0.9072004594510518\n",
      "0.2816790692799497, 0.7910072319463368\n"
     ]
    },
    {
     "ename": "LoadError",
     "evalue": "\u001b[91mBoundsError: attempt to access 4×4 Array{Int64,2} at index [-1, 1]\u001b[39m",
     "output_type": "error",
     "traceback": [
      "\u001b[91mBoundsError: attempt to access 4×4 Array{Int64,2} at index [-1, 1]\u001b[39m",
      "",
      "Stacktrace:",
      " [1] \u001b[1mconfusmat\u001b[22m\u001b[22m\u001b[1m(\u001b[22m\u001b[22m::Int64, ::Array{Int64,1}, ::Array{Int64,1}\u001b[1m)\u001b[22m\u001b[22m at \u001b[1m/Users/kelley/.julia/v0.6/MLBase/src/perfeval.jl:17\u001b[22m\u001b[22m",
      " [2] \u001b[1minclude_string\u001b[22m\u001b[22m\u001b[1m(\u001b[22m\u001b[22m::String, ::String\u001b[1m)\u001b[22m\u001b[22m at \u001b[1m./loading.jl:522\u001b[22m\u001b[22m"
     ]
    }
   ],
   "source": [
    "using MLBase\n",
    "\n",
    "approx = X.'*Y\n",
    "i_values = approx[validate_data .!= 0]\n",
    "a_values = validate_data[validate_data .!= 0]\n",
    "diff = i_values - a_values\n",
    "println(sum((abs.(diff) .< 0.5) .& (a_values .== 1))/sum(a_values .== 1), \", \", sum((abs.(diff) .< 1.5) .& (a_values .== 1))/sum(a_values .== 1))\n",
    "println(sum((abs.(diff) .< 0.5) .& (a_values .== 2))/sum(a_values .== 2), \", \", sum((abs.(diff) .< 1.5) .& (a_values .== 2))/sum(a_values .== 2))\n",
    "println(sum((abs.(diff) .< 0.5) .& (a_values .== 3))/sum(a_values .== 3), \", \", sum((abs.(diff) .< 1.5) .& (a_values .== 3))/sum(a_values .== 3))\n",
    "println(sum((abs.(diff) .< 0.5) .& (a_values .== 4))/sum(a_values .== 4), \", \", sum((abs.(diff) .< 1.5) .& (a_values .== 4))/sum(a_values .== 4))\n",
    "\n",
    "i_round_values = convert(Array{Int64,1}, round.(i_values))\n",
    "i_round_values[i_round_values .< 1] = 1\n",
    "i_round_values[i_round_values .> 4] = 4\n",
    "confusmat(4, Array(a_values), i_round_values)"
   ]
  },
  {
   "cell_type": "code",
   "execution_count": 82,
   "metadata": {},
   "outputs": [
    {
     "data": {
      "text/plain": [
       "0.6525435891102551"
      ]
     },
     "execution_count": 82,
     "metadata": {},
     "output_type": "execute_result"
    }
   ],
   "source": [
    "sum(abs.(diff)/size(diff, 1))"
   ]
  },
  {
   "cell_type": "code",
   "execution_count": 47,
   "metadata": {},
   "outputs": [
    {
     "data": {
      "text/plain": [
       "2-element Array{Any,1}:\n",
       " [-1.50386 0.857081 … -0.460383 1.00828; 2.32273 -0.900101 … 0.431367 -1.1117; … ; 2.07582 -0.188546 … 0.0321098 0.235293; 3.11935 0.552052 … 2.05196 1.9257]\n",
       " [-1.50386 0.857081 … -0.460383 1.00828; 2.32273 -0.900101 … 0.431367 -1.1117; … ; 2.07582 -0.188546 … 0.0321098 0.235293; 3.11935 0.552052 … 2.05196 1.9257]"
      ]
     },
     "execution_count": 47,
     "metadata": {},
     "output_type": "execute_result"
    }
   ],
   "source": [
    "\n",
    "push!(Xs, X)\n",
    "push!(Ys, Y)"
   ]
  },
  {
   "cell_type": "code",
   "execution_count": 25,
   "metadata": {},
   "outputs": [
    {
     "data": {
      "text/plain": [
       "roc (generic function with 1 method)"
      ]
     },
     "execution_count": 25,
     "metadata": {},
     "output_type": "execute_result"
    }
   ],
   "source": [
    "function roc(i, true_data, column_indices)\n",
    "    approx = Xs[i].'*Ys[i]\n",
    "    i_values = approx[:, column_indices][true_data[:, column_indices] .!= 0]\n",
    "    a_values = true_data[:, column_indices][true_data[:, column_indices] .!= 0]\n",
    "    \n",
    "    roc_values = sort(collect(filter(x -> (x[2] != 0 && x[1] != 0), zip(i_values, a_values))))\n",
    "    tp = sum(map(x -> x[2] > 0, roc_values))\n",
    "    fp = sum(map(x -> x[2] < 0, roc_values))\n",
    "    tn = 0\n",
    "    fn = 0\n",
    "    sensitivity = Array(Float64, 0)\n",
    "    specificity = Array(Float64, 0)\n",
    "    cutoffs = Array(Float64, 0)\n",
    "    push!(sensitivity, 1)\n",
    "    push!(specificity, 0)\n",
    "    push!(cutoffs, 0)\n",
    "    for v=roc_values\n",
    "        if v[2] > 0 \n",
    "            tp -=1\n",
    "            fn += 1\n",
    "        elseif v[2] < 0\n",
    "            fp -= 1\n",
    "            tn += 1\n",
    "        end\n",
    "        if (abs(tp/(tp+fn) - sensitivity[end]) > .01) || (abs(tn/(tn+fp) - specificity[end]) > .01)\n",
    "            push!(sensitivity, tp/(tp+fn))\n",
    "            push!(specificity, tn/(tn+fp))\n",
    "            push!(cutoffs, v[1])\n",
    "        end\n",
    "    end\n",
    "    push!(sensitivity, 0)\n",
    "    push!(specificity, 1)\n",
    "    return sensitivity, specificity, cutoffs\n",
    "end"
   ]
  },
  {
   "cell_type": "code",
   "execution_count": 26,
   "metadata": {},
   "outputs": [
    {
     "name": "stderr",
     "output_type": "stream",
     "text": [
      "\u001b[1m\u001b[33mWARNING: \u001b[39m\u001b[22m\u001b[33mfilter(flt, itr) is deprecated, use Iterators.filter(flt, itr) instead.\u001b[39m\n",
      "Stacktrace:\n",
      " [1] \u001b[1mdepwarn\u001b[22m\u001b[22m\u001b[1m(\u001b[22m\u001b[22m::String, ::Symbol\u001b[1m)\u001b[22m\u001b[22m at \u001b[1m./deprecated.jl:70\u001b[22m\u001b[22m\n",
      " [2] \u001b[1mfilter\u001b[22m\u001b[22m\u001b[1m(\u001b[22m\u001b[22m::Function, ::Base.Iterators.Zip2{Array{Float64,1},SparseVector{Int64,Int64}}\u001b[1m)\u001b[22m\u001b[22m at \u001b[1m./deprecated.jl:57\u001b[22m\u001b[22m\n",
      " [3] \u001b[1mbaseline\u001b[22m\u001b[22m\u001b[1m(\u001b[22m\u001b[22m::UnitRange{Int64}\u001b[1m)\u001b[22m\u001b[22m at \u001b[1m./In[26]:8\u001b[22m\u001b[22m\n",
      " [4] \u001b[1minclude_string\u001b[22m\u001b[22m\u001b[1m(\u001b[22m\u001b[22m::String, ::String\u001b[1m)\u001b[22m\u001b[22m at \u001b[1m./loading.jl:522\u001b[22m\u001b[22m\n",
      " [5] \u001b[1minclude_string\u001b[22m\u001b[22m\u001b[1m(\u001b[22m\u001b[22m::Module, ::String, ::String\u001b[1m)\u001b[22m\u001b[22m at \u001b[1m/Users/kelley/.julia/v0.6/Compat/src/Compat.jl:174\u001b[22m\u001b[22m\n",
      " [6] \u001b[1mexecute_request\u001b[22m\u001b[22m\u001b[1m(\u001b[22m\u001b[22m::ZMQ.Socket, ::IJulia.Msg\u001b[1m)\u001b[22m\u001b[22m at \u001b[1m/Users/kelley/.julia/v0.6/IJulia/src/execute_request.jl:154\u001b[22m\u001b[22m\n",
      " [7] \u001b[1m(::Compat.#inner#16{Array{Any,1},IJulia.#execute_request,Tuple{ZMQ.Socket,IJulia.Msg}})\u001b[22m\u001b[22m\u001b[1m(\u001b[22m\u001b[22m\u001b[1m)\u001b[22m\u001b[22m at \u001b[1m/Users/kelley/.julia/v0.6/Compat/src/Compat.jl:496\u001b[22m\u001b[22m\n",
      " [8] \u001b[1meventloop\u001b[22m\u001b[22m\u001b[1m(\u001b[22m\u001b[22m::ZMQ.Socket\u001b[1m)\u001b[22m\u001b[22m at \u001b[1m/Users/kelley/.julia/v0.6/IJulia/src/eventloop.jl:8\u001b[22m\u001b[22m\n",
      " [9] \u001b[1m(::IJulia.##14#17)\u001b[22m\u001b[22m\u001b[1m(\u001b[22m\u001b[22m\u001b[1m)\u001b[22m\u001b[22m at \u001b[1m./task.jl:335\u001b[22m\u001b[22m\n",
      "while loading In[26], in expression starting on line 18\n"
     ]
    },
    {
     "data": {
      "text/plain": [
       "(0.8265536451829796, 0.6323601464103524)"
      ]
     },
     "execution_count": 26,
     "metadata": {},
     "output_type": "execute_result"
    }
   ],
   "source": [
    "# Baseline\n",
    "baseline_impute = ones(m, 1)*sum(train_data, 1)\n",
    "\n",
    "function baseline(column_indices)\n",
    "    i_values = baseline_impute[:, column_indices][validate_data[:, column_indices] .!= 0]\n",
    "    a_values = validate_data[:, column_indices][validate_data[:, column_indices] .!= 0]\n",
    "  \n",
    "    roc_values = sort(collect(filter(x -> (x[2] != 0 && x[1] != 0), zip(i_values, a_values))))\n",
    "    tp = sum(map(x -> (x[1] > 0 && x[2] > 0), roc_values))\n",
    "    fp = sum(map(x -> (x[1] > 0 && x[2] < 0), roc_values))\n",
    "    tn = sum(map(x -> (x[1] < 0 && x[2] < 0), roc_values))\n",
    "    fn = sum(map(x -> (x[1] < 0 && x[2] > 0), roc_values))\n",
    "\n",
    "    baseline_sensitivity = tp/(tp+fn)\n",
    "    baseline_specificity = tn/(tn+fp)\n",
    "    return baseline_sensitivity, baseline_specificity\n",
    "end\n",
    "baseline_sensitivity, baseline_specificity = baseline(1:n)"
   ]
  },
  {
   "cell_type": "code",
   "execution_count": 48,
   "metadata": {},
   "outputs": [
    {
     "name": "stderr",
     "output_type": "stream",
     "text": [
      "\u001b[1m\u001b[33mWARNING: \u001b[39m\u001b[22m\u001b[33mfilter(flt, itr) is deprecated, use Iterators.filter(flt, itr) instead.\u001b[39m\n",
      "Stacktrace:\n",
      " [1] \u001b[1mdepwarn\u001b[22m\u001b[22m\u001b[1m(\u001b[22m\u001b[22m::String, ::Symbol\u001b[1m)\u001b[22m\u001b[22m at \u001b[1m./deprecated.jl:70\u001b[22m\u001b[22m\n",
      " [2] \u001b[1mfilter\u001b[22m\u001b[22m\u001b[1m(\u001b[22m\u001b[22m::Function, ::Base.Iterators.Zip2{Array{Float64,1},SparseVector{Int64,Int64}}\u001b[1m)\u001b[22m\u001b[22m at \u001b[1m./deprecated.jl:57\u001b[22m\u001b[22m\n",
      " [3] \u001b[1mroc\u001b[22m\u001b[22m\u001b[1m(\u001b[22m\u001b[22m::Int64, ::SparseMatrixCSC{Int64,Int64}, ::UnitRange{Int64}\u001b[1m)\u001b[22m\u001b[22m at \u001b[1m./In[25]:6\u001b[22m\u001b[22m\n",
      " [4] \u001b[1minclude_string\u001b[22m\u001b[22m\u001b[1m(\u001b[22m\u001b[22m::String, ::String\u001b[1m)\u001b[22m\u001b[22m at \u001b[1m./loading.jl:522\u001b[22m\u001b[22m\n",
      " [5] \u001b[1minclude_string\u001b[22m\u001b[22m\u001b[1m(\u001b[22m\u001b[22m::Module, ::String, ::String\u001b[1m)\u001b[22m\u001b[22m at \u001b[1m/Users/kelley/.julia/v0.6/Compat/src/Compat.jl:174\u001b[22m\u001b[22m\n",
      " [6] \u001b[1mexecute_request\u001b[22m\u001b[22m\u001b[1m(\u001b[22m\u001b[22m::ZMQ.Socket, ::IJulia.Msg\u001b[1m)\u001b[22m\u001b[22m at \u001b[1m/Users/kelley/.julia/v0.6/IJulia/src/execute_request.jl:154\u001b[22m\u001b[22m\n",
      " [7] \u001b[1m(::Compat.#inner#16{Array{Any,1},IJulia.#execute_request,Tuple{ZMQ.Socket,IJulia.Msg}})\u001b[22m\u001b[22m\u001b[1m(\u001b[22m\u001b[22m\u001b[1m)\u001b[22m\u001b[22m at \u001b[1m/Users/kelley/.julia/v0.6/Compat/src/Compat.jl:496\u001b[22m\u001b[22m\n",
      " [8] \u001b[1meventloop\u001b[22m\u001b[22m\u001b[1m(\u001b[22m\u001b[22m::ZMQ.Socket\u001b[1m)\u001b[22m\u001b[22m at \u001b[1m/Users/kelley/.julia/v0.6/IJulia/src/eventloop.jl:8\u001b[22m\u001b[22m\n",
      " [9] \u001b[1m(::IJulia.##14#17)\u001b[22m\u001b[22m\u001b[1m(\u001b[22m\u001b[22m\u001b[1m)\u001b[22m\u001b[22m at \u001b[1m./task.jl:335\u001b[22m\u001b[22m\n",
      "while loading In[48], in expression starting on line 4\n",
      "\u001b[1m\u001b[33mWARNING: \u001b[39m\u001b[22m\u001b[33mArray(::Type{T}, m::Int) where T is deprecated, use Array{T}(m) instead.\u001b[39m\n",
      "Stacktrace:\n",
      " [1] \u001b[1mdepwarn\u001b[22m\u001b[22m\u001b[1m(\u001b[22m\u001b[22m::String, ::Symbol\u001b[1m)\u001b[22m\u001b[22m at \u001b[1m./deprecated.jl:70\u001b[22m\u001b[22m\n",
      " [2] \u001b[1mArray\u001b[22m\u001b[22m\u001b[1m(\u001b[22m\u001b[22m::Type{Float64}, ::Int64\u001b[1m)\u001b[22m\u001b[22m at \u001b[1m./deprecated.jl:57\u001b[22m\u001b[22m\n",
      " [3] \u001b[1mroc\u001b[22m\u001b[22m\u001b[1m(\u001b[22m\u001b[22m::Int64, ::SparseMatrixCSC{Int64,Int64}, ::UnitRange{Int64}\u001b[1m)\u001b[22m\u001b[22m at \u001b[1m./In[25]:11\u001b[22m\u001b[22m\n",
      " [4] \u001b[1minclude_string\u001b[22m\u001b[22m\u001b[1m(\u001b[22m\u001b[22m::String, ::String\u001b[1m)\u001b[22m\u001b[22m at \u001b[1m./loading.jl:522\u001b[22m\u001b[22m\n",
      " [5] \u001b[1minclude_string\u001b[22m\u001b[22m\u001b[1m(\u001b[22m\u001b[22m::Module, ::String, ::String\u001b[1m)\u001b[22m\u001b[22m at \u001b[1m/Users/kelley/.julia/v0.6/Compat/src/Compat.jl:174\u001b[22m\u001b[22m\n",
      " [6] \u001b[1mexecute_request\u001b[22m\u001b[22m\u001b[1m(\u001b[22m\u001b[22m::ZMQ.Socket, ::IJulia.Msg\u001b[1m)\u001b[22m\u001b[22m at \u001b[1m/Users/kelley/.julia/v0.6/IJulia/src/execute_request.jl:154\u001b[22m\u001b[22m\n",
      " [7] \u001b[1m(::Compat.#inner#16{Array{Any,1},IJulia.#execute_request,Tuple{ZMQ.Socket,IJulia.Msg}})\u001b[22m\u001b[22m\u001b[1m(\u001b[22m\u001b[22m\u001b[1m)\u001b[22m\u001b[22m at \u001b[1m/Users/kelley/.julia/v0.6/Compat/src/Compat.jl:496\u001b[22m\u001b[22m\n",
      " [8] \u001b[1meventloop\u001b[22m\u001b[22m\u001b[1m(\u001b[22m\u001b[22m::ZMQ.Socket\u001b[1m)\u001b[22m\u001b[22m at \u001b[1m/Users/kelley/.julia/v0.6/IJulia/src/eventloop.jl:8\u001b[22m\u001b[22m\n",
      " [9] \u001b[1m(::IJulia.##14#17)\u001b[22m\u001b[22m\u001b[1m(\u001b[22m\u001b[22m\u001b[1m)\u001b[22m\u001b[22m at \u001b[1m./task.jl:335\u001b[22m\u001b[22m\n",
      "while loading In[48], in expression starting on line 4\n",
      "\u001b[1m\u001b[33mWARNING: \u001b[39m\u001b[22m\u001b[33mArray(::Type{T}, m::Int) where T is deprecated, use Array{T}(m) instead.\u001b[39m\n",
      "Stacktrace:\n",
      " [1] \u001b[1mdepwarn\u001b[22m\u001b[22m\u001b[1m(\u001b[22m\u001b[22m::String, ::Symbol\u001b[1m)\u001b[22m\u001b[22m at \u001b[1m./deprecated.jl:70\u001b[22m\u001b[22m\n",
      " [2] \u001b[1mArray\u001b[22m\u001b[22m\u001b[1m(\u001b[22m\u001b[22m::Type{Float64}, ::Int64\u001b[1m)\u001b[22m\u001b[22m at \u001b[1m./deprecated.jl:57\u001b[22m\u001b[22m\n",
      " [3] \u001b[1mroc\u001b[22m\u001b[22m\u001b[1m(\u001b[22m\u001b[22m::Int64, ::SparseMatrixCSC{Int64,Int64}, ::UnitRange{Int64}\u001b[1m)\u001b[22m\u001b[22m at \u001b[1m./In[25]:12\u001b[22m\u001b[22m\n",
      " [4] \u001b[1minclude_string\u001b[22m\u001b[22m\u001b[1m(\u001b[22m\u001b[22m::String, ::String\u001b[1m)\u001b[22m\u001b[22m at \u001b[1m./loading.jl:522\u001b[22m\u001b[22m\n",
      " [5] \u001b[1minclude_string\u001b[22m\u001b[22m\u001b[1m(\u001b[22m\u001b[22m::Module, ::String, ::String\u001b[1m)\u001b[22m\u001b[22m at \u001b[1m/Users/kelley/.julia/v0.6/Compat/src/Compat.jl:174\u001b[22m\u001b[22m\n",
      " [6] \u001b[1mexecute_request\u001b[22m\u001b[22m\u001b[1m(\u001b[22m\u001b[22m::ZMQ.Socket, ::IJulia.Msg\u001b[1m)\u001b[22m\u001b[22m at \u001b[1m/Users/kelley/.julia/v0.6/IJulia/src/execute_request.jl:154\u001b[22m\u001b[22m\n",
      " [7] \u001b[1m(::Compat.#inner#16{Array{Any,1},IJulia.#execute_request,Tuple{ZMQ.Socket,IJulia.Msg}})\u001b[22m\u001b[22m\u001b[1m(\u001b[22m\u001b[22m\u001b[1m)\u001b[22m\u001b[22m at \u001b[1m/Users/kelley/.julia/v0.6/Compat/src/Compat.jl:496\u001b[22m\u001b[22m\n",
      " [8] \u001b[1meventloop\u001b[22m\u001b[22m\u001b[1m(\u001b[22m\u001b[22m::ZMQ.Socket\u001b[1m)\u001b[22m\u001b[22m at \u001b[1m/Users/kelley/.julia/v0.6/IJulia/src/eventloop.jl:8\u001b[22m\u001b[22m\n",
      " [9] \u001b[1m(::IJulia.##14#17)\u001b[22m\u001b[22m\u001b[1m(\u001b[22m\u001b[22m\u001b[1m)\u001b[22m\u001b[22m at \u001b[1m./task.jl:335\u001b[22m\u001b[22m\n",
      "while loading In[48], in expression starting on line 4\n",
      "\u001b[1m\u001b[33mWARNING: \u001b[39m\u001b[22m\u001b[33mArray(::Type{T}, m::Int) where T is deprecated, use Array{T}(m) instead.\u001b[39m\n",
      "Stacktrace:\n",
      " [1] \u001b[1mdepwarn\u001b[22m\u001b[22m\u001b[1m(\u001b[22m\u001b[22m::String, ::Symbol\u001b[1m)\u001b[22m\u001b[22m at \u001b[1m./deprecated.jl:70\u001b[22m\u001b[22m\n",
      " [2] \u001b[1mArray\u001b[22m\u001b[22m\u001b[1m(\u001b[22m\u001b[22m::Type{Float64}, ::Int64\u001b[1m)\u001b[22m\u001b[22m at \u001b[1m./deprecated.jl:57\u001b[22m\u001b[22m\n",
      " [3] \u001b[1mroc\u001b[22m\u001b[22m\u001b[1m(\u001b[22m\u001b[22m::Int64, ::SparseMatrixCSC{Int64,Int64}, ::UnitRange{Int64}\u001b[1m)\u001b[22m\u001b[22m at \u001b[1m./In[25]:13\u001b[22m\u001b[22m\n",
      " [4] \u001b[1minclude_string\u001b[22m\u001b[22m\u001b[1m(\u001b[22m\u001b[22m::String, ::String\u001b[1m)\u001b[22m\u001b[22m at \u001b[1m./loading.jl:522\u001b[22m\u001b[22m\n",
      " [5] \u001b[1minclude_string\u001b[22m\u001b[22m\u001b[1m(\u001b[22m\u001b[22m::Module, ::String, ::String\u001b[1m)\u001b[22m\u001b[22m at \u001b[1m/Users/kelley/.julia/v0.6/Compat/src/Compat.jl:174\u001b[22m\u001b[22m\n",
      " [6] \u001b[1mexecute_request\u001b[22m\u001b[22m\u001b[1m(\u001b[22m\u001b[22m::ZMQ.Socket, ::IJulia.Msg\u001b[1m)\u001b[22m\u001b[22m at \u001b[1m/Users/kelley/.julia/v0.6/IJulia/src/execute_request.jl:154\u001b[22m\u001b[22m\n",
      " [7] \u001b[1m(::Compat.#inner#16{Array{Any,1},IJulia.#execute_request,Tuple{ZMQ.Socket,IJulia.Msg}})\u001b[22m\u001b[22m\u001b[1m(\u001b[22m\u001b[22m\u001b[1m)\u001b[22m\u001b[22m at \u001b[1m/Users/kelley/.julia/v0.6/Compat/src/Compat.jl:496\u001b[22m\u001b[22m\n",
      " [8] \u001b[1meventloop\u001b[22m\u001b[22m\u001b[1m(\u001b[22m\u001b[22m::ZMQ.Socket\u001b[1m)\u001b[22m\u001b[22m at \u001b[1m/Users/kelley/.julia/v0.6/IJulia/src/eventloop.jl:8\u001b[22m\u001b[22m\n",
      " [9] \u001b[1m(::IJulia.##14#17)\u001b[22m\u001b[22m\u001b[1m(\u001b[22m\u001b[22m\u001b[1m)\u001b[22m\u001b[22m at \u001b[1m./task.jl:335\u001b[22m\u001b[22m\n",
      "while loading In[48], in expression starting on line 4\n",
      "\u001b[1m\u001b[33mWARNING: \u001b[39m\u001b[22m\u001b[33mfilter(flt, itr) is deprecated, use Iterators.filter(flt, itr) instead.\u001b[39m\n",
      "Stacktrace:\n",
      " [1] \u001b[1mdepwarn\u001b[22m\u001b[22m\u001b[1m(\u001b[22m\u001b[22m::String, ::Symbol\u001b[1m)\u001b[22m\u001b[22m at \u001b[1m./deprecated.jl:70\u001b[22m\u001b[22m\n",
      " [2] \u001b[1mfilter\u001b[22m\u001b[22m\u001b[1m(\u001b[22m\u001b[22m::Function, ::Base.Iterators.Zip2{Array{Float64,1},SparseVector{Int64,Int64}}\u001b[1m)\u001b[22m\u001b[22m at \u001b[1m./deprecated.jl:57\u001b[22m\u001b[22m\n",
      " [3] \u001b[1mroc\u001b[22m\u001b[22m\u001b[1m(\u001b[22m\u001b[22m::Int64, ::SparseMatrixCSC{Int64,Int64}, ::UnitRange{Int64}\u001b[1m)\u001b[22m\u001b[22m at \u001b[1m./In[25]:6\u001b[22m\u001b[22m\n",
      " [4] \u001b[1minclude_string\u001b[22m\u001b[22m\u001b[1m(\u001b[22m\u001b[22m::String, ::String\u001b[1m)\u001b[22m\u001b[22m at \u001b[1m./loading.jl:522\u001b[22m\u001b[22m\n",
      " [5] \u001b[1minclude_string\u001b[22m\u001b[22m\u001b[1m(\u001b[22m\u001b[22m::Module, ::String, ::String\u001b[1m)\u001b[22m\u001b[22m at \u001b[1m/Users/kelley/.julia/v0.6/Compat/src/Compat.jl:174\u001b[22m\u001b[22m\n",
      " [6] \u001b[1mexecute_request\u001b[22m\u001b[22m\u001b[1m(\u001b[22m\u001b[22m::ZMQ.Socket, ::IJulia.Msg\u001b[1m)\u001b[22m\u001b[22m at \u001b[1m/Users/kelley/.julia/v0.6/IJulia/src/execute_request.jl:154\u001b[22m\u001b[22m\n",
      " [7] \u001b[1m(::Compat.#inner#16{Array{Any,1},IJulia.#execute_request,Tuple{ZMQ.Socket,IJulia.Msg}})\u001b[22m\u001b[22m\u001b[1m(\u001b[22m\u001b[22m\u001b[1m)\u001b[22m\u001b[22m at \u001b[1m/Users/kelley/.julia/v0.6/Compat/src/Compat.jl:496\u001b[22m\u001b[22m\n",
      " [8] \u001b[1meventloop\u001b[22m\u001b[22m\u001b[1m(\u001b[22m\u001b[22m::ZMQ.Socket\u001b[1m)\u001b[22m\u001b[22m at \u001b[1m/Users/kelley/.julia/v0.6/IJulia/src/eventloop.jl:8\u001b[22m\u001b[22m\n",
      " [9] \u001b[1m(::IJulia.##14#17)\u001b[22m\u001b[22m\u001b[1m(\u001b[22m\u001b[22m\u001b[1m)\u001b[22m\u001b[22m at \u001b[1m./task.jl:335\u001b[22m\u001b[22m\n",
      "while loading In[48], in expression starting on line 9\n",
      "\u001b[1m\u001b[33mWARNING: \u001b[39m\u001b[22m\u001b[33mArray(::Type{T}, m::Int) where T is deprecated, use Array{T}(m) instead.\u001b[39m\n",
      "Stacktrace:\n",
      " [1] \u001b[1mdepwarn\u001b[22m\u001b[22m\u001b[1m(\u001b[22m\u001b[22m::String, ::Symbol\u001b[1m)\u001b[22m\u001b[22m at \u001b[1m./deprecated.jl:70\u001b[22m\u001b[22m\n",
      " [2] \u001b[1mArray\u001b[22m\u001b[22m\u001b[1m(\u001b[22m\u001b[22m::Type{Float64}, ::Int64\u001b[1m)\u001b[22m\u001b[22m at \u001b[1m./deprecated.jl:57\u001b[22m\u001b[22m\n",
      " [3] \u001b[1mroc\u001b[22m\u001b[22m\u001b[1m(\u001b[22m\u001b[22m::Int64, ::SparseMatrixCSC{Int64,Int64}, ::UnitRange{Int64}\u001b[1m)\u001b[22m\u001b[22m at \u001b[1m./In[25]:11\u001b[22m\u001b[22m\n",
      " [4] \u001b[1minclude_string\u001b[22m\u001b[22m\u001b[1m(\u001b[22m\u001b[22m::String, ::String\u001b[1m)\u001b[22m\u001b[22m at \u001b[1m./loading.jl:522\u001b[22m\u001b[22m\n",
      " [5] \u001b[1minclude_string\u001b[22m\u001b[22m\u001b[1m(\u001b[22m\u001b[22m::Module, ::String, ::String\u001b[1m)\u001b[22m\u001b[22m at \u001b[1m/Users/kelley/.julia/v0.6/Compat/src/Compat.jl:174\u001b[22m\u001b[22m\n",
      " [6] \u001b[1mexecute_request\u001b[22m\u001b[22m\u001b[1m(\u001b[22m\u001b[22m::ZMQ.Socket, ::IJulia.Msg\u001b[1m)\u001b[22m\u001b[22m at \u001b[1m/Users/kelley/.julia/v0.6/IJulia/src/execute_request.jl:154\u001b[22m\u001b[22m\n",
      " [7] \u001b[1m(::Compat.#inner#16{Array{Any,1},IJulia.#execute_request,Tuple{ZMQ.Socket,IJulia.Msg}})\u001b[22m\u001b[22m\u001b[1m(\u001b[22m\u001b[22m\u001b[1m)\u001b[22m\u001b[22m at \u001b[1m/Users/kelley/.julia/v0.6/Compat/src/Compat.jl:496\u001b[22m\u001b[22m\n",
      " [8] \u001b[1meventloop\u001b[22m\u001b[22m\u001b[1m(\u001b[22m\u001b[22m::ZMQ.Socket\u001b[1m)\u001b[22m\u001b[22m at \u001b[1m/Users/kelley/.julia/v0.6/IJulia/src/eventloop.jl:8\u001b[22m\u001b[22m\n",
      " [9] \u001b[1m(::IJulia.##14#17)\u001b[22m\u001b[22m\u001b[1m(\u001b[22m\u001b[22m\u001b[1m)\u001b[22m\u001b[22m at \u001b[1m./task.jl:335\u001b[22m\u001b[22m\n",
      "while loading In[48], in expression starting on line 9\n",
      "\u001b[1m\u001b[33mWARNING: \u001b[39m\u001b[22m\u001b[33mArray(::Type{T}, m::Int) where T is deprecated, use Array{T}(m) instead.\u001b[39m\n",
      "Stacktrace:\n",
      " [1] \u001b[1mdepwarn\u001b[22m\u001b[22m\u001b[1m(\u001b[22m\u001b[22m::String, ::Symbol\u001b[1m)\u001b[22m\u001b[22m at \u001b[1m./deprecated.jl:70\u001b[22m\u001b[22m\n",
      " [2] \u001b[1mArray\u001b[22m\u001b[22m\u001b[1m(\u001b[22m\u001b[22m::Type{Float64}, ::Int64\u001b[1m)\u001b[22m\u001b[22m at \u001b[1m./deprecated.jl:57\u001b[22m\u001b[22m\n",
      " [3] \u001b[1mroc\u001b[22m\u001b[22m\u001b[1m(\u001b[22m\u001b[22m::Int64, ::SparseMatrixCSC{Int64,Int64}, ::UnitRange{Int64}\u001b[1m)\u001b[22m\u001b[22m at \u001b[1m./In[25]:12\u001b[22m\u001b[22m\n",
      " [4] \u001b[1minclude_string\u001b[22m\u001b[22m\u001b[1m(\u001b[22m\u001b[22m::String, ::String\u001b[1m)\u001b[22m\u001b[22m at \u001b[1m./loading.jl:522\u001b[22m\u001b[22m\n",
      " [5] \u001b[1minclude_string\u001b[22m\u001b[22m\u001b[1m(\u001b[22m\u001b[22m::Module, ::String, ::String\u001b[1m)\u001b[22m\u001b[22m at \u001b[1m/Users/kelley/.julia/v0.6/Compat/src/Compat.jl:174\u001b[22m\u001b[22m\n",
      " [6] \u001b[1mexecute_request\u001b[22m\u001b[22m\u001b[1m(\u001b[22m\u001b[22m::ZMQ.Socket, ::IJulia.Msg\u001b[1m)\u001b[22m\u001b[22m at \u001b[1m/Users/kelley/.julia/v0.6/IJulia/src/execute_request.jl:154\u001b[22m\u001b[22m\n",
      " [7] \u001b[1m(::Compat.#inner#16{Array{Any,1},IJulia.#execute_request,Tuple{ZMQ.Socket,IJulia.Msg}})\u001b[22m\u001b[22m\u001b[1m(\u001b[22m\u001b[22m\u001b[1m)\u001b[22m\u001b[22m at \u001b[1m/Users/kelley/.julia/v0.6/Compat/src/Compat.jl:496\u001b[22m\u001b[22m\n",
      " [8] \u001b[1meventloop\u001b[22m\u001b[22m\u001b[1m(\u001b[22m\u001b[22m::ZMQ.Socket\u001b[1m)\u001b[22m\u001b[22m at \u001b[1m/Users/kelley/.julia/v0.6/IJulia/src/eventloop.jl:8\u001b[22m\u001b[22m\n",
      " [9] \u001b[1m(::IJulia.##14#17)\u001b[22m\u001b[22m\u001b[1m(\u001b[22m\u001b[22m\u001b[1m)\u001b[22m\u001b[22m at \u001b[1m./task.jl:335\u001b[22m\u001b[22m\n",
      "while loading In[48], in expression starting on line 9\n",
      "\u001b[1m\u001b[33mWARNING: \u001b[39m\u001b[22m\u001b[33mArray(::Type{T}, m::Int) where T is deprecated, use Array{T}(m) instead.\u001b[39m\n",
      "Stacktrace:\n",
      " [1] \u001b[1mdepwarn\u001b[22m\u001b[22m\u001b[1m(\u001b[22m\u001b[22m::String, ::Symbol\u001b[1m)\u001b[22m\u001b[22m at \u001b[1m./deprecated.jl:70\u001b[22m\u001b[22m\n",
      " [2] \u001b[1mArray\u001b[22m\u001b[22m\u001b[1m(\u001b[22m\u001b[22m::Type{Float64}, ::Int64\u001b[1m)\u001b[22m\u001b[22m at \u001b[1m./deprecated.jl:57\u001b[22m\u001b[22m\n",
      " [3] \u001b[1mroc\u001b[22m\u001b[22m\u001b[1m(\u001b[22m\u001b[22m::Int64, ::SparseMatrixCSC{Int64,Int64}, ::UnitRange{Int64}\u001b[1m)\u001b[22m\u001b[22m at \u001b[1m./In[25]:13\u001b[22m\u001b[22m\n",
      " [4] \u001b[1minclude_string\u001b[22m\u001b[22m\u001b[1m(\u001b[22m\u001b[22m::String, ::String\u001b[1m)\u001b[22m\u001b[22m at \u001b[1m./loading.jl:522\u001b[22m\u001b[22m\n",
      " [5] \u001b[1minclude_string\u001b[22m\u001b[22m\u001b[1m(\u001b[22m\u001b[22m::Module, ::String, ::String\u001b[1m)\u001b[22m\u001b[22m at \u001b[1m/Users/kelley/.julia/v0.6/Compat/src/Compat.jl:174\u001b[22m\u001b[22m\n",
      " [6] \u001b[1mexecute_request\u001b[22m\u001b[22m\u001b[1m(\u001b[22m\u001b[22m::ZMQ.Socket, ::IJulia.Msg\u001b[1m)\u001b[22m\u001b[22m at \u001b[1m/Users/kelley/.julia/v0.6/IJulia/src/execute_request.jl:154\u001b[22m\u001b[22m\n",
      " [7] \u001b[1m(::Compat.#inner#16{Array{Any,1},IJulia.#execute_request,Tuple{ZMQ.Socket,IJulia.Msg}})\u001b[22m\u001b[22m\u001b[1m(\u001b[22m\u001b[22m\u001b[1m)\u001b[22m\u001b[22m at \u001b[1m/Users/kelley/.julia/v0.6/Compat/src/Compat.jl:496\u001b[22m\u001b[22m\n",
      " [8] \u001b[1meventloop\u001b[22m\u001b[22m\u001b[1m(\u001b[22m\u001b[22m::ZMQ.Socket\u001b[1m)\u001b[22m\u001b[22m at \u001b[1m/Users/kelley/.julia/v0.6/IJulia/src/eventloop.jl:8\u001b[22m\u001b[22m\n",
      " [9] \u001b[1m(::IJulia.##14#17)\u001b[22m\u001b[22m\u001b[1m(\u001b[22m\u001b[22m\u001b[1m)\u001b[22m\u001b[22m at \u001b[1m./task.jl:335\u001b[22m\u001b[22m\n",
      "while loading In[48], in expression starting on line 9\n"
     ]
    },
    {
     "name": "stderr",
     "output_type": "stream",
     "text": [
      "\u001b[1m\u001b[33mWARNING: \u001b[39m\u001b[22m\u001b[33mfilter(flt, itr) is deprecated, use Iterators.filter(flt, itr) instead.\u001b[39m\n",
      "Stacktrace:\n",
      " [1] \u001b[1mdepwarn\u001b[22m\u001b[22m\u001b[1m(\u001b[22m\u001b[22m::String, ::Symbol\u001b[1m)\u001b[22m\u001b[22m at \u001b[1m./deprecated.jl:70\u001b[22m\u001b[22m\n",
      " [2] \u001b[1mfilter\u001b[22m\u001b[22m\u001b[1m(\u001b[22m\u001b[22m::Function, ::Base.Iterators.Zip2{Array{Float64,1},SparseVector{Int64,Int64}}\u001b[1m)\u001b[22m\u001b[22m at \u001b[1m./deprecated.jl:57\u001b[22m\u001b[22m\n",
      " [3] \u001b[1mroc\u001b[22m\u001b[22m\u001b[1m(\u001b[22m\u001b[22m::Int64, ::SparseMatrixCSC{Int64,Int64}, ::UnitRange{Int64}\u001b[1m)\u001b[22m\u001b[22m at \u001b[1m./In[25]:6\u001b[22m\u001b[22m\n",
      " [4] \u001b[1minclude_string\u001b[22m\u001b[22m\u001b[1m(\u001b[22m\u001b[22m::String, ::String\u001b[1m)\u001b[22m\u001b[22m at \u001b[1m./loading.jl:522\u001b[22m\u001b[22m\n",
      " [5] \u001b[1minclude_string\u001b[22m\u001b[22m\u001b[1m(\u001b[22m\u001b[22m::Module, ::String, ::String\u001b[1m)\u001b[22m\u001b[22m at \u001b[1m/Users/kelley/.julia/v0.6/Compat/src/Compat.jl:174\u001b[22m\u001b[22m\n",
      " [6] \u001b[1mexecute_request\u001b[22m\u001b[22m\u001b[1m(\u001b[22m\u001b[22m::ZMQ.Socket, ::IJulia.Msg\u001b[1m)\u001b[22m\u001b[22m at \u001b[1m/Users/kelley/.julia/v0.6/IJulia/src/execute_request.jl:154\u001b[22m\u001b[22m\n",
      " [7] \u001b[1m(::Compat.#inner#16{Array{Any,1},IJulia.#execute_request,Tuple{ZMQ.Socket,IJulia.Msg}})\u001b[22m\u001b[22m\u001b[1m(\u001b[22m\u001b[22m\u001b[1m)\u001b[22m\u001b[22m at \u001b[1m/Users/kelley/.julia/v0.6/Compat/src/Compat.jl:496\u001b[22m\u001b[22m\n",
      " [8] \u001b[1meventloop\u001b[22m\u001b[22m\u001b[1m(\u001b[22m\u001b[22m::ZMQ.Socket\u001b[1m)\u001b[22m\u001b[22m at \u001b[1m/Users/kelley/.julia/v0.6/IJulia/src/eventloop.jl:8\u001b[22m\u001b[22m\n",
      " [9] \u001b[1m(::IJulia.##14#17)\u001b[22m\u001b[22m\u001b[1m(\u001b[22m\u001b[22m\u001b[1m)\u001b[22m\u001b[22m at \u001b[1m./task.jl:335\u001b[22m\u001b[22m\n",
      "while loading In[48], in expression starting on line 13\n",
      "\u001b[1m\u001b[33mWARNING: \u001b[39m\u001b[22m\u001b[33mArray(::Type{T}, m::Int) where T is deprecated, use Array{T}(m) instead.\u001b[39m\n",
      "Stacktrace:\n",
      " [1] \u001b[1mdepwarn\u001b[22m\u001b[22m\u001b[1m(\u001b[22m\u001b[22m::String, ::Symbol\u001b[1m)\u001b[22m\u001b[22m at \u001b[1m./deprecated.jl:70\u001b[22m\u001b[22m\n",
      " [2] \u001b[1mArray\u001b[22m\u001b[22m\u001b[1m(\u001b[22m\u001b[22m::Type{Float64}, ::Int64\u001b[1m)\u001b[22m\u001b[22m at \u001b[1m./deprecated.jl:57\u001b[22m\u001b[22m\n",
      " [3] \u001b[1mroc\u001b[22m\u001b[22m\u001b[1m(\u001b[22m\u001b[22m::Int64, ::SparseMatrixCSC{Int64,Int64}, ::UnitRange{Int64}\u001b[1m)\u001b[22m\u001b[22m at \u001b[1m./In[25]:11\u001b[22m\u001b[22m\n",
      " [4] \u001b[1minclude_string\u001b[22m\u001b[22m\u001b[1m(\u001b[22m\u001b[22m::String, ::String\u001b[1m)\u001b[22m\u001b[22m at \u001b[1m./loading.jl:522\u001b[22m\u001b[22m\n",
      " [5] \u001b[1minclude_string\u001b[22m\u001b[22m\u001b[1m(\u001b[22m\u001b[22m::Module, ::String, ::String\u001b[1m)\u001b[22m\u001b[22m at \u001b[1m/Users/kelley/.julia/v0.6/Compat/src/Compat.jl:174\u001b[22m\u001b[22m\n",
      " [6] \u001b[1mexecute_request\u001b[22m\u001b[22m\u001b[1m(\u001b[22m\u001b[22m::ZMQ.Socket, ::IJulia.Msg\u001b[1m)\u001b[22m\u001b[22m at \u001b[1m/Users/kelley/.julia/v0.6/IJulia/src/execute_request.jl:154\u001b[22m\u001b[22m\n",
      " [7] \u001b[1m(::Compat.#inner#16{Array{Any,1},IJulia.#execute_request,Tuple{ZMQ.Socket,IJulia.Msg}})\u001b[22m\u001b[22m\u001b[1m(\u001b[22m\u001b[22m\u001b[1m)\u001b[22m\u001b[22m at \u001b[1m/Users/kelley/.julia/v0.6/Compat/src/Compat.jl:496\u001b[22m\u001b[22m\n",
      " [8] \u001b[1meventloop\u001b[22m\u001b[22m\u001b[1m(\u001b[22m\u001b[22m::ZMQ.Socket\u001b[1m)\u001b[22m\u001b[22m at \u001b[1m/Users/kelley/.julia/v0.6/IJulia/src/eventloop.jl:8\u001b[22m\u001b[22m\n",
      " [9] \u001b[1m(::IJulia.##14#17)\u001b[22m\u001b[22m\u001b[1m(\u001b[22m\u001b[22m\u001b[1m)\u001b[22m\u001b[22m at \u001b[1m./task.jl:335\u001b[22m\u001b[22m\n",
      "while loading In[48], in expression starting on line 13\n",
      "\u001b[1m\u001b[33mWARNING: \u001b[39m\u001b[22m\u001b[33mArray(::Type{T}, m::Int) where T is deprecated, use Array{T}(m) instead.\u001b[39m\n",
      "Stacktrace:\n",
      " [1] \u001b[1mdepwarn\u001b[22m\u001b[22m\u001b[1m(\u001b[22m\u001b[22m::String, ::Symbol\u001b[1m)\u001b[22m\u001b[22m at \u001b[1m./deprecated.jl:70\u001b[22m\u001b[22m\n",
      " [2] \u001b[1mArray\u001b[22m\u001b[22m\u001b[1m(\u001b[22m\u001b[22m::Type{Float64}, ::Int64\u001b[1m)\u001b[22m\u001b[22m at \u001b[1m./deprecated.jl:57\u001b[22m\u001b[22m\n",
      " [3] \u001b[1mroc\u001b[22m\u001b[22m\u001b[1m(\u001b[22m\u001b[22m::Int64, ::SparseMatrixCSC{Int64,Int64}, ::UnitRange{Int64}\u001b[1m)\u001b[22m\u001b[22m at \u001b[1m./In[25]:12\u001b[22m\u001b[22m\n",
      " [4] \u001b[1minclude_string\u001b[22m\u001b[22m\u001b[1m(\u001b[22m\u001b[22m::String, ::String\u001b[1m)\u001b[22m\u001b[22m at \u001b[1m./loading.jl:522\u001b[22m\u001b[22m\n",
      " [5] \u001b[1minclude_string\u001b[22m\u001b[22m\u001b[1m(\u001b[22m\u001b[22m::Module, ::String, ::String\u001b[1m)\u001b[22m\u001b[22m at \u001b[1m/Users/kelley/.julia/v0.6/Compat/src/Compat.jl:174\u001b[22m\u001b[22m\n",
      " [6] \u001b[1mexecute_request\u001b[22m\u001b[22m\u001b[1m(\u001b[22m\u001b[22m::ZMQ.Socket, ::IJulia.Msg\u001b[1m)\u001b[22m\u001b[22m at \u001b[1m/Users/kelley/.julia/v0.6/IJulia/src/execute_request.jl:154\u001b[22m\u001b[22m\n",
      " [7] \u001b[1m(::Compat.#inner#16{Array{Any,1},IJulia.#execute_request,Tuple{ZMQ.Socket,IJulia.Msg}})\u001b[22m\u001b[22m\u001b[1m(\u001b[22m\u001b[22m\u001b[1m)\u001b[22m\u001b[22m at \u001b[1m/Users/kelley/.julia/v0.6/Compat/src/Compat.jl:496\u001b[22m\u001b[22m\n",
      " [8] \u001b[1meventloop\u001b[22m\u001b[22m\u001b[1m(\u001b[22m\u001b[22m::ZMQ.Socket\u001b[1m)\u001b[22m\u001b[22m at \u001b[1m/Users/kelley/.julia/v0.6/IJulia/src/eventloop.jl:8\u001b[22m\u001b[22m\n",
      " [9] \u001b[1m(::IJulia.##14#17)\u001b[22m\u001b[22m\u001b[1m(\u001b[22m\u001b[22m\u001b[1m)\u001b[22m\u001b[22m at \u001b[1m./task.jl:335\u001b[22m\u001b[22m\n",
      "while loading In[48], in expression starting on line 13\n",
      "\u001b[1m\u001b[33mWARNING: \u001b[39m\u001b[22m\u001b[33mArray(::Type{T}, m::Int) where T is deprecated, use Array{T}(m) instead.\u001b[39m\n",
      "Stacktrace:\n",
      " [1] \u001b[1mdepwarn\u001b[22m\u001b[22m\u001b[1m(\u001b[22m\u001b[22m::String, ::Symbol\u001b[1m)\u001b[22m\u001b[22m at \u001b[1m./deprecated.jl:70\u001b[22m\u001b[22m\n",
      " [2] \u001b[1mArray\u001b[22m\u001b[22m\u001b[1m(\u001b[22m\u001b[22m::Type{Float64}, ::Int64\u001b[1m)\u001b[22m\u001b[22m at \u001b[1m./deprecated.jl:57\u001b[22m\u001b[22m\n",
      " [3] \u001b[1mroc\u001b[22m\u001b[22m\u001b[1m(\u001b[22m\u001b[22m::Int64, ::SparseMatrixCSC{Int64,Int64}, ::UnitRange{Int64}\u001b[1m)\u001b[22m\u001b[22m at \u001b[1m./In[25]:13\u001b[22m\u001b[22m\n",
      " [4] \u001b[1minclude_string\u001b[22m\u001b[22m\u001b[1m(\u001b[22m\u001b[22m::String, ::String\u001b[1m)\u001b[22m\u001b[22m at \u001b[1m./loading.jl:522\u001b[22m\u001b[22m\n",
      " [5] \u001b[1minclude_string\u001b[22m\u001b[22m\u001b[1m(\u001b[22m\u001b[22m::Module, ::String, ::String\u001b[1m)\u001b[22m\u001b[22m at \u001b[1m/Users/kelley/.julia/v0.6/Compat/src/Compat.jl:174\u001b[22m\u001b[22m\n",
      " [6] \u001b[1mexecute_request\u001b[22m\u001b[22m\u001b[1m(\u001b[22m\u001b[22m::ZMQ.Socket, ::IJulia.Msg\u001b[1m)\u001b[22m\u001b[22m at \u001b[1m/Users/kelley/.julia/v0.6/IJulia/src/execute_request.jl:154\u001b[22m\u001b[22m\n",
      " [7] \u001b[1m(::Compat.#inner#16{Array{Any,1},IJulia.#execute_request,Tuple{ZMQ.Socket,IJulia.Msg}})\u001b[22m\u001b[22m\u001b[1m(\u001b[22m\u001b[22m\u001b[1m)\u001b[22m\u001b[22m at \u001b[1m/Users/kelley/.julia/v0.6/Compat/src/Compat.jl:496\u001b[22m\u001b[22m\n",
      " [8] \u001b[1meventloop\u001b[22m\u001b[22m\u001b[1m(\u001b[22m\u001b[22m::ZMQ.Socket\u001b[1m)\u001b[22m\u001b[22m at \u001b[1m/Users/kelley/.julia/v0.6/IJulia/src/eventloop.jl:8\u001b[22m\u001b[22m\n",
      " [9] \u001b[1m(::IJulia.##14#17)\u001b[22m\u001b[22m\u001b[1m(\u001b[22m\u001b[22m\u001b[1m)\u001b[22m\u001b[22m at \u001b[1m./task.jl:335\u001b[22m\u001b[22m\n",
      "while loading In[48], in expression starting on line 13\n"
     ]
    },
    {
     "data": {
      "text/html": [
       "<script src=\"/Users/kelley/.julia/v0.6/Plots/src/backends/../../deps/plotly-latest.min.js\"></script>    <div id=\"48ac311e-d452-4392-8882-3006fda735cc\" style=\"width:500px;height:400px;\"></div>\n",
       "    <script>\n",
       "    PLOT = document.getElementById('48ac311e-d452-4392-8882-3006fda735cc');\n",
       "    Plotly.plot(PLOT, [{\"showlegend\":true,\"mode\":\"lines\",\"xaxis\":\"x\",\"colorbar\":{\"title\":\"\"},\"line\":{\"color\":\"rgba(0, 154, 250, 1.000)\",\"shape\":\"linear\",\"dash\":\"solid\",\"width\":2},\"y\":[1.0,0.9999746555977337,0.9999535352625117,0.9999211507485046,0.9998732779886682,0.9997972447818692,0.9997183955303739,0.9996282821000935,0.9994973360217173,0.9994114466584814,0.999277684535409,0.9991326582335515,0.9989805918199534,0.9987736125347781,0.9985947936965656,0.9983385336292058,0.9981048019194161,0.9978175653603975,0.9975317368237269,0.9972656205999302,0.9969643038174302,0.9966108902080494,0.9962983092467643,0.9959125111233765,0.9955126327765075,0.9950972661838089,0.9946748594793696,0.9941961318810052,0.9936624914110637,0.9930978744494633,0.9924882007727227,0.9918616308278045,0.9911942282347905,0.9904381202338444,0.9896707480541131,0.9889019678520338,0.9880768667560291,0.9871644682744405,0.9862422136364148,0.9852805343726415,0.9842090293657141,0.9831403404034829,0.9820068824132376,0.9806917895400836,0.9793569843540557,0.9778996812237404,0.9764254818252476,0.9748653930635187,0.9732912240783086,0.9717029748696171,0.9699204185768836,0.9681153339265801,0.96623984815887,0.964226376201043,0.9621495432375503,0.9600276535589173,0.9578072023159152,0.9554037081676561,0.9528030908906586,0.9500757516023294,0.947313211755297,0.9445379997071314,0.9414558387870732,0.9383764939117114,0.9350831296394336,0.931434943735427,0.9276712999988735,0.9238161348096917,0.9195667233630332,0.9150357074467486,0.910386417653221,0.9055076202169481,0.9001247507800444,0.8946813363821711,0.8888676121067394,0.8824202777746488,0.8758771979228854,0.8688553904727576,0.8617181251900831,0.8538500963087287,0.8453498653930636,0.8364539801975737,0.8271877851245255,0.817186602385753,0.8071854196469807,0.7971842369082082,0.7871830541694358,0.7771818714306633,0.7671806886918909,0.7571795059531184,0.7471783232143461,0.7371771404755736,0.7271759577368012,0.7171747749980287,0.7071735922592564,0.6971724095204839,0.6871712267817115,0.677170044042939,0.6671688613041666,0.6571676785653942,0.6471664958266218,0.6371653130878493,0.6271641303490769,0.6171629476103044,0.6071617648715321,0.5971605821327596,0.5871593993939872,0.5771582166552147,0.5671570339164423,0.5571558511776699,0.5471546684388975,0.537153485700125,0.5271523029613526,0.5171511202225801,0.5071499374838078,0.49714875474503534,0.4871475720062629,0.4771463892674905,0.46714520652871805,0.4571440237899456,0.4471428410511732,0.43714165831240076,0.42714047557362833,0.4171392928348559,0.40713811009608347,0.39713692735731104,0.3871357446185386,0.37713456187976613,0.3671333791409937,0.35713219640222127,0.34713101366344884,0.3371298309246764,0.327128648185904,0.31712746544713155,0.3071262827083591,0.2971250999695867,0.28712391723081426,0.27712273449204183,0.2671215517532694,0.257120369014497,0.24711918627572457,0.23711800353695214,0.2271168207981797,0.21711563805940728,0.20711445532063485,0.19711327258186243,0.18711208984309,0.17711090710431757,0.16710972436554514,0.1571085416267727,0.14710735888800028,0.13710617614922785,0.12710499341045542,0.11710381067168298,0.10710262793291055,0.09710144519413812,0.08710026245536569,0.07709907971659326,0.06709789697782083,0.0570967142390484,0.04709553150027597,0.03709434876150354,0.027093166022731114,0.017091983283958685,0.007090800545186253,0.0],\"type\":\"scatter\",\"name\":\"Train\",\"yaxis\":\"y\",\"x\":[1.0,0.9899997617370053,0.9799995234740106,0.969999285211016,0.9599990469480212,0.9499988086850265,0.9399985704220318,0.9299983321590372,0.9199980938960425,0.9099978556330478,0.899997617370053,0.8899973791070583,0.8799971408440637,0.869996902581069,0.8599966643180743,0.8499964260550796,0.839996187792085,0.8299959495290902,0.8199957112660955,0.8099954730031008,0.7999952347401061,0.7899949964771115,0.7799947582141167,0.769994519951122,0.7599942816881273,0.7499940434251327,0.739993805162138,0.7299935668991433,0.7199933286361486,0.709993090373154,0.6999928521101593,0.6899926138471645,0.6799923755841698,0.6699921373211751,0.6599918990581803,0.6499916607951857,0.639991422532191,0.6299911842691963,0.6199909460062016,0.609990707743207,0.5999904694802123,0.5899902312172176,0.5799899929542229,0.5699897546912283,0.5599895164282335,0.5499892781652388,0.5399890399022441,0.5299888016392493,0.5199885633762547,0.50998832511326,0.4999880868502653,0.4899878485872706,0.47998761032427595,0.46998737206128127,0.4599871337982866,0.4499868955352918,0.43998665727229713,0.42998641900930246,0.4199861807463078,0.4099859424833131,0.3999857042203184,0.38998546595732364,0.37998522769432896,0.3699849894313343,0.3599847511683396,0.34998451290534494,0.33998427464235026,0.3299840363793556,0.3199837981163608,0.3099835598533661,0.29998332159037144,0.28998308332737677,0.2799828450643821,0.2699826068013874,0.2599823685383926,0.24998213027539795,0.23998189201240328,0.2299816537494086,0.21998141548641392,0.20998117722341925,0.19998093896042457,0.18998070069742978,0.1799804624344351,0.170451644525227,0.16110662949763954,0.15254277671694016,0.14472775049099196,0.13725650372881582,0.13002522183986687,0.12320239079896389,0.11650379689100832,0.11028683460804034,0.10449534195845378,0.09914123209198311,0.09396411759299916,0.08888911580602665,0.08440126211312049,0.08009040378770083,0.07599228027897198,0.07206945025919609,0.068126197697018,0.06455906029074898,0.06108042056822316,0.05785365886865923,0.054822613200450676,0.05186474830918364,0.049039629943531615,0.0464272463945703,0.043939099978556384,0.04141521411333826,0.03914661002814912,0.03698522429057194,0.034978709499545624,0.032941560894915844,0.0309061141688195,0.029108930437416802,0.02737131245468749,0.02575282596930495,0.02402541925777668,0.02249713233467099,0.02104032430997338,0.019775828559564057,0.01855898540809342,0.01744765872570142,0.016329524529175354,0.015255639174520885,0.014208983876402792,0.013274652561497402,0.012325004339790224,0.011433219988222998,0.010566963814658603,0.009727937697630695,0.0090182543491506,0.008300061608002895,0.0076550496437968185,0.007044075250261184,0.006451821520594425,0.005946363596137427,0.005437501914613341,0.004889497026818179,0.004426586065699345,0.003987501404049798,0.0035943674628053923,0.003253991756100416,0.0029272310776635724,0.002607277913360795,0.0022703059637227962,0.0020099185480934034,0.0017614442821987097,0.0015657282508433346,0.001329167134683229,0.001157277402797252,0.001017723363048173,0.0008526411452961513,0.0007471246762176253,0.0006126762720690682,0.0005241785883257633,0.00041525836218014867,0.00031825128576923323,0.00022975360202592832,0.00018720663868776466,0.00014295779681616771,9.700707641091544e-5,6.637326280745093e-5,4.084508480461935e-5,0.0]},{\"showlegend\":true,\"mode\":\"lines\",\"xaxis\":\"x\",\"colorbar\":{\"title\":\"\"},\"line\":{\"color\":\"rgba(227, 111, 71, 1.000)\",\"shape\":\"linear\",\"dash\":\"solid\",\"width\":2},\"y\":[1.0,0.9997118017195831,0.9993995869157981,0.9993035208223258,0.999063355588645,0.9987751573082281,0.998438925981075,0.9980546616071857,0.9978865459436091,0.9973821989528796,0.9970219511023585,0.996613670205101,0.9961573562611077,0.9959171910274268,0.9954848936068015,0.9949565300927038,0.994404150055238,0.9939238195878765,0.9933954560737788,0.9928670925596811,0.9924347951390556,0.9919304481483261,0.9912099524472837,0.9903693741294011,0.9897689610451991,0.9889764157740526,0.9882559200730102,0.9874873913252318,0.9865507469138768,0.9854700033623133,0.9842691771939094,0.9833085162591864,0.9822037561842548,0.9808348143522744,0.9792497238099813,0.9780008645948413,0.9767039723329651,0.9751669148374081,0.9737019069119555,0.972308948556607,0.9709640232479946,0.9689706518084442,0.9670733464623661,0.965176041116288,0.9631346366300014,0.9612853643306595,0.9593400259378453,0.9569864066477737,0.9544646716941255,0.952111052404054,0.9495172678803017,0.9473797973005428,0.9448100293001586,0.9419760795427254,0.9392622124021327,0.9359239156539699,0.9327297180460157,0.9293914212978529,0.9262452567366348,0.9227628608482636,0.9199289110908305,0.9159661847350977,0.9120995244728373,0.9084970459676257,0.9039579230510592,0.898626254863346,0.8938949997598348,0.889620058600317,0.88371199385177,0.8787886065613142,0.8733128392333925,0.8664200970267544,0.8598635861472693,0.8532590422210481,0.8464863826312503,0.8383687977328402,0.8315000720495701,0.8225659253566454,0.8132234977664633,0.8037129545127047,0.795067006100197,0.7850521158557088,0.7750372256112206,0.7653345501705173,0.7553196599260291,0.7453047696815409,0.7352898794370527,0.7252749891925645,0.7152600989480763,0.7052452087035881,0.6952303184590999,0.6852154282146117,0.6752005379701235,0.6651856477256353,0.6551707574811471,0.6451558672366589,0.6351409769921706,0.6251260867476824,0.6151111965031942,0.605096306258706,0.5950814160142178,0.5850665257697296,0.5750516355252414,0.5650367452807532,0.555021855036265,0.5450069647917768,0.5349920745472886,0.5249771843028004,0.5149622940583121,0.5049474038138239,0.4949325135693357,0.4849176233248475,0.4749027330803593,0.4648878428358711,0.4548729525913829,0.4448580623468947,0.43484317210240647,0.42482828185791827,0.41481339161343006,0.40479850136894185,0.39478361112445365,0.38476872087996544,0.3747538306354772,0.364738940390989,0.35472405014650077,0.34470915990201256,0.33469426965752436,0.32467937941303615,0.31466448916854795,0.30464959892405974,0.29463470867957153,0.2846198184350833,0.2746049281905951,0.2645900379461069,0.2545751477016187,0.2445602574571305,0.2345453672126423,0.2245304769681541,0.21451558672366589,0.20450069647917768,0.19448580623468947,0.18447091599020127,0.17445602574571306,0.16444113550122486,0.15442624525673662,0.14441135501224842,0.1343964647677602,0.12438157452327202,0.1143666842787838,0.10435179403429559,0.09433690378980739,0.08432201354531918,0.07430712330083097,0.06429223305634277,0.054277342811854555,0.04426245256736635,0.03424756232287814,0.024232672078389934,0.014217781833901724,0.0042028915894135165,0.0],\"type\":\"scatter\",\"name\":\"Validate\",\"yaxis\":\"y\",\"x\":[1.0,0.9899979823019053,0.9799959646038106,0.9699939469057158,0.9599919292076211,0.9499899115095264,0.9399878938114317,0.9299858761133369,0.9199838584152422,0.9099818407171476,0.8999798230190529,0.8899778053209582,0.8799757876228634,0.8699737699247687,0.859971752226674,0.8499697345285793,0.8399677168304845,0.8299656991323898,0.8199636814342951,0.8099616637362004,0.7999596460381057,0.7899576283400109,0.7799556106419162,0.7699535929438215,0.7599515752457268,0.749949557547632,0.7399475398495374,0.7299455221514426,0.719943504453348,0.7099414867552531,0.6999394690571585,0.6899374513590638,0.6799354336609691,0.6699334159628744,0.6599313982647796,0.6499293805666849,0.6399273628685902,0.6299253451704955,0.6199233274724008,0.609921309774306,0.5999192920762113,0.5899172743781167,0.5799152566800219,0.5699132389819273,0.5599112212838324,0.5499092035857378,0.539907185887643,0.5299051681895484,0.5199031504914535,0.5099011327933589,0.4998991150952642,0.48989709739716947,0.47989507969907474,0.46989306200098,0.4598910443028853,0.4498890266047906,0.43988700890669585,0.42988499120860113,0.4198829735105064,0.4098809558124117,0.39987893811431696,0.38987692041622224,0.3798749027181276,0.3698728850200329,0.3598708673219382,0.34986884962384346,0.33986683192574874,0.329864814227654,0.3198627965295593,0.30986077883146457,0.29985876113336984,0.2898567434352751,0.2798547257371804,0.2698527080390857,0.25985069034099095,0.24984867264289623,0.2398466549448015,0.22984463724670678,0.21984261954861206,0.20984060185051745,0.19983858415242273,0.19003833626379962,0.18165047704147808,0.17164845934338335,0.1647018130458594,0.1572651543539042,0.1500014412129248,0.14250713400397774,0.1353875421554781,0.1283255988239702,0.12212838324734099,0.11656530135762255,0.11163635315481513,0.10650563514253597,0.10186492952468795,0.09696480558037646,0.09203585737756892,0.08800046118813598,0.08445507739313407,0.08073674804715647,0.07756607961260198,0.07410716859308797,0.07085002738304558,0.06730464358804367,0.0637016112760499,0.060502118582999476,0.057331450148444985,0.05470844262531349,0.052748393047588826,0.05044245236791278,0.04727178393335829,0.04456230363473901,0.041881647594615656,0.03966217969042751,0.03761565733721495,0.035223243882051114,0.03355143688928597,0.03196610267200872,0.0300348773527801,0.028766609978958302,0.026835384659729677,0.02556711728590777,0.023607067708183216,0.02236762459285735,0.021041708702043693,0.019485198743262377,0.01813045859395268,0.017208082322082263,0.016228057533219986,0.015420978295333398,0.01452742628195891,0.014037413887527772,0.012913267806185735,0.012077364309803107,0.01135675784740442,0.01054967860951772,0.009973193439598793,0.009396708269679754,0.008820223099760716,0.008099616637362028,0.00737901017496323,0.006888997780532091,0.006254864093621193,0.005563081889718435,0.004842475427319637,0.004237165998904668,0.00374715360447353,0.003199492693050421,0.002738304557115323,0.002507710489147663,0.0023347649381719737,0.002075346611708384,0.0017871040267488647,0.001527685700285386,0.0013835644078056264,0.0011529703398379665,0.0009223762718704176,0.0007494307208947282,0.0004900123944311385,0.00020176980947161915,0.0]},{\"showlegend\":true,\"mode\":\"lines\",\"xaxis\":\"x\",\"colorbar\":{\"title\":\"\"},\"line\":{\"color\":\"rgba(62, 164, 78, 1.000)\",\"shape\":\"linear\",\"dash\":\"solid\",\"width\":2},\"y\":[1.0,0.9997118017195831,0.9993995869157981,0.9993035208223258,0.999063355588645,0.9987751573082281,0.998438925981075,0.9980546616071857,0.9978865459436091,0.9973821989528796,0.9970219511023585,0.996613670205101,0.9961573562611077,0.9959171910274268,0.9954848936068015,0.9949565300927038,0.994404150055238,0.9939238195878765,0.9933954560737788,0.9928670925596811,0.9924347951390556,0.9919304481483261,0.9912099524472837,0.9903693741294011,0.9897689610451991,0.9889764157740526,0.9882559200730102,0.9874873913252318,0.9865507469138768,0.9854700033623133,0.9842691771939094,0.9833085162591864,0.9822037561842548,0.9808348143522744,0.9792497238099813,0.9780008645948413,0.9767039723329651,0.9751669148374081,0.9737019069119555,0.972308948556607,0.9709640232479946,0.9689706518084442,0.9670733464623661,0.965176041116288,0.9631346366300014,0.9612853643306595,0.9593400259378453,0.9569864066477737,0.9544646716941255,0.952111052404054,0.9495172678803017,0.9473797973005428,0.9448100293001586,0.9419760795427254,0.9392622124021327,0.9359239156539699,0.9327297180460157,0.9293914212978529,0.9262452567366348,0.9227628608482636,0.9199289110908305,0.9159661847350977,0.9120995244728373,0.9084970459676257,0.9039579230510592,0.898626254863346,0.8938949997598348,0.889620058600317,0.88371199385177,0.8787886065613142,0.8733128392333925,0.8664200970267544,0.8598635861472693,0.8532590422210481,0.8464863826312503,0.8383687977328402,0.8315000720495701,0.8225659253566454,0.8132234977664633,0.8037129545127047,0.795067006100197,0.7850521158557088,0.7750372256112206,0.7653345501705173,0.7553196599260291,0.7453047696815409,0.7352898794370527,0.7252749891925645,0.7152600989480763,0.7052452087035881,0.6952303184590999,0.6852154282146117,0.6752005379701235,0.6651856477256353,0.6551707574811471,0.6451558672366589,0.6351409769921706,0.6251260867476824,0.6151111965031942,0.605096306258706,0.5950814160142178,0.5850665257697296,0.5750516355252414,0.5650367452807532,0.555021855036265,0.5450069647917768,0.5349920745472886,0.5249771843028004,0.5149622940583121,0.5049474038138239,0.4949325135693357,0.4849176233248475,0.4749027330803593,0.4648878428358711,0.4548729525913829,0.4448580623468947,0.43484317210240647,0.42482828185791827,0.41481339161343006,0.40479850136894185,0.39478361112445365,0.38476872087996544,0.3747538306354772,0.364738940390989,0.35472405014650077,0.34470915990201256,0.33469426965752436,0.32467937941303615,0.31466448916854795,0.30464959892405974,0.29463470867957153,0.2846198184350833,0.2746049281905951,0.2645900379461069,0.2545751477016187,0.2445602574571305,0.2345453672126423,0.2245304769681541,0.21451558672366589,0.20450069647917768,0.19448580623468947,0.18447091599020127,0.17445602574571306,0.16444113550122486,0.15442624525673662,0.14441135501224842,0.1343964647677602,0.12438157452327202,0.1143666842787838,0.10435179403429559,0.09433690378980739,0.08432201354531918,0.07430712330083097,0.06429223305634277,0.054277342811854555,0.04426245256736635,0.03424756232287814,0.024232672078389934,0.014217781833901724,0.0042028915894135165,0.0],\"type\":\"scatter\",\"name\":\"Quad Loss\",\"yaxis\":\"y\",\"x\":[1.0,0.9899979823019053,0.9799959646038106,0.9699939469057158,0.9599919292076211,0.9499899115095264,0.9399878938114317,0.9299858761133369,0.9199838584152422,0.9099818407171476,0.8999798230190529,0.8899778053209582,0.8799757876228634,0.8699737699247687,0.859971752226674,0.8499697345285793,0.8399677168304845,0.8299656991323898,0.8199636814342951,0.8099616637362004,0.7999596460381057,0.7899576283400109,0.7799556106419162,0.7699535929438215,0.7599515752457268,0.749949557547632,0.7399475398495374,0.7299455221514426,0.719943504453348,0.7099414867552531,0.6999394690571585,0.6899374513590638,0.6799354336609691,0.6699334159628744,0.6599313982647796,0.6499293805666849,0.6399273628685902,0.6299253451704955,0.6199233274724008,0.609921309774306,0.5999192920762113,0.5899172743781167,0.5799152566800219,0.5699132389819273,0.5599112212838324,0.5499092035857378,0.539907185887643,0.5299051681895484,0.5199031504914535,0.5099011327933589,0.4998991150952642,0.48989709739716947,0.47989507969907474,0.46989306200098,0.4598910443028853,0.4498890266047906,0.43988700890669585,0.42988499120860113,0.4198829735105064,0.4098809558124117,0.39987893811431696,0.38987692041622224,0.3798749027181276,0.3698728850200329,0.3598708673219382,0.34986884962384346,0.33986683192574874,0.329864814227654,0.3198627965295593,0.30986077883146457,0.29985876113336984,0.2898567434352751,0.2798547257371804,0.2698527080390857,0.25985069034099095,0.24984867264289623,0.2398466549448015,0.22984463724670678,0.21984261954861206,0.20984060185051745,0.19983858415242273,0.19003833626379962,0.18165047704147808,0.17164845934338335,0.1647018130458594,0.1572651543539042,0.1500014412129248,0.14250713400397774,0.1353875421554781,0.1283255988239702,0.12212838324734099,0.11656530135762255,0.11163635315481513,0.10650563514253597,0.10186492952468795,0.09696480558037646,0.09203585737756892,0.08800046118813598,0.08445507739313407,0.08073674804715647,0.07756607961260198,0.07410716859308797,0.07085002738304558,0.06730464358804367,0.0637016112760499,0.060502118582999476,0.057331450148444985,0.05470844262531349,0.052748393047588826,0.05044245236791278,0.04727178393335829,0.04456230363473901,0.041881647594615656,0.03966217969042751,0.03761565733721495,0.035223243882051114,0.03355143688928597,0.03196610267200872,0.0300348773527801,0.028766609978958302,0.026835384659729677,0.02556711728590777,0.023607067708183216,0.02236762459285735,0.021041708702043693,0.019485198743262377,0.01813045859395268,0.017208082322082263,0.016228057533219986,0.015420978295333398,0.01452742628195891,0.014037413887527772,0.012913267806185735,0.012077364309803107,0.01135675784740442,0.01054967860951772,0.009973193439598793,0.009396708269679754,0.008820223099760716,0.008099616637362028,0.00737901017496323,0.006888997780532091,0.006254864093621193,0.005563081889718435,0.004842475427319637,0.004237165998904668,0.00374715360447353,0.003199492693050421,0.002738304557115323,0.002507710489147663,0.0023347649381719737,0.002075346611708384,0.0017871040267488647,0.001527685700285386,0.0013835644078056264,0.0011529703398379665,0.0009223762718704176,0.0007494307208947282,0.0004900123944311385,0.00020176980947161915,0.0]},{\"xaxis\":\"x\",\"colorbar\":{\"title\":\"\"},\"yaxis\":\"y\",\"x\":[0.36763985358964757],\"showlegend\":true,\"mode\":\"lines+markers\",\"name\":\"Median Impute\",\"marker\":{\"symbol\":\"hexagon\",\"color\":\"rgba(195, 113, 210, 1.000)\",\"line\":{\"color\":\"rgba(0, 0, 0, 1.000)\",\"width\":1},\"size\":10},\"line\":{\"color\":\"rgba(195, 113, 210, 1.000)\",\"shape\":\"linear\",\"dash\":\"solid\",\"width\":1},\"y\":[0.8265536451829796],\"type\":\"scatter\"}], {\"showlegend\":true,\"xaxis\":{\"gridwidth\":0.5,\"tickvals\":[0.0,0.2,0.4,0.6,0.8,1.0],\"visible\":true,\"ticks\":\"inside\",\"tickmode\":\"array\",\"domain\":[0.09176290463692038,0.9921259842519685],\"linecolor\":\"rgba(0, 0, 0, 1.000)\",\"showgrid\":true,\"title\":\"1-Specificity\",\"mirror\":false,\"tickangle\":0,\"showline\":true,\"gridcolor\":\"rgba(0, 0, 0, 0.100)\",\"titlefont\":{\"color\":\"rgba(0, 0, 0, 1.000)\",\"family\":\"sans-serif\",\"size\":15},\"tickcolor\":\"rgb(0, 0, 0)\",\"ticktext\":[\"0.0\",\"0.2\",\"0.4\",\"0.6\",\"0.8\",\"1.0\"],\"zeroline\":false,\"type\":\"-\",\"tickfont\":{\"color\":\"rgba(0, 0, 0, 1.000)\",\"family\":\"sans-serif\",\"size\":11},\"zerolinecolor\":\"rgba(0, 0, 0, 1.000)\",\"anchor\":\"y\"},\"paper_bgcolor\":\"rgba(255, 255, 255, 1.000)\",\"annotations\":[{\"yanchor\":\"top\",\"xanchor\":\"center\",\"rotation\":-0.0,\"y\":1.0,\"font\":{\"color\":\"rgba(0, 0, 0, 1.000)\",\"family\":\"sans-serif\",\"size\":20},\"yref\":\"paper\",\"showarrow\":false,\"text\":\"Within Instrument Imputation ROC\",\"xref\":\"paper\",\"x\":0.5419444444444445}],\"height\":400,\"margin\":{\"l\":0,\"b\":20,\"r\":0,\"t\":20},\"plot_bgcolor\":\"rgba(255, 255, 255, 1.000)\",\"yaxis\":{\"gridwidth\":0.5,\"tickvals\":[0.0,0.2,0.4,0.6,0.8,1.0],\"visible\":true,\"ticks\":\"inside\",\"tickmode\":\"array\",\"domain\":[0.07581474190726165,0.9415463692038496],\"linecolor\":\"rgba(0, 0, 0, 1.000)\",\"showgrid\":true,\"title\":\"Sensitivity\",\"mirror\":false,\"tickangle\":0,\"showline\":true,\"gridcolor\":\"rgba(0, 0, 0, 0.100)\",\"titlefont\":{\"color\":\"rgba(0, 0, 0, 1.000)\",\"family\":\"sans-serif\",\"size\":15},\"tickcolor\":\"rgb(0, 0, 0)\",\"ticktext\":[\"0.0\",\"0.2\",\"0.4\",\"0.6\",\"0.8\",\"1.0\"],\"zeroline\":false,\"type\":\"-\",\"tickfont\":{\"color\":\"rgba(0, 0, 0, 1.000)\",\"family\":\"sans-serif\",\"size\":11},\"zerolinecolor\":\"rgba(0, 0, 0, 1.000)\",\"anchor\":\"x\"},\"legend\":{\"bordercolor\":\"rgba(0, 0, 0, 1.000)\",\"bgcolor\":\"rgba(255, 255, 255, 1.000)\",\"font\":{\"color\":\"rgba(0, 0, 0, 1.000)\",\"family\":\"sans-serif\",\"size\":11},\"y\":0.5,\"x\":1.0},\"width\":500});\n",
       "    </script>\n"
      ]
     },
     "execution_count": 48,
     "metadata": {},
     "output_type": "execute_result"
    }
   ],
   "source": [
    "using Plots\n",
    "plotly() # Choose the Plotly.jl backend for web interactivity\n",
    "\n",
    "sensitivity, specificity, cutoffs = roc(1, train_data, 1:n)\n",
    "plot(1-specificity, sensitivity, linewidth=2, \n",
    "    title=\"Within Instrument Imputation ROC\", ylabel=\"Sensitivity\", xlabel=\"1-Specificity\", linewidth=2, label=\"Train\", primary=true,\n",
    "    xticks = 0:.2:1, yticks = 0:.2:1, size=(500, 400), legend=:right)\n",
    "\n",
    "sensitivity, specificity, cutoffs = roc(1, validate_data, 1:n)\n",
    "plot!(1-specificity, sensitivity, linewidth=2, \n",
    "    linewidth=2, label=\"Validate\", primary=true)\n",
    "\n",
    "sensitivity, specificity, cutoffs = roc(2, validate_data, 1:n)\n",
    "plot!(1-specificity, sensitivity, linewidth=2, \n",
    "    linewidth=2, label=\"Quad Loss\", primary=true)\n",
    "\n",
    "plot!([1-baseline_specificity], [baseline_sensitivity], \n",
    "    markersize=5, markershape = :hexagon, primary=true, label=\"Median Impute\")\n"
   ]
  },
  {
   "cell_type": "code",
   "execution_count": 28,
   "metadata": {},
   "outputs": [
    {
     "name": "stdout",
     "output_type": "stream",
     "text": [
      "(14360, 185)(14360, 185)"
     ]
    },
    {
     "data": {
      "text/plain": [
       "76341-element SparseVector{Int64,Int64} with 76341 stored entries:\n",
       "  [1    ]  =  -1\n",
       "  [2    ]  =  -1\n",
       "  [3    ]  =  -1\n",
       "  [4    ]  =  1\n",
       "  [5    ]  =  -1\n",
       "  [6    ]  =  -1\n",
       "  [7    ]  =  -1\n",
       "  [8    ]  =  -1\n",
       "  [9    ]  =  -1\n",
       "  [10   ]  =  1\n",
       "           ⋮\n",
       "  [76331]  =  -1\n",
       "  [76332]  =  -1\n",
       "  [76333]  =  -1\n",
       "  [76334]  =  -1\n",
       "  [76335]  =  -1\n",
       "  [76336]  =  -1\n",
       "  [76337]  =  -1\n",
       "  [76338]  =  -1\n",
       "  [76339]  =  -1\n",
       "  [76340]  =  -1\n",
       "  [76341]  =  -1"
      ]
     },
     "execution_count": 28,
     "metadata": {},
     "output_type": "execute_result"
    }
   ],
   "source": [
    "approx = Xs[1].'*Ys[1]\n",
    "print(size(approx))\n",
    "print(size(validate_data))\n",
    "i_values = approx[validate_data .!= 0]\n",
    "a_values = validate_data[validate_data .!= 0]\n"
   ]
  },
  {
   "cell_type": "code",
   "execution_count": 99,
   "metadata": {
    "collapsed": true
   },
   "outputs": [],
   "source": [
    "# write to file\n",
    "writecsv(\"../data/impute_ordhinge_X_offset_pre$(k).csv\", X)\n",
    "writecsv(\"../data/impute_ordhinge_Y_offset_pre$(k).csv\", Y)\n",
    "#writecsv(\"../data/impute_ordhinge_train$(k).csv\", train_data)\n",
    "#writecsv(\"../data/impute_ordhinge_validate$(k).csv\", validate_data)"
   ]
  },
  {
   "cell_type": "code",
   "execution_count": 88,
   "metadata": {},
   "outputs": [
    {
     "name": "stdout",
     "output_type": "stream",
     "text": [
      "Fitting GLRM\n"
     ]
    },
    {
     "name": "stderr",
     "output_type": "stream",
     "text": [
      "\u001b[1m\u001b[33mWARNING: \u001b[39m\u001b[22m\u001b[33mArray(::Type{T}, m::Int) where T is deprecated, use Array{T}(m) instead.\u001b[39m\n",
      "Stacktrace:\n",
      " [1] \u001b[1mdepwarn\u001b[22m\u001b[22m\u001b[1m(\u001b[22m\u001b[22m::String, ::Symbol\u001b[1m)\u001b[22m\u001b[22m at \u001b[1m./deprecated.jl:70\u001b[22m\u001b[22m\n",
      " [2] \u001b[1mArray\u001b[22m\u001b[22m\u001b[1m(\u001b[22m\u001b[22m::Type{Union{Int64, Range{Int64}}}, ::Int64\u001b[1m)\u001b[22m\u001b[22m at \u001b[1m./deprecated.jl:57\u001b[22m\u001b[22m\n",
      " [3] \u001b[1mget_yidxs\u001b[22m\u001b[22m\u001b[1m(\u001b[22m\u001b[22m::Array{LowRankModels.Loss,1}\u001b[1m)\u001b[22m\u001b[22m at \u001b[1m/Users/kelley/.julia/v0.6/LowRankModels/src/losses.jl:77\u001b[22m\u001b[22m\n",
      " [4] \u001b[1m#fit!#79\u001b[22m\u001b[22m\u001b[1m(\u001b[22m\u001b[22m::LowRankModels.ConvergenceHistory, ::Bool, ::Array{Any,1}, ::Function, ::LowRankModels.GLRM, ::LowRankModels.ProxGradParams\u001b[1m)\u001b[22m\u001b[22m at \u001b[1m/Users/kelley/.julia/v0.6/LowRankModels/src/algorithms/proxgrad.jl:52\u001b[22m\u001b[22m\n",
      " [5] \u001b[1m(::StatsBase.#kw##fit!)\u001b[22m\u001b[22m\u001b[1m(\u001b[22m\u001b[22m::Array{Any,1}, ::StatsBase.#fit!, ::LowRankModels.GLRM, ::LowRankModels.ProxGradParams\u001b[1m)\u001b[22m\u001b[22m at \u001b[1m./<missing>:0\u001b[22m\u001b[22m\n",
      " [6] \u001b[1m#fit!#76\u001b[22m\u001b[22m\u001b[1m(\u001b[22m\u001b[22m::Array{Any,1}, ::Function, ::LowRankModels.GLRM\u001b[1m)\u001b[22m\u001b[22m at \u001b[1m/Users/kelley/.julia/v0.6/LowRankModels/src/fit.jl:11\u001b[22m\u001b[22m\n",
      " [7] \u001b[1m(::StatsBase.#kw##fit!)\u001b[22m\u001b[22m\u001b[1m(\u001b[22m\u001b[22m::Array{Any,1}, ::StatsBase.#fit!, ::LowRankModels.GLRM\u001b[1m)\u001b[22m\u001b[22m at \u001b[1m./<missing>:0\u001b[22m\u001b[22m\n",
      " [8] \u001b[1minclude_string\u001b[22m\u001b[22m\u001b[1m(\u001b[22m\u001b[22m::String, ::String\u001b[1m)\u001b[22m\u001b[22m at \u001b[1m./loading.jl:522\u001b[22m\u001b[22m\n",
      " [9] \u001b[1minclude_string\u001b[22m\u001b[22m\u001b[1m(\u001b[22m\u001b[22m::Module, ::String, ::String\u001b[1m)\u001b[22m\u001b[22m at \u001b[1m/Users/kelley/.julia/v0.6/Compat/src/Compat.jl:174\u001b[22m\u001b[22m\n",
      " [10] \u001b[1mexecute_request\u001b[22m\u001b[22m\u001b[1m(\u001b[22m\u001b[22m::ZMQ.Socket, ::IJulia.Msg\u001b[1m)\u001b[22m\u001b[22m at \u001b[1m/Users/kelley/.julia/v0.6/IJulia/src/execute_request.jl:154\u001b[22m\u001b[22m\n",
      " [11] \u001b[1m(::Compat.#inner#16{Array{Any,1},IJulia.#execute_request,Tuple{ZMQ.Socket,IJulia.Msg}})\u001b[22m\u001b[22m\u001b[1m(\u001b[22m\u001b[22m\u001b[1m)\u001b[22m\u001b[22m at \u001b[1m/Users/kelley/.julia/v0.6/Compat/src/Compat.jl:496\u001b[22m\u001b[22m\n",
      " [12] \u001b[1meventloop\u001b[22m\u001b[22m\u001b[1m(\u001b[22m\u001b[22m::ZMQ.Socket\u001b[1m)\u001b[22m\u001b[22m at \u001b[1m/Users/kelley/.julia/v0.6/IJulia/src/eventloop.jl:8\u001b[22m\u001b[22m\n",
      " [13] \u001b[1m(::IJulia.##14#17)\u001b[22m\u001b[22m\u001b[1m(\u001b[22m\u001b[22m\u001b[1m)\u001b[22m\u001b[22m at \u001b[1m./task.jl:335\u001b[22m\u001b[22m\n",
      "while loading In[88], in expression starting on line 237\n",
      "\u001b[1m\u001b[33mWARNING: \u001b[39m\u001b[22m\u001b[33mArray(::Type{T}, d::NTuple{N, Int}) where {T, N} is deprecated, use Array{T}(d) instead.\u001b[39m\n",
      "Stacktrace:\n",
      " [1] \u001b[1mdepwarn\u001b[22m\u001b[22m\u001b[1m(\u001b[22m\u001b[22m::String, ::Symbol\u001b[1m)\u001b[22m\u001b[22m at \u001b[1m./deprecated.jl:70\u001b[22m\u001b[22m\n",
      " [2] \u001b[1mArray\u001b[22m\u001b[22m\u001b[1m(\u001b[22m\u001b[22m::Type{Float64}, ::Tuple{Int64,Int64}\u001b[1m)\u001b[22m\u001b[22m at \u001b[1m./deprecated.jl:57\u001b[22m\u001b[22m\n",
      " [3] \u001b[1m#fit!#79\u001b[22m\u001b[22m\u001b[1m(\u001b[22m\u001b[22m::LowRankModels.ConvergenceHistory, ::Bool, ::Array{Any,1}, ::Function, ::LowRankModels.GLRM, ::LowRankModels.ProxGradParams\u001b[1m)\u001b[22m\u001b[22m at \u001b[1m/Users/kelley/.julia/v0.6/LowRankModels/src/algorithms/proxgrad.jl:65\u001b[22m\u001b[22m\n",
      " [4] \u001b[1m(::StatsBase.#kw##fit!)\u001b[22m\u001b[22m\u001b[1m(\u001b[22m\u001b[22m::Array{Any,1}, ::StatsBase.#fit!, ::LowRankModels.GLRM, ::LowRankModels.ProxGradParams\u001b[1m)\u001b[22m\u001b[22m at \u001b[1m./<missing>:0\u001b[22m\u001b[22m\n",
      " [5] \u001b[1m#fit!#76\u001b[22m\u001b[22m\u001b[1m(\u001b[22m\u001b[22m::Array{Any,1}, ::Function, ::LowRankModels.GLRM\u001b[1m)\u001b[22m\u001b[22m at \u001b[1m/Users/kelley/.julia/v0.6/LowRankModels/src/fit.jl:11\u001b[22m\u001b[22m\n",
      " [6] \u001b[1m(::StatsBase.#kw##fit!)\u001b[22m\u001b[22m\u001b[1m(\u001b[22m\u001b[22m::Array{Any,1}, ::StatsBase.#fit!, ::LowRankModels.GLRM\u001b[1m)\u001b[22m\u001b[22m at \u001b[1m./<missing>:0\u001b[22m\u001b[22m\n",
      " [7] \u001b[1minclude_string\u001b[22m\u001b[22m\u001b[1m(\u001b[22m\u001b[22m::String, ::String\u001b[1m)\u001b[22m\u001b[22m at \u001b[1m./loading.jl:522\u001b[22m\u001b[22m\n",
      " [8] \u001b[1minclude_string\u001b[22m\u001b[22m\u001b[1m(\u001b[22m\u001b[22m::Module, ::String, ::String\u001b[1m)\u001b[22m\u001b[22m at \u001b[1m/Users/kelley/.julia/v0.6/Compat/src/Compat.jl:174\u001b[22m\u001b[22m\n",
      " [9] \u001b[1mexecute_request\u001b[22m\u001b[22m\u001b[1m(\u001b[22m\u001b[22m::ZMQ.Socket, ::IJulia.Msg\u001b[1m)\u001b[22m\u001b[22m at \u001b[1m/Users/kelley/.julia/v0.6/IJulia/src/execute_request.jl:154\u001b[22m\u001b[22m\n",
      " [10] \u001b[1m(::Compat.#inner#16{Array{Any,1},IJulia.#execute_request,Tuple{ZMQ.Socket,IJulia.Msg}})\u001b[22m\u001b[22m\u001b[1m(\u001b[22m\u001b[22m\u001b[1m)\u001b[22m\u001b[22m at \u001b[1m/Users/kelley/.julia/v0.6/Compat/src/Compat.jl:496\u001b[22m\u001b[22m\n",
      " [11] \u001b[1meventloop\u001b[22m\u001b[22m\u001b[1m(\u001b[22m\u001b[22m::ZMQ.Socket\u001b[1m)\u001b[22m\u001b[22m at \u001b[1m/Users/kelley/.julia/v0.6/IJulia/src/eventloop.jl:8\u001b[22m\u001b[22m\n",
      " [12] \u001b[1m(::IJulia.##14#17)\u001b[22m\u001b[22m\u001b[1m(\u001b[22m\u001b[22m\u001b[1m)\u001b[22m\u001b[22m at \u001b[1m./task.jl:335\u001b[22m\u001b[22m\n",
      "while loading In[88], in expression starting on line 237\n",
      "\u001b[1m\u001b[33mWARNING: \u001b[39m\u001b[22m\u001b[33mexp(x::AbstractArray{T}) where T <: Number is deprecated, use exp.(x) instead.\u001b[39m\n",
      "Stacktrace:\n",
      " [1] \u001b[1mdepwarn\u001b[22m\u001b[22m\u001b[1m(\u001b[22m\u001b[22m::String, ::Symbol\u001b[1m)\u001b[22m\u001b[22m at \u001b[1m./deprecated.jl:70\u001b[22m\u001b[22m\n",
      " [2] \u001b[1mexp\u001b[22m\u001b[22m\u001b[1m(\u001b[22m\u001b[22m::Array{Float64,1}\u001b[1m)\u001b[22m\u001b[22m at \u001b[1m./deprecated.jl:57\u001b[22m\u001b[22m\n",
      " [3] \u001b[1mevaluate\u001b[22m\u001b[22m\u001b[1m(\u001b[22m\u001b[22m::LowRankModels.OrdisticLoss, ::Array{Float64,1}, ::Int64\u001b[1m)\u001b[22m\u001b[22m at \u001b[1m/Users/kelley/.julia/v0.6/LowRankModels/src/losses.jl:513\u001b[22m\u001b[22m\n",
      " [4] \u001b[1m#objective#57\u001b[22m\u001b[22m\u001b[1m(\u001b[22m\u001b[22m::Array{Union{Int64, Range{Int64}},1}, ::Bool, ::Function, ::LowRankModels.GLRM, ::Array{Float64,2}, ::Array{Float64,2}, ::Array{Float64,2}\u001b[1m)\u001b[22m\u001b[22m at \u001b[1m/Users/kelley/.julia/v0.6/LowRankModels/src/evaluate_fit.jl:15\u001b[22m\u001b[22m\n",
      " [5] \u001b[1m(::LowRankModels.#kw##objective)\u001b[22m\u001b[22m\u001b[1m(\u001b[22m\u001b[22m::Array{Any,1}, ::LowRankModels.#objective, ::LowRankModels.GLRM, ::Array{Float64,2}, ::Array{Float64,2}, ::Array{Float64,2}\u001b[1m)\u001b[22m\u001b[22m at \u001b[1m./<missing>:0\u001b[22m\u001b[22m\n",
      " [6] \u001b[1m#fit!#79\u001b[22m\u001b[22m\u001b[1m(\u001b[22m\u001b[22m::LowRankModels.ConvergenceHistory, ::Bool, ::Array{Any,1}, ::Function, ::LowRankModels.GLRM, ::LowRankModels.ProxGradParams\u001b[1m)\u001b[22m\u001b[22m at \u001b[1m/Users/kelley/.julia/v0.6/LowRankModels/src/algorithms/proxgrad.jl:76\u001b[22m\u001b[22m\n",
      " [7] \u001b[1m(::StatsBase.#kw##fit!)\u001b[22m\u001b[22m\u001b[1m(\u001b[22m\u001b[22m::Array{Any,1}, ::StatsBase.#fit!, ::LowRankModels.GLRM, ::LowRankModels.ProxGradParams\u001b[1m)\u001b[22m\u001b[22m at \u001b[1m./<missing>:0\u001b[22m\u001b[22m\n",
      " [8] \u001b[1m#fit!#76\u001b[22m\u001b[22m\u001b[1m(\u001b[22m\u001b[22m::Array{Any,1}, ::Function, ::LowRankModels.GLRM\u001b[1m)\u001b[22m\u001b[22m at \u001b[1m/Users/kelley/.julia/v0.6/LowRankModels/src/fit.jl:11\u001b[22m\u001b[22m\n",
      " [9] \u001b[1m(::StatsBase.#kw##fit!)\u001b[22m\u001b[22m\u001b[1m(\u001b[22m\u001b[22m::Array{Any,1}, ::StatsBase.#fit!, ::LowRankModels.GLRM\u001b[1m)\u001b[22m\u001b[22m at \u001b[1m./<missing>:0\u001b[22m\u001b[22m\n",
      " [10] \u001b[1minclude_string\u001b[22m\u001b[22m\u001b[1m(\u001b[22m\u001b[22m::String, ::String\u001b[1m)\u001b[22m\u001b[22m at \u001b[1m./loading.jl:522\u001b[22m\u001b[22m\n",
      " [11] \u001b[1minclude_string\u001b[22m\u001b[22m\u001b[1m(\u001b[22m\u001b[22m::Module, ::String, ::String\u001b[1m)\u001b[22m\u001b[22m at \u001b[1m/Users/kelley/.julia/v0.6/Compat/src/Compat.jl:174\u001b[22m\u001b[22m\n",
      " [12] \u001b[1mexecute_request\u001b[22m\u001b[22m\u001b[1m(\u001b[22m\u001b[22m::ZMQ.Socket, ::IJulia.Msg\u001b[1m)\u001b[22m\u001b[22m at \u001b[1m/Users/kelley/.julia/v0.6/IJulia/src/execute_request.jl:154\u001b[22m\u001b[22m\n",
      " [13] \u001b[1m(::Compat.#inner#16{Array{Any,1},IJulia.#execute_request,Tuple{ZMQ.Socket,IJulia.Msg}})\u001b[22m\u001b[22m\u001b[1m(\u001b[22m\u001b[22m\u001b[1m)\u001b[22m\u001b[22m at \u001b[1m/Users/kelley/.julia/v0.6/Compat/src/Compat.jl:496\u001b[22m\u001b[22m\n",
      " [14] \u001b[1meventloop\u001b[22m\u001b[22m\u001b[1m(\u001b[22m\u001b[22m::ZMQ.Socket\u001b[1m)\u001b[22m\u001b[22m at \u001b[1m/Users/kelley/.julia/v0.6/IJulia/src/eventloop.jl:8\u001b[22m\u001b[22m\n",
      " [15] \u001b[1m(::IJulia.##14#17)\u001b[22m\u001b[22m\u001b[1m(\u001b[22m\u001b[22m\u001b[1m)\u001b[22m\u001b[22m at \u001b[1m./task.jl:335\u001b[22m\u001b[22m\n",
      "while loading In[88], in expression starting on line 237\n",
      "WARNING: Base.LinearFast is deprecated, use Base.IndexLinear instead.\n",
      "  likely near In[88]:237\n",
      "WARNING: Base.LinearFast is deprecated, use Base.IndexLinear instead.\n",
      "  likely near In[88]:237\n",
      "WARNING: Base.LinearFast is deprecated, use Base.IndexLinear instead.\n",
      "  likely near In[88]:237\n",
      "WARNING: Base.LinearFast is deprecated, use Base.IndexLinear instead.\n",
      "  likely near In[88]:237\n",
      "WARNING: Base.LinearFast is deprecated, use Base.IndexLinear instead.\n",
      "  likely near In[88]:237\n",
      "WARNING: Base.LinearFast is deprecated, use Base.IndexLinear instead.\n",
      "  likely near In[88]:237\n",
      "\u001b[1m\u001b[33mWARNING: \u001b[39m\u001b[22m\u001b[33mArray(::Type{T}, d::NTuple{N, Int}) where {T, N} is deprecated, use Array{T}(d) instead.\u001b[39m\n",
      "Stacktrace:\n",
      " [1] \u001b[1mdepwarn\u001b[22m\u001b[22m\u001b[1m(\u001b[22m\u001b[22m::String, ::Symbol\u001b[1m)\u001b[22m\u001b[22m at \u001b[1m./deprecated.jl:70\u001b[22m\u001b[22m\n",
      " [2] \u001b[1mArray\u001b[22m\u001b[22m\u001b[1m(\u001b[22m\u001b[22m::Type{Float64}, ::Tuple{Int64,Int64}\u001b[1m)\u001b[22m\u001b[22m at \u001b[1m./deprecated.jl:57\u001b[22m\u001b[22m\n",
      " [3] \u001b[1mmacro expansion\u001b[22m\u001b[22m at \u001b[1m./multidimensional.jl:511\u001b[22m\u001b[22m [inlined]\n",
      " [4] \u001b[1m_unsafe_getindex\u001b[22m\u001b[22m\u001b[1m(\u001b[22m\u001b[22m::IndexLinear, ::ArrayViews.ContiguousView{Float64,2,Array{Float64,2}}, ::UnitRange{Int64}, ::Base.Slice{Base.OneTo{Int64}}\u001b[1m)\u001b[22m\u001b[22m at \u001b[1m./multidimensional.jl:506\u001b[22m\u001b[22m\n",
      " [5] \u001b[1mmacro expansion\u001b[22m\u001b[22m at \u001b[1m./multidimensional.jl:495\u001b[22m\u001b[22m [inlined]\n",
      " [6] \u001b[1m_getindex\u001b[22m\u001b[22m at \u001b[1m./multidimensional.jl:491\u001b[22m\u001b[22m [inlined]\n",
      " [7] \u001b[1mgetindex\u001b[22m\u001b[22m at \u001b[1m./abstractarray.jl:883\u001b[22m\u001b[22m [inlined]\n",
      " [8] \u001b[1mevaluate\u001b[22m\u001b[22m\u001b[1m(\u001b[22m\u001b[22m::LowRankModels.lastentry_unpenalized, ::ArrayViews.ContiguousView{Float64,2,Array{Float64,2}}\u001b[1m)\u001b[22m\u001b[22m at \u001b[1m/Users/kelley/.julia/v0.6/LowRankModels/src/regularizers.jl:187\u001b[22m\u001b[22m\n",
      " [9] \u001b[1m#calc_penalty#62\u001b[22m\u001b[22m\u001b[1m(\u001b[22m\u001b[22m::Array{Union{Int64, Range{Int64}},1}, ::Function, ::LowRankModels.GLRM, ::Array{Float64,2}, ::Array{Float64,2}\u001b[1m)\u001b[22m\u001b[22m at \u001b[1m/Users/kelley/.julia/v0.6/LowRankModels/src/evaluate_fit.jl:100\u001b[22m\u001b[22m\n",
      " [10] \u001b[1m(::LowRankModels.#kw##calc_penalty)\u001b[22m\u001b[22m\u001b[1m(\u001b[22m\u001b[22m::Array{Any,1}, ::LowRankModels.#calc_penalty, ::LowRankModels.GLRM, ::Array{Float64,2}, ::Array{Float64,2}\u001b[1m)\u001b[22m\u001b[22m at \u001b[1m./<missing>:0\u001b[22m\u001b[22m\n",
      " [11] \u001b[1m#objective#57\u001b[22m\u001b[22m\u001b[1m(\u001b[22m\u001b[22m::Array{Union{Int64, Range{Int64}},1}, ::Bool, ::Function, ::LowRankModels.GLRM, ::Array{Float64,2}, ::Array{Float64,2}, ::Array{Float64,2}\u001b[1m)\u001b[22m\u001b[22m at \u001b[1m/Users/kelley/.julia/v0.6/LowRankModels/src/evaluate_fit.jl:20\u001b[22m\u001b[22m\n",
      " [12] \u001b[1m(::LowRankModels.#kw##objective)\u001b[22m\u001b[22m\u001b[1m(\u001b[22m\u001b[22m::Array{Any,1}, ::LowRankModels.#objective, ::LowRankModels.GLRM, ::Array{Float64,2}, ::Array{Float64,2}, ::Array{Float64,2}\u001b[1m)\u001b[22m\u001b[22m at \u001b[1m./<missing>:0\u001b[22m\u001b[22m\n",
      " [13] \u001b[1m#fit!#79\u001b[22m\u001b[22m\u001b[1m(\u001b[22m\u001b[22m::LowRankModels.ConvergenceHistory, ::Bool, ::Array{Any,1}, ::Function, ::LowRankModels.GLRM, ::LowRankModels.ProxGradParams\u001b[1m)\u001b[22m\u001b[22m at \u001b[1m/Users/kelley/.julia/v0.6/LowRankModels/src/algorithms/proxgrad.jl:76\u001b[22m\u001b[22m\n",
      " [14] \u001b[1m(::StatsBase.#kw##fit!)\u001b[22m\u001b[22m\u001b[1m(\u001b[22m\u001b[22m::Array{Any,1}, ::StatsBase.#fit!, ::LowRankModels.GLRM, ::LowRankModels.ProxGradParams\u001b[1m)\u001b[22m\u001b[22m at \u001b[1m./<missing>:0\u001b[22m\u001b[22m\n",
      " [15] \u001b[1m#fit!#76\u001b[22m\u001b[22m\u001b[1m(\u001b[22m\u001b[22m::Array{Any,1}, ::Function, ::LowRankModels.GLRM\u001b[1m)\u001b[22m\u001b[22m at \u001b[1m/Users/kelley/.julia/v0.6/LowRankModels/src/fit.jl:11\u001b[22m\u001b[22m\n",
      " [16] \u001b[1m(::StatsBase.#kw##fit!)\u001b[22m\u001b[22m\u001b[1m(\u001b[22m\u001b[22m::Array{Any,1}, ::StatsBase.#fit!, ::LowRankModels.GLRM\u001b[1m)\u001b[22m\u001b[22m at \u001b[1m./<missing>:0\u001b[22m\u001b[22m\n",
      " [17] \u001b[1minclude_string\u001b[22m\u001b[22m\u001b[1m(\u001b[22m\u001b[22m::String, ::String\u001b[1m)\u001b[22m\u001b[22m at \u001b[1m./loading.jl:522\u001b[22m\u001b[22m\n",
      " [18] \u001b[1minclude_string\u001b[22m\u001b[22m\u001b[1m(\u001b[22m\u001b[22m::Module, ::String, ::String\u001b[1m)\u001b[22m\u001b[22m at \u001b[1m/Users/kelley/.julia/v0.6/Compat/src/Compat.jl:174\u001b[22m\u001b[22m\n",
      " [19] \u001b[1mexecute_request\u001b[22m\u001b[22m\u001b[1m(\u001b[22m\u001b[22m::ZMQ.Socket, ::IJulia.Msg\u001b[1m)\u001b[22m\u001b[22m at \u001b[1m/Users/kelley/.julia/v0.6/IJulia/src/execute_request.jl:154\u001b[22m\u001b[22m\n",
      " [20] \u001b[1m(::Compat.#inner#16{Array{Any,1},IJulia.#execute_request,Tuple{ZMQ.Socket,IJulia.Msg}})\u001b[22m\u001b[22m\u001b[1m(\u001b[22m\u001b[22m\u001b[1m)\u001b[22m\u001b[22m at \u001b[1m/Users/kelley/.julia/v0.6/Compat/src/Compat.jl:496\u001b[22m\u001b[22m\n",
      " [21] \u001b[1meventloop\u001b[22m\u001b[22m\u001b[1m(\u001b[22m\u001b[22m::ZMQ.Socket\u001b[1m)\u001b[22m\u001b[22m at \u001b[1m/Users/kelley/.julia/v0.6/IJulia/src/eventloop.jl:8\u001b[22m\u001b[22m\n",
      " [22] \u001b[1m(::IJulia.##14#17)\u001b[22m\u001b[22m\u001b[1m(\u001b[22m\u001b[22m\u001b[1m)\u001b[22m\u001b[22m at \u001b[1m./task.jl:335\u001b[22m\u001b[22m\n",
      "while loading In[88], in expression starting on line 237\n",
      "\u001b[1m\u001b[33mWARNING: \u001b[39m\u001b[22m\u001b[33msumabs2(x) is deprecated, use sum(abs2, x) instead.\u001b[39m\n",
      "Stacktrace:\n",
      " [1] \u001b[1mdepwarn\u001b[22m\u001b[22m\u001b[1m(\u001b[22m\u001b[22m::String, ::Symbol\u001b[1m)\u001b[22m\u001b[22m at \u001b[1m./deprecated.jl:70\u001b[22m\u001b[22m\n",
      " [2] \u001b[1msumabs2\u001b[22m\u001b[22m\u001b[1m(\u001b[22m\u001b[22m::Array{Float64,2}\u001b[1m)\u001b[22m\u001b[22m at \u001b[1m./deprecated.jl:57\u001b[22m\u001b[22m\n",
      " [3] \u001b[1mevaluate\u001b[22m\u001b[22m\u001b[1m(\u001b[22m\u001b[22m::LowRankModels.QuadReg, ::Array{Float64,2}\u001b[1m)\u001b[22m\u001b[22m at \u001b[1m/Users/kelley/.julia/v0.6/LowRankModels/src/regularizers.jl:57\u001b[22m\u001b[22m\n",
      " [4] \u001b[1mevaluate\u001b[22m\u001b[22m\u001b[1m(\u001b[22m\u001b[22m::LowRankModels.lastentry_unpenalized, ::ArrayViews.ContiguousView{Float64,2,Array{Float64,2}}\u001b[1m)\u001b[22m\u001b[22m at \u001b[1m/Users/kelley/.julia/v0.6/LowRankModels/src/regularizers.jl:187\u001b[22m\u001b[22m\n",
      " [5] \u001b[1m#calc_penalty#62\u001b[22m\u001b[22m\u001b[1m(\u001b[22m\u001b[22m::Array{Union{Int64, Range{Int64}},1}, ::Function, ::LowRankModels.GLRM, ::Array{Float64,2}, ::Array{Float64,2}\u001b[1m)\u001b[22m\u001b[22m at \u001b[1m/Users/kelley/.julia/v0.6/LowRankModels/src/evaluate_fit.jl:100\u001b[22m\u001b[22m\n",
      " [6] \u001b[1m(::LowRankModels.#kw##calc_penalty)\u001b[22m\u001b[22m\u001b[1m(\u001b[22m\u001b[22m::Array{Any,1}, ::LowRankModels.#calc_penalty, ::LowRankModels.GLRM, ::Array{Float64,2}, ::Array{Float64,2}\u001b[1m)\u001b[22m\u001b[22m at \u001b[1m./<missing>:0\u001b[22m\u001b[22m\n",
      " [7] \u001b[1m#objective#57\u001b[22m\u001b[22m\u001b[1m(\u001b[22m\u001b[22m::Array{Union{Int64, Range{Int64}},1}, ::Bool, ::Function, ::LowRankModels.GLRM, ::Array{Float64,2}, ::Array{Float64,2}, ::Array{Float64,2}\u001b[1m)\u001b[22m\u001b[22m at \u001b[1m/Users/kelley/.julia/v0.6/LowRankModels/src/evaluate_fit.jl:20\u001b[22m\u001b[22m\n",
      " [8] \u001b[1m(::LowRankModels.#kw##objective)\u001b[22m\u001b[22m\u001b[1m(\u001b[22m\u001b[22m::Array{Any,1}, ::LowRankModels.#objective, ::LowRankModels.GLRM, ::Array{Float64,2}, ::Array{Float64,2}, ::Array{Float64,2}\u001b[1m)\u001b[22m\u001b[22m at \u001b[1m./<missing>:0\u001b[22m\u001b[22m\n",
      " [9] \u001b[1m#fit!#79\u001b[22m\u001b[22m\u001b[1m(\u001b[22m\u001b[22m::LowRankModels.ConvergenceHistory, ::Bool, ::Array{Any,1}, ::Function, ::LowRankModels.GLRM, ::LowRankModels.ProxGradParams\u001b[1m)\u001b[22m\u001b[22m at \u001b[1m/Users/kelley/.julia/v0.6/LowRankModels/src/algorithms/proxgrad.jl:76\u001b[22m\u001b[22m\n",
      " [10] \u001b[1m(::StatsBase.#kw##fit!)\u001b[22m\u001b[22m\u001b[1m(\u001b[22m\u001b[22m::Array{Any,1}, ::StatsBase.#fit!, ::LowRankModels.GLRM, ::LowRankModels.ProxGradParams\u001b[1m)\u001b[22m\u001b[22m at \u001b[1m./<missing>:0\u001b[22m\u001b[22m\n",
      " [11] \u001b[1m#fit!#76\u001b[22m\u001b[22m\u001b[1m(\u001b[22m\u001b[22m::Array{Any,1}, ::Function, ::LowRankModels.GLRM\u001b[1m)\u001b[22m\u001b[22m at \u001b[1m/Users/kelley/.julia/v0.6/LowRankModels/src/fit.jl:11\u001b[22m\u001b[22m\n",
      " [12] \u001b[1m(::StatsBase.#kw##fit!)\u001b[22m\u001b[22m\u001b[1m(\u001b[22m\u001b[22m::Array{Any,1}, ::StatsBase.#fit!, ::LowRankModels.GLRM\u001b[1m)\u001b[22m\u001b[22m at \u001b[1m./<missing>:0\u001b[22m\u001b[22m\n",
      " [13] \u001b[1minclude_string\u001b[22m\u001b[22m\u001b[1m(\u001b[22m\u001b[22m::String, ::String\u001b[1m)\u001b[22m\u001b[22m at \u001b[1m./loading.jl:522\u001b[22m\u001b[22m\n",
      " [14] \u001b[1minclude_string\u001b[22m\u001b[22m\u001b[1m(\u001b[22m\u001b[22m::Module, ::String, ::String\u001b[1m)\u001b[22m\u001b[22m at \u001b[1m/Users/kelley/.julia/v0.6/Compat/src/Compat.jl:174\u001b[22m\u001b[22m\n",
      " [15] \u001b[1mexecute_request\u001b[22m\u001b[22m\u001b[1m(\u001b[22m\u001b[22m::ZMQ.Socket, ::IJulia.Msg\u001b[1m)\u001b[22m\u001b[22m at \u001b[1m/Users/kelley/.julia/v0.6/IJulia/src/execute_request.jl:154\u001b[22m\u001b[22m\n",
      " [16] \u001b[1m(::Compat.#inner#16{Array{Any,1},IJulia.#execute_request,Tuple{ZMQ.Socket,IJulia.Msg}})\u001b[22m\u001b[22m\u001b[1m(\u001b[22m\u001b[22m\u001b[1m)\u001b[22m\u001b[22m at \u001b[1m/Users/kelley/.julia/v0.6/Compat/src/Compat.jl:496\u001b[22m\u001b[22m\n",
      " [17] \u001b[1meventloop\u001b[22m\u001b[22m\u001b[1m(\u001b[22m\u001b[22m::ZMQ.Socket\u001b[1m)\u001b[22m\u001b[22m at \u001b[1m/Users/kelley/.julia/v0.6/IJulia/src/eventloop.jl:8\u001b[22m\u001b[22m\n",
      " [18] \u001b[1m(::IJulia.##14#17)\u001b[22m\u001b[22m\u001b[1m(\u001b[22m\u001b[22m\u001b[1m)\u001b[22m\u001b[22m at \u001b[1m./task.jl:335\u001b[22m\u001b[22m\n",
      "while loading In[88], in expression starting on line 237\n"
     ]
    },
    {
     "name": "stderr",
     "output_type": "stream",
     "text": [
      "\u001b[1m\u001b[33mWARNING: \u001b[39m\u001b[22m\u001b[33mexp(x::AbstractArray{T}) where T <: Number is deprecated, use exp.(x) instead.\u001b[39m\n",
      "Stacktrace:\n",
      " [1] \u001b[1mdepwarn\u001b[22m\u001b[22m\u001b[1m(\u001b[22m\u001b[22m::String, ::Symbol\u001b[1m)\u001b[22m\u001b[22m at \u001b[1m./deprecated.jl:70\u001b[22m\u001b[22m\n",
      " [2] \u001b[1mexp\u001b[22m\u001b[22m\u001b[1m(\u001b[22m\u001b[22m::Array{Float64,1}\u001b[1m)\u001b[22m\u001b[22m at \u001b[1m./deprecated.jl:57\u001b[22m\u001b[22m\n",
      " [3] \u001b[1mgrad\u001b[22m\u001b[22m\u001b[1m(\u001b[22m\u001b[22m::LowRankModels.OrdisticLoss, ::Array{Float64,1}, ::Int64\u001b[1m)\u001b[22m\u001b[22m at \u001b[1m/Users/kelley/.julia/v0.6/LowRankModels/src/losses.jl:526\u001b[22m\u001b[22m\n",
      " [4] \u001b[1m#fit!#79\u001b[22m\u001b[22m\u001b[1m(\u001b[22m\u001b[22m::LowRankModels.ConvergenceHistory, ::Bool, ::Array{Any,1}, ::Function, ::LowRankModels.GLRM, ::LowRankModels.ProxGradParams\u001b[1m)\u001b[22m\u001b[22m at \u001b[1m/Users/kelley/.julia/v0.6/LowRankModels/src/algorithms/proxgrad.jl:128\u001b[22m\u001b[22m\n",
      " [5] \u001b[1m(::StatsBase.#kw##fit!)\u001b[22m\u001b[22m\u001b[1m(\u001b[22m\u001b[22m::Array{Any,1}, ::StatsBase.#fit!, ::LowRankModels.GLRM, ::LowRankModels.ProxGradParams\u001b[1m)\u001b[22m\u001b[22m at \u001b[1m./<missing>:0\u001b[22m\u001b[22m\n",
      " [6] \u001b[1m#fit!#76\u001b[22m\u001b[22m\u001b[1m(\u001b[22m\u001b[22m::Array{Any,1}, ::Function, ::LowRankModels.GLRM\u001b[1m)\u001b[22m\u001b[22m at \u001b[1m/Users/kelley/.julia/v0.6/LowRankModels/src/fit.jl:11\u001b[22m\u001b[22m\n",
      " [7] \u001b[1m(::StatsBase.#kw##fit!)\u001b[22m\u001b[22m\u001b[1m(\u001b[22m\u001b[22m::Array{Any,1}, ::StatsBase.#fit!, ::LowRankModels.GLRM\u001b[1m)\u001b[22m\u001b[22m at \u001b[1m./<missing>:0\u001b[22m\u001b[22m\n",
      " [8] \u001b[1minclude_string\u001b[22m\u001b[22m\u001b[1m(\u001b[22m\u001b[22m::String, ::String\u001b[1m)\u001b[22m\u001b[22m at \u001b[1m./loading.jl:522\u001b[22m\u001b[22m\n",
      " [9] \u001b[1minclude_string\u001b[22m\u001b[22m\u001b[1m(\u001b[22m\u001b[22m::Module, ::String, ::String\u001b[1m)\u001b[22m\u001b[22m at \u001b[1m/Users/kelley/.julia/v0.6/Compat/src/Compat.jl:174\u001b[22m\u001b[22m\n",
      " [10] \u001b[1mexecute_request\u001b[22m\u001b[22m\u001b[1m(\u001b[22m\u001b[22m::ZMQ.Socket, ::IJulia.Msg\u001b[1m)\u001b[22m\u001b[22m at \u001b[1m/Users/kelley/.julia/v0.6/IJulia/src/execute_request.jl:154\u001b[22m\u001b[22m\n",
      " [11] \u001b[1m(::Compat.#inner#16{Array{Any,1},IJulia.#execute_request,Tuple{ZMQ.Socket,IJulia.Msg}})\u001b[22m\u001b[22m\u001b[1m(\u001b[22m\u001b[22m\u001b[1m)\u001b[22m\u001b[22m at \u001b[1m/Users/kelley/.julia/v0.6/Compat/src/Compat.jl:496\u001b[22m\u001b[22m\n",
      " [12] \u001b[1meventloop\u001b[22m\u001b[22m\u001b[1m(\u001b[22m\u001b[22m::ZMQ.Socket\u001b[1m)\u001b[22m\u001b[22m at \u001b[1m/Users/kelley/.julia/v0.6/IJulia/src/eventloop.jl:8\u001b[22m\u001b[22m\n",
      " [13] \u001b[1m(::IJulia.##14#17)\u001b[22m\u001b[22m\u001b[1m(\u001b[22m\u001b[22m\u001b[1m)\u001b[22m\u001b[22m at \u001b[1m./task.jl:335\u001b[22m\u001b[22m\n",
      "while loading In[88], in expression starting on line 237\n",
      "\u001b[1m\u001b[33mWARNING: \u001b[39m\u001b[22m\u001b[33mArray(::Type{T}, d::NTuple{N, Int}) where {T, N} is deprecated, use Array{T}(d) instead.\u001b[39m\n",
      "Stacktrace:\n",
      " [1] \u001b[1mdepwarn\u001b[22m\u001b[22m\u001b[1m(\u001b[22m\u001b[22m::String, ::Symbol\u001b[1m)\u001b[22m\u001b[22m at \u001b[1m./deprecated.jl:70\u001b[22m\u001b[22m\n",
      " [2] \u001b[1mArray\u001b[22m\u001b[22m\u001b[1m(\u001b[22m\u001b[22m::Type{Float64}, ::Tuple{Int64}\u001b[1m)\u001b[22m\u001b[22m at \u001b[1m./deprecated.jl:57\u001b[22m\u001b[22m\n",
      " [3] \u001b[1mAc_mul_B\u001b[22m\u001b[22m at \u001b[1m./linalg/matmul.jl:115\u001b[22m\u001b[22m [inlined]\n",
      " [4] \u001b[1mAc_mul_B\u001b[22m\u001b[22m at \u001b[1m./linalg/rowvector.jl:227\u001b[22m\u001b[22m [inlined]\n",
      " [5] \u001b[1m#row_objective#58\u001b[22m\u001b[22m\u001b[1m(\u001b[22m\u001b[22m::Array{Union{Int64, Range{Int64}},1}, ::Bool, ::Function, ::LowRankModels.GLRM, ::Int64, ::ArrayViews.ContiguousView{Float64,1,Array{Float64,2}}, ::Array{Float64,2}\u001b[1m)\u001b[22m\u001b[22m at \u001b[1m/Users/kelley/.julia/v0.6/LowRankModels/src/evaluate_fit.jl:29\u001b[22m\u001b[22m\n",
      " [6] \u001b[1mrow_objective\u001b[22m\u001b[22m\u001b[1m(\u001b[22m\u001b[22m::LowRankModels.GLRM, ::Int64, ::ArrayViews.ContiguousView{Float64,1,Array{Float64,2}}, ::Array{Float64,2}\u001b[1m)\u001b[22m\u001b[22m at \u001b[1m/Users/kelley/.julia/v0.6/LowRankModels/src/evaluate_fit.jl:27\u001b[22m\u001b[22m (repeats 2 times)\n",
      " [7] \u001b[1m#fit!#79\u001b[22m\u001b[22m\u001b[1m(\u001b[22m\u001b[22m::LowRankModels.ConvergenceHistory, ::Bool, ::Array{Any,1}, ::Function, ::LowRankModels.GLRM, ::LowRankModels.ProxGradParams\u001b[1m)\u001b[22m\u001b[22m at \u001b[1m/Users/kelley/.julia/v0.6/LowRankModels/src/algorithms/proxgrad.jl:138\u001b[22m\u001b[22m\n",
      " [8] \u001b[1m(::StatsBase.#kw##fit!)\u001b[22m\u001b[22m\u001b[1m(\u001b[22m\u001b[22m::Array{Any,1}, ::StatsBase.#fit!, ::LowRankModels.GLRM, ::LowRankModels.ProxGradParams\u001b[1m)\u001b[22m\u001b[22m at \u001b[1m./<missing>:0\u001b[22m\u001b[22m\n",
      " [9] \u001b[1m#fit!#76\u001b[22m\u001b[22m\u001b[1m(\u001b[22m\u001b[22m::Array{Any,1}, ::Function, ::LowRankModels.GLRM\u001b[1m)\u001b[22m\u001b[22m at \u001b[1m/Users/kelley/.julia/v0.6/LowRankModels/src/fit.jl:11\u001b[22m\u001b[22m\n",
      " [10] \u001b[1m(::StatsBase.#kw##fit!)\u001b[22m\u001b[22m\u001b[1m(\u001b[22m\u001b[22m::Array{Any,1}, ::StatsBase.#fit!, ::LowRankModels.GLRM\u001b[1m)\u001b[22m\u001b[22m at \u001b[1m./<missing>:0\u001b[22m\u001b[22m\n",
      " [11] \u001b[1minclude_string\u001b[22m\u001b[22m\u001b[1m(\u001b[22m\u001b[22m::String, ::String\u001b[1m)\u001b[22m\u001b[22m at \u001b[1m./loading.jl:522\u001b[22m\u001b[22m\n",
      " [12] \u001b[1minclude_string\u001b[22m\u001b[22m\u001b[1m(\u001b[22m\u001b[22m::Module, ::String, ::String\u001b[1m)\u001b[22m\u001b[22m at \u001b[1m/Users/kelley/.julia/v0.6/Compat/src/Compat.jl:174\u001b[22m\u001b[22m\n",
      " [13] \u001b[1mexecute_request\u001b[22m\u001b[22m\u001b[1m(\u001b[22m\u001b[22m::ZMQ.Socket, ::IJulia.Msg\u001b[1m)\u001b[22m\u001b[22m at \u001b[1m/Users/kelley/.julia/v0.6/IJulia/src/execute_request.jl:154\u001b[22m\u001b[22m\n",
      " [14] \u001b[1m(::Compat.#inner#16{Array{Any,1},IJulia.#execute_request,Tuple{ZMQ.Socket,IJulia.Msg}})\u001b[22m\u001b[22m\u001b[1m(\u001b[22m\u001b[22m\u001b[1m)\u001b[22m\u001b[22m at \u001b[1m/Users/kelley/.julia/v0.6/Compat/src/Compat.jl:496\u001b[22m\u001b[22m\n",
      " [15] \u001b[1meventloop\u001b[22m\u001b[22m\u001b[1m(\u001b[22m\u001b[22m::ZMQ.Socket\u001b[1m)\u001b[22m\u001b[22m at \u001b[1m/Users/kelley/.julia/v0.6/IJulia/src/eventloop.jl:8\u001b[22m\u001b[22m\n",
      " [16] \u001b[1m(::IJulia.##14#17)\u001b[22m\u001b[22m\u001b[1m(\u001b[22m\u001b[22m\u001b[1m)\u001b[22m\u001b[22m at \u001b[1m./task.jl:335\u001b[22m\u001b[22m\n",
      "while loading In[88], in expression starting on line 237\n",
      "\u001b[1m\u001b[33mWARNING: \u001b[39m\u001b[22m\u001b[33mArray(::Type{T}, d::NTuple{N, Int}) where {T, N} is deprecated, use Array{T}(d) instead.\u001b[39m\n",
      "Stacktrace:\n",
      " [1] \u001b[1mdepwarn\u001b[22m\u001b[22m\u001b[1m(\u001b[22m\u001b[22m::String, ::Symbol\u001b[1m)\u001b[22m\u001b[22m at \u001b[1m./deprecated.jl:70\u001b[22m\u001b[22m\n",
      " [2] \u001b[1mArray\u001b[22m\u001b[22m\u001b[1m(\u001b[22m\u001b[22m::Type{Float64}, ::Tuple{Int64,Int64}\u001b[1m)\u001b[22m\u001b[22m at \u001b[1m./deprecated.jl:57\u001b[22m\u001b[22m\n",
      " [3] \u001b[1mAt_mul_B\u001b[22m\u001b[22m at \u001b[1m./linalg/matmul.jl:182\u001b[22m\u001b[22m [inlined]\n",
      " [4] \u001b[1mAc_mul_B\u001b[22m\u001b[22m at \u001b[1m./linalg/matmul.jl:211\u001b[22m\u001b[22m [inlined]\n",
      " [5] \u001b[1m#col_objective#59\u001b[22m\u001b[22m\u001b[1m(\u001b[22m\u001b[22m::Bool, ::Function, ::LowRankModels.GLRM, ::Int64, ::ArrayViews.ContiguousView{Float64,2,Array{Float64,2}}, ::Array{Float64,2}\u001b[1m)\u001b[22m\u001b[22m at \u001b[1m/Users/kelley/.julia/v0.6/LowRankModels/src/evaluate_fit.jl:45\u001b[22m\u001b[22m\n",
      " [6] \u001b[1mcol_objective\u001b[22m\u001b[22m\u001b[1m(\u001b[22m\u001b[22m::LowRankModels.GLRM, ::Int64, ::ArrayViews.ContiguousView{Float64,2,Array{Float64,2}}, ::Array{Float64,2}\u001b[1m)\u001b[22m\u001b[22m at \u001b[1m/Users/kelley/.julia/v0.6/LowRankModels/src/evaluate_fit.jl:41\u001b[22m\u001b[22m (repeats 2 times)\n",
      " [7] \u001b[1m#fit!#79\u001b[22m\u001b[22m\u001b[1m(\u001b[22m\u001b[22m::LowRankModels.ConvergenceHistory, ::Bool, ::Array{Any,1}, ::Function, ::LowRankModels.GLRM, ::LowRankModels.ProxGradParams\u001b[1m)\u001b[22m\u001b[22m at \u001b[1m/Users/kelley/.julia/v0.6/LowRankModels/src/algorithms/proxgrad.jl:181\u001b[22m\u001b[22m\n",
      " [8] \u001b[1m(::StatsBase.#kw##fit!)\u001b[22m\u001b[22m\u001b[1m(\u001b[22m\u001b[22m::Array{Any,1}, ::StatsBase.#fit!, ::LowRankModels.GLRM, ::LowRankModels.ProxGradParams\u001b[1m)\u001b[22m\u001b[22m at \u001b[1m./<missing>:0\u001b[22m\u001b[22m\n",
      " [9] \u001b[1m#fit!#76\u001b[22m\u001b[22m\u001b[1m(\u001b[22m\u001b[22m::Array{Any,1}, ::Function, ::LowRankModels.GLRM\u001b[1m)\u001b[22m\u001b[22m at \u001b[1m/Users/kelley/.julia/v0.6/LowRankModels/src/fit.jl:11\u001b[22m\u001b[22m\n",
      " [10] \u001b[1m(::StatsBase.#kw##fit!)\u001b[22m\u001b[22m\u001b[1m(\u001b[22m\u001b[22m::Array{Any,1}, ::StatsBase.#fit!, ::LowRankModels.GLRM\u001b[1m)\u001b[22m\u001b[22m at \u001b[1m./<missing>:0\u001b[22m\u001b[22m\n",
      " [11] \u001b[1minclude_string\u001b[22m\u001b[22m\u001b[1m(\u001b[22m\u001b[22m::String, ::String\u001b[1m)\u001b[22m\u001b[22m at \u001b[1m./loading.jl:522\u001b[22m\u001b[22m\n",
      " [12] \u001b[1minclude_string\u001b[22m\u001b[22m\u001b[1m(\u001b[22m\u001b[22m::Module, ::String, ::String\u001b[1m)\u001b[22m\u001b[22m at \u001b[1m/Users/kelley/.julia/v0.6/Compat/src/Compat.jl:174\u001b[22m\u001b[22m\n",
      " [13] \u001b[1mexecute_request\u001b[22m\u001b[22m\u001b[1m(\u001b[22m\u001b[22m::ZMQ.Socket, ::IJulia.Msg\u001b[1m)\u001b[22m\u001b[22m at \u001b[1m/Users/kelley/.julia/v0.6/IJulia/src/execute_request.jl:154\u001b[22m\u001b[22m\n",
      " [14] \u001b[1m(::Compat.#inner#16{Array{Any,1},IJulia.#execute_request,Tuple{ZMQ.Socket,IJulia.Msg}})\u001b[22m\u001b[22m\u001b[1m(\u001b[22m\u001b[22m\u001b[1m)\u001b[22m\u001b[22m at \u001b[1m/Users/kelley/.julia/v0.6/Compat/src/Compat.jl:496\u001b[22m\u001b[22m\n",
      " [15] \u001b[1meventloop\u001b[22m\u001b[22m\u001b[1m(\u001b[22m\u001b[22m::ZMQ.Socket\u001b[1m)\u001b[22m\u001b[22m at \u001b[1m/Users/kelley/.julia/v0.6/IJulia/src/eventloop.jl:8\u001b[22m\u001b[22m\n",
      " [16] \u001b[1m(::IJulia.##14#17)\u001b[22m\u001b[22m\u001b[1m(\u001b[22m\u001b[22m\u001b[1m)\u001b[22m\u001b[22m at \u001b[1m./task.jl:335\u001b[22m\u001b[22m\n",
      "while loading In[88], in expression starting on line 237\n",
      "WARNING: Base.LinearSlow is deprecated, use Base.IndexCartesian instead.\n",
      "  likely near In[88]:237\n",
      "WARNING: Base.LinearSlow is deprecated, use Base.IndexCartesian instead.\n",
      "  likely near In[88]:237\n",
      "WARNING: Base.LinearSlow is deprecated, use Base.IndexCartesian instead.\n",
      "  likely near In[88]:237\n"
     ]
    },
    {
     "ename": "LoadError",
     "evalue": "\u001b[91mInterruptException:\u001b[39m",
     "output_type": "error",
     "traceback": [
      "\u001b[91mInterruptException:\u001b[39m",
      "",
      "Stacktrace:",
      " [1] \u001b[1mdepwarn\u001b[22m\u001b[22m\u001b[1m(\u001b[22m\u001b[22m::String, ::Symbol\u001b[1m)\u001b[22m\u001b[22m at \u001b[1m./deprecated.jl:71\u001b[22m\u001b[22m",
      " [2] \u001b[1mexp\u001b[22m\u001b[22m\u001b[1m(\u001b[22m\u001b[22m::Array{Float64,1}\u001b[1m)\u001b[22m\u001b[22m at \u001b[1m./deprecated.jl:57\u001b[22m\u001b[22m",
      " [3] \u001b[1mevaluate\u001b[22m\u001b[22m\u001b[1m(\u001b[22m\u001b[22m::LowRankModels.OrdisticLoss, ::Array{Float64,1}, ::Int64\u001b[1m)\u001b[22m\u001b[22m at \u001b[1m/Users/kelley/.julia/v0.6/LowRankModels/src/losses.jl:513\u001b[22m\u001b[22m",
      " [4] \u001b[1m#row_objective#58\u001b[22m\u001b[22m\u001b[1m(\u001b[22m\u001b[22m::Array{Union{Int64, Range{Int64}},1}, ::Bool, ::Function, ::LowRankModels.GLRM, ::Int64, ::ArrayViews.ContiguousView{Float64,1,Array{Float64,2}}, ::Array{Float64,2}\u001b[1m)\u001b[22m\u001b[22m at \u001b[1m/Users/kelley/.julia/v0.6/LowRankModels/src/evaluate_fit.jl:31\u001b[22m\u001b[22m",
      " [5] \u001b[1mrow_objective\u001b[22m\u001b[22m\u001b[1m(\u001b[22m\u001b[22m::LowRankModels.GLRM, ::Int64, ::ArrayViews.ContiguousView{Float64,1,Array{Float64,2}}, ::Array{Float64,2}\u001b[1m)\u001b[22m\u001b[22m at \u001b[1m/Users/kelley/.julia/v0.6/LowRankModels/src/evaluate_fit.jl:27\u001b[22m\u001b[22m (repeats 2 times)",
      " [6] \u001b[1m#fit!#79\u001b[22m\u001b[22m\u001b[1m(\u001b[22m\u001b[22m::LowRankModels.ConvergenceHistory, ::Bool, ::Array{Any,1}, ::Function, ::LowRankModels.GLRM, ::LowRankModels.ProxGradParams\u001b[1m)\u001b[22m\u001b[22m at \u001b[1m/Users/kelley/.julia/v0.6/LowRankModels/src/algorithms/proxgrad.jl:138\u001b[22m\u001b[22m",
      " [7] \u001b[1m(::StatsBase.#kw##fit!)\u001b[22m\u001b[22m\u001b[1m(\u001b[22m\u001b[22m::Array{Any,1}, ::StatsBase.#fit!, ::LowRankModels.GLRM, ::LowRankModels.ProxGradParams\u001b[1m)\u001b[22m\u001b[22m at \u001b[1m./<missing>:0\u001b[22m\u001b[22m",
      " [8] \u001b[1m#fit!#76\u001b[22m\u001b[22m\u001b[1m(\u001b[22m\u001b[22m::Array{Any,1}, ::Function, ::LowRankModels.GLRM\u001b[1m)\u001b[22m\u001b[22m at \u001b[1m/Users/kelley/.julia/v0.6/LowRankModels/src/fit.jl:11\u001b[22m\u001b[22m",
      " [9] \u001b[1m(::StatsBase.#kw##fit!)\u001b[22m\u001b[22m\u001b[1m(\u001b[22m\u001b[22m::Array{Any,1}, ::StatsBase.#fit!, ::LowRankModels.GLRM\u001b[1m)\u001b[22m\u001b[22m at \u001b[1m./<missing>:0\u001b[22m\u001b[22m",
      " [10] \u001b[1minclude_string\u001b[22m\u001b[22m\u001b[1m(\u001b[22m\u001b[22m::String, ::String\u001b[1m)\u001b[22m\u001b[22m at \u001b[1m./loading.jl:522\u001b[22m\u001b[22m"
     ]
    }
   ],
   "source": [
    "using LowRankModels\n",
    "import StatsBase: sample, Weights\n",
    "\n",
    "# test ordistic loss\n",
    "\n",
    "## generate data\n",
    "srand(1);\n",
    "m,n,k = 200,50,3;\n",
    "kfit = k+1\n",
    "d = 7; # number of levels\n",
    "D = n*d;\n",
    "# coordinates of covariates\n",
    "X_real = randn(m,k)\n",
    "# directions of observations\n",
    "Y_real = randn(k,n)\n",
    "# centers of measurement\n",
    "T_real = sqrt(k)*randn(d,n) # notice x^T y has variance k, so this scales the thresholds in the same way\n",
    "for j=1:n\n",
    "\tT_real[:,j] = sort(T_real[:,j])\n",
    "end\n",
    "# variance of measurement\n",
    "sigmasq = 1\n",
    "\n",
    "XY = X_real*Y_real;\n",
    "A = zeros(Int, (m, n))\n",
    "for i=1:m\n",
    "\tfor j=1:n\n",
    "\t\twv = Weights(Float64[exp(-(XY[i,j] - T_real[l,j])^2/sigmasq) for l in 1:d])\n",
    "\t\tl = sample(wv)\n",
    "\t\tA[i,j] = l\n",
    "\tend\n",
    "end\n",
    "\n",
    "# and the model\n",
    "losses = fill(OrdisticLoss(d),n)\n",
    "rx, ry = lastentry1(QuadReg(.01)), lastentry_unpenalized(QuadReg(.01));\n",
    "glrm = GLRM(A,losses,rx,ry,kfit, scale=false, offset=false, X=randn(kfit,m), Y=randn(kfit,D));\n",
    "\n",
    "# fit w/o initialization\n",
    "p = Params(1, max_iter=10, abs_tol=0.0000001, min_stepsize=0.000001)\n",
    "@time X,Y,ch = fit!(glrm, params=p);\n",
    "XYh = X'*Y[:,1:d:D];\n",
    "@show ch.objective\n",
    "println(\"After fitting, parameters differ from true parameters by $(vecnorm(XY - XYh)/sqrt(prod(size(XY)))) in RMSE\")\n",
    "A_imputed = impute(glrm)\n",
    "println(\"After fitting, $(sum(A_imputed .!= A) / prod(size(A))*100)\\% of imputed entries are wrong\")\n",
    "println(\"After fitting, imputed entries are off by $(sum(abs,(A_imputed - A)) / prod(size(A))*100)\\% on average\")\n",
    "println(\"(Picking randomly, $((d-1)/d*100)\\% of entries would be wrong.)\\n\")\n",
    "\n",
    "# initialize\n",
    "init_svd!(glrm)\n",
    "XYh = glrm.X' * glrm.Y[:,1:d:D]\n",
    "println(\"After initialization with the svd, parameters differ from true parameters by $(vecnorm(XY - XYh)/sqrt(prod(size(XY)))) in RMSE\")\n",
    "A_imputed = impute(glrm)\n",
    "println(\"After initialization with the svd, $(sum(A_imputed .!= A) / prod(size(A))*100)\\% of imputed entries are wrong\")\n",
    "println(\"After fitting, imputed entries are off by $(sum(abs,(A_imputed - A)) / prod(size(A))*100)\\% on average\")\n",
    "println(\"(Picking randomly, $((d-1)/d*100)\\% of entries would be wrong.)\\n\")\n",
    "\n",
    "# fit w/ initialization\n",
    "p = Params(1, max_iter=10, abs_tol=0.0000001, min_stepsize=0.000001)\n",
    "@time X,Y,ch = fit!(glrm, params=p);\n",
    "XYh = X'*Y[:,1:d:D];\n",
    "@show ch.objective\n",
    "println(\"After fitting, parameters differ from true parameters by $(vecnorm(XY - XYh)/sqrt(prod(size(XY)))) in RMSE\")\n",
    "A_imputed = impute(glrm)\n",
    "println(\"After fitting, $(sum(A_imputed .!= A) / prod(size(A))*100)\\% of imputed entries are wrong\")\n",
    "println(\"After fitting, imputed entries are off by $(sum(abs,(A_imputed - A)) / prod(size(A))*100)\\% on average\")\n",
    "println(\"(Picking randomly, $((d-1)/d*100)\\% of entries would be wrong.)\\n\")\n"
   ]
  },
  {
   "cell_type": "code",
   "execution_count": null,
   "metadata": {
    "collapsed": true
   },
   "outputs": [],
   "source": []
  }
 ],
 "metadata": {
  "kernelspec": {
   "display_name": "Julia 0.6.1",
   "language": "julia",
   "name": "julia-0.6"
  },
  "language_info": {
   "file_extension": ".jl",
   "mimetype": "application/julia",
   "name": "julia",
   "version": "0.6.1"
  }
 },
 "nbformat": 4,
 "nbformat_minor": 2
}
