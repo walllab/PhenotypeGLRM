{
 "cells": [
  {
   "cell_type": "code",
   "execution_count": 1,
   "metadata": {
    "scrolled": true
   },
   "outputs": [
    {
     "name": "stdout",
     "output_type": "stream",
     "text": [
      "13493 123\n"
     ]
    },
    {
     "name": "stderr",
     "output_type": "stream",
     "text": [
      "WARNING: Method definition describe(AbstractArray) in module StatsBase at /Users/kelley/.julia/v0.5/StatsBase/src/scalarstats.jl:560 overwritten in module DataFrames at /Users/kelley/.julia/v0.5/DataFrames/src/abstractdataframe/abstractdataframe.jl:407.\n"
     ]
    }
   ],
   "source": [
    "using DataFrames\n",
    "\n",
    "# To run this notebook, you need to have a data file available.\n",
    "# You can either run the phenotype preprocessing scripts in ../preprocessing directory\n",
    "# Or scp -r username@sherlock.stanford.edu:/scratch/PI/dpwall/DATA/iHART/kpaskov/PhenotypeGLRM/data ../data\n",
    "\n",
    "# Data\n",
    "df = readtable(\"../data/all_samples_filtered.csv\", nastrings=[\"None\", \"\"])\n",
    "samples = df[:, 1:1]\n",
    "df = df[:, 2:end] # Remove identifier\n",
    "\n",
    "m, n = size(df)\n",
    "\n",
    "labels = readtable(\"../data/all_samples_filtered_labels.csv\", nastrings=[\"None\", \"\"])\n",
    "\n",
    "println(m, \" \", n)"
   ]
  },
  {
   "cell_type": "code",
   "execution_count": 2,
   "metadata": {
    "collapsed": true
   },
   "outputs": [],
   "source": [
    "# Pull age and gender\n",
    "more_data = readtable(\"../data/all_samples.csv\", nastrings=[\"None\"])\n",
    "gender = more_data[:, :gender]\n",
    "adir_age = more_data[:, :ADIR_age]\n",
    "ados_age = more_data[:, :ADOS_age]\n",
    "age = copy(adir_age)\n",
    "age[isna(age)] = ados_age[isna(age)];\n"
   ]
  },
  {
   "cell_type": "code",
   "execution_count": 3,
   "metadata": {
    "collapsed": true
   },
   "outputs": [],
   "source": [
    "# Fill sparse matrix\n",
    "m, n = size(df)\n",
    "is = Array(Int, 0)\n",
    "js = Array(Int, 0)\n",
    "vs = Array(Int, 0)\n",
    "\n",
    "for j=1:n\n",
    "    for i=1:m\n",
    "        if !isna(df[i,j])\n",
    "            push!(is, i)\n",
    "            push!(js, j)\n",
    "            if(df[i, j] > 0)\n",
    "                push!(vs, 1)\n",
    "            else\n",
    "                push!(vs, -1)\n",
    "            end\n",
    "        end\n",
    "    end\n",
    "end\n",
    "\n",
    "p = size(is, 1)\n",
    "all_data = sparse(is, js, vs, m, n);"
   ]
  },
  {
   "cell_type": "code",
   "execution_count": null,
   "metadata": {},
   "outputs": [
    {
     "name": "stdout",
     "output_type": "stream",
     "text": [
      "LowRankModels.SparseProxGradParams(1.0,100,1,1.0e-5,0.01)\n",
      "Fitting GLRM\n",
      "Iteration 10: objective value = 485022.96640890266\n",
      "Iteration 20: objective value = 414740.7067587958\n",
      "Iteration 30: objective value = 381125.34302299033\n",
      "obj went up to 373024.88298977114; reducing step size to 3.502231979423655\n",
      "obj went up to 372230.80011471355; reducing step size to 2.574140504876387\n",
      "Iteration 40: objective value = 368771.4896175043\n",
      "obj went up to 368899.16449252213; reducing step size to 2.0859225813702698\n",
      "obj went up to 364500.769858033; reducing step size to 1.6903012897811311\n",
      "Iteration 50: objective value = 362033.6055710165\n",
      "obj went up to 360846.3397772147; reducing step size to 1.5101102598523397\n",
      "Iteration 60: objective value = 357923.03122626664\n",
      "obj went up to 357812.7124493263; reducing step size to 1.349128117394138\n",
      "Iteration 70: objective value = 355100.2324286498\n",
      "obj went up to 355314.77708534664; reducing step size to 1.3288511209419063\n"
     ]
    }
   ],
   "source": [
    "using LowRankModels\n",
    "\n",
    "losses = LogisticLoss()\n",
    "#losses = QuadLoss()\n",
    "k = 20\n",
    "\n",
    "# k-means\n",
    "#rx = UnitOneSparseConstraint() # k-means\n",
    "#ry = ZeroReg()\n",
    "\n",
    "# soft k-means\n",
    "#rx = SimplexConstraint() \n",
    "#ry = ZeroReg()\n",
    "\n",
    "# sparse dictionary coding\n",
    "rx = NonNegOneReg()\n",
    "ry = OneReg()\n",
    "\n",
    "glrm = GLRM(all_data, losses, rx, ry, k, offset=false, scale=false);\n",
    "#init_kmeanspp!(glrm);\n",
    "\n",
    "X,Y,ch = fit!(glrm, verbose=true, max_iter=5000); # fit GLRM\n"
   ]
  },
  {
   "cell_type": "code",
   "execution_count": 5,
   "metadata": {},
   "outputs": [
    {
     "name": "stdout",
     "output_type": "stream",
     "text": [
      "[8003.49; 5489.51]"
     ]
    }
   ],
   "source": [
    "# Check cluster distribution\n",
    "print(mapslices(sum, X, 2))"
   ]
  },
  {
   "cell_type": "code",
   "execution_count": 8,
   "metadata": {},
   "outputs": [
    {
     "name": "stdout",
     "output_type": "stream",
     "text": [
      "(123,)(2,123)"
     ]
    }
   ],
   "source": [
    "# Output to file\n",
    "X_df = convert(DataFrame, X.')\n",
    "X_df = hcat(samples, X_df)\n",
    "writetable(\"../data/softkmeans_logloss_X$(k).csv\", X_df, separator = ',', header=false)\n",
    "Y_df = convert(DataFrame, Y)\n",
    "print(size(names(df)), size(Y_df))\n",
    "names!(Y_df, names(df))\n",
    "writetable(\"../data/softkmeans_logloss_Y$(k).csv\", Y_df, separator = ',', header=true)"
   ]
  },
  {
   "cell_type": "code",
   "execution_count": null,
   "metadata": {
    "collapsed": true
   },
   "outputs": [],
   "source": []
  }
 ],
 "metadata": {
  "kernelspec": {
   "display_name": "Julia 0.5.0",
   "language": "julia",
   "name": "julia-0.5"
  },
  "language_info": {
   "file_extension": ".jl",
   "mimetype": "application/julia",
   "name": "julia",
   "version": "0.5.0"
  }
 },
 "nbformat": 4,
 "nbformat_minor": 1
}
