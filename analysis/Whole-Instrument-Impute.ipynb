{
 "cells": [
  {
   "cell_type": "markdown",
   "metadata": {},
   "source": [
    "# Load Data"
   ]
  },
  {
   "cell_type": "code",
   "execution_count": 209,
   "metadata": {},
   "outputs": [
    {
     "data": {
      "text/plain": [
       "(9100,185)"
      ]
     },
     "execution_count": 209,
     "metadata": {},
     "output_type": "execute_result"
    }
   ],
   "source": [
    "using DataFrames\n",
    "\n",
    "# To run this notebook, you need to have a data file available.\n",
    "# You can either run the phenotype preprocessing scripts in ../preprocessing directory\n",
    "# Or scp -r username@sherlock.stanford.edu:/scratch/PI/dpwall/DATA/phenotypes/jsonschema ../data\n",
    "\n",
    "# Data\n",
    "df = readtable(\"../data/all_samples_both_instruments_filtered.csv\", nastrings=[\"None\"])\n",
    "samples = df[:, 1:1]\n",
    "df = df[:, 2:end] # Remove identifier\n",
    "\n",
    "# Binarize Data\n",
    "[df[df[nm].> 0, nm] = 1 for nm in names(df)]\n",
    "[df[df[nm].== 0, nm] = -1 for nm in names(df)]\n",
    "[df[isna(df[nm]), nm] = 0 for nm in names(df)]\n",
    "\n",
    "m, n = size(df)"
   ]
  },
  {
   "cell_type": "code",
   "execution_count": 210,
   "metadata": {},
   "outputs": [
    {
     "data": {
      "text/plain": [
       "1344633"
      ]
     },
     "execution_count": 210,
     "metadata": {},
     "output_type": "execute_result"
    }
   ],
   "source": [
    "# Form sparse array\n",
    "all_data = sparse(Array(df))\n",
    "p = size(nonzeros(all_data), 1)"
   ]
  },
  {
   "cell_type": "code",
   "execution_count": 211,
   "metadata": {},
   "outputs": [
    {
     "name": "stdout",
     "output_type": "stream",
     "text": [
      "8242\n",
      "910\n"
     ]
    }
   ],
   "source": [
    "# Split out testing data\n",
    "test_indices = sample(1:m, ceil(Integer, 0.1 * m))\n",
    "train_indices = setdiff(1:m, test_indices)\n",
    "\n",
    "println(size(train_indices, 1))\n",
    "println(size(test_indices, 1))"
   ]
  },
  {
   "cell_type": "code",
   "execution_count": 212,
   "metadata": {},
   "outputs": [
    {
     "data": {
      "text/plain": [
       "140:185"
      ]
     },
     "execution_count": 212,
     "metadata": {},
     "output_type": "execute_result"
    }
   ],
   "source": [
    "adir_indices = 1:139\n",
    "ados_indices = 140:n"
   ]
  },
  {
   "cell_type": "markdown",
   "metadata": {},
   "source": [
    "# Impute Instruments Individually"
   ]
  },
  {
   "cell_type": "code",
   "execution_count": 214,
   "metadata": {},
   "outputs": [
    {
     "name": "stdout",
     "output_type": "stream",
     "text": [
      "LowRankModels.SparseProxGradParams(1.0,100,1,1.0e-5,0.01)\n",
      "Fitting GLRM\n",
      "Iteration 10: objective value = 379730.1583595497\n",
      "Iteration 20: objective value = 352322.0040552299\n",
      "Iteration 30: objective value = 342362.4692918017\n",
      "obj went up to 338293.15832549834; reducing step size to 4.256984859939325\n",
      "obj went up to 336823.84104497655; reducing step size to 2.8379899066262166\n",
      "Iteration 40: objective value = 336741.7007504101\n",
      "obj went up to 335617.1268399346; reducing step size to 2.2997296459607224\n",
      "Iteration 50: objective value = 333783.4520189714\n",
      "obj went up to 333593.8530512194; reducing step size to 2.157300371217628\n",
      "Iteration 60: objective value = 331814.4094287561\n",
      "obj went up to 331781.0571111383; reducing step size to 2.1248767848957675\n",
      "Iteration 70: objective value = 330185.3483572492\n",
      "obj went up to 330259.3085184865; reducing step size to 2.092940515483502\n",
      "obj went up to 328865.568957641; reducing step size to 2.061484238751859\n",
      "Iteration 80: objective value = 328781.61845377827\n",
      "obj went up to 327617.7737846226; reducing step size to 2.0305007405528577\n",
      "Iteration 90: objective value = 327133.3180213589\n",
      "LowRankModels.SparseProxGradParams(1.0,100,1,1.0e-5,0.01)\n",
      "Fitting GLRM\n",
      "Iteration 10: objective value = 87772.04855483626\n",
      "obj went up to 87793.58120406764; reducing step size to 1.1402262387442095\n",
      "obj went up to 82408.1681040331; reducing step size to 0.9701664837253053\n",
      "Iteration 20: objective value = 80881.82485265174\n",
      "obj went up to 79671.47423556224; reducing step size to 0.9555851685077638\n",
      "Iteration 30: objective value = 78706.79502123025\n",
      "obj went up to 78289.95532712838; reducing step size to 0.8964028629942123\n",
      "Iteration 40: objective value = 77573.08713659622\n",
      "obj went up to 77391.66177013308; reducing step size to 0.8829301931726005\n",
      "Iteration 50: objective value = 76868.27416318654\n",
      "obj went up to 76811.42134152947; reducing step size to 0.8696600135923918\n",
      "Iteration 60: objective value = 76379.66901007965\n",
      "obj went up to 76374.38644362729; reducing step size to 0.8565892808851666\n",
      "Iteration 70: objective value = 76015.72965006827\n",
      "obj went up to 76027.02601321769; reducing step size to 0.843714997423432\n",
      "obj went up to 75740.71888461256; reducing step size to 0.83103421063315\n",
      "Iteration 80: objective value = 75733.15444828664\n",
      "obj went up to 75499.63012562024; reducing step size to 0.8185440123165962\n",
      "Iteration 90: objective value = 75444.73298385633\n",
      "obj went up to 75293.70299670301; reducing step size to 0.8062415379853981\n",
      "Iteration 100: objective value = 75227.00699930867\n"
     ]
    }
   ],
   "source": [
    "using LowRankModels\n",
    "\n",
    "losses = LogisticLoss()\n",
    "rx = ZeroReg()\n",
    "ry = ZeroReg()\n",
    "adir_glrm = GLRM(all_data[:, adir_indices], losses, rx, ry, 10, offset=false, scale=false);\n",
    "init_svd!(adir_glrm);\n",
    "\n",
    "adir_X,adir_Y,adir_ch = fit!(adir_glrm, verbose=true, max_iter=1000); # fit GLRM\n",
    "\n",
    "losses = LogisticLoss()\n",
    "rx = ZeroReg()\n",
    "ry = ZeroReg()\n",
    "ados_glrm = GLRM(all_data[:, ados_indices], losses, rx, ry, 4, offset=false, scale=false);\n",
    "init_svd!(ados_glrm);\n",
    "\n",
    "ados_X,ados_Y,ados_ch = fit!(ados_glrm, verbose=true, max_iter=1000); # fit GLRM\n"
   ]
  },
  {
   "cell_type": "code",
   "execution_count": 217,
   "metadata": {},
   "outputs": [
    {
     "data": {
      "text/plain": [
       "-1"
      ]
     },
     "execution_count": 217,
     "metadata": {},
     "output_type": "execute_result"
    }
   ],
   "source": [
    "adir_approx = adir_X.'*adir_Y\n",
    "adir_approx[adir_approx.>0] = 1\n",
    "adir_approx[adir_approx.<=0] = -1\n",
    "adir_approx = trunc(Int, adir_approx)\n",
    "\n",
    "ados_approx = ados_X.'*ados_Y\n",
    "ados_approx[ados_approx.>0] = 1\n",
    "ados_approx[ados_approx.<=0] = -1\n",
    "ados_approx = trunc(Int, ados_approx)\n",
    "\n",
    "# Replace imputed values with real values if we have them\n",
    "adir_approx[all_data[:, adir_indices].>0] = 1\n",
    "adir_approx[all_data[:, adir_indices].<=0] = -1\n",
    "ados_approx[all_data[:, ados_indices].>0] = 1\n",
    "ados_approx[all_data[:, ados_indices].<=0] = -1"
   ]
  },
  {
   "cell_type": "code",
   "execution_count": 226,
   "metadata": {},
   "outputs": [
    {
     "data": {
      "text/plain": [
       "139×46 Array{Float64,2}:\n",
       " -0.0189539   -0.000157585  -0.00181525   …  -0.0225713   -0.0139361 \n",
       " -0.0044814   -0.0806329    -0.0195867        0.0623851    0.0488832 \n",
       "  0.0164016    0.00994412    0.0298212        0.0328272   -0.0204802 \n",
       "  0.0145034   -0.00441303   -0.0339411       -0.0276456   -0.0238158 \n",
       "  0.0233978    0.00751977    0.0723778        0.0781523    0.05265   \n",
       " -0.0362412   -0.0494817     0.0197502    …  -0.0151447    0.0320931 \n",
       "  0.0319933    0.0206305     0.028302         0.00692504   0.0588705 \n",
       "  0.0420519    0.020026     -0.0310016       -0.0120137   -0.078894  \n",
       " -0.0828549   -0.038404      0.00774121       0.0136738    0.0667537 \n",
       " -0.00714297  -0.0299695     0.0217736       -0.015326     0.054881  \n",
       "  0.0292375   -0.0703138     0.0282273    …   0.0241207    0.074505  \n",
       " -0.0204517    0.0264216    -0.00285534       0.00558389   0.0235107 \n",
       "  0.0195634    0.00749351    0.0295057        0.0107086    0.0679171 \n",
       "  ⋮                                       ⋱                ⋮         \n",
       "  0.029548    -0.0132136    -0.0220622        0.0405514    0.0537339 \n",
       " -0.0193904    0.000136232   0.0239841       -0.016624    -0.0315067 \n",
       "  0.0408814   -0.0470844    -0.0949262       -0.0256345    0.0213669 \n",
       " -0.0388126    0.0339032     0.108226     …   0.0363272   -0.0165886 \n",
       "  0.0260438    0.0151121     0.0670694       -0.0237885    0.00549083\n",
       " -0.0168769   -0.019278     -0.0236829        0.00732605   0.0335031 \n",
       " -0.0351       0.038237     -0.000441213     -0.00366948   0.00922854\n",
       " -0.00193566  -0.0658318     0.0116874        0.0156803    0.0423369 \n",
       " -0.0245135   -0.0805974     0.0388319    …   0.045991     0.00779016\n",
       " -0.0358881    0.0773053     0.00184117      -0.0467374   -0.0121257 \n",
       " -0.0346706   -0.00408824   -0.0190954       -0.00126724  -0.0193014 \n",
       " -0.00939321  -0.014712      0.000691725      0.0366427    0.0590729 "
      ]
     },
     "execution_count": 226,
     "metadata": {},
     "output_type": "execute_result"
    }
   ],
   "source": [
    "ados_to_adir_train = pinv(ados_approx[train_indices, :])*adir_approx[train_indices, :]\n",
    "adir_to_ados_train = pinv(adir_approx[train_indices, :])*ados_approx[train_indices, :]\n"
   ]
  },
  {
   "cell_type": "markdown",
   "metadata": {},
   "source": [
    "# Train Instrument to Instrument"
   ]
  },
  {
   "cell_type": "code",
   "execution_count": 272,
   "metadata": {},
   "outputs": [
    {
     "data": {
      "text/html": [
       "<script src=\"/Users/kelley/.julia/v0.5/Plots/src/backends/../../deps/plotly-latest.min.js\"></script>    <div id=\"f48e0f42-36ca-45ac-a504-fff92a99c34c\" style=\"width:600px;height:400px;\"></div>\n",
       "    <script>\n",
       "    PLOT = document.getElementById('f48e0f42-36ca-45ac-a504-fff92a99c34c');\n",
       "    Plotly.plot(PLOT, [{\"yaxis\":\"y\",\"y\":[2.0612595051054927,1.2851580349181912,0.8896825277662017,0.8246811939480431,0.7186479863535449,0.597786066034557,0.5402308764165682,0.48287134097439105,0.4745167879214609,0.40506819047387743,0.3562582879829978,0.35249501086504204,0.3393797255319474,0.30364605958000407,0.28327436588385024,0.26616895143060754,0.26261496629748654,0.25021307134333204,0.24327379442853278,0.218908915988763,0.2163006646263982,0.20302638105921283,0.19851198248080257,0.18686457556066463,0.1755078623197391,0.16750331620715325,0.15627084227181456,0.1549680346248897,0.13946737722841784,0.13039372421183226,0.1276229955872284,0.11835763330482436,0.11334943131615996,0.10647623033243574,0.10127556806811934,0.09654038317145537,0.09194292094888834,0.08781297187221886,0.07894660461368956,0.06863614881525645,0.06453415450357675,0.05496210545821198,0.05261703374029327,0.04159293497066432,0.02190371977296151,0.0032817084462326163],\"showlegend\":true,\"name\":\"y1\",\"type\":\"scatter\",\"xaxis\":\"x\",\"line\":{\"width\":2,\"dash\":\"solid\",\"color\":\"rgba(0, 154, 250, 1.000)\",\"shape\":\"linear\"},\"colorbar\":{\"title\":\"\"},\"x\":[1,2,3,4,5,6,7,8,9,10,11,12,13,14,15,16,17,18,19,20,21,22,23,24,25,26,27,28,29,30,31,32,33,34,35,36,37,38,39,40,41,42,43,44,45,46],\"mode\":\"lines\"},{\"yaxis\":\"y\",\"y\":[6.675272336393807,3.877183994169431,2.164603334451662,1.3675802933590684,1.1273923453308208,0.8344297941676168,0.7283968493482942,0.5753288262300124,0.5067117394378868,0.49638705670756617,0.43896105262617136,0.43027612664561243,0.3947041016970944,0.3686125919865554,0.3485097178941711,0.3347936706023089,0.3012561710333629,0.2923534877930351,0.26912483359191897,0.26543535130928203,0.24444269591071038,0.2248858085749443,0.21657964837335036,0.21248019305448337,0.20316304024557796,0.1842864709850936,0.17913616104163863,0.17716946320508228,0.1564585095585831,0.1486901746954319,0.14003926321080096,0.13779737816203003,0.1355015352789116,0.12981043675632997,0.12339969510796202,0.11499737126829268,0.11441008541445002,0.11053974271249514,0.09879094496060532,0.09184937875324287,0.09072459265745378,0.08845564629303028,0.08386630781483158,0.07166817882906447,0.06817501873594628,0.06346515802925855],\"showlegend\":true,\"name\":\"y2\",\"type\":\"scatter\",\"xaxis\":\"x\",\"line\":{\"width\":2,\"dash\":\"solid\",\"color\":\"rgba(227, 111, 71, 1.000)\",\"shape\":\"linear\"},\"colorbar\":{\"title\":\"\"},\"x\":[1,2,3,4,5,6,7,8,9,10,11,12,13,14,15,16,17,18,19,20,21,22,23,24,25,26,27,28,29,30,31,32,33,34,35,36,37,38,39,40,41,42,43,44,45,46],\"mode\":\"lines\"}], {\"yaxis\":{\"type\":\"-\",\"titlefont\":{\"size\":15,\"color\":\"rgba(0, 0, 0, 1.000)\",\"family\":\"sans-serif\"},\"title\":\"\",\"tickfont\":{\"size\":11,\"color\":\"rgba(0, 0, 0, 1.000)\",\"family\":\"sans-serif\"},\"ticks\":\"inside\",\"tickmode\":\"array\",\"showgrid\":true,\"tickvals\":[2.0,4.0,6.0],\"domain\":[0.03762029746281716,0.9415463692038496],\"ticktext\":[\"2\",\"4\",\"6\"],\"tickangle\":0,\"zeroline\":false,\"linecolor\":\"rgba(0, 0, 0, 1.000)\",\"tickcolor\":\"rgba(0, 0, 0, 1.000)\",\"anchor\":\"x\"},\"annotations\":[{\"text\":\"Singular values\",\"y\":1.0,\"xref\":\"paper\",\"font\":{\"size\":20,\"color\":\"rgba(0, 0, 0, 1.000)\",\"family\":\"sans-serif\"},\"xanchor\":\"center\",\"x\":0.5074074074074074,\"yref\":\"paper\",\"showarrow\":false,\"yanchor\":\"top\",\"rotation\":-0.0}],\"width\":600,\"plot_bgcolor\":\"rgba(255, 255, 255, 1.000)\",\"showlegend\":true,\"legend\":{\"bgcolor\":\"rgba(255, 255, 255, 1.000)\",\"y\":1.0,\"font\":{\"size\":11,\"color\":\"rgba(0, 0, 0, 1.000)\",\"family\":\"sans-serif\"},\"bordercolor\":\"rgba(0, 0, 0, 1.000)\",\"x\":1.0},\"xaxis\":{\"type\":\"-\",\"titlefont\":{\"size\":15,\"color\":\"rgba(0, 0, 0, 1.000)\",\"family\":\"sans-serif\"},\"title\":\"\",\"tickfont\":{\"size\":11,\"color\":\"rgba(0, 0, 0, 1.000)\",\"family\":\"sans-serif\"},\"ticks\":\"inside\",\"tickmode\":\"array\",\"showgrid\":true,\"tickvals\":[10.0,20.0,30.0,40.0],\"domain\":[0.02137649460484106,0.9934383202099737],\"ticktext\":[\"10\",\"20\",\"30\",\"40\"],\"tickangle\":0,\"zeroline\":false,\"linecolor\":\"rgba(0, 0, 0, 1.000)\",\"tickcolor\":\"rgba(0, 0, 0, 1.000)\",\"anchor\":\"y\"},\"paper_bgcolor\":\"rgba(255, 255, 255, 1.000)\",\"height\":400,\"margin\":{\"r\":0,\"l\":0,\"b\":20,\"t\":20}});\n",
       "    </script>\n"
      ]
     },
     "execution_count": 272,
     "metadata": {},
     "output_type": "execute_result"
    }
   ],
   "source": [
    "using Plots\n",
    "plotly() # Choose the Plotly.jl backend for web interactivity\n",
    "\n",
    "\n",
    "F = svdfact(adir_to_ados_train)\n",
    "G = svdfact(ados_to_adir_train)\n",
    "plot([F[:S], G[:S]], linewidth=2,title=\"Singular values\")\n"
   ]
  },
  {
   "cell_type": "code",
   "execution_count": 253,
   "metadata": {},
   "outputs": [
    {
     "name": "stdout",
     "output_type": "stream",
     "text": [
      "Fitting GLRM\n",
      "Iteration 10: objective value = 6.054745155730678\n",
      "Iteration 20: objective value = 3.028441518776129\n",
      "Iteration 30: objective value = 1.8226347656334478\n",
      "Fitting GLRM\n",
      "Iteration 10: objective value = 4.2362210450769915\n",
      "Iteration 20: objective value = 2.5242257819489846\n"
     ]
    }
   ],
   "source": [
    "using LowRankModels\n",
    "\n",
    "losses = QuadLoss()\n",
    "rx = ZeroReg()\n",
    "ry = ZeroReg()\n",
    "adir_to_ados_glrm = GLRM(adir_to_ados_train, losses, rx, ry, 10, offset=false, scale=false);\n",
    "init_svd!(adir_to_ados_glrm);\n",
    "\n",
    "adir_to_ados_glrm_X,adir_to_ados_glrm_Y,adir_to_ados_glrm_ch = fit!(adir_to_ados_glrm, verbose=true, max_iter=1000); # fit GLRM\n",
    "\n",
    "losses = QuadLoss()\n",
    "rx = ZeroReg()\n",
    "ry = ZeroReg()\n",
    "ados_to_adir_glrm = GLRM(ados_to_adir_train, losses, rx, ry, 10, offset=false, scale=false);\n",
    "init_svd!(ados_to_adir_glrm);\n",
    "\n",
    "ados_to_adir_glrm_X,ados_to_adir_glrm_Y,ados_to_adir_glrm_glrm_ch = fit!(ados_to_adir_glrm, verbose=true, max_iter=1000); # fit GLRM\n"
   ]
  },
  {
   "cell_type": "markdown",
   "metadata": {},
   "source": [
    "## Evaluate"
   ]
  },
  {
   "cell_type": "code",
   "execution_count": 262,
   "metadata": {},
   "outputs": [
    {
     "data": {
      "text/plain": [
       "139×46 Array{Float64,2}:\n",
       " -0.0189539   -0.000157585  -0.00181525   …  -0.0225713   -0.0139361 \n",
       " -0.0044814   -0.0806329    -0.0195867        0.0623851    0.0488832 \n",
       "  0.0164016    0.00994412    0.0298212        0.0328272   -0.0204802 \n",
       "  0.0145034   -0.00441303   -0.0339411       -0.0276456   -0.0238158 \n",
       "  0.0233978    0.00751977    0.0723778        0.0781523    0.05265   \n",
       " -0.0362412   -0.0494817     0.0197502    …  -0.0151447    0.0320931 \n",
       "  0.0319933    0.0206305     0.028302         0.00692504   0.0588705 \n",
       "  0.0420519    0.020026     -0.0310016       -0.0120137   -0.078894  \n",
       " -0.0828549   -0.038404      0.00774121       0.0136738    0.0667537 \n",
       " -0.00714297  -0.0299695     0.0217736       -0.015326     0.054881  \n",
       "  0.0292375   -0.0703138     0.0282273    …   0.0241207    0.074505  \n",
       " -0.0204517    0.0264216    -0.00285534       0.00558389   0.0235107 \n",
       "  0.0195634    0.00749351    0.0295057        0.0107086    0.0679171 \n",
       "  ⋮                                       ⋱                ⋮         \n",
       "  0.029548    -0.0132136    -0.0220622        0.0405514    0.0537339 \n",
       " -0.0193904    0.000136232   0.0239841       -0.016624    -0.0315067 \n",
       "  0.0408814   -0.0470844    -0.0949262       -0.0256345    0.0213669 \n",
       " -0.0388126    0.0339032     0.108226     …   0.0363272   -0.0165886 \n",
       "  0.0260438    0.0151121     0.0670694       -0.0237885    0.00549083\n",
       " -0.0168769   -0.019278     -0.0236829        0.00732605   0.0335031 \n",
       " -0.0351       0.038237     -0.000441213     -0.00366948   0.00922854\n",
       " -0.00193566  -0.0658318     0.0116874        0.0156803    0.0423369 \n",
       " -0.0245135   -0.0805974     0.0388319    …   0.045991     0.00779016\n",
       " -0.0358881    0.0773053     0.00184117      -0.0467374   -0.0121257 \n",
       " -0.0346706   -0.00408824   -0.0190954       -0.00126724  -0.0193014 \n",
       " -0.00939321  -0.014712      0.000691725      0.0366427    0.0590729 "
      ]
     },
     "execution_count": 262,
     "metadata": {},
     "output_type": "execute_result"
    }
   ],
   "source": [
    "adir_to_ados_train"
   ]
  },
  {
   "cell_type": "code",
   "execution_count": 261,
   "metadata": {},
   "outputs": [
    {
     "name": "stdout",
     "output_type": "stream",
     "text": [
      "ADIR 0.24191260017193802 0.2387877564502514\n",
      "ADOS 0.25648614524077823 0.2588792748248867\n"
     ]
    }
   ],
   "source": [
    "ados_to_adir_approx = ados_approx * ados_to_adir_glrm_X.'*ados_to_adir_glrm_Y\n",
    "ados_to_adir_approx[ados_to_adir_approx.>0] = 1\n",
    "ados_to_adir_approx[ados_to_adir_approx.<=0] = -1\n",
    "ados_to_adir_approx = trunc(Int, ados_to_adir_approx)\n",
    "\n",
    "#adir_to_ados_approx = adir_approx * adir_to_ados_glrm_X.'*adir_to_ados_glrm_Y\n",
    "#adir_to_ados_approx = adir_approx * F[:U][:, 1:15] * diagm(F[:S][1:15]) * F[:Vt][1:15, :]\n",
    "adir_to_ados_approx = adir_approx * adir_to_ados_train\n",
    "adir_to_ados_approx[adir_to_ados_approx.>0] = 1\n",
    "adir_to_ados_approx[adir_to_ados_approx.<=0] = -1\n",
    "adir_to_ados_approx = trunc(Int, adir_to_ados_approx)\n",
    "\n",
    "ados_to_adir_train_confusion = zeros(Int, 3, 3)\n",
    "ados_to_adir_test_confusion = zeros(Int, 3, 3)\n",
    "adir_to_ados_train_confusion = zeros(Int, 3, 3)\n",
    "adir_to_ados_test_confusion = zeros(Int, 3, 3)\n",
    "\n",
    "for i=train_indices\n",
    "    for j=adir_indices\n",
    "        if all_data[i, j] != 0\n",
    "            ados_to_adir_train_confusion[all_data[i, j]+2, ados_to_adir_approx[i, j]+2] += 1\n",
    "        end\n",
    "    end\n",
    "    for j=ados_indices\n",
    "        if all_data[i, j] != 0\n",
    "            adir_to_ados_train_confusion[all_data[i, j]+2, adir_to_ados_approx[i, j-139]+2] += 1\n",
    "        end\n",
    "    end\n",
    "end\n",
    "for i=test_indices\n",
    "    for j=adir_indices\n",
    "        if all_data[i, j] != 0\n",
    "            ados_to_adir_test_confusion[all_data[i, j]+2, ados_to_adir_approx[i, j]+2] += 1\n",
    "        end\n",
    "    end\n",
    "    for j=ados_indices\n",
    "        if all_data[i, j] != 0\n",
    "            adir_to_ados_test_confusion[all_data[i, j]+2, adir_to_ados_approx[i, j-139]+2] += 1\n",
    "        end\n",
    "    end\n",
    "end\n",
    "println(\"ADIR \", (ados_to_adir_train_confusion[1, 3]+ados_to_adir_train_confusion[3, 1])/sum(ados_to_adir_train_confusion), \" \", \n",
    "                (ados_to_adir_test_confusion[1, 3]+ados_to_adir_test_confusion[3, 1])/sum(ados_to_adir_test_confusion))\n",
    "\n",
    "println(\"ADOS \", (adir_to_ados_train_confusion[1, 3]+adir_to_ados_train_confusion[3, 1])/sum(adir_to_ados_train_confusion), \" \", \n",
    "                (adir_to_ados_test_confusion[1, 3]+adir_to_ados_test_confusion[3, 1])/sum(adir_to_ados_test_confusion))\n"
   ]
  },
  {
   "cell_type": "code",
   "execution_count": 243,
   "metadata": {},
   "outputs": [
    {
     "name": "stdout",
     "output_type": "stream",
     "text": [
      "3×3 DataFrames.DataFrame\n",
      "│ Row │ x1     │ x2 │ x3     │\n",
      "├─────┼────────┼────┼────────┤\n",
      "│ 1   │ 320707 │ 0  │ 128503 │\n",
      "│ 2   │ 0      │ 0  │ 0      │\n",
      "│ 3   │ 106717 │ 0  │ 442107 │\n",
      "3×3 DataFrames.DataFrame\n",
      "│ Row │ x1    │ x2 │ x3    │\n",
      "├─────┼───────┼────┼───────┤\n",
      "│ 1   │ 34328 │ 0  │ 13791 │\n",
      "│ 2   │ 0     │ 0  │ 0     │\n",
      "│ 3   │ 11562 │ 0  │ 49307 │\n",
      "3×3 DataFrames.DataFrame\n",
      "│ Row │ x1    │ x2 │ x3     │\n",
      "├─────┼───────┼────┼────────┤\n",
      "│ 1   │ 58454 │ 0  │ 25094  │\n",
      "│ 2   │ 0     │ 0  │ 0      │\n",
      "│ 3   │ 33039 │ 0  │ 104384 │\n",
      "3×3 DataFrames.DataFrame\n",
      "│ Row │ x1   │ x2 │ x3    │\n",
      "├─────┼──────┼────┼───────┤\n",
      "│ 1   │ 6252 │ 0  │ 2691  │\n",
      "│ 2   │ 0    │ 0  │ 0     │\n",
      "│ 3   │ 3697 │ 0  │ 11630 │\n"
     ]
    }
   ],
   "source": [
    "println(DataFrame(ados_to_adir_train_confusion))\n",
    "println(DataFrame(ados_to_adir_test_confusion))\n",
    "println(DataFrame(adir_to_ados_train_confusion))\n",
    "println(DataFrame(adir_to_ados_test_confusion))"
   ]
  },
  {
   "cell_type": "code",
   "execution_count": null,
   "metadata": {
    "collapsed": true
   },
   "outputs": [],
   "source": []
  }
 ],
 "metadata": {
  "kernelspec": {
   "display_name": "Julia 0.5.0",
   "language": "julia",
   "name": "julia-0.5"
  },
  "language_info": {
   "file_extension": ".jl",
   "mimetype": "application/julia",
   "name": "julia",
   "version": "0.5.0"
  }
 },
 "nbformat": 4,
 "nbformat_minor": 1
}
