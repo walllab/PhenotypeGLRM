{
 "cells": [
  {
   "cell_type": "code",
   "execution_count": 33,
   "metadata": {},
   "outputs": [
    {
     "name": "stderr",
     "output_type": "stream",
     "text": [
      "//anaconda/lib/python3.6/site-packages/ipykernel_launcher.py:8: RuntimeWarning: invalid value encountered in greater\n",
      "  \n"
     ]
    },
    {
     "name": "stdout",
     "output_type": "stream",
     "text": [
      "[[ 0. -1.  1. ..., -1.  1.  1.]\n",
      " [ 0. -1.  1. ...,  1.  1.  1.]\n",
      " [ 0.  0.  0. ...,  1. -1. -1.]\n",
      " ..., \n",
      " [-1.  0. -1. ..., -1. -1. -1.]\n",
      " [-1.  0. -1. ..., -1. -1. -1.]\n",
      " [-1.  0. -1. ...,  1. -1. -1.]]\n",
      "Autism\n"
     ]
    }
   ],
   "source": [
    "import numpy as np\n",
    "import json\n",
    "import csv\n",
    "\n",
    "data = np.genfromtxt('../data/all_samples_both_instruments_filtered.csv', delimiter=',', skip_header=True)\n",
    "data = data[:, 1:]\n",
    "data[np.where(data == 0)] = -1\n",
    "data[np.where(data > 0)] = 1\n",
    "data[np.where(np.isnan(data))] = 0\n",
    "print(data)\n",
    "m, n = data.shape\n",
    "\n",
    "Z = np.genfromtxt('../data/impute_logloss_realfill_Z5.csv', delimiter=',', skip_header=True)\n",
    "Z = Z[:, 1:]\n",
    "Z[np.where(Z == 0)] = -1\n",
    "\n",
    "adir_indices = 1:77\n",
    "ados_indices = 78:n\n",
    "\n",
    "ados_Z = np.genfromtxt('../data/impute_logloss_ados_realfill_Z3.csv', delimiter=',', skip_header=True)\n",
    "ados_Z = ados_Z[:, 1:]\n",
    "ados_Z[np.where(ados_Z == 0)] = -1\n",
    "ados_n = ados_Z.shape[1]\n",
    "\n",
    "adir_data = data[:,:adir_n]\n",
    "ados_data = data[:, adir_n:]\n",
    "\n",
    "with open('../data/all_samples_both_instruments_filtered_labels.csv', 'r') as f:\n",
    "    reader = csv.reader(f)\n",
    "    header = next(reader)\n",
    "    key_to_index = dict([(h, i) for i, h in enumerate(header[1:])])\n",
    "    data_labels = [x[1:] for x in reader]\n",
    "    \n",
    "def get_label(i, key):\n",
    "    return data_labels[i][key_to_index[key]]\n",
    "        \n",
    "print(get_label(0, 'ADIR:diagnosis'))"
   ]
  },
  {
   "cell_type": "code",
   "execution_count": 31,
   "metadata": {},
   "outputs": [
    {
     "data": {
      "image/png": "[encoded data removed]",
      "text/plain": [
       "<matplotlib.figure.Figure at 0x113f6ab00>"
      ]
     },
     "metadata": {},
     "output_type": "display_data"
    }
   ],
   "source": [
    "import matplotlib.pyplot as plt\n",
    "cay = plt.matshow(adir_Z[:100, :], cmap='hot')\n",
    "plt.colorbar(cay)\n",
    "plt.show()"
   ]
  },
  {
   "cell_type": "code",
   "execution_count": 32,
   "metadata": {},
   "outputs": [
    {
     "data": {
      "image/png": "[encoded data removed]",
      "text/plain": [
       "<matplotlib.figure.Figure at 0x1143445f8>"
      ]
     },
     "metadata": {},
     "output_type": "display_data"
    }
   ],
   "source": [
    "cay = plt.matshow(ados_Z[:100, :], cmap='hot')\n",
    "plt.colorbar(cay)\n",
    "plt.show()"
   ]
  },
  {
   "cell_type": "code",
   "execution_count": 25,
   "metadata": {},
   "outputs": [
    {
     "name": "stdout",
     "output_type": "stream",
     "text": [
      "(8190,) (910,)\n"
     ]
    }
   ],
   "source": [
    "import random\n",
    "train_indices = np.array(random.sample(range(m), int(.9*m)))\n",
    "test_indices = np.array(list(set(range(m)) - set(train_indices)))\n",
    "print(train_indices.shape, test_indices.shape)"
   ]
  },
  {
   "cell_type": "code",
   "execution_count": 45,
   "metadata": {},
   "outputs": [
    {
     "name": "stdout",
     "output_type": "stream",
     "text": [
      "0.732468180684 0.711086226204 8014 893\n",
      "0.878437624552 0.873659117998 7527 839\n",
      "0.729800774765 0.716770186335 7228 805\n",
      "0.781056135573 0.789687924016 6609 737\n",
      "0.61386374464 0.585567010309 4198 485\n",
      "0.762505955217 0.779381443299 4198 485\n",
      "0.828025477707 0.812807881773 3768 406\n",
      "0.638318203536 0.61215932914 4186 477\n",
      "0.828561138124 0.838499184339 5553 613\n",
      "0.722093323021 0.704176334107 7758 862\n",
      "0.932367149758 0.921568627451 2277 255\n",
      "0.645833333333 0.609958506224 2064 241\n",
      "0.746774193548 0.725806451613 620 62\n",
      "0.847285067873 0.850678733032 7956 884\n",
      "0.874371227364 0.870894677237 7952 883\n",
      "0.698428290766 0.666666666667 1018 117\n",
      "0.654139156932 0.622727272727 7876 880\n",
      "0.830431671834 0.818181818182 4193 484\n",
      "0.899618502623 0.896694214876 4194 484\n",
      "0.618417570786 0.620098039216 3779 408\n",
      "0.883324453916 0.877805486284 3754 401\n",
      "0.720274189296 0.686131386861 3793 411\n",
      "0.833554552694 0.817733990148 3767 406\n",
      "0.863636363636 0.6 44 10\n",
      "0.70570623459 0.701112877583 5678 629\n",
      "0.909719602666 0.909502262443 7953 884\n",
      "0.862208179744 0.86529318542 5697 631\n",
      "0.792399218611 0.791401273885 5631 628\n",
      "0.907383136741 0.89453125 2289 256\n",
      "0.810549450549 0.79296875 2275 256\n",
      "0.703883495146 0.693548387097 618 62\n",
      "0.69798951049 0.7421875 2288 256\n",
      "0.754838709677 0.790322580645 620 62\n",
      "0.937062937063 0.890625 2288 256\n",
      "1.0 1.0 16 2\n",
      "0.933333333333 1.0 15 2\n",
      "0.780641767491 0.780487804878 3802 410\n",
      "0.770932266933 0.752796420582 8002 894\n",
      "0.683496130915 0.682954545455 7883 880\n",
      "0.681126618886 0.678733031674 7953 884\n",
      "0.935306606719 0.930880713489 8007 897\n",
      "0.692085063546 0.675339366516 7947 884\n",
      "0.672170375688 0.648535564854 4179 478\n",
      "0.649589905363 0.61797752809 7925 890\n",
      "0.782391195598 0.778770949721 7996 895\n",
      "0.837229653707 0.845464725644 7999 893\n",
      "Average Accuracy 0.77505959788 0.765956576849\n"
     ]
    }
   ],
   "source": [
    "from sklearn.linear_model import LogisticRegression\n",
    "\n",
    "train_errors = []\n",
    "test_errors = []\n",
    "train_correct = 0\n",
    "train_attempts = 0\n",
    "test_correct = 0\n",
    "test_attempts = 0\n",
    "for i in range(ados_Z.shape[1]):\n",
    "    train_data = adir_Z[train_indices, :]\n",
    "    test_data = adir_Z[test_indices, :]\n",
    "    train_y = ados_Z[train_indices, i]\n",
    "    test_y = ados_Z[test_indices, i]\n",
    "    real_train_y = ados_data[train_indices, i]\n",
    "    real_test_y = ados_data[test_indices, i]\n",
    "    \n",
    "    model = LogisticRegression(fit_intercept=False)\n",
    "    model.fit(train_data, train_y)\n",
    "    \n",
    "    train_predictions = model.predict(train_data[real_train_y != 0])\n",
    "    train_num_correct = sum([x for x in train_predictions * real_train_y[real_train_y != 0] if x == 1])\n",
    "    train_num_attempts = train_predictions.shape[0]\n",
    "    train_errors.append(1.0*train_num_correct/train_num_attempts)\n",
    "    train_correct += train_num_correct\n",
    "    train_attempts += train_num_attempts\n",
    "    \n",
    "    test_predictions = model.predict(test_data[real_test_y != 0])\n",
    "    test_num_correct = sum([x for x in test_predictions * real_test_y[real_test_y != 0] if x == 1])\n",
    "    test_num_attempts = test_predictions.shape[0]\n",
    "    test_errors.append(1.0*test_num_correct/test_num_attempts)\n",
    "    test_correct += test_num_correct\n",
    "    test_attempts += test_num_attempts\n",
    "\n",
    "    print(train_errors[-1], test_errors[-1], train_num_attempts, test_num_attempts)\n",
    "print('Average Accuracy', 1.0*train_correct/train_attempts, 1.0*test_correct/test_attempts)\n",
    "    \n",
    "    \n",
    "    "
   ]
  },
  {
   "cell_type": "code",
   "execution_count": 44,
   "metadata": {},
   "outputs": [
    {
     "name": "stdout",
     "output_type": "stream",
     "text": [
      "0.813216656608 0.8 6628 745\n",
      "0.714695752009 0.734299516908 1742 207\n",
      "0.818767123288 0.815136476427 7300 806\n",
      "0.826614001634 0.841911764706 7342 816\n",
      "0.950842696629 0.949790794979 6408 717\n",
      "0.924013495673 0.92005242464 6817 763\n",
      "0.743328100471 0.74025974026 1274 154\n",
      "0.757125712571 0.737333333333 6666 750\n",
      "0.957456404089 0.949265687583 6652 749\n",
      "0.948356102687 0.949129852744 6661 747\n",
      "0.942731943185 0.934316353887 6618 746\n",
      "0.929771908764 0.931726907631 6664 747\n",
      "0.781163006496 0.76275862069 6466 725\n",
      "0.769095182139 0.747572815534 1702 206\n",
      "0.674764181419 0.655172413793 7739 870\n",
      "0.848871807587 0.852842809365 8066 897\n",
      "0.690010167768 0.664009111617 7868 878\n",
      "0.612945406996 0.597968069666 6118 689\n",
      "0.839919417325 0.829370629371 6453 715\n",
      "0.926754987056 0.925207756233 6567 722\n",
      "0.961687170475 0.966876971609 5690 634\n",
      "0.652409830833 0.65 6266 700\n",
      "0.657700508447 0.627565982405 6097 682\n",
      "0.650031786395 0.61087267525 6292 699\n",
      "0.580670799555 0.57 6291 700\n",
      "0.861373250895 0.871201157742 6146 691\n",
      "0.650734038921 0.657534246575 5858 657\n",
      "0.760167236792 0.782212086659 7893 877\n",
      "0.678363313909 0.641230068337 7894 878\n",
      "0.649189463019 0.607753705815 7896 877\n",
      "0.783906882591 0.785227272727 7904 880\n",
      "0.853484139366 0.874133949192 7692 866\n",
      "0.887956250795 0.902272727273 7863 880\n",
      "0.898971950755 0.880546075085 7879 879\n",
      "0.934609030837 0.927696078431 7264 816\n",
      "0.873262782099 0.88698630137 7843 876\n",
      "0.750411132195 0.780681818182 7905 880\n",
      "0.723318158827 0.740614334471 7908 879\n",
      "0.852249747219 0.866894197952 7912 879\n",
      "0.697939056771 0.704545454545 7909 880\n",
      "0.779815353484 0.785227272727 7907 880\n",
      "0.737700771468 0.751136363636 7907 880\n",
      "0.758978249874 0.747727272727 7908 880\n",
      "0.742488172868 0.746849942726 7821 873\n",
      "0.882058707384 0.884798099762 7597 842\n",
      "0.801991722711 0.804597701149 7732 870\n",
      "0.8203075359 0.846590909091 7869 880\n",
      "0.790656341247 0.785227272727 7877 880\n",
      "0.832486019319 0.826879271071 7868 878\n",
      "0.942366306456 0.955828220859 7218 815\n",
      "0.877400768246 0.867605633803 6248 710\n",
      "0.91356542617 0.939393939394 6664 759\n",
      "0.680420199975 0.67007963595 7901 879\n",
      "0.67744904668 0.694736842105 7605 855\n",
      "0.829903455285 0.855835240275 7872 874\n",
      "0.546546926385 0.51763367463 7906 879\n",
      "0.790026578914 0.825740318907 7901 878\n",
      "0.703880366121 0.721649484536 7757 873\n",
      "0.632937044042 0.644578313253 7402 830\n",
      "0.650102986612 0.657894736842 7768 874\n",
      "0.744875596236 0.729667812142 7757 873\n",
      "0.645083932854 0.627994955864 7089 793\n",
      "0.651909941816 0.643913538111 7906 879\n",
      "0.634800202327 0.629124004551 7908 879\n",
      "0.907842870735 0.913730255164 7357 823\n",
      "0.562319979052 0.569605568445 7638 862\n",
      "0.679909345421 0.668625146886 7501 851\n",
      "0.573980271927 0.54652532391 7502 849\n",
      "0.561778814988 0.534562211982 7713 868\n",
      "0.887574768896 0.878640776699 7356 824\n",
      "0.897681647455 0.90289017341 7721 865\n",
      "0.795157068063 0.772463768116 6112 690\n",
      "0.645236508994 0.614934114202 6004 683\n",
      "0.88495720869 0.860907759883 6076 683\n",
      "0.899639816634 0.914616497829 6108 691\n",
      "0.801710863986 0.780597014925 5845 670\n",
      "0.871037704371 0.867346938776 5994 686\n",
      "Average Accuracy 0.776138972047 0.773894590248\n"
     ]
    }
   ],
   "source": [
    "from sklearn.linear_model import LogisticRegression\n",
    "\n",
    "train_errors = []\n",
    "test_errors = []\n",
    "train_correct = 0\n",
    "train_attempts = 0\n",
    "test_correct = 0\n",
    "test_attempts = 0\n",
    "for i in range(adir_Z.shape[1]):\n",
    "    train_data = ados_Z[train_indices, :]\n",
    "    test_data = ados_Z[test_indices, :]\n",
    "    train_y = adir_Z[train_indices, i]\n",
    "    test_y = adir_Z[test_indices, i]\n",
    "    real_train_y = adir_data[train_indices, i]\n",
    "    real_test_y = adir_data[test_indices, i]\n",
    "    \n",
    "    model = LogisticRegression(fit_intercept=False)\n",
    "    model.fit(train_data, train_y)\n",
    "    \n",
    "    train_predictions = model.predict(train_data[real_train_y != 0])\n",
    "    train_num_correct = sum([x for x in train_predictions * real_train_y[real_train_y != 0] if x == 1])\n",
    "    train_num_attempts = train_predictions.shape[0]\n",
    "    train_errors.append(1.0*train_num_correct/train_num_attempts)\n",
    "    train_correct += train_num_correct\n",
    "    train_attempts += train_num_attempts\n",
    "    \n",
    "    test_predictions = model.predict(test_data[real_test_y != 0])\n",
    "    test_num_correct = sum([x for x in test_predictions * real_test_y[real_test_y != 0] if x == 1])\n",
    "    test_num_attempts = test_predictions.shape[0]\n",
    "    test_errors.append(1.0*test_num_correct/test_num_attempts)\n",
    "    test_correct += test_num_correct\n",
    "    test_attempts += test_num_attempts\n",
    "\n",
    "    print(train_errors[-1], test_errors[-1], train_num_attempts, test_num_attempts)\n",
    "print('Average Accuracy', 1.0*train_correct/train_attempts, 1.0*test_correct/test_attempts)\n",
    "    \n",
    "    \n",
    "    "
   ]
  },
  {
   "cell_type": "code",
   "execution_count": null,
   "metadata": {
    "collapsed": true
   },
   "outputs": [],
   "source": []
  }
 ],
 "metadata": {
  "kernelspec": {
   "display_name": "Python 3",
   "language": "python",
   "name": "python3"
  },
  "language_info": {
   "codemirror_mode": {
    "name": "ipython",
    "version": 3
   },
   "file_extension": ".py",
   "mimetype": "text/x-python",
   "name": "python",
   "nbconvert_exporter": "python",
   "pygments_lexer": "ipython3",
   "version": "3.6.1"
  }
 },
 "nbformat": 4,
 "nbformat_minor": 2
}
